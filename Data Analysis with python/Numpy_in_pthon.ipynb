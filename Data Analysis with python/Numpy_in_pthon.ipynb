{
 "cells": [
  {
   "cell_type": "code",
   "execution_count": 1,
   "metadata": {},
   "outputs": [],
   "source": [
    "import numpy as np"
   ]
  },
  {
   "cell_type": "code",
   "execution_count": 4,
   "metadata": {},
   "outputs": [
    {
     "name": "stdout",
     "output_type": "stream",
     "text": [
      "[1 2 3 4 5]\n"
     ]
    }
   ],
   "source": [
    "## Create arrayas using numpy\n",
    "## Create a 1d array\n",
    "\n",
    "arr1 = np.array([1,2,3,4,5])\n",
    "\n",
    "print(arr1)"
   ]
  },
  {
   "cell_type": "code",
   "execution_count": 5,
   "metadata": {},
   "outputs": [
    {
     "name": "stdout",
     "output_type": "stream",
     "text": [
      "<class 'numpy.ndarray'>\n"
     ]
    }
   ],
   "source": [
    "print(type(arr1))"
   ]
  },
  {
   "cell_type": "code",
   "execution_count": 6,
   "metadata": {},
   "outputs": [
    {
     "name": "stdout",
     "output_type": "stream",
     "text": [
      "(5,)\n"
     ]
    }
   ],
   "source": [
    "print(arr1.shape)"
   ]
  },
  {
   "cell_type": "code",
   "execution_count": 11,
   "metadata": {},
   "outputs": [
    {
     "data": {
      "text/plain": [
       "array([[1, 2, 3, 4, 5]])"
      ]
     },
     "execution_count": 11,
     "metadata": {},
     "output_type": "execute_result"
    }
   ],
   "source": [
    "#1D Array\n",
    "arr2 = np.array([1,2,3,4,5])\n",
    "arr2.reshape(1,5) ##One rwo and five columns"
   ]
  },
  {
   "cell_type": "code",
   "execution_count": 17,
   "metadata": {},
   "outputs": [
    {
     "name": "stdout",
     "output_type": "stream",
     "text": [
      "[[ 1  2  3  4  5]\n",
      " [ 6  7  8  9 10]]\n",
      "(2, 5)\n"
     ]
    }
   ],
   "source": [
    "## 2D array\n",
    "\n",
    "arr3=np.array([[1,2,3,4,5], [6,7,8,9,10]])\n",
    "print(arr3)\n",
    "print(arr3.shape)"
   ]
  },
  {
   "cell_type": "code",
   "execution_count": 22,
   "metadata": {},
   "outputs": [
    {
     "data": {
      "text/plain": [
       "array([[0],\n",
       "       [3],\n",
       "       [6],\n",
       "       [9]])"
      ]
     },
     "execution_count": 22,
     "metadata": {},
     "output_type": "execute_result"
    }
   ],
   "source": [
    "np.arange(0,10,3).reshape(4,1)"
   ]
  },
  {
   "cell_type": "code",
   "execution_count": 24,
   "metadata": {},
   "outputs": [
    {
     "data": {
      "text/plain": [
       "array([[1., 1., 1., 1.],\n",
       "       [1., 1., 1., 1.],\n",
       "       [1., 1., 1., 1.]])"
      ]
     },
     "execution_count": 24,
     "metadata": {},
     "output_type": "execute_result"
    }
   ],
   "source": [
    "np.ones((3,4))"
   ]
  },
  {
   "cell_type": "code",
   "execution_count": 25,
   "metadata": {},
   "outputs": [
    {
     "data": {
      "text/plain": [
       "array([[1., 0., 0., 0.],\n",
       "       [0., 1., 0., 0.],\n",
       "       [0., 0., 1., 0.],\n",
       "       [0., 0., 0., 1.]])"
      ]
     },
     "execution_count": 25,
     "metadata": {},
     "output_type": "execute_result"
    }
   ],
   "source": [
    "## Identity matrix\n",
    "\n",
    "np.eye(4)"
   ]
  },
  {
   "cell_type": "code",
   "execution_count": 26,
   "metadata": {},
   "outputs": [
    {
     "name": "stdout",
     "output_type": "stream",
     "text": [
      "Array:\n",
      " [[1 2 3]\n",
      " [4 5 6]]\n",
      "Shape: (2, 3)\n",
      "Number of the dimensions: 2\n",
      "Size (Number of elements): 6\n",
      "Data Type: int64\n",
      "Item size(in bytes): 8\n"
     ]
    }
   ],
   "source": [
    "##Attributes of Numpy Array\n",
    "\n",
    "arr = np.array([[1,2,3], [4,5,6]])\n",
    "\n",
    "print(\"Array:\\n\", arr)\n",
    "print(\"Shape:\", arr.shape) # Shape of the array\n",
    "print(\"Number of the dimensions:\", arr.ndim) # dimensions\n",
    "print(\"Size (Number of elements):\", arr.size)\n",
    "print(\"Data Type:\", arr.dtype)\n",
    "print(\"Item size(in bytes):\", arr.itemsize)"
   ]
  },
  {
   "cell_type": "code",
   "execution_count": 27,
   "metadata": {},
   "outputs": [
    {
     "name": "stdout",
     "output_type": "stream",
     "text": [
      "Addtions: [11 22 33 44 55]\n",
      "Substraction: [ -9 -18 -27 -36 -45]\n",
      "Multiplcation: [ 10  40  90 160 250]\n",
      "Divided: [10. 10. 10. 10. 10.]\n"
     ]
    }
   ],
   "source": [
    "## Numpy vectorized Operation\n",
    "\n",
    "arry1 = np.array([1,2,3,4,5])\n",
    "arry2 = np.array([10,20,30,40,50])\n",
    "\n",
    "# Addtions\n",
    "\n",
    "print(\"Addtions:\", arry1 + arry2)\n",
    "\n",
    "# Substraction\n",
    "\n",
    "print(\"Substraction:\", arry1 - arry2)\n",
    "\n",
    "#Multiplication\n",
    "\n",
    "print(\"Multiplcation:\", arry1*arry2)\n",
    "\n",
    "#Dividided\n",
    "\n",
    "print(\"Divided:\", arry2/arry1)"
   ]
  },
  {
   "cell_type": "code",
   "execution_count": 28,
   "metadata": {},
   "outputs": [
    {
     "name": "stdout",
     "output_type": "stream",
     "text": [
      "Array:\n",
      " [[ 1  2  3  4]\n",
      " [ 5  6  7  8]\n",
      " [ 9 10 11 12]]\n"
     ]
    }
   ],
   "source": [
    "## Array slicing and indexing\n",
    "\n",
    "arr = np.array([[1,2,3,4],[5,6,7,8],[9,10,11,12]])\n",
    "\n",
    "print(\"Array:\\n\", arr)"
   ]
  },
  {
   "cell_type": "code",
   "execution_count": 29,
   "metadata": {},
   "outputs": [
    {
     "data": {
      "text/plain": [
       "array([7, 8])"
      ]
     },
     "execution_count": 29,
     "metadata": {},
     "output_type": "execute_result"
    }
   ],
   "source": [
    "arr[1][2:]"
   ]
  },
  {
   "cell_type": "code",
   "execution_count": 31,
   "metadata": {},
   "outputs": [
    {
     "data": {
      "text/plain": [
       "array([[ 3,  4],\n",
       "       [ 7,  8],\n",
       "       [11, 12]])"
      ]
     },
     "execution_count": 31,
     "metadata": {},
     "output_type": "execute_result"
    }
   ],
   "source": [
    "arr[0:, 2:]"
   ]
  },
  {
   "cell_type": "code",
   "execution_count": 32,
   "metadata": {},
   "outputs": [
    {
     "data": {
      "text/plain": [
       "array([12])"
      ]
     },
     "execution_count": 32,
     "metadata": {},
     "output_type": "execute_result"
    }
   ],
   "source": [
    "arr[2:,3]"
   ]
  },
  {
   "cell_type": "code",
   "execution_count": 35,
   "metadata": {},
   "outputs": [
    {
     "name": "stdout",
     "output_type": "stream",
     "text": [
      "[[ 6  7]\n",
      " [10 11]]\n"
     ]
    }
   ],
   "source": [
    "print(arr[1:, 1:3])"
   ]
  },
  {
   "cell_type": "code",
   "execution_count": 37,
   "metadata": {},
   "outputs": [
    {
     "name": "stdout",
     "output_type": "stream",
     "text": [
      "[[ 1  2  3  4]\n",
      " [ 5  6  7  8]\n",
      " [ 9 10 11 12]]\n"
     ]
    }
   ],
   "source": [
    "# Modify the elements\n",
    "\n",
    "print(arr)"
   ]
  },
  {
   "cell_type": "code",
   "execution_count": 38,
   "metadata": {},
   "outputs": [
    {
     "name": "stdout",
     "output_type": "stream",
     "text": [
      "[[ 1  2  3  4]\n",
      " [ 5  6 49  8]\n",
      " [ 9 10 11 12]]\n"
     ]
    }
   ],
   "source": [
    "arr[1][2] =49 \n",
    "print(arr)"
   ]
  },
  {
   "cell_type": "code",
   "execution_count": 39,
   "metadata": {},
   "outputs": [
    {
     "name": "stdout",
     "output_type": "stream",
     "text": [
      "[[  1   2   3   4]\n",
      " [  5   6  49   8]\n",
      " [  9 100 100 100]]\n"
     ]
    }
   ],
   "source": [
    "arr[2][1:] = 100\n",
    "print(arr)"
   ]
  },
  {
   "cell_type": "code",
   "execution_count": 40,
   "metadata": {},
   "outputs": [
    {
     "name": "stdout",
     "output_type": "stream",
     "text": [
      "Mean: 5.5\n",
      "Median: 5.5\n",
      "Standerd Deviation: 2.8722813232690143\n",
      "Variance: 8.25\n"
     ]
    }
   ],
   "source": [
    "data = np.array([1,2,3,4,5,6,7,8,9,10])\n",
    "\n",
    "print(\"Mean:\", np.mean(data))\n",
    "print(\"Median:\",np.median(data))\n",
    "print(\"Standerd Deviation:\", np.std(data))\n",
    "print(\"Variance:\", np.var(data))"
   ]
  },
  {
   "cell_type": "code",
   "execution_count": 43,
   "metadata": {},
   "outputs": [
    {
     "data": {
      "text/plain": [
       "array([False, False, False, False, False,  True,  True,  True,  True,\n",
       "        True])"
      ]
     },
     "execution_count": 43,
     "metadata": {},
     "output_type": "execute_result"
    }
   ],
   "source": [
    "## Logical Operation\n",
    "data = np.array([1,2,3,4,5,6,7,8,9,10])\n",
    "data>5"
   ]
  },
  {
   "cell_type": "code",
   "execution_count": 44,
   "metadata": {},
   "outputs": [
    {
     "data": {
      "text/plain": [
       "array([ 6,  7,  8,  9, 10])"
      ]
     },
     "execution_count": 44,
     "metadata": {},
     "output_type": "execute_result"
    }
   ],
   "source": [
    "data[data>5]"
   ]
  },
  {
   "cell_type": "code",
   "execution_count": 49,
   "metadata": {},
   "outputs": [
    {
     "data": {
      "text/plain": [
       "array([5, 6, 7, 8, 9])"
      ]
     },
     "execution_count": 49,
     "metadata": {},
     "output_type": "execute_result"
    }
   ],
   "source": [
    "data[(data>=5) & (data<=9)]\n"
   ]
  },
  {
   "cell_type": "code",
   "execution_count": 1,
   "metadata": {},
   "outputs": [],
   "source": [
    "import numpy as np"
   ]
  },
  {
   "cell_type": "code",
   "execution_count": 4,
   "metadata": {},
   "outputs": [
    {
     "name": "stdout",
     "output_type": "stream",
     "text": [
      "[1 2 3 4 5]\n",
      "<class 'numpy.ndarray'>\n",
      "(5,)\n"
     ]
    }
   ],
   "source": [
    "## Create arrays with using numpy\n",
    "\n",
    "arr1 = np.array([1,2,3,4,5])\n",
    "print(arr1)\n",
    "print(type(arr1))\n",
    "print(arr1.shape)"
   ]
  },
  {
   "cell_type": "code",
   "execution_count": 8,
   "metadata": {},
   "outputs": [
    {
     "data": {
      "text/plain": [
       "array([[1, 2, 3, 4, 5]])"
      ]
     },
     "execution_count": 8,
     "metadata": {},
     "output_type": "execute_result"
    }
   ],
   "source": [
    "arr2 = np.array([1,2,3,4,5])\n",
    "arr2.reshape(1, 5)"
   ]
  },
  {
   "cell_type": "code",
   "execution_count": 11,
   "metadata": {},
   "outputs": [
    {
     "name": "stdout",
     "output_type": "stream",
     "text": [
      "[[1 2 3 4 5]]\n",
      "(1, 5)\n"
     ]
    }
   ],
   "source": [
    "arr3 = np.array([[1,2,3,4,5]])\n",
    "print(arr3)\n",
    "print(arr3.shape)"
   ]
  },
  {
   "cell_type": "code",
   "execution_count": 12,
   "metadata": {},
   "outputs": [
    {
     "name": "stdout",
     "output_type": "stream",
     "text": [
      "[[1 2 3 4 5]\n",
      " [2 3 4 5 6]]\n",
      "(2, 5)\n"
     ]
    }
   ],
   "source": [
    "arr3 = np.array([[1,2,3,4,5], [2,3,4,5,6]])\n",
    "print(arr3)\n",
    "print(arr3.shape)"
   ]
  },
  {
   "cell_type": "code",
   "execution_count": 16,
   "metadata": {},
   "outputs": [
    {
     "data": {
      "text/plain": [
       "array([0, 2, 4, 6, 8])"
      ]
     },
     "execution_count": 16,
     "metadata": {},
     "output_type": "execute_result"
    }
   ],
   "source": [
    "np.arange(0, 10, 2)"
   ]
  },
  {
   "cell_type": "code",
   "execution_count": 17,
   "metadata": {},
   "outputs": [
    {
     "data": {
      "text/plain": [
       "array([[0],\n",
       "       [2],\n",
       "       [4],\n",
       "       [6],\n",
       "       [8]])"
      ]
     },
     "execution_count": 17,
     "metadata": {},
     "output_type": "execute_result"
    }
   ],
   "source": [
    "np.arange(0,10,2).reshape(5,1)"
   ]
  },
  {
   "cell_type": "code",
   "execution_count": 20,
   "metadata": {},
   "outputs": [
    {
     "data": {
      "text/plain": [
       "array([[1., 1., 1.],\n",
       "       [1., 1., 1.],\n",
       "       [1., 1., 1.],\n",
       "       [1., 1., 1.]])"
      ]
     },
     "execution_count": 20,
     "metadata": {},
     "output_type": "execute_result"
    }
   ],
   "source": [
    "np.ones((4,3))"
   ]
  },
  {
   "cell_type": "code",
   "execution_count": 21,
   "metadata": {},
   "outputs": [
    {
     "data": {
      "text/plain": [
       "array([[1., 0., 0.],\n",
       "       [0., 1., 0.],\n",
       "       [0., 0., 1.]])"
      ]
     },
     "execution_count": 21,
     "metadata": {},
     "output_type": "execute_result"
    }
   ],
   "source": [
    "## Identity matrix\n",
    "np.eye(3)"
   ]
  },
  {
   "cell_type": "code",
   "execution_count": 22,
   "metadata": {},
   "outputs": [
    {
     "data": {
      "text/plain": [
       "array([[1., 0., 0., 0., 0.],\n",
       "       [0., 1., 0., 0., 0.],\n",
       "       [0., 0., 1., 0., 0.],\n",
       "       [0., 0., 0., 1., 0.],\n",
       "       [0., 0., 0., 0., 1.]])"
      ]
     },
     "execution_count": 22,
     "metadata": {},
     "output_type": "execute_result"
    }
   ],
   "source": [
    "np.eye(5)"
   ]
  },
  {
   "cell_type": "code",
   "execution_count": 23,
   "metadata": {},
   "outputs": [
    {
     "name": "stdout",
     "output_type": "stream",
     "text": [
      "Array:\n",
      " [[1 2 3]\n",
      " [4 5 6]]\n",
      "Array Shape: (2, 3)\n",
      "Number of the dimensions:  2\n",
      "Size (numbers of the elements): 6\n",
      "Data Type: int64\n",
      "Item Size (in bytes): 8\n"
     ]
    }
   ],
   "source": [
    "arr = np.array([[1,2,3],[4,5,6]])\n",
    "\n",
    "print(\"Array:\\n\", arr)\n",
    "print('Array Shape:', arr.shape)\n",
    "print(\"Number of the dimensions: \", arr.ndim)\n",
    "print(\"Size (numbers of the elements):\", arr.size)\n",
    "print(\"Data Type:\", arr.dtype)\n",
    "print(\"Item Size (in bytes):\", arr.itemsize)"
   ]
  },
  {
   "cell_type": "code",
   "execution_count": 24,
   "metadata": {},
   "outputs": [
    {
     "name": "stdout",
     "output_type": "stream",
     "text": [
      "Addtion: [11 22 33 44 55]\n",
      "Substraction: [ -9 -18 -27 -36 -45]\n",
      "Multiplication: [ 10  40  90 160 250]\n",
      "Division: [0.1 0.1 0.1 0.1 0.1]\n"
     ]
    }
   ],
   "source": [
    "arr1 = np.array([1,2,3,4,5])\n",
    "arr2 = np.array([10,20,30,40,50])\n",
    "\n",
    "print(f\"Addtion: {arr1 + arr2}\")\n",
    "print(f\"Substraction: {arr1-arr2}\")\n",
    "print(f\"Multiplication: {arr1*arr2}\")\n",
    "print(f\"Division: {arr1/arr2}\")"
   ]
  },
  {
   "cell_type": "code",
   "execution_count": 30,
   "metadata": {},
   "outputs": [
    {
     "name": "stdout",
     "output_type": "stream",
     "text": [
      "Square root: [1.         1.41421356 1.73205081 2.         2.23606798]\n",
      "Cube Root: [1.         1.25992105 1.44224957 1.58740105 1.70997595]\n",
      "Exponetial: [  2.71828183   7.3890561   20.08553692  54.59815003 148.4131591 ]\n",
      "Sine: [ 0.84147098  0.90929743  0.14112001 -0.7568025  -0.95892427]\n",
      "Natural log: [0.         0.69314718 1.09861229 1.38629436 1.60943791]\n"
     ]
    }
   ],
   "source": [
    "#Universal Functions\n",
    "print(\"Square root:\", np.sqrt(arr1))\n",
    "print(\"Cube Root:\", np.cbrt(arr1))\n",
    "print(\"Exponetial:\", np.exp(arr1))\n",
    "print(\"Sine:\", np.sin(arr1))\n",
    "print(\"Natural log:\", np.log(arr1))"
   ]
  },
  {
   "cell_type": "code",
   "execution_count": 31,
   "metadata": {},
   "outputs": [
    {
     "name": "stdout",
     "output_type": "stream",
     "text": [
      "Array \n",
      ": [[ 1  2  3  4]\n",
      " [ 5  6  7  8]\n",
      " [ 9 10 11 12]]\n"
     ]
    }
   ],
   "source": [
    "# Slicing\n",
    "\n",
    "arr = np.array([[1,2,3,4], [5,6,7,8],[9,10,11,12]])\n",
    "print(\"Array \\n:\", arr)"
   ]
  },
  {
   "cell_type": "code",
   "execution_count": 33,
   "metadata": {},
   "outputs": [
    {
     "name": "stdout",
     "output_type": "stream",
     "text": [
      "1\n"
     ]
    }
   ],
   "source": [
    "print(arr[0][0])"
   ]
  },
  {
   "cell_type": "code",
   "execution_count": 34,
   "metadata": {},
   "outputs": [
    {
     "name": "stdout",
     "output_type": "stream",
     "text": [
      "11\n"
     ]
    }
   ],
   "source": [
    "print(arr[2][2])"
   ]
  },
  {
   "cell_type": "code",
   "execution_count": 38,
   "metadata": {},
   "outputs": [
    {
     "name": "stdout",
     "output_type": "stream",
     "text": [
      "[[ 7  8]\n",
      " [11 12]]\n"
     ]
    }
   ],
   "source": [
    "print(arr[1:, 2:])"
   ]
  },
  {
   "cell_type": "code",
   "execution_count": 39,
   "metadata": {},
   "outputs": [
    {
     "name": "stdout",
     "output_type": "stream",
     "text": [
      "[[ 6  7]\n",
      " [10 11]]\n"
     ]
    }
   ],
   "source": [
    "print(arr[1:3,1:3])"
   ]
  },
  {
   "cell_type": "code",
   "execution_count": 40,
   "metadata": {},
   "outputs": [
    {
     "name": "stdout",
     "output_type": "stream",
     "text": [
      "[[ 1  2  3  4]\n",
      " [ 5  6 49  8]\n",
      " [ 9 10 11 12]]\n"
     ]
    }
   ],
   "source": [
    "arr[1,2]=49\n",
    "print(arr)"
   ]
  },
  {
   "cell_type": "code",
   "execution_count": 41,
   "metadata": {},
   "outputs": [
    {
     "name": "stdout",
     "output_type": "stream",
     "text": [
      "[[  1   2   3   4]\n",
      " [100 100 100 100]\n",
      " [100 100 100 100]]\n"
     ]
    }
   ],
   "source": [
    "arr[1:] =100\n",
    "print(arr)"
   ]
  },
  {
   "cell_type": "code",
   "execution_count": 42,
   "metadata": {},
   "outputs": [
    {
     "name": "stdout",
     "output_type": "stream",
     "text": [
      "[[  1   2   3   4]\n",
      " [100 100 100 100]\n",
      " [100 100 100 100]]\n"
     ]
    }
   ],
   "source": [
    "#Sum of an Array:\n",
    "print(arr)"
   ]
  },
  {
   "cell_type": "code",
   "execution_count": 43,
   "metadata": {},
   "outputs": [
    {
     "name": "stdout",
     "output_type": "stream",
     "text": [
      "810\n"
     ]
    }
   ],
   "source": [
    "sum_of_array = arr.sum()\n",
    "print(sum_of_array)"
   ]
  },
  {
   "cell_type": "code",
   "execution_count": 44,
   "metadata": {},
   "outputs": [
    {
     "name": "stdout",
     "output_type": "stream",
     "text": [
      "[[ 1  2  3  4]\n",
      " [ 5  6  7  8]\n",
      " [ 9 10 11 12]]\n"
     ]
    }
   ],
   "source": [
    "#Array Reshaping:\n",
    "\n",
    "One_D = np.array([1,2,3,4,5,6,7,8,9,10,11,12])\n",
    "\n",
    "print(One_D.reshape(3,4))"
   ]
  },
  {
   "cell_type": "code",
   "execution_count": 45,
   "metadata": {},
   "outputs": [
    {
     "data": {
      "text/plain": [
       "np.int64(12)"
      ]
     },
     "execution_count": 45,
     "metadata": {},
     "output_type": "execute_result"
    }
   ],
   "source": [
    "One_D.max()"
   ]
  },
  {
   "cell_type": "code",
   "execution_count": 46,
   "metadata": {},
   "outputs": [
    {
     "name": "stdout",
     "output_type": "stream",
     "text": [
      "[ 1  2  3  4  5  6  7  8  9 10]\n"
     ]
    }
   ],
   "source": [
    "array1 = np.array(range(1, 11))\n",
    "print(array1)"
   ]
  },
  {
   "cell_type": "code",
   "execution_count": 47,
   "metadata": {},
   "outputs": [
    {
     "name": "stdout",
     "output_type": "stream",
     "text": [
      "(2, 3)\n",
      "6\n"
     ]
    }
   ],
   "source": [
    "arr = np.array([[1, 2, 3], [4, 5, 6]])\n",
    "print(arr.shape)\n",
    "print(arr.size)"
   ]
  },
  {
   "cell_type": "code",
   "execution_count": 50,
   "metadata": {},
   "outputs": [
    {
     "name": "stdout",
     "output_type": "stream",
     "text": [
      "[10 20 30]\n",
      "[50 60]\n"
     ]
    }
   ],
   "source": [
    "#Indexing and slicing:\n",
    "\n",
    "arr = np.array([10, 20, 30, 40, 50, 60])\n",
    "\n",
    "print(arr[0:3])\n",
    "print(arr[4:])\n",
    "\n"
   ]
  },
  {
   "cell_type": "code",
   "execution_count": 54,
   "metadata": {},
   "outputs": [
    {
     "name": "stdout",
     "output_type": "stream",
     "text": [
      "10\n",
      "60\n"
     ]
    }
   ],
   "source": [
    "print(arr.min())\n",
    "print(arr.max())"
   ]
  },
  {
   "cell_type": "code",
   "execution_count": 55,
   "metadata": {},
   "outputs": [],
   "source": [
    "#Array Transpose: Given a 2D NumPy array, write a function to transpose it.\n",
    "\n",
    "def transpose_array(arr):\n",
    "    return np.transpose(arr)\n"
   ]
  },
  {
   "cell_type": "code",
   "execution_count": 57,
   "metadata": {},
   "outputs": [
    {
     "name": "stdout",
     "output_type": "stream",
     "text": [
      "Original array: \n",
      " [[1 2 3]\n",
      " [4 5 6]]\n",
      "Transpose array: \n",
      " [[1 4]\n",
      " [2 5]\n",
      " [3 6]]\n"
     ]
    }
   ],
   "source": [
    "Matrix = np.array([[1,2,3],[4,5,6]])\n",
    "Transpose_array = transpose_array(Matrix)\n",
    "\n",
    "print(\"Original array: \\n\", Matrix)\n",
    "print(\"Transpose array: \\n\", Transpose_array)"
   ]
  },
  {
   "cell_type": "code",
   "execution_count": 58,
   "metadata": {},
   "outputs": [],
   "source": [
    "import pandas as pd"
   ]
  },
  {
   "cell_type": "code",
   "execution_count": 64,
   "metadata": {},
   "outputs": [
    {
     "name": "stdout",
     "output_type": "stream",
     "text": [
      "0    1\n",
      "1    2\n",
      "2    3\n",
      "3    4\n",
      "4    5\n",
      "dtype: int64\n",
      "<class 'pandas.core.series.Series'>\n"
     ]
    }
   ],
   "source": [
    "data = [1,2,3,4,5]\n",
    "\n",
    "series = pd.Series(data)\n",
    "\n",
    "print(series)\n",
    "print(type(series))"
   ]
  },
  {
   "cell_type": "code",
   "execution_count": 62,
   "metadata": {},
   "outputs": [
    {
     "name": "stdout",
     "output_type": "stream",
     "text": [
      "       0      1        2     3         4\n",
      "0      1      2        3     4         5\n",
      "1  Vimal  Varun  Haseena  Luna  Laskshmi\n",
      "<class 'pandas.core.frame.DataFrame'>\n"
     ]
    }
   ],
   "source": [
    "df = pd.DataFrame([[1,2,3,4,5],[\"Vimal\", \"Varun\", \"Haseena\", \"Luna\", \"Laskshmi\"]])\n",
    "print(df)\n",
    "print(type(df))"
   ]
  },
  {
   "cell_type": "code",
   "execution_count": 65,
   "metadata": {},
   "outputs": [
    {
     "name": "stdout",
     "output_type": "stream",
     "text": [
      "a    1\n",
      "b    2\n",
      "c    3\n",
      "d    4\n",
      "dtype: int64\n",
      "<class 'pandas.core.series.Series'>\n"
     ]
    }
   ],
   "source": [
    "#Create a series from dictionary\n",
    "\n",
    "data = {\"a\": 1, \"b\":2, \"c\": 3, \"d\":4}\n",
    "\n",
    "df1 = pd.Series(data)\n",
    "\n",
    "print(df1)\n",
    "print(type(df1))"
   ]
  },
  {
   "cell_type": "code",
   "execution_count": 69,
   "metadata": {},
   "outputs": [
    {
     "data": {
      "text/plain": [
       "a    10\n",
       "b    20\n",
       "c    30\n",
       "dtype: int64"
      ]
     },
     "execution_count": 69,
     "metadata": {},
     "output_type": "execute_result"
    }
   ],
   "source": [
    "data = [10,20,30]\n",
    "index = [\"a\", 'b', 'c']\n",
    "\n",
    "pd.Series(data, index=index)"
   ]
  },
  {
   "cell_type": "code",
   "execution_count": 70,
   "metadata": {},
   "outputs": [
    {
     "name": "stdout",
     "output_type": "stream",
     "text": [
      "          Date Category  Value   Product  Sales Region\n",
      "0   2023-01-01        A   28.0  Product1  754.0   East\n",
      "1   2023-01-02        B   39.0  Product3  110.0  North\n",
      "2   2023-01-03        C   32.0  Product2  398.0   East\n",
      "3   2023-01-04        B    8.0  Product1  522.0   East\n",
      "4   2023-01-05        B   26.0  Product3  869.0  North\n",
      "5   2023-01-06        B   54.0  Product3  192.0   West\n",
      "6   2023-01-07        A   16.0  Product1  936.0   East\n",
      "7   2023-01-08        C   89.0  Product1  488.0   West\n",
      "8   2023-01-09        C   37.0  Product3  772.0   West\n",
      "9   2023-01-10        A   22.0  Product2  834.0   West\n",
      "10  2023-01-11        B    7.0  Product1  842.0  North\n",
      "11  2023-01-12        B   60.0  Product2    NaN   West\n",
      "12  2023-01-13        A   70.0  Product3  628.0  South\n",
      "13  2023-01-14        A   69.0  Product1  423.0   East\n",
      "14  2023-01-15        A   47.0  Product2  893.0   West\n",
      "15  2023-01-16        C    NaN  Product1  895.0  North\n",
      "16  2023-01-17        C   93.0  Product2  511.0  South\n",
      "17  2023-01-18        C    NaN  Product1  108.0   West\n",
      "18  2023-01-19        A   31.0  Product2  578.0   West\n",
      "19  2023-01-20        A   59.0  Product1  736.0   East\n",
      "20  2023-01-21        C   82.0  Product3  606.0  South\n",
      "21  2023-01-22        C   37.0  Product2  992.0  South\n",
      "22  2023-01-23        B   62.0  Product3  942.0  North\n",
      "23  2023-01-24        C   92.0  Product2  342.0   West\n",
      "24  2023-01-25        A   24.0  Product2  458.0   East\n",
      "25  2023-01-26        C   95.0  Product1  584.0   West\n",
      "26  2023-01-27        C   71.0  Product2  619.0  North\n",
      "27  2023-01-28        C   56.0  Product2  224.0  North\n",
      "28  2023-01-29        B    NaN  Product3  617.0  North\n",
      "29  2023-01-30        C   51.0  Product2  737.0  South\n",
      "30  2023-01-31        B   50.0  Product3  735.0   West\n",
      "31  2023-02-01        A   17.0  Product2  189.0   West\n",
      "32  2023-02-02        B   63.0  Product3  338.0  South\n",
      "33  2023-02-03        C   27.0  Product3    NaN   East\n",
      "34  2023-02-04        C   70.0  Product3  669.0   West\n",
      "35  2023-02-05        B   60.0  Product2    NaN   West\n",
      "36  2023-02-06        C   36.0  Product3  177.0   East\n",
      "37  2023-02-07        C    2.0  Product1    NaN  North\n",
      "38  2023-02-08        C   94.0  Product1  408.0  South\n",
      "39  2023-02-09        A   62.0  Product1  155.0   West\n",
      "40  2023-02-10        B   15.0  Product1  578.0   East\n",
      "41  2023-02-11        C   97.0  Product1  256.0   East\n",
      "42  2023-02-12        A   93.0  Product3  164.0   West\n",
      "43  2023-02-13        A   43.0  Product3  949.0   East\n",
      "44  2023-02-14        A   96.0  Product3  830.0   East\n",
      "45  2023-02-15        B   99.0  Product2  599.0   West\n",
      "46  2023-02-16        B    6.0  Product1  938.0  South\n",
      "47  2023-02-17        B   69.0  Product3  143.0   West\n",
      "48  2023-02-18        C   65.0  Product3  182.0  North\n",
      "49  2023-02-19        C   11.0  Product3  708.0  North\n"
     ]
    }
   ],
   "source": [
    "df = pd.read_csv(\"data.csv\")\n",
    "print(df)"
   ]
  },
  {
   "cell_type": "code",
   "execution_count": 73,
   "metadata": {},
   "outputs": [
    {
     "name": "stdout",
     "output_type": "stream",
     "text": [
      "{'Name': ['Vimal', 'Haseena', 'Kamal'], 'Age': [25, 26, 27], 'City': ['Chennai', 'Madurai', 'Thrichy']}\n"
     ]
    }
   ],
   "source": [
    "data = {\n",
    "    \"Name\":[\"Vimal\", \"Haseena\", \"Kamal\"],\n",
    "    \"Age\":[25,26,27],\n",
    "    \"City\":[\"Chennai\", \"Madurai\", \"Thrichy\"]\n",
    "}\n",
    "\n",
    "print(data)"
   ]
  },
  {
   "cell_type": "code",
   "execution_count": 74,
   "metadata": {},
   "outputs": [
    {
     "name": "stdout",
     "output_type": "stream",
     "text": [
      "      Name  Age     City\n",
      "0    Vimal   25  Chennai\n",
      "1  Haseena   26  Madurai\n",
      "2    Kamal   27  Thrichy\n"
     ]
    }
   ],
   "source": [
    "df = pd.DataFrame(data)\n",
    "print(df)"
   ]
  },
  {
   "cell_type": "code",
   "execution_count": 2,
   "metadata": {},
   "outputs": [],
   "source": [
    "import pandas as pd"
   ]
  },
  {
   "cell_type": "code",
   "execution_count": 28,
   "metadata": {},
   "outputs": [
    {
     "name": "stdout",
     "output_type": "stream",
     "text": [
      "      Name  Age     City\n",
      "0    Vimal   25  Chennai\n",
      "1  Haseena   25      USA\n",
      "<class 'pandas.core.frame.DataFrame'>\n"
     ]
    }
   ],
   "source": [
    "data = [\n",
    "\n",
    "    {\"Name\":\"Vimal\", \"Age\": 25, \"City\": \"Chennai\"},\n",
    "    {\"Name\": \"Haseena\", \"Age\": 25, \"City\": \"USA\"}\n",
    "]\n",
    "\n",
    "df = pd.DataFrame(data)\n",
    "print(df)\n",
    "print(type(df))"
   ]
  },
  {
   "cell_type": "code",
   "execution_count": 29,
   "metadata": {},
   "outputs": [
    {
     "data": {
      "text/plain": [
       "0      Vimal\n",
       "1    Haseena\n",
       "Name: Name, dtype: object"
      ]
     },
     "execution_count": 29,
     "metadata": {},
     "output_type": "execute_result"
    }
   ],
   "source": [
    "df[\"Name\"]"
   ]
  },
  {
   "cell_type": "code",
   "execution_count": 30,
   "metadata": {},
   "outputs": [
    {
     "data": {
      "text/html": [
       "<div>\n",
       "<style scoped>\n",
       "    .dataframe tbody tr th:only-of-type {\n",
       "        vertical-align: middle;\n",
       "    }\n",
       "\n",
       "    .dataframe tbody tr th {\n",
       "        vertical-align: top;\n",
       "    }\n",
       "\n",
       "    .dataframe thead th {\n",
       "        text-align: right;\n",
       "    }\n",
       "</style>\n",
       "<table border=\"1\" class=\"dataframe\">\n",
       "  <thead>\n",
       "    <tr style=\"text-align: right;\">\n",
       "      <th></th>\n",
       "      <th>Name</th>\n",
       "      <th>Age</th>\n",
       "      <th>City</th>\n",
       "    </tr>\n",
       "  </thead>\n",
       "  <tbody>\n",
       "    <tr>\n",
       "      <th>0</th>\n",
       "      <td>Vimal</td>\n",
       "      <td>25</td>\n",
       "      <td>Chennai</td>\n",
       "    </tr>\n",
       "    <tr>\n",
       "      <th>1</th>\n",
       "      <td>Haseena</td>\n",
       "      <td>25</td>\n",
       "      <td>USA</td>\n",
       "    </tr>\n",
       "  </tbody>\n",
       "</table>\n",
       "</div>"
      ],
      "text/plain": [
       "      Name  Age     City\n",
       "0    Vimal   25  Chennai\n",
       "1  Haseena   25      USA"
      ]
     },
     "execution_count": 30,
     "metadata": {},
     "output_type": "execute_result"
    }
   ],
   "source": [
    "df[[\"Name\", \"Age\", \"City\"]]"
   ]
  },
  {
   "cell_type": "code",
   "execution_count": 31,
   "metadata": {},
   "outputs": [
    {
     "data": {
      "text/plain": [
       "Name      Vimal\n",
       "Age          25\n",
       "City    Chennai\n",
       "Name: 0, dtype: object"
      ]
     },
     "execution_count": 31,
     "metadata": {},
     "output_type": "execute_result"
    }
   ],
   "source": [
    "df.loc[0]"
   ]
  },
  {
   "cell_type": "code",
   "execution_count": 32,
   "metadata": {},
   "outputs": [
    {
     "data": {
      "text/plain": [
       "Name    Haseena\n",
       "Age          25\n",
       "City        USA\n",
       "Name: 1, dtype: object"
      ]
     },
     "execution_count": 32,
     "metadata": {},
     "output_type": "execute_result"
    }
   ],
   "source": [
    "df.loc[1]"
   ]
  },
  {
   "cell_type": "code",
   "execution_count": 33,
   "metadata": {},
   "outputs": [
    {
     "data": {
      "text/plain": [
       "Name      Vimal\n",
       "Age          25\n",
       "City    Chennai\n",
       "Name: 0, dtype: object"
      ]
     },
     "execution_count": 33,
     "metadata": {},
     "output_type": "execute_result"
    }
   ],
   "source": [
    "df.iloc[0]"
   ]
  },
  {
   "cell_type": "code",
   "execution_count": 34,
   "metadata": {},
   "outputs": [
    {
     "name": "stderr",
     "output_type": "stream",
     "text": [
      "C:\\Users\\vimal\\AppData\\Local\\Temp\\ipykernel_19824\\2519637664.py:1: FutureWarning: Series.__getitem__ treating keys as positions is deprecated. In a future version, integer keys will always be treated as labels (consistent with DataFrame behavior). To access a value by position, use `ser.iloc[pos]`\n",
      "  df.iloc[0][2]\n"
     ]
    },
    {
     "data": {
      "text/plain": [
       "'Chennai'"
      ]
     },
     "execution_count": 34,
     "metadata": {},
     "output_type": "execute_result"
    }
   ],
   "source": [
    "df.iloc[0][2]"
   ]
  },
  {
   "cell_type": "code",
   "execution_count": 35,
   "metadata": {},
   "outputs": [
    {
     "data": {
      "text/plain": [
       "np.int64(25)"
      ]
     },
     "execution_count": 35,
     "metadata": {},
     "output_type": "execute_result"
    }
   ],
   "source": [
    "##Acessing spefice elements:\n",
    "\n",
    "df.at[1, \"Age\"]"
   ]
  },
  {
   "cell_type": "code",
   "execution_count": 36,
   "metadata": {},
   "outputs": [],
   "source": [
    "df[\"Salary\"] = [60000,50000]"
   ]
  },
  {
   "cell_type": "code",
   "execution_count": 37,
   "metadata": {},
   "outputs": [
    {
     "data": {
      "text/html": [
       "<div>\n",
       "<style scoped>\n",
       "    .dataframe tbody tr th:only-of-type {\n",
       "        vertical-align: middle;\n",
       "    }\n",
       "\n",
       "    .dataframe tbody tr th {\n",
       "        vertical-align: top;\n",
       "    }\n",
       "\n",
       "    .dataframe thead th {\n",
       "        text-align: right;\n",
       "    }\n",
       "</style>\n",
       "<table border=\"1\" class=\"dataframe\">\n",
       "  <thead>\n",
       "    <tr style=\"text-align: right;\">\n",
       "      <th></th>\n",
       "      <th>Name</th>\n",
       "      <th>Age</th>\n",
       "      <th>City</th>\n",
       "      <th>Salary</th>\n",
       "    </tr>\n",
       "  </thead>\n",
       "  <tbody>\n",
       "    <tr>\n",
       "      <th>0</th>\n",
       "      <td>Vimal</td>\n",
       "      <td>25</td>\n",
       "      <td>Chennai</td>\n",
       "      <td>60000</td>\n",
       "    </tr>\n",
       "    <tr>\n",
       "      <th>1</th>\n",
       "      <td>Haseena</td>\n",
       "      <td>25</td>\n",
       "      <td>USA</td>\n",
       "      <td>50000</td>\n",
       "    </tr>\n",
       "  </tbody>\n",
       "</table>\n",
       "</div>"
      ],
      "text/plain": [
       "      Name  Age     City  Salary\n",
       "0    Vimal   25  Chennai   60000\n",
       "1  Haseena   25      USA   50000"
      ]
     },
     "execution_count": 37,
     "metadata": {},
     "output_type": "execute_result"
    }
   ],
   "source": [
    "df"
   ]
  },
  {
   "cell_type": "code",
   "execution_count": 38,
   "metadata": {},
   "outputs": [
    {
     "data": {
      "text/html": [
       "<div>\n",
       "<style scoped>\n",
       "    .dataframe tbody tr th:only-of-type {\n",
       "        vertical-align: middle;\n",
       "    }\n",
       "\n",
       "    .dataframe tbody tr th {\n",
       "        vertical-align: top;\n",
       "    }\n",
       "\n",
       "    .dataframe thead th {\n",
       "        text-align: right;\n",
       "    }\n",
       "</style>\n",
       "<table border=\"1\" class=\"dataframe\">\n",
       "  <thead>\n",
       "    <tr style=\"text-align: right;\">\n",
       "      <th></th>\n",
       "      <th>Name</th>\n",
       "      <th>Age</th>\n",
       "      <th>City</th>\n",
       "    </tr>\n",
       "  </thead>\n",
       "  <tbody>\n",
       "    <tr>\n",
       "      <th>0</th>\n",
       "      <td>Vimal</td>\n",
       "      <td>25</td>\n",
       "      <td>Chennai</td>\n",
       "    </tr>\n",
       "    <tr>\n",
       "      <th>1</th>\n",
       "      <td>Haseena</td>\n",
       "      <td>25</td>\n",
       "      <td>USA</td>\n",
       "    </tr>\n",
       "  </tbody>\n",
       "</table>\n",
       "</div>"
      ],
      "text/plain": [
       "      Name  Age     City\n",
       "0    Vimal   25  Chennai\n",
       "1  Haseena   25      USA"
      ]
     },
     "execution_count": 38,
     "metadata": {},
     "output_type": "execute_result"
    }
   ],
   "source": [
    "df.drop(\"Salary\", axis=1, inplace=True)\n",
    "df"
   ]
  },
  {
   "cell_type": "code",
   "execution_count": 39,
   "metadata": {},
   "outputs": [
    {
     "data": {
      "text/html": [
       "<div>\n",
       "<style scoped>\n",
       "    .dataframe tbody tr th:only-of-type {\n",
       "        vertical-align: middle;\n",
       "    }\n",
       "\n",
       "    .dataframe tbody tr th {\n",
       "        vertical-align: top;\n",
       "    }\n",
       "\n",
       "    .dataframe thead th {\n",
       "        text-align: right;\n",
       "    }\n",
       "</style>\n",
       "<table border=\"1\" class=\"dataframe\">\n",
       "  <thead>\n",
       "    <tr style=\"text-align: right;\">\n",
       "      <th></th>\n",
       "      <th>Name</th>\n",
       "      <th>Age</th>\n",
       "      <th>City</th>\n",
       "    </tr>\n",
       "  </thead>\n",
       "  <tbody>\n",
       "    <tr>\n",
       "      <th>0</th>\n",
       "      <td>Vimal</td>\n",
       "      <td>26</td>\n",
       "      <td>Chennai</td>\n",
       "    </tr>\n",
       "    <tr>\n",
       "      <th>1</th>\n",
       "      <td>Haseena</td>\n",
       "      <td>26</td>\n",
       "      <td>USA</td>\n",
       "    </tr>\n",
       "  </tbody>\n",
       "</table>\n",
       "</div>"
      ],
      "text/plain": [
       "      Name  Age     City\n",
       "0    Vimal   26  Chennai\n",
       "1  Haseena   26      USA"
      ]
     },
     "execution_count": 39,
     "metadata": {},
     "output_type": "execute_result"
    }
   ],
   "source": [
    "df[\"Age\"] = df[\"Age\"]+1\n",
    "df"
   ]
  },
  {
   "cell_type": "code",
   "execution_count": 40,
   "metadata": {},
   "outputs": [
    {
     "data": {
      "text/html": [
       "<div>\n",
       "<style scoped>\n",
       "    .dataframe tbody tr th:only-of-type {\n",
       "        vertical-align: middle;\n",
       "    }\n",
       "\n",
       "    .dataframe tbody tr th {\n",
       "        vertical-align: top;\n",
       "    }\n",
       "\n",
       "    .dataframe thead th {\n",
       "        text-align: right;\n",
       "    }\n",
       "</style>\n",
       "<table border=\"1\" class=\"dataframe\">\n",
       "  <thead>\n",
       "    <tr style=\"text-align: right;\">\n",
       "      <th></th>\n",
       "      <th>Date</th>\n",
       "      <th>Category</th>\n",
       "      <th>Value</th>\n",
       "      <th>Product</th>\n",
       "      <th>Sales</th>\n",
       "      <th>Region</th>\n",
       "    </tr>\n",
       "  </thead>\n",
       "  <tbody>\n",
       "    <tr>\n",
       "      <th>0</th>\n",
       "      <td>2023-01-01</td>\n",
       "      <td>A</td>\n",
       "      <td>28.0</td>\n",
       "      <td>Product1</td>\n",
       "      <td>754.0</td>\n",
       "      <td>East</td>\n",
       "    </tr>\n",
       "    <tr>\n",
       "      <th>1</th>\n",
       "      <td>2023-01-02</td>\n",
       "      <td>B</td>\n",
       "      <td>39.0</td>\n",
       "      <td>Product3</td>\n",
       "      <td>110.0</td>\n",
       "      <td>North</td>\n",
       "    </tr>\n",
       "    <tr>\n",
       "      <th>2</th>\n",
       "      <td>2023-01-03</td>\n",
       "      <td>C</td>\n",
       "      <td>32.0</td>\n",
       "      <td>Product2</td>\n",
       "      <td>398.0</td>\n",
       "      <td>East</td>\n",
       "    </tr>\n",
       "    <tr>\n",
       "      <th>3</th>\n",
       "      <td>2023-01-04</td>\n",
       "      <td>B</td>\n",
       "      <td>8.0</td>\n",
       "      <td>Product1</td>\n",
       "      <td>522.0</td>\n",
       "      <td>East</td>\n",
       "    </tr>\n",
       "    <tr>\n",
       "      <th>4</th>\n",
       "      <td>2023-01-05</td>\n",
       "      <td>B</td>\n",
       "      <td>26.0</td>\n",
       "      <td>Product3</td>\n",
       "      <td>869.0</td>\n",
       "      <td>North</td>\n",
       "    </tr>\n",
       "    <tr>\n",
       "      <th>5</th>\n",
       "      <td>2023-01-06</td>\n",
       "      <td>B</td>\n",
       "      <td>54.0</td>\n",
       "      <td>Product3</td>\n",
       "      <td>192.0</td>\n",
       "      <td>West</td>\n",
       "    </tr>\n",
       "    <tr>\n",
       "      <th>6</th>\n",
       "      <td>2023-01-07</td>\n",
       "      <td>A</td>\n",
       "      <td>16.0</td>\n",
       "      <td>Product1</td>\n",
       "      <td>936.0</td>\n",
       "      <td>East</td>\n",
       "    </tr>\n",
       "    <tr>\n",
       "      <th>7</th>\n",
       "      <td>2023-01-08</td>\n",
       "      <td>C</td>\n",
       "      <td>89.0</td>\n",
       "      <td>Product1</td>\n",
       "      <td>488.0</td>\n",
       "      <td>West</td>\n",
       "    </tr>\n",
       "    <tr>\n",
       "      <th>8</th>\n",
       "      <td>2023-01-09</td>\n",
       "      <td>C</td>\n",
       "      <td>37.0</td>\n",
       "      <td>Product3</td>\n",
       "      <td>772.0</td>\n",
       "      <td>West</td>\n",
       "    </tr>\n",
       "    <tr>\n",
       "      <th>9</th>\n",
       "      <td>2023-01-10</td>\n",
       "      <td>A</td>\n",
       "      <td>22.0</td>\n",
       "      <td>Product2</td>\n",
       "      <td>834.0</td>\n",
       "      <td>West</td>\n",
       "    </tr>\n",
       "    <tr>\n",
       "      <th>10</th>\n",
       "      <td>2023-01-11</td>\n",
       "      <td>B</td>\n",
       "      <td>7.0</td>\n",
       "      <td>Product1</td>\n",
       "      <td>842.0</td>\n",
       "      <td>North</td>\n",
       "    </tr>\n",
       "    <tr>\n",
       "      <th>11</th>\n",
       "      <td>2023-01-12</td>\n",
       "      <td>B</td>\n",
       "      <td>60.0</td>\n",
       "      <td>Product2</td>\n",
       "      <td>NaN</td>\n",
       "      <td>West</td>\n",
       "    </tr>\n",
       "    <tr>\n",
       "      <th>12</th>\n",
       "      <td>2023-01-13</td>\n",
       "      <td>A</td>\n",
       "      <td>70.0</td>\n",
       "      <td>Product3</td>\n",
       "      <td>628.0</td>\n",
       "      <td>South</td>\n",
       "    </tr>\n",
       "    <tr>\n",
       "      <th>13</th>\n",
       "      <td>2023-01-14</td>\n",
       "      <td>A</td>\n",
       "      <td>69.0</td>\n",
       "      <td>Product1</td>\n",
       "      <td>423.0</td>\n",
       "      <td>East</td>\n",
       "    </tr>\n",
       "    <tr>\n",
       "      <th>14</th>\n",
       "      <td>2023-01-15</td>\n",
       "      <td>A</td>\n",
       "      <td>47.0</td>\n",
       "      <td>Product2</td>\n",
       "      <td>893.0</td>\n",
       "      <td>West</td>\n",
       "    </tr>\n",
       "    <tr>\n",
       "      <th>15</th>\n",
       "      <td>2023-01-16</td>\n",
       "      <td>C</td>\n",
       "      <td>NaN</td>\n",
       "      <td>Product1</td>\n",
       "      <td>895.0</td>\n",
       "      <td>North</td>\n",
       "    </tr>\n",
       "    <tr>\n",
       "      <th>16</th>\n",
       "      <td>2023-01-17</td>\n",
       "      <td>C</td>\n",
       "      <td>93.0</td>\n",
       "      <td>Product2</td>\n",
       "      <td>511.0</td>\n",
       "      <td>South</td>\n",
       "    </tr>\n",
       "    <tr>\n",
       "      <th>17</th>\n",
       "      <td>2023-01-18</td>\n",
       "      <td>C</td>\n",
       "      <td>NaN</td>\n",
       "      <td>Product1</td>\n",
       "      <td>108.0</td>\n",
       "      <td>West</td>\n",
       "    </tr>\n",
       "    <tr>\n",
       "      <th>18</th>\n",
       "      <td>2023-01-19</td>\n",
       "      <td>A</td>\n",
       "      <td>31.0</td>\n",
       "      <td>Product2</td>\n",
       "      <td>578.0</td>\n",
       "      <td>West</td>\n",
       "    </tr>\n",
       "    <tr>\n",
       "      <th>19</th>\n",
       "      <td>2023-01-20</td>\n",
       "      <td>A</td>\n",
       "      <td>59.0</td>\n",
       "      <td>Product1</td>\n",
       "      <td>736.0</td>\n",
       "      <td>East</td>\n",
       "    </tr>\n",
       "    <tr>\n",
       "      <th>20</th>\n",
       "      <td>2023-01-21</td>\n",
       "      <td>C</td>\n",
       "      <td>82.0</td>\n",
       "      <td>Product3</td>\n",
       "      <td>606.0</td>\n",
       "      <td>South</td>\n",
       "    </tr>\n",
       "    <tr>\n",
       "      <th>21</th>\n",
       "      <td>2023-01-22</td>\n",
       "      <td>C</td>\n",
       "      <td>37.0</td>\n",
       "      <td>Product2</td>\n",
       "      <td>992.0</td>\n",
       "      <td>South</td>\n",
       "    </tr>\n",
       "    <tr>\n",
       "      <th>22</th>\n",
       "      <td>2023-01-23</td>\n",
       "      <td>B</td>\n",
       "      <td>62.0</td>\n",
       "      <td>Product3</td>\n",
       "      <td>942.0</td>\n",
       "      <td>North</td>\n",
       "    </tr>\n",
       "    <tr>\n",
       "      <th>23</th>\n",
       "      <td>2023-01-24</td>\n",
       "      <td>C</td>\n",
       "      <td>92.0</td>\n",
       "      <td>Product2</td>\n",
       "      <td>342.0</td>\n",
       "      <td>West</td>\n",
       "    </tr>\n",
       "    <tr>\n",
       "      <th>24</th>\n",
       "      <td>2023-01-25</td>\n",
       "      <td>A</td>\n",
       "      <td>24.0</td>\n",
       "      <td>Product2</td>\n",
       "      <td>458.0</td>\n",
       "      <td>East</td>\n",
       "    </tr>\n",
       "    <tr>\n",
       "      <th>25</th>\n",
       "      <td>2023-01-26</td>\n",
       "      <td>C</td>\n",
       "      <td>95.0</td>\n",
       "      <td>Product1</td>\n",
       "      <td>584.0</td>\n",
       "      <td>West</td>\n",
       "    </tr>\n",
       "    <tr>\n",
       "      <th>26</th>\n",
       "      <td>2023-01-27</td>\n",
       "      <td>C</td>\n",
       "      <td>71.0</td>\n",
       "      <td>Product2</td>\n",
       "      <td>619.0</td>\n",
       "      <td>North</td>\n",
       "    </tr>\n",
       "    <tr>\n",
       "      <th>27</th>\n",
       "      <td>2023-01-28</td>\n",
       "      <td>C</td>\n",
       "      <td>56.0</td>\n",
       "      <td>Product2</td>\n",
       "      <td>224.0</td>\n",
       "      <td>North</td>\n",
       "    </tr>\n",
       "    <tr>\n",
       "      <th>28</th>\n",
       "      <td>2023-01-29</td>\n",
       "      <td>B</td>\n",
       "      <td>NaN</td>\n",
       "      <td>Product3</td>\n",
       "      <td>617.0</td>\n",
       "      <td>North</td>\n",
       "    </tr>\n",
       "    <tr>\n",
       "      <th>29</th>\n",
       "      <td>2023-01-30</td>\n",
       "      <td>C</td>\n",
       "      <td>51.0</td>\n",
       "      <td>Product2</td>\n",
       "      <td>737.0</td>\n",
       "      <td>South</td>\n",
       "    </tr>\n",
       "    <tr>\n",
       "      <th>30</th>\n",
       "      <td>2023-01-31</td>\n",
       "      <td>B</td>\n",
       "      <td>50.0</td>\n",
       "      <td>Product3</td>\n",
       "      <td>735.0</td>\n",
       "      <td>West</td>\n",
       "    </tr>\n",
       "    <tr>\n",
       "      <th>31</th>\n",
       "      <td>2023-02-01</td>\n",
       "      <td>A</td>\n",
       "      <td>17.0</td>\n",
       "      <td>Product2</td>\n",
       "      <td>189.0</td>\n",
       "      <td>West</td>\n",
       "    </tr>\n",
       "    <tr>\n",
       "      <th>32</th>\n",
       "      <td>2023-02-02</td>\n",
       "      <td>B</td>\n",
       "      <td>63.0</td>\n",
       "      <td>Product3</td>\n",
       "      <td>338.0</td>\n",
       "      <td>South</td>\n",
       "    </tr>\n",
       "    <tr>\n",
       "      <th>33</th>\n",
       "      <td>2023-02-03</td>\n",
       "      <td>C</td>\n",
       "      <td>27.0</td>\n",
       "      <td>Product3</td>\n",
       "      <td>NaN</td>\n",
       "      <td>East</td>\n",
       "    </tr>\n",
       "    <tr>\n",
       "      <th>34</th>\n",
       "      <td>2023-02-04</td>\n",
       "      <td>C</td>\n",
       "      <td>70.0</td>\n",
       "      <td>Product3</td>\n",
       "      <td>669.0</td>\n",
       "      <td>West</td>\n",
       "    </tr>\n",
       "    <tr>\n",
       "      <th>35</th>\n",
       "      <td>2023-02-05</td>\n",
       "      <td>B</td>\n",
       "      <td>60.0</td>\n",
       "      <td>Product2</td>\n",
       "      <td>NaN</td>\n",
       "      <td>West</td>\n",
       "    </tr>\n",
       "    <tr>\n",
       "      <th>36</th>\n",
       "      <td>2023-02-06</td>\n",
       "      <td>C</td>\n",
       "      <td>36.0</td>\n",
       "      <td>Product3</td>\n",
       "      <td>177.0</td>\n",
       "      <td>East</td>\n",
       "    </tr>\n",
       "    <tr>\n",
       "      <th>37</th>\n",
       "      <td>2023-02-07</td>\n",
       "      <td>C</td>\n",
       "      <td>2.0</td>\n",
       "      <td>Product1</td>\n",
       "      <td>NaN</td>\n",
       "      <td>North</td>\n",
       "    </tr>\n",
       "    <tr>\n",
       "      <th>38</th>\n",
       "      <td>2023-02-08</td>\n",
       "      <td>C</td>\n",
       "      <td>94.0</td>\n",
       "      <td>Product1</td>\n",
       "      <td>408.0</td>\n",
       "      <td>South</td>\n",
       "    </tr>\n",
       "    <tr>\n",
       "      <th>39</th>\n",
       "      <td>2023-02-09</td>\n",
       "      <td>A</td>\n",
       "      <td>62.0</td>\n",
       "      <td>Product1</td>\n",
       "      <td>155.0</td>\n",
       "      <td>West</td>\n",
       "    </tr>\n",
       "    <tr>\n",
       "      <th>40</th>\n",
       "      <td>2023-02-10</td>\n",
       "      <td>B</td>\n",
       "      <td>15.0</td>\n",
       "      <td>Product1</td>\n",
       "      <td>578.0</td>\n",
       "      <td>East</td>\n",
       "    </tr>\n",
       "    <tr>\n",
       "      <th>41</th>\n",
       "      <td>2023-02-11</td>\n",
       "      <td>C</td>\n",
       "      <td>97.0</td>\n",
       "      <td>Product1</td>\n",
       "      <td>256.0</td>\n",
       "      <td>East</td>\n",
       "    </tr>\n",
       "    <tr>\n",
       "      <th>42</th>\n",
       "      <td>2023-02-12</td>\n",
       "      <td>A</td>\n",
       "      <td>93.0</td>\n",
       "      <td>Product3</td>\n",
       "      <td>164.0</td>\n",
       "      <td>West</td>\n",
       "    </tr>\n",
       "    <tr>\n",
       "      <th>43</th>\n",
       "      <td>2023-02-13</td>\n",
       "      <td>A</td>\n",
       "      <td>43.0</td>\n",
       "      <td>Product3</td>\n",
       "      <td>949.0</td>\n",
       "      <td>East</td>\n",
       "    </tr>\n",
       "    <tr>\n",
       "      <th>44</th>\n",
       "      <td>2023-02-14</td>\n",
       "      <td>A</td>\n",
       "      <td>96.0</td>\n",
       "      <td>Product3</td>\n",
       "      <td>830.0</td>\n",
       "      <td>East</td>\n",
       "    </tr>\n",
       "    <tr>\n",
       "      <th>45</th>\n",
       "      <td>2023-02-15</td>\n",
       "      <td>B</td>\n",
       "      <td>99.0</td>\n",
       "      <td>Product2</td>\n",
       "      <td>599.0</td>\n",
       "      <td>West</td>\n",
       "    </tr>\n",
       "    <tr>\n",
       "      <th>46</th>\n",
       "      <td>2023-02-16</td>\n",
       "      <td>B</td>\n",
       "      <td>6.0</td>\n",
       "      <td>Product1</td>\n",
       "      <td>938.0</td>\n",
       "      <td>South</td>\n",
       "    </tr>\n",
       "    <tr>\n",
       "      <th>47</th>\n",
       "      <td>2023-02-17</td>\n",
       "      <td>B</td>\n",
       "      <td>69.0</td>\n",
       "      <td>Product3</td>\n",
       "      <td>143.0</td>\n",
       "      <td>West</td>\n",
       "    </tr>\n",
       "    <tr>\n",
       "      <th>48</th>\n",
       "      <td>2023-02-18</td>\n",
       "      <td>C</td>\n",
       "      <td>65.0</td>\n",
       "      <td>Product3</td>\n",
       "      <td>182.0</td>\n",
       "      <td>North</td>\n",
       "    </tr>\n",
       "    <tr>\n",
       "      <th>49</th>\n",
       "      <td>2023-02-19</td>\n",
       "      <td>C</td>\n",
       "      <td>11.0</td>\n",
       "      <td>Product3</td>\n",
       "      <td>708.0</td>\n",
       "      <td>North</td>\n",
       "    </tr>\n",
       "  </tbody>\n",
       "</table>\n",
       "</div>"
      ],
      "text/plain": [
       "          Date Category  Value   Product  Sales Region\n",
       "0   2023-01-01        A   28.0  Product1  754.0   East\n",
       "1   2023-01-02        B   39.0  Product3  110.0  North\n",
       "2   2023-01-03        C   32.0  Product2  398.0   East\n",
       "3   2023-01-04        B    8.0  Product1  522.0   East\n",
       "4   2023-01-05        B   26.0  Product3  869.0  North\n",
       "5   2023-01-06        B   54.0  Product3  192.0   West\n",
       "6   2023-01-07        A   16.0  Product1  936.0   East\n",
       "7   2023-01-08        C   89.0  Product1  488.0   West\n",
       "8   2023-01-09        C   37.0  Product3  772.0   West\n",
       "9   2023-01-10        A   22.0  Product2  834.0   West\n",
       "10  2023-01-11        B    7.0  Product1  842.0  North\n",
       "11  2023-01-12        B   60.0  Product2    NaN   West\n",
       "12  2023-01-13        A   70.0  Product3  628.0  South\n",
       "13  2023-01-14        A   69.0  Product1  423.0   East\n",
       "14  2023-01-15        A   47.0  Product2  893.0   West\n",
       "15  2023-01-16        C    NaN  Product1  895.0  North\n",
       "16  2023-01-17        C   93.0  Product2  511.0  South\n",
       "17  2023-01-18        C    NaN  Product1  108.0   West\n",
       "18  2023-01-19        A   31.0  Product2  578.0   West\n",
       "19  2023-01-20        A   59.0  Product1  736.0   East\n",
       "20  2023-01-21        C   82.0  Product3  606.0  South\n",
       "21  2023-01-22        C   37.0  Product2  992.0  South\n",
       "22  2023-01-23        B   62.0  Product3  942.0  North\n",
       "23  2023-01-24        C   92.0  Product2  342.0   West\n",
       "24  2023-01-25        A   24.0  Product2  458.0   East\n",
       "25  2023-01-26        C   95.0  Product1  584.0   West\n",
       "26  2023-01-27        C   71.0  Product2  619.0  North\n",
       "27  2023-01-28        C   56.0  Product2  224.0  North\n",
       "28  2023-01-29        B    NaN  Product3  617.0  North\n",
       "29  2023-01-30        C   51.0  Product2  737.0  South\n",
       "30  2023-01-31        B   50.0  Product3  735.0   West\n",
       "31  2023-02-01        A   17.0  Product2  189.0   West\n",
       "32  2023-02-02        B   63.0  Product3  338.0  South\n",
       "33  2023-02-03        C   27.0  Product3    NaN   East\n",
       "34  2023-02-04        C   70.0  Product3  669.0   West\n",
       "35  2023-02-05        B   60.0  Product2    NaN   West\n",
       "36  2023-02-06        C   36.0  Product3  177.0   East\n",
       "37  2023-02-07        C    2.0  Product1    NaN  North\n",
       "38  2023-02-08        C   94.0  Product1  408.0  South\n",
       "39  2023-02-09        A   62.0  Product1  155.0   West\n",
       "40  2023-02-10        B   15.0  Product1  578.0   East\n",
       "41  2023-02-11        C   97.0  Product1  256.0   East\n",
       "42  2023-02-12        A   93.0  Product3  164.0   West\n",
       "43  2023-02-13        A   43.0  Product3  949.0   East\n",
       "44  2023-02-14        A   96.0  Product3  830.0   East\n",
       "45  2023-02-15        B   99.0  Product2  599.0   West\n",
       "46  2023-02-16        B    6.0  Product1  938.0  South\n",
       "47  2023-02-17        B   69.0  Product3  143.0   West\n",
       "48  2023-02-18        C   65.0  Product3  182.0  North\n",
       "49  2023-02-19        C   11.0  Product3  708.0  North"
      ]
     },
     "execution_count": 40,
     "metadata": {},
     "output_type": "execute_result"
    }
   ],
   "source": [
    "df = pd.read_csv(\"data.csv\")\n",
    "df"
   ]
  },
  {
   "cell_type": "code",
   "execution_count": 41,
   "metadata": {},
   "outputs": [
    {
     "data": {
      "text/html": [
       "<div>\n",
       "<style scoped>\n",
       "    .dataframe tbody tr th:only-of-type {\n",
       "        vertical-align: middle;\n",
       "    }\n",
       "\n",
       "    .dataframe tbody tr th {\n",
       "        vertical-align: top;\n",
       "    }\n",
       "\n",
       "    .dataframe thead th {\n",
       "        text-align: right;\n",
       "    }\n",
       "</style>\n",
       "<table border=\"1\" class=\"dataframe\">\n",
       "  <thead>\n",
       "    <tr style=\"text-align: right;\">\n",
       "      <th></th>\n",
       "      <th>Date</th>\n",
       "      <th>Category</th>\n",
       "      <th>Value</th>\n",
       "      <th>Product</th>\n",
       "      <th>Sales</th>\n",
       "      <th>Region</th>\n",
       "    </tr>\n",
       "  </thead>\n",
       "  <tbody>\n",
       "    <tr>\n",
       "      <th>0</th>\n",
       "      <td>2023-01-01</td>\n",
       "      <td>A</td>\n",
       "      <td>28.0</td>\n",
       "      <td>Product1</td>\n",
       "      <td>754.0</td>\n",
       "      <td>East</td>\n",
       "    </tr>\n",
       "    <tr>\n",
       "      <th>1</th>\n",
       "      <td>2023-01-02</td>\n",
       "      <td>B</td>\n",
       "      <td>39.0</td>\n",
       "      <td>Product3</td>\n",
       "      <td>110.0</td>\n",
       "      <td>North</td>\n",
       "    </tr>\n",
       "    <tr>\n",
       "      <th>2</th>\n",
       "      <td>2023-01-03</td>\n",
       "      <td>C</td>\n",
       "      <td>32.0</td>\n",
       "      <td>Product2</td>\n",
       "      <td>398.0</td>\n",
       "      <td>East</td>\n",
       "    </tr>\n",
       "    <tr>\n",
       "      <th>3</th>\n",
       "      <td>2023-01-04</td>\n",
       "      <td>B</td>\n",
       "      <td>8.0</td>\n",
       "      <td>Product1</td>\n",
       "      <td>522.0</td>\n",
       "      <td>East</td>\n",
       "    </tr>\n",
       "    <tr>\n",
       "      <th>4</th>\n",
       "      <td>2023-01-05</td>\n",
       "      <td>B</td>\n",
       "      <td>26.0</td>\n",
       "      <td>Product3</td>\n",
       "      <td>869.0</td>\n",
       "      <td>North</td>\n",
       "    </tr>\n",
       "  </tbody>\n",
       "</table>\n",
       "</div>"
      ],
      "text/plain": [
       "         Date Category  Value   Product  Sales Region\n",
       "0  2023-01-01        A   28.0  Product1  754.0   East\n",
       "1  2023-01-02        B   39.0  Product3  110.0  North\n",
       "2  2023-01-03        C   32.0  Product2  398.0   East\n",
       "3  2023-01-04        B    8.0  Product1  522.0   East\n",
       "4  2023-01-05        B   26.0  Product3  869.0  North"
      ]
     },
     "execution_count": 41,
     "metadata": {},
     "output_type": "execute_result"
    }
   ],
   "source": [
    "df.head()"
   ]
  },
  {
   "cell_type": "code",
   "execution_count": 42,
   "metadata": {},
   "outputs": [
    {
     "data": {
      "text/html": [
       "<div>\n",
       "<style scoped>\n",
       "    .dataframe tbody tr th:only-of-type {\n",
       "        vertical-align: middle;\n",
       "    }\n",
       "\n",
       "    .dataframe tbody tr th {\n",
       "        vertical-align: top;\n",
       "    }\n",
       "\n",
       "    .dataframe thead th {\n",
       "        text-align: right;\n",
       "    }\n",
       "</style>\n",
       "<table border=\"1\" class=\"dataframe\">\n",
       "  <thead>\n",
       "    <tr style=\"text-align: right;\">\n",
       "      <th></th>\n",
       "      <th>Date</th>\n",
       "      <th>Category</th>\n",
       "      <th>Value</th>\n",
       "      <th>Product</th>\n",
       "      <th>Sales</th>\n",
       "      <th>Region</th>\n",
       "    </tr>\n",
       "  </thead>\n",
       "  <tbody>\n",
       "    <tr>\n",
       "      <th>45</th>\n",
       "      <td>2023-02-15</td>\n",
       "      <td>B</td>\n",
       "      <td>99.0</td>\n",
       "      <td>Product2</td>\n",
       "      <td>599.0</td>\n",
       "      <td>West</td>\n",
       "    </tr>\n",
       "    <tr>\n",
       "      <th>46</th>\n",
       "      <td>2023-02-16</td>\n",
       "      <td>B</td>\n",
       "      <td>6.0</td>\n",
       "      <td>Product1</td>\n",
       "      <td>938.0</td>\n",
       "      <td>South</td>\n",
       "    </tr>\n",
       "    <tr>\n",
       "      <th>47</th>\n",
       "      <td>2023-02-17</td>\n",
       "      <td>B</td>\n",
       "      <td>69.0</td>\n",
       "      <td>Product3</td>\n",
       "      <td>143.0</td>\n",
       "      <td>West</td>\n",
       "    </tr>\n",
       "    <tr>\n",
       "      <th>48</th>\n",
       "      <td>2023-02-18</td>\n",
       "      <td>C</td>\n",
       "      <td>65.0</td>\n",
       "      <td>Product3</td>\n",
       "      <td>182.0</td>\n",
       "      <td>North</td>\n",
       "    </tr>\n",
       "    <tr>\n",
       "      <th>49</th>\n",
       "      <td>2023-02-19</td>\n",
       "      <td>C</td>\n",
       "      <td>11.0</td>\n",
       "      <td>Product3</td>\n",
       "      <td>708.0</td>\n",
       "      <td>North</td>\n",
       "    </tr>\n",
       "  </tbody>\n",
       "</table>\n",
       "</div>"
      ],
      "text/plain": [
       "          Date Category  Value   Product  Sales Region\n",
       "45  2023-02-15        B   99.0  Product2  599.0   West\n",
       "46  2023-02-16        B    6.0  Product1  938.0  South\n",
       "47  2023-02-17        B   69.0  Product3  143.0   West\n",
       "48  2023-02-18        C   65.0  Product3  182.0  North\n",
       "49  2023-02-19        C   11.0  Product3  708.0  North"
      ]
     },
     "execution_count": 42,
     "metadata": {},
     "output_type": "execute_result"
    }
   ],
   "source": [
    "df.tail()"
   ]
  },
  {
   "cell_type": "code",
   "execution_count": 43,
   "metadata": {},
   "outputs": [
    {
     "data": {
      "text/html": [
       "<div>\n",
       "<style scoped>\n",
       "    .dataframe tbody tr th:only-of-type {\n",
       "        vertical-align: middle;\n",
       "    }\n",
       "\n",
       "    .dataframe tbody tr th {\n",
       "        vertical-align: top;\n",
       "    }\n",
       "\n",
       "    .dataframe thead th {\n",
       "        text-align: right;\n",
       "    }\n",
       "</style>\n",
       "<table border=\"1\" class=\"dataframe\">\n",
       "  <thead>\n",
       "    <tr style=\"text-align: right;\">\n",
       "      <th></th>\n",
       "      <th>Value</th>\n",
       "      <th>Sales</th>\n",
       "    </tr>\n",
       "  </thead>\n",
       "  <tbody>\n",
       "    <tr>\n",
       "      <th>count</th>\n",
       "      <td>47.000000</td>\n",
       "      <td>46.000000</td>\n",
       "    </tr>\n",
       "    <tr>\n",
       "      <th>mean</th>\n",
       "      <td>51.744681</td>\n",
       "      <td>557.130435</td>\n",
       "    </tr>\n",
       "    <tr>\n",
       "      <th>std</th>\n",
       "      <td>29.050532</td>\n",
       "      <td>274.598584</td>\n",
       "    </tr>\n",
       "    <tr>\n",
       "      <th>min</th>\n",
       "      <td>2.000000</td>\n",
       "      <td>108.000000</td>\n",
       "    </tr>\n",
       "    <tr>\n",
       "      <th>25%</th>\n",
       "      <td>27.500000</td>\n",
       "      <td>339.000000</td>\n",
       "    </tr>\n",
       "    <tr>\n",
       "      <th>50%</th>\n",
       "      <td>54.000000</td>\n",
       "      <td>591.500000</td>\n",
       "    </tr>\n",
       "    <tr>\n",
       "      <th>75%</th>\n",
       "      <td>70.000000</td>\n",
       "      <td>767.500000</td>\n",
       "    </tr>\n",
       "    <tr>\n",
       "      <th>max</th>\n",
       "      <td>99.000000</td>\n",
       "      <td>992.000000</td>\n",
       "    </tr>\n",
       "  </tbody>\n",
       "</table>\n",
       "</div>"
      ],
      "text/plain": [
       "           Value       Sales\n",
       "count  47.000000   46.000000\n",
       "mean   51.744681  557.130435\n",
       "std    29.050532  274.598584\n",
       "min     2.000000  108.000000\n",
       "25%    27.500000  339.000000\n",
       "50%    54.000000  591.500000\n",
       "75%    70.000000  767.500000\n",
       "max    99.000000  992.000000"
      ]
     },
     "execution_count": 43,
     "metadata": {},
     "output_type": "execute_result"
    }
   ],
   "source": [
    "df.describe()"
   ]
  },
  {
   "cell_type": "code",
   "execution_count": 44,
   "metadata": {},
   "outputs": [
    {
     "data": {
      "text/plain": [
       "Date         object\n",
       "Category     object\n",
       "Value       float64\n",
       "Product      object\n",
       "Sales       float64\n",
       "Region       object\n",
       "dtype: object"
      ]
     },
     "execution_count": 44,
     "metadata": {},
     "output_type": "execute_result"
    }
   ],
   "source": [
    "df.dtypes"
   ]
  },
  {
   "cell_type": "code",
   "execution_count": 45,
   "metadata": {},
   "outputs": [
    {
     "data": {
      "text/plain": [
       "<bound method DataFrame.info of           Date Category  Value   Product  Sales Region\n",
       "0   2023-01-01        A   28.0  Product1  754.0   East\n",
       "1   2023-01-02        B   39.0  Product3  110.0  North\n",
       "2   2023-01-03        C   32.0  Product2  398.0   East\n",
       "3   2023-01-04        B    8.0  Product1  522.0   East\n",
       "4   2023-01-05        B   26.0  Product3  869.0  North\n",
       "5   2023-01-06        B   54.0  Product3  192.0   West\n",
       "6   2023-01-07        A   16.0  Product1  936.0   East\n",
       "7   2023-01-08        C   89.0  Product1  488.0   West\n",
       "8   2023-01-09        C   37.0  Product3  772.0   West\n",
       "9   2023-01-10        A   22.0  Product2  834.0   West\n",
       "10  2023-01-11        B    7.0  Product1  842.0  North\n",
       "11  2023-01-12        B   60.0  Product2    NaN   West\n",
       "12  2023-01-13        A   70.0  Product3  628.0  South\n",
       "13  2023-01-14        A   69.0  Product1  423.0   East\n",
       "14  2023-01-15        A   47.0  Product2  893.0   West\n",
       "15  2023-01-16        C    NaN  Product1  895.0  North\n",
       "16  2023-01-17        C   93.0  Product2  511.0  South\n",
       "17  2023-01-18        C    NaN  Product1  108.0   West\n",
       "18  2023-01-19        A   31.0  Product2  578.0   West\n",
       "19  2023-01-20        A   59.0  Product1  736.0   East\n",
       "20  2023-01-21        C   82.0  Product3  606.0  South\n",
       "21  2023-01-22        C   37.0  Product2  992.0  South\n",
       "22  2023-01-23        B   62.0  Product3  942.0  North\n",
       "23  2023-01-24        C   92.0  Product2  342.0   West\n",
       "24  2023-01-25        A   24.0  Product2  458.0   East\n",
       "25  2023-01-26        C   95.0  Product1  584.0   West\n",
       "26  2023-01-27        C   71.0  Product2  619.0  North\n",
       "27  2023-01-28        C   56.0  Product2  224.0  North\n",
       "28  2023-01-29        B    NaN  Product3  617.0  North\n",
       "29  2023-01-30        C   51.0  Product2  737.0  South\n",
       "30  2023-01-31        B   50.0  Product3  735.0   West\n",
       "31  2023-02-01        A   17.0  Product2  189.0   West\n",
       "32  2023-02-02        B   63.0  Product3  338.0  South\n",
       "33  2023-02-03        C   27.0  Product3    NaN   East\n",
       "34  2023-02-04        C   70.0  Product3  669.0   West\n",
       "35  2023-02-05        B   60.0  Product2    NaN   West\n",
       "36  2023-02-06        C   36.0  Product3  177.0   East\n",
       "37  2023-02-07        C    2.0  Product1    NaN  North\n",
       "38  2023-02-08        C   94.0  Product1  408.0  South\n",
       "39  2023-02-09        A   62.0  Product1  155.0   West\n",
       "40  2023-02-10        B   15.0  Product1  578.0   East\n",
       "41  2023-02-11        C   97.0  Product1  256.0   East\n",
       "42  2023-02-12        A   93.0  Product3  164.0   West\n",
       "43  2023-02-13        A   43.0  Product3  949.0   East\n",
       "44  2023-02-14        A   96.0  Product3  830.0   East\n",
       "45  2023-02-15        B   99.0  Product2  599.0   West\n",
       "46  2023-02-16        B    6.0  Product1  938.0  South\n",
       "47  2023-02-17        B   69.0  Product3  143.0   West\n",
       "48  2023-02-18        C   65.0  Product3  182.0  North\n",
       "49  2023-02-19        C   11.0  Product3  708.0  North>"
      ]
     },
     "execution_count": 45,
     "metadata": {},
     "output_type": "execute_result"
    }
   ],
   "source": [
    "df.info"
   ]
  },
  {
   "cell_type": "code",
   "execution_count": 50,
   "metadata": {},
   "outputs": [
    {
     "data": {
      "text/plain": [
       "Date        0\n",
       "Category    0\n",
       "Value       3\n",
       "Product     0\n",
       "Sales       4\n",
       "Region      0\n",
       "dtype: int64"
      ]
     },
     "execution_count": 50,
     "metadata": {},
     "output_type": "execute_result"
    }
   ],
   "source": [
    "df.isnull().sum()"
   ]
  },
  {
   "cell_type": "code",
   "execution_count": 47,
   "metadata": {},
   "outputs": [
    {
     "data": {
      "text/plain": [
       "Date        0\n",
       "Category    0\n",
       "Value       3\n",
       "Product     0\n",
       "Sales       4\n",
       "Region      0\n",
       "dtype: int64"
      ]
     },
     "execution_count": 47,
     "metadata": {},
     "output_type": "execute_result"
    }
   ],
   "source": [
    "df.isna().sum()"
   ]
  },
  {
   "cell_type": "code",
   "execution_count": 51,
   "metadata": {},
   "outputs": [
    {
     "data": {
      "text/plain": [
       "Date        False\n",
       "Category    False\n",
       "Value        True\n",
       "Product     False\n",
       "Sales        True\n",
       "Region      False\n",
       "dtype: bool"
      ]
     },
     "execution_count": 51,
     "metadata": {},
     "output_type": "execute_result"
    }
   ],
   "source": [
    "df.isnull().any()"
   ]
  },
  {
   "cell_type": "code",
   "execution_count": 52,
   "metadata": {},
   "outputs": [
    {
     "data": {
      "text/plain": [
       "Date        False\n",
       "Category    False\n",
       "Value        True\n",
       "Product     False\n",
       "Sales        True\n",
       "Region      False\n",
       "dtype: bool"
      ]
     },
     "execution_count": 52,
     "metadata": {},
     "output_type": "execute_result"
    }
   ],
   "source": [
    "df.isna().any()"
   ]
  },
  {
   "cell_type": "code",
   "execution_count": 53,
   "metadata": {},
   "outputs": [
    {
     "data": {
      "text/html": [
       "<div>\n",
       "<style scoped>\n",
       "    .dataframe tbody tr th:only-of-type {\n",
       "        vertical-align: middle;\n",
       "    }\n",
       "\n",
       "    .dataframe tbody tr th {\n",
       "        vertical-align: top;\n",
       "    }\n",
       "\n",
       "    .dataframe thead th {\n",
       "        text-align: right;\n",
       "    }\n",
       "</style>\n",
       "<table border=\"1\" class=\"dataframe\">\n",
       "  <thead>\n",
       "    <tr style=\"text-align: right;\">\n",
       "      <th></th>\n",
       "      <th>Date</th>\n",
       "      <th>Category</th>\n",
       "      <th>Value</th>\n",
       "      <th>Product</th>\n",
       "      <th>Sales</th>\n",
       "      <th>Region</th>\n",
       "      <th>Value_fillna</th>\n",
       "    </tr>\n",
       "  </thead>\n",
       "  <tbody>\n",
       "    <tr>\n",
       "      <th>0</th>\n",
       "      <td>2023-01-01</td>\n",
       "      <td>A</td>\n",
       "      <td>28.0</td>\n",
       "      <td>Product1</td>\n",
       "      <td>754.0</td>\n",
       "      <td>East</td>\n",
       "      <td>28.000000</td>\n",
       "    </tr>\n",
       "    <tr>\n",
       "      <th>1</th>\n",
       "      <td>2023-01-02</td>\n",
       "      <td>B</td>\n",
       "      <td>39.0</td>\n",
       "      <td>Product3</td>\n",
       "      <td>110.0</td>\n",
       "      <td>North</td>\n",
       "      <td>39.000000</td>\n",
       "    </tr>\n",
       "    <tr>\n",
       "      <th>2</th>\n",
       "      <td>2023-01-03</td>\n",
       "      <td>C</td>\n",
       "      <td>32.0</td>\n",
       "      <td>Product2</td>\n",
       "      <td>398.0</td>\n",
       "      <td>East</td>\n",
       "      <td>32.000000</td>\n",
       "    </tr>\n",
       "    <tr>\n",
       "      <th>3</th>\n",
       "      <td>2023-01-04</td>\n",
       "      <td>B</td>\n",
       "      <td>8.0</td>\n",
       "      <td>Product1</td>\n",
       "      <td>522.0</td>\n",
       "      <td>East</td>\n",
       "      <td>8.000000</td>\n",
       "    </tr>\n",
       "    <tr>\n",
       "      <th>4</th>\n",
       "      <td>2023-01-05</td>\n",
       "      <td>B</td>\n",
       "      <td>26.0</td>\n",
       "      <td>Product3</td>\n",
       "      <td>869.0</td>\n",
       "      <td>North</td>\n",
       "      <td>26.000000</td>\n",
       "    </tr>\n",
       "    <tr>\n",
       "      <th>5</th>\n",
       "      <td>2023-01-06</td>\n",
       "      <td>B</td>\n",
       "      <td>54.0</td>\n",
       "      <td>Product3</td>\n",
       "      <td>192.0</td>\n",
       "      <td>West</td>\n",
       "      <td>54.000000</td>\n",
       "    </tr>\n",
       "    <tr>\n",
       "      <th>6</th>\n",
       "      <td>2023-01-07</td>\n",
       "      <td>A</td>\n",
       "      <td>16.0</td>\n",
       "      <td>Product1</td>\n",
       "      <td>936.0</td>\n",
       "      <td>East</td>\n",
       "      <td>16.000000</td>\n",
       "    </tr>\n",
       "    <tr>\n",
       "      <th>7</th>\n",
       "      <td>2023-01-08</td>\n",
       "      <td>C</td>\n",
       "      <td>89.0</td>\n",
       "      <td>Product1</td>\n",
       "      <td>488.0</td>\n",
       "      <td>West</td>\n",
       "      <td>89.000000</td>\n",
       "    </tr>\n",
       "    <tr>\n",
       "      <th>8</th>\n",
       "      <td>2023-01-09</td>\n",
       "      <td>C</td>\n",
       "      <td>37.0</td>\n",
       "      <td>Product3</td>\n",
       "      <td>772.0</td>\n",
       "      <td>West</td>\n",
       "      <td>37.000000</td>\n",
       "    </tr>\n",
       "    <tr>\n",
       "      <th>9</th>\n",
       "      <td>2023-01-10</td>\n",
       "      <td>A</td>\n",
       "      <td>22.0</td>\n",
       "      <td>Product2</td>\n",
       "      <td>834.0</td>\n",
       "      <td>West</td>\n",
       "      <td>22.000000</td>\n",
       "    </tr>\n",
       "    <tr>\n",
       "      <th>10</th>\n",
       "      <td>2023-01-11</td>\n",
       "      <td>B</td>\n",
       "      <td>7.0</td>\n",
       "      <td>Product1</td>\n",
       "      <td>842.0</td>\n",
       "      <td>North</td>\n",
       "      <td>7.000000</td>\n",
       "    </tr>\n",
       "    <tr>\n",
       "      <th>11</th>\n",
       "      <td>2023-01-12</td>\n",
       "      <td>B</td>\n",
       "      <td>60.0</td>\n",
       "      <td>Product2</td>\n",
       "      <td>NaN</td>\n",
       "      <td>West</td>\n",
       "      <td>60.000000</td>\n",
       "    </tr>\n",
       "    <tr>\n",
       "      <th>12</th>\n",
       "      <td>2023-01-13</td>\n",
       "      <td>A</td>\n",
       "      <td>70.0</td>\n",
       "      <td>Product3</td>\n",
       "      <td>628.0</td>\n",
       "      <td>South</td>\n",
       "      <td>70.000000</td>\n",
       "    </tr>\n",
       "    <tr>\n",
       "      <th>13</th>\n",
       "      <td>2023-01-14</td>\n",
       "      <td>A</td>\n",
       "      <td>69.0</td>\n",
       "      <td>Product1</td>\n",
       "      <td>423.0</td>\n",
       "      <td>East</td>\n",
       "      <td>69.000000</td>\n",
       "    </tr>\n",
       "    <tr>\n",
       "      <th>14</th>\n",
       "      <td>2023-01-15</td>\n",
       "      <td>A</td>\n",
       "      <td>47.0</td>\n",
       "      <td>Product2</td>\n",
       "      <td>893.0</td>\n",
       "      <td>West</td>\n",
       "      <td>47.000000</td>\n",
       "    </tr>\n",
       "    <tr>\n",
       "      <th>15</th>\n",
       "      <td>2023-01-16</td>\n",
       "      <td>C</td>\n",
       "      <td>NaN</td>\n",
       "      <td>Product1</td>\n",
       "      <td>895.0</td>\n",
       "      <td>North</td>\n",
       "      <td>51.744681</td>\n",
       "    </tr>\n",
       "    <tr>\n",
       "      <th>16</th>\n",
       "      <td>2023-01-17</td>\n",
       "      <td>C</td>\n",
       "      <td>93.0</td>\n",
       "      <td>Product2</td>\n",
       "      <td>511.0</td>\n",
       "      <td>South</td>\n",
       "      <td>93.000000</td>\n",
       "    </tr>\n",
       "    <tr>\n",
       "      <th>17</th>\n",
       "      <td>2023-01-18</td>\n",
       "      <td>C</td>\n",
       "      <td>NaN</td>\n",
       "      <td>Product1</td>\n",
       "      <td>108.0</td>\n",
       "      <td>West</td>\n",
       "      <td>51.744681</td>\n",
       "    </tr>\n",
       "    <tr>\n",
       "      <th>18</th>\n",
       "      <td>2023-01-19</td>\n",
       "      <td>A</td>\n",
       "      <td>31.0</td>\n",
       "      <td>Product2</td>\n",
       "      <td>578.0</td>\n",
       "      <td>West</td>\n",
       "      <td>31.000000</td>\n",
       "    </tr>\n",
       "    <tr>\n",
       "      <th>19</th>\n",
       "      <td>2023-01-20</td>\n",
       "      <td>A</td>\n",
       "      <td>59.0</td>\n",
       "      <td>Product1</td>\n",
       "      <td>736.0</td>\n",
       "      <td>East</td>\n",
       "      <td>59.000000</td>\n",
       "    </tr>\n",
       "    <tr>\n",
       "      <th>20</th>\n",
       "      <td>2023-01-21</td>\n",
       "      <td>C</td>\n",
       "      <td>82.0</td>\n",
       "      <td>Product3</td>\n",
       "      <td>606.0</td>\n",
       "      <td>South</td>\n",
       "      <td>82.000000</td>\n",
       "    </tr>\n",
       "    <tr>\n",
       "      <th>21</th>\n",
       "      <td>2023-01-22</td>\n",
       "      <td>C</td>\n",
       "      <td>37.0</td>\n",
       "      <td>Product2</td>\n",
       "      <td>992.0</td>\n",
       "      <td>South</td>\n",
       "      <td>37.000000</td>\n",
       "    </tr>\n",
       "    <tr>\n",
       "      <th>22</th>\n",
       "      <td>2023-01-23</td>\n",
       "      <td>B</td>\n",
       "      <td>62.0</td>\n",
       "      <td>Product3</td>\n",
       "      <td>942.0</td>\n",
       "      <td>North</td>\n",
       "      <td>62.000000</td>\n",
       "    </tr>\n",
       "    <tr>\n",
       "      <th>23</th>\n",
       "      <td>2023-01-24</td>\n",
       "      <td>C</td>\n",
       "      <td>92.0</td>\n",
       "      <td>Product2</td>\n",
       "      <td>342.0</td>\n",
       "      <td>West</td>\n",
       "      <td>92.000000</td>\n",
       "    </tr>\n",
       "    <tr>\n",
       "      <th>24</th>\n",
       "      <td>2023-01-25</td>\n",
       "      <td>A</td>\n",
       "      <td>24.0</td>\n",
       "      <td>Product2</td>\n",
       "      <td>458.0</td>\n",
       "      <td>East</td>\n",
       "      <td>24.000000</td>\n",
       "    </tr>\n",
       "    <tr>\n",
       "      <th>25</th>\n",
       "      <td>2023-01-26</td>\n",
       "      <td>C</td>\n",
       "      <td>95.0</td>\n",
       "      <td>Product1</td>\n",
       "      <td>584.0</td>\n",
       "      <td>West</td>\n",
       "      <td>95.000000</td>\n",
       "    </tr>\n",
       "    <tr>\n",
       "      <th>26</th>\n",
       "      <td>2023-01-27</td>\n",
       "      <td>C</td>\n",
       "      <td>71.0</td>\n",
       "      <td>Product2</td>\n",
       "      <td>619.0</td>\n",
       "      <td>North</td>\n",
       "      <td>71.000000</td>\n",
       "    </tr>\n",
       "    <tr>\n",
       "      <th>27</th>\n",
       "      <td>2023-01-28</td>\n",
       "      <td>C</td>\n",
       "      <td>56.0</td>\n",
       "      <td>Product2</td>\n",
       "      <td>224.0</td>\n",
       "      <td>North</td>\n",
       "      <td>56.000000</td>\n",
       "    </tr>\n",
       "    <tr>\n",
       "      <th>28</th>\n",
       "      <td>2023-01-29</td>\n",
       "      <td>B</td>\n",
       "      <td>NaN</td>\n",
       "      <td>Product3</td>\n",
       "      <td>617.0</td>\n",
       "      <td>North</td>\n",
       "      <td>51.744681</td>\n",
       "    </tr>\n",
       "    <tr>\n",
       "      <th>29</th>\n",
       "      <td>2023-01-30</td>\n",
       "      <td>C</td>\n",
       "      <td>51.0</td>\n",
       "      <td>Product2</td>\n",
       "      <td>737.0</td>\n",
       "      <td>South</td>\n",
       "      <td>51.000000</td>\n",
       "    </tr>\n",
       "    <tr>\n",
       "      <th>30</th>\n",
       "      <td>2023-01-31</td>\n",
       "      <td>B</td>\n",
       "      <td>50.0</td>\n",
       "      <td>Product3</td>\n",
       "      <td>735.0</td>\n",
       "      <td>West</td>\n",
       "      <td>50.000000</td>\n",
       "    </tr>\n",
       "    <tr>\n",
       "      <th>31</th>\n",
       "      <td>2023-02-01</td>\n",
       "      <td>A</td>\n",
       "      <td>17.0</td>\n",
       "      <td>Product2</td>\n",
       "      <td>189.0</td>\n",
       "      <td>West</td>\n",
       "      <td>17.000000</td>\n",
       "    </tr>\n",
       "    <tr>\n",
       "      <th>32</th>\n",
       "      <td>2023-02-02</td>\n",
       "      <td>B</td>\n",
       "      <td>63.0</td>\n",
       "      <td>Product3</td>\n",
       "      <td>338.0</td>\n",
       "      <td>South</td>\n",
       "      <td>63.000000</td>\n",
       "    </tr>\n",
       "    <tr>\n",
       "      <th>33</th>\n",
       "      <td>2023-02-03</td>\n",
       "      <td>C</td>\n",
       "      <td>27.0</td>\n",
       "      <td>Product3</td>\n",
       "      <td>NaN</td>\n",
       "      <td>East</td>\n",
       "      <td>27.000000</td>\n",
       "    </tr>\n",
       "    <tr>\n",
       "      <th>34</th>\n",
       "      <td>2023-02-04</td>\n",
       "      <td>C</td>\n",
       "      <td>70.0</td>\n",
       "      <td>Product3</td>\n",
       "      <td>669.0</td>\n",
       "      <td>West</td>\n",
       "      <td>70.000000</td>\n",
       "    </tr>\n",
       "    <tr>\n",
       "      <th>35</th>\n",
       "      <td>2023-02-05</td>\n",
       "      <td>B</td>\n",
       "      <td>60.0</td>\n",
       "      <td>Product2</td>\n",
       "      <td>NaN</td>\n",
       "      <td>West</td>\n",
       "      <td>60.000000</td>\n",
       "    </tr>\n",
       "    <tr>\n",
       "      <th>36</th>\n",
       "      <td>2023-02-06</td>\n",
       "      <td>C</td>\n",
       "      <td>36.0</td>\n",
       "      <td>Product3</td>\n",
       "      <td>177.0</td>\n",
       "      <td>East</td>\n",
       "      <td>36.000000</td>\n",
       "    </tr>\n",
       "    <tr>\n",
       "      <th>37</th>\n",
       "      <td>2023-02-07</td>\n",
       "      <td>C</td>\n",
       "      <td>2.0</td>\n",
       "      <td>Product1</td>\n",
       "      <td>NaN</td>\n",
       "      <td>North</td>\n",
       "      <td>2.000000</td>\n",
       "    </tr>\n",
       "    <tr>\n",
       "      <th>38</th>\n",
       "      <td>2023-02-08</td>\n",
       "      <td>C</td>\n",
       "      <td>94.0</td>\n",
       "      <td>Product1</td>\n",
       "      <td>408.0</td>\n",
       "      <td>South</td>\n",
       "      <td>94.000000</td>\n",
       "    </tr>\n",
       "    <tr>\n",
       "      <th>39</th>\n",
       "      <td>2023-02-09</td>\n",
       "      <td>A</td>\n",
       "      <td>62.0</td>\n",
       "      <td>Product1</td>\n",
       "      <td>155.0</td>\n",
       "      <td>West</td>\n",
       "      <td>62.000000</td>\n",
       "    </tr>\n",
       "    <tr>\n",
       "      <th>40</th>\n",
       "      <td>2023-02-10</td>\n",
       "      <td>B</td>\n",
       "      <td>15.0</td>\n",
       "      <td>Product1</td>\n",
       "      <td>578.0</td>\n",
       "      <td>East</td>\n",
       "      <td>15.000000</td>\n",
       "    </tr>\n",
       "    <tr>\n",
       "      <th>41</th>\n",
       "      <td>2023-02-11</td>\n",
       "      <td>C</td>\n",
       "      <td>97.0</td>\n",
       "      <td>Product1</td>\n",
       "      <td>256.0</td>\n",
       "      <td>East</td>\n",
       "      <td>97.000000</td>\n",
       "    </tr>\n",
       "    <tr>\n",
       "      <th>42</th>\n",
       "      <td>2023-02-12</td>\n",
       "      <td>A</td>\n",
       "      <td>93.0</td>\n",
       "      <td>Product3</td>\n",
       "      <td>164.0</td>\n",
       "      <td>West</td>\n",
       "      <td>93.000000</td>\n",
       "    </tr>\n",
       "    <tr>\n",
       "      <th>43</th>\n",
       "      <td>2023-02-13</td>\n",
       "      <td>A</td>\n",
       "      <td>43.0</td>\n",
       "      <td>Product3</td>\n",
       "      <td>949.0</td>\n",
       "      <td>East</td>\n",
       "      <td>43.000000</td>\n",
       "    </tr>\n",
       "    <tr>\n",
       "      <th>44</th>\n",
       "      <td>2023-02-14</td>\n",
       "      <td>A</td>\n",
       "      <td>96.0</td>\n",
       "      <td>Product3</td>\n",
       "      <td>830.0</td>\n",
       "      <td>East</td>\n",
       "      <td>96.000000</td>\n",
       "    </tr>\n",
       "    <tr>\n",
       "      <th>45</th>\n",
       "      <td>2023-02-15</td>\n",
       "      <td>B</td>\n",
       "      <td>99.0</td>\n",
       "      <td>Product2</td>\n",
       "      <td>599.0</td>\n",
       "      <td>West</td>\n",
       "      <td>99.000000</td>\n",
       "    </tr>\n",
       "    <tr>\n",
       "      <th>46</th>\n",
       "      <td>2023-02-16</td>\n",
       "      <td>B</td>\n",
       "      <td>6.0</td>\n",
       "      <td>Product1</td>\n",
       "      <td>938.0</td>\n",
       "      <td>South</td>\n",
       "      <td>6.000000</td>\n",
       "    </tr>\n",
       "    <tr>\n",
       "      <th>47</th>\n",
       "      <td>2023-02-17</td>\n",
       "      <td>B</td>\n",
       "      <td>69.0</td>\n",
       "      <td>Product3</td>\n",
       "      <td>143.0</td>\n",
       "      <td>West</td>\n",
       "      <td>69.000000</td>\n",
       "    </tr>\n",
       "    <tr>\n",
       "      <th>48</th>\n",
       "      <td>2023-02-18</td>\n",
       "      <td>C</td>\n",
       "      <td>65.0</td>\n",
       "      <td>Product3</td>\n",
       "      <td>182.0</td>\n",
       "      <td>North</td>\n",
       "      <td>65.000000</td>\n",
       "    </tr>\n",
       "    <tr>\n",
       "      <th>49</th>\n",
       "      <td>2023-02-19</td>\n",
       "      <td>C</td>\n",
       "      <td>11.0</td>\n",
       "      <td>Product3</td>\n",
       "      <td>708.0</td>\n",
       "      <td>North</td>\n",
       "      <td>11.000000</td>\n",
       "    </tr>\n",
       "  </tbody>\n",
       "</table>\n",
       "</div>"
      ],
      "text/plain": [
       "          Date Category  Value   Product  Sales Region  Value_fillna\n",
       "0   2023-01-01        A   28.0  Product1  754.0   East     28.000000\n",
       "1   2023-01-02        B   39.0  Product3  110.0  North     39.000000\n",
       "2   2023-01-03        C   32.0  Product2  398.0   East     32.000000\n",
       "3   2023-01-04        B    8.0  Product1  522.0   East      8.000000\n",
       "4   2023-01-05        B   26.0  Product3  869.0  North     26.000000\n",
       "5   2023-01-06        B   54.0  Product3  192.0   West     54.000000\n",
       "6   2023-01-07        A   16.0  Product1  936.0   East     16.000000\n",
       "7   2023-01-08        C   89.0  Product1  488.0   West     89.000000\n",
       "8   2023-01-09        C   37.0  Product3  772.0   West     37.000000\n",
       "9   2023-01-10        A   22.0  Product2  834.0   West     22.000000\n",
       "10  2023-01-11        B    7.0  Product1  842.0  North      7.000000\n",
       "11  2023-01-12        B   60.0  Product2    NaN   West     60.000000\n",
       "12  2023-01-13        A   70.0  Product3  628.0  South     70.000000\n",
       "13  2023-01-14        A   69.0  Product1  423.0   East     69.000000\n",
       "14  2023-01-15        A   47.0  Product2  893.0   West     47.000000\n",
       "15  2023-01-16        C    NaN  Product1  895.0  North     51.744681\n",
       "16  2023-01-17        C   93.0  Product2  511.0  South     93.000000\n",
       "17  2023-01-18        C    NaN  Product1  108.0   West     51.744681\n",
       "18  2023-01-19        A   31.0  Product2  578.0   West     31.000000\n",
       "19  2023-01-20        A   59.0  Product1  736.0   East     59.000000\n",
       "20  2023-01-21        C   82.0  Product3  606.0  South     82.000000\n",
       "21  2023-01-22        C   37.0  Product2  992.0  South     37.000000\n",
       "22  2023-01-23        B   62.0  Product3  942.0  North     62.000000\n",
       "23  2023-01-24        C   92.0  Product2  342.0   West     92.000000\n",
       "24  2023-01-25        A   24.0  Product2  458.0   East     24.000000\n",
       "25  2023-01-26        C   95.0  Product1  584.0   West     95.000000\n",
       "26  2023-01-27        C   71.0  Product2  619.0  North     71.000000\n",
       "27  2023-01-28        C   56.0  Product2  224.0  North     56.000000\n",
       "28  2023-01-29        B    NaN  Product3  617.0  North     51.744681\n",
       "29  2023-01-30        C   51.0  Product2  737.0  South     51.000000\n",
       "30  2023-01-31        B   50.0  Product3  735.0   West     50.000000\n",
       "31  2023-02-01        A   17.0  Product2  189.0   West     17.000000\n",
       "32  2023-02-02        B   63.0  Product3  338.0  South     63.000000\n",
       "33  2023-02-03        C   27.0  Product3    NaN   East     27.000000\n",
       "34  2023-02-04        C   70.0  Product3  669.0   West     70.000000\n",
       "35  2023-02-05        B   60.0  Product2    NaN   West     60.000000\n",
       "36  2023-02-06        C   36.0  Product3  177.0   East     36.000000\n",
       "37  2023-02-07        C    2.0  Product1    NaN  North      2.000000\n",
       "38  2023-02-08        C   94.0  Product1  408.0  South     94.000000\n",
       "39  2023-02-09        A   62.0  Product1  155.0   West     62.000000\n",
       "40  2023-02-10        B   15.0  Product1  578.0   East     15.000000\n",
       "41  2023-02-11        C   97.0  Product1  256.0   East     97.000000\n",
       "42  2023-02-12        A   93.0  Product3  164.0   West     93.000000\n",
       "43  2023-02-13        A   43.0  Product3  949.0   East     43.000000\n",
       "44  2023-02-14        A   96.0  Product3  830.0   East     96.000000\n",
       "45  2023-02-15        B   99.0  Product2  599.0   West     99.000000\n",
       "46  2023-02-16        B    6.0  Product1  938.0  South      6.000000\n",
       "47  2023-02-17        B   69.0  Product3  143.0   West     69.000000\n",
       "48  2023-02-18        C   65.0  Product3  182.0  North     65.000000\n",
       "49  2023-02-19        C   11.0  Product3  708.0  North     11.000000"
      ]
     },
     "execution_count": 53,
     "metadata": {},
     "output_type": "execute_result"
    }
   ],
   "source": [
    "## Filling the missing values with mean\n",
    "\n",
    "df[\"Value_fillna\"] = df[\"Value\"].fillna(df[\"Value\"].mean())\n",
    "df"
   ]
  },
  {
   "cell_type": "code",
   "execution_count": 54,
   "metadata": {},
   "outputs": [
    {
     "data": {
      "text/html": [
       "<div>\n",
       "<style scoped>\n",
       "    .dataframe tbody tr th:only-of-type {\n",
       "        vertical-align: middle;\n",
       "    }\n",
       "\n",
       "    .dataframe tbody tr th {\n",
       "        vertical-align: top;\n",
       "    }\n",
       "\n",
       "    .dataframe thead th {\n",
       "        text-align: right;\n",
       "    }\n",
       "</style>\n",
       "<table border=\"1\" class=\"dataframe\">\n",
       "  <thead>\n",
       "    <tr style=\"text-align: right;\">\n",
       "      <th></th>\n",
       "      <th>Date</th>\n",
       "      <th>Category</th>\n",
       "      <th>Value</th>\n",
       "      <th>Product</th>\n",
       "      <th>Sales</th>\n",
       "      <th>Region</th>\n",
       "      <th>Value_fillna</th>\n",
       "      <th>Sales_fillna</th>\n",
       "    </tr>\n",
       "  </thead>\n",
       "  <tbody>\n",
       "    <tr>\n",
       "      <th>0</th>\n",
       "      <td>2023-01-01</td>\n",
       "      <td>A</td>\n",
       "      <td>28.0</td>\n",
       "      <td>Product1</td>\n",
       "      <td>754.0</td>\n",
       "      <td>East</td>\n",
       "      <td>28.000000</td>\n",
       "      <td>754.0</td>\n",
       "    </tr>\n",
       "    <tr>\n",
       "      <th>1</th>\n",
       "      <td>2023-01-02</td>\n",
       "      <td>B</td>\n",
       "      <td>39.0</td>\n",
       "      <td>Product3</td>\n",
       "      <td>110.0</td>\n",
       "      <td>North</td>\n",
       "      <td>39.000000</td>\n",
       "      <td>110.0</td>\n",
       "    </tr>\n",
       "    <tr>\n",
       "      <th>2</th>\n",
       "      <td>2023-01-03</td>\n",
       "      <td>C</td>\n",
       "      <td>32.0</td>\n",
       "      <td>Product2</td>\n",
       "      <td>398.0</td>\n",
       "      <td>East</td>\n",
       "      <td>32.000000</td>\n",
       "      <td>398.0</td>\n",
       "    </tr>\n",
       "    <tr>\n",
       "      <th>3</th>\n",
       "      <td>2023-01-04</td>\n",
       "      <td>B</td>\n",
       "      <td>8.0</td>\n",
       "      <td>Product1</td>\n",
       "      <td>522.0</td>\n",
       "      <td>East</td>\n",
       "      <td>8.000000</td>\n",
       "      <td>522.0</td>\n",
       "    </tr>\n",
       "    <tr>\n",
       "      <th>4</th>\n",
       "      <td>2023-01-05</td>\n",
       "      <td>B</td>\n",
       "      <td>26.0</td>\n",
       "      <td>Product3</td>\n",
       "      <td>869.0</td>\n",
       "      <td>North</td>\n",
       "      <td>26.000000</td>\n",
       "      <td>869.0</td>\n",
       "    </tr>\n",
       "    <tr>\n",
       "      <th>5</th>\n",
       "      <td>2023-01-06</td>\n",
       "      <td>B</td>\n",
       "      <td>54.0</td>\n",
       "      <td>Product3</td>\n",
       "      <td>192.0</td>\n",
       "      <td>West</td>\n",
       "      <td>54.000000</td>\n",
       "      <td>192.0</td>\n",
       "    </tr>\n",
       "    <tr>\n",
       "      <th>6</th>\n",
       "      <td>2023-01-07</td>\n",
       "      <td>A</td>\n",
       "      <td>16.0</td>\n",
       "      <td>Product1</td>\n",
       "      <td>936.0</td>\n",
       "      <td>East</td>\n",
       "      <td>16.000000</td>\n",
       "      <td>936.0</td>\n",
       "    </tr>\n",
       "    <tr>\n",
       "      <th>7</th>\n",
       "      <td>2023-01-08</td>\n",
       "      <td>C</td>\n",
       "      <td>89.0</td>\n",
       "      <td>Product1</td>\n",
       "      <td>488.0</td>\n",
       "      <td>West</td>\n",
       "      <td>89.000000</td>\n",
       "      <td>488.0</td>\n",
       "    </tr>\n",
       "    <tr>\n",
       "      <th>8</th>\n",
       "      <td>2023-01-09</td>\n",
       "      <td>C</td>\n",
       "      <td>37.0</td>\n",
       "      <td>Product3</td>\n",
       "      <td>772.0</td>\n",
       "      <td>West</td>\n",
       "      <td>37.000000</td>\n",
       "      <td>772.0</td>\n",
       "    </tr>\n",
       "    <tr>\n",
       "      <th>9</th>\n",
       "      <td>2023-01-10</td>\n",
       "      <td>A</td>\n",
       "      <td>22.0</td>\n",
       "      <td>Product2</td>\n",
       "      <td>834.0</td>\n",
       "      <td>West</td>\n",
       "      <td>22.000000</td>\n",
       "      <td>834.0</td>\n",
       "    </tr>\n",
       "    <tr>\n",
       "      <th>10</th>\n",
       "      <td>2023-01-11</td>\n",
       "      <td>B</td>\n",
       "      <td>7.0</td>\n",
       "      <td>Product1</td>\n",
       "      <td>842.0</td>\n",
       "      <td>North</td>\n",
       "      <td>7.000000</td>\n",
       "      <td>842.0</td>\n",
       "    </tr>\n",
       "    <tr>\n",
       "      <th>11</th>\n",
       "      <td>2023-01-12</td>\n",
       "      <td>B</td>\n",
       "      <td>60.0</td>\n",
       "      <td>Product2</td>\n",
       "      <td>NaN</td>\n",
       "      <td>West</td>\n",
       "      <td>60.000000</td>\n",
       "      <td>591.5</td>\n",
       "    </tr>\n",
       "    <tr>\n",
       "      <th>12</th>\n",
       "      <td>2023-01-13</td>\n",
       "      <td>A</td>\n",
       "      <td>70.0</td>\n",
       "      <td>Product3</td>\n",
       "      <td>628.0</td>\n",
       "      <td>South</td>\n",
       "      <td>70.000000</td>\n",
       "      <td>628.0</td>\n",
       "    </tr>\n",
       "    <tr>\n",
       "      <th>13</th>\n",
       "      <td>2023-01-14</td>\n",
       "      <td>A</td>\n",
       "      <td>69.0</td>\n",
       "      <td>Product1</td>\n",
       "      <td>423.0</td>\n",
       "      <td>East</td>\n",
       "      <td>69.000000</td>\n",
       "      <td>423.0</td>\n",
       "    </tr>\n",
       "    <tr>\n",
       "      <th>14</th>\n",
       "      <td>2023-01-15</td>\n",
       "      <td>A</td>\n",
       "      <td>47.0</td>\n",
       "      <td>Product2</td>\n",
       "      <td>893.0</td>\n",
       "      <td>West</td>\n",
       "      <td>47.000000</td>\n",
       "      <td>893.0</td>\n",
       "    </tr>\n",
       "    <tr>\n",
       "      <th>15</th>\n",
       "      <td>2023-01-16</td>\n",
       "      <td>C</td>\n",
       "      <td>NaN</td>\n",
       "      <td>Product1</td>\n",
       "      <td>895.0</td>\n",
       "      <td>North</td>\n",
       "      <td>51.744681</td>\n",
       "      <td>895.0</td>\n",
       "    </tr>\n",
       "    <tr>\n",
       "      <th>16</th>\n",
       "      <td>2023-01-17</td>\n",
       "      <td>C</td>\n",
       "      <td>93.0</td>\n",
       "      <td>Product2</td>\n",
       "      <td>511.0</td>\n",
       "      <td>South</td>\n",
       "      <td>93.000000</td>\n",
       "      <td>511.0</td>\n",
       "    </tr>\n",
       "    <tr>\n",
       "      <th>17</th>\n",
       "      <td>2023-01-18</td>\n",
       "      <td>C</td>\n",
       "      <td>NaN</td>\n",
       "      <td>Product1</td>\n",
       "      <td>108.0</td>\n",
       "      <td>West</td>\n",
       "      <td>51.744681</td>\n",
       "      <td>108.0</td>\n",
       "    </tr>\n",
       "    <tr>\n",
       "      <th>18</th>\n",
       "      <td>2023-01-19</td>\n",
       "      <td>A</td>\n",
       "      <td>31.0</td>\n",
       "      <td>Product2</td>\n",
       "      <td>578.0</td>\n",
       "      <td>West</td>\n",
       "      <td>31.000000</td>\n",
       "      <td>578.0</td>\n",
       "    </tr>\n",
       "    <tr>\n",
       "      <th>19</th>\n",
       "      <td>2023-01-20</td>\n",
       "      <td>A</td>\n",
       "      <td>59.0</td>\n",
       "      <td>Product1</td>\n",
       "      <td>736.0</td>\n",
       "      <td>East</td>\n",
       "      <td>59.000000</td>\n",
       "      <td>736.0</td>\n",
       "    </tr>\n",
       "    <tr>\n",
       "      <th>20</th>\n",
       "      <td>2023-01-21</td>\n",
       "      <td>C</td>\n",
       "      <td>82.0</td>\n",
       "      <td>Product3</td>\n",
       "      <td>606.0</td>\n",
       "      <td>South</td>\n",
       "      <td>82.000000</td>\n",
       "      <td>606.0</td>\n",
       "    </tr>\n",
       "    <tr>\n",
       "      <th>21</th>\n",
       "      <td>2023-01-22</td>\n",
       "      <td>C</td>\n",
       "      <td>37.0</td>\n",
       "      <td>Product2</td>\n",
       "      <td>992.0</td>\n",
       "      <td>South</td>\n",
       "      <td>37.000000</td>\n",
       "      <td>992.0</td>\n",
       "    </tr>\n",
       "    <tr>\n",
       "      <th>22</th>\n",
       "      <td>2023-01-23</td>\n",
       "      <td>B</td>\n",
       "      <td>62.0</td>\n",
       "      <td>Product3</td>\n",
       "      <td>942.0</td>\n",
       "      <td>North</td>\n",
       "      <td>62.000000</td>\n",
       "      <td>942.0</td>\n",
       "    </tr>\n",
       "    <tr>\n",
       "      <th>23</th>\n",
       "      <td>2023-01-24</td>\n",
       "      <td>C</td>\n",
       "      <td>92.0</td>\n",
       "      <td>Product2</td>\n",
       "      <td>342.0</td>\n",
       "      <td>West</td>\n",
       "      <td>92.000000</td>\n",
       "      <td>342.0</td>\n",
       "    </tr>\n",
       "    <tr>\n",
       "      <th>24</th>\n",
       "      <td>2023-01-25</td>\n",
       "      <td>A</td>\n",
       "      <td>24.0</td>\n",
       "      <td>Product2</td>\n",
       "      <td>458.0</td>\n",
       "      <td>East</td>\n",
       "      <td>24.000000</td>\n",
       "      <td>458.0</td>\n",
       "    </tr>\n",
       "    <tr>\n",
       "      <th>25</th>\n",
       "      <td>2023-01-26</td>\n",
       "      <td>C</td>\n",
       "      <td>95.0</td>\n",
       "      <td>Product1</td>\n",
       "      <td>584.0</td>\n",
       "      <td>West</td>\n",
       "      <td>95.000000</td>\n",
       "      <td>584.0</td>\n",
       "    </tr>\n",
       "    <tr>\n",
       "      <th>26</th>\n",
       "      <td>2023-01-27</td>\n",
       "      <td>C</td>\n",
       "      <td>71.0</td>\n",
       "      <td>Product2</td>\n",
       "      <td>619.0</td>\n",
       "      <td>North</td>\n",
       "      <td>71.000000</td>\n",
       "      <td>619.0</td>\n",
       "    </tr>\n",
       "    <tr>\n",
       "      <th>27</th>\n",
       "      <td>2023-01-28</td>\n",
       "      <td>C</td>\n",
       "      <td>56.0</td>\n",
       "      <td>Product2</td>\n",
       "      <td>224.0</td>\n",
       "      <td>North</td>\n",
       "      <td>56.000000</td>\n",
       "      <td>224.0</td>\n",
       "    </tr>\n",
       "    <tr>\n",
       "      <th>28</th>\n",
       "      <td>2023-01-29</td>\n",
       "      <td>B</td>\n",
       "      <td>NaN</td>\n",
       "      <td>Product3</td>\n",
       "      <td>617.0</td>\n",
       "      <td>North</td>\n",
       "      <td>51.744681</td>\n",
       "      <td>617.0</td>\n",
       "    </tr>\n",
       "    <tr>\n",
       "      <th>29</th>\n",
       "      <td>2023-01-30</td>\n",
       "      <td>C</td>\n",
       "      <td>51.0</td>\n",
       "      <td>Product2</td>\n",
       "      <td>737.0</td>\n",
       "      <td>South</td>\n",
       "      <td>51.000000</td>\n",
       "      <td>737.0</td>\n",
       "    </tr>\n",
       "    <tr>\n",
       "      <th>30</th>\n",
       "      <td>2023-01-31</td>\n",
       "      <td>B</td>\n",
       "      <td>50.0</td>\n",
       "      <td>Product3</td>\n",
       "      <td>735.0</td>\n",
       "      <td>West</td>\n",
       "      <td>50.000000</td>\n",
       "      <td>735.0</td>\n",
       "    </tr>\n",
       "    <tr>\n",
       "      <th>31</th>\n",
       "      <td>2023-02-01</td>\n",
       "      <td>A</td>\n",
       "      <td>17.0</td>\n",
       "      <td>Product2</td>\n",
       "      <td>189.0</td>\n",
       "      <td>West</td>\n",
       "      <td>17.000000</td>\n",
       "      <td>189.0</td>\n",
       "    </tr>\n",
       "    <tr>\n",
       "      <th>32</th>\n",
       "      <td>2023-02-02</td>\n",
       "      <td>B</td>\n",
       "      <td>63.0</td>\n",
       "      <td>Product3</td>\n",
       "      <td>338.0</td>\n",
       "      <td>South</td>\n",
       "      <td>63.000000</td>\n",
       "      <td>338.0</td>\n",
       "    </tr>\n",
       "    <tr>\n",
       "      <th>33</th>\n",
       "      <td>2023-02-03</td>\n",
       "      <td>C</td>\n",
       "      <td>27.0</td>\n",
       "      <td>Product3</td>\n",
       "      <td>NaN</td>\n",
       "      <td>East</td>\n",
       "      <td>27.000000</td>\n",
       "      <td>591.5</td>\n",
       "    </tr>\n",
       "    <tr>\n",
       "      <th>34</th>\n",
       "      <td>2023-02-04</td>\n",
       "      <td>C</td>\n",
       "      <td>70.0</td>\n",
       "      <td>Product3</td>\n",
       "      <td>669.0</td>\n",
       "      <td>West</td>\n",
       "      <td>70.000000</td>\n",
       "      <td>669.0</td>\n",
       "    </tr>\n",
       "    <tr>\n",
       "      <th>35</th>\n",
       "      <td>2023-02-05</td>\n",
       "      <td>B</td>\n",
       "      <td>60.0</td>\n",
       "      <td>Product2</td>\n",
       "      <td>NaN</td>\n",
       "      <td>West</td>\n",
       "      <td>60.000000</td>\n",
       "      <td>591.5</td>\n",
       "    </tr>\n",
       "    <tr>\n",
       "      <th>36</th>\n",
       "      <td>2023-02-06</td>\n",
       "      <td>C</td>\n",
       "      <td>36.0</td>\n",
       "      <td>Product3</td>\n",
       "      <td>177.0</td>\n",
       "      <td>East</td>\n",
       "      <td>36.000000</td>\n",
       "      <td>177.0</td>\n",
       "    </tr>\n",
       "    <tr>\n",
       "      <th>37</th>\n",
       "      <td>2023-02-07</td>\n",
       "      <td>C</td>\n",
       "      <td>2.0</td>\n",
       "      <td>Product1</td>\n",
       "      <td>NaN</td>\n",
       "      <td>North</td>\n",
       "      <td>2.000000</td>\n",
       "      <td>591.5</td>\n",
       "    </tr>\n",
       "    <tr>\n",
       "      <th>38</th>\n",
       "      <td>2023-02-08</td>\n",
       "      <td>C</td>\n",
       "      <td>94.0</td>\n",
       "      <td>Product1</td>\n",
       "      <td>408.0</td>\n",
       "      <td>South</td>\n",
       "      <td>94.000000</td>\n",
       "      <td>408.0</td>\n",
       "    </tr>\n",
       "    <tr>\n",
       "      <th>39</th>\n",
       "      <td>2023-02-09</td>\n",
       "      <td>A</td>\n",
       "      <td>62.0</td>\n",
       "      <td>Product1</td>\n",
       "      <td>155.0</td>\n",
       "      <td>West</td>\n",
       "      <td>62.000000</td>\n",
       "      <td>155.0</td>\n",
       "    </tr>\n",
       "    <tr>\n",
       "      <th>40</th>\n",
       "      <td>2023-02-10</td>\n",
       "      <td>B</td>\n",
       "      <td>15.0</td>\n",
       "      <td>Product1</td>\n",
       "      <td>578.0</td>\n",
       "      <td>East</td>\n",
       "      <td>15.000000</td>\n",
       "      <td>578.0</td>\n",
       "    </tr>\n",
       "    <tr>\n",
       "      <th>41</th>\n",
       "      <td>2023-02-11</td>\n",
       "      <td>C</td>\n",
       "      <td>97.0</td>\n",
       "      <td>Product1</td>\n",
       "      <td>256.0</td>\n",
       "      <td>East</td>\n",
       "      <td>97.000000</td>\n",
       "      <td>256.0</td>\n",
       "    </tr>\n",
       "    <tr>\n",
       "      <th>42</th>\n",
       "      <td>2023-02-12</td>\n",
       "      <td>A</td>\n",
       "      <td>93.0</td>\n",
       "      <td>Product3</td>\n",
       "      <td>164.0</td>\n",
       "      <td>West</td>\n",
       "      <td>93.000000</td>\n",
       "      <td>164.0</td>\n",
       "    </tr>\n",
       "    <tr>\n",
       "      <th>43</th>\n",
       "      <td>2023-02-13</td>\n",
       "      <td>A</td>\n",
       "      <td>43.0</td>\n",
       "      <td>Product3</td>\n",
       "      <td>949.0</td>\n",
       "      <td>East</td>\n",
       "      <td>43.000000</td>\n",
       "      <td>949.0</td>\n",
       "    </tr>\n",
       "    <tr>\n",
       "      <th>44</th>\n",
       "      <td>2023-02-14</td>\n",
       "      <td>A</td>\n",
       "      <td>96.0</td>\n",
       "      <td>Product3</td>\n",
       "      <td>830.0</td>\n",
       "      <td>East</td>\n",
       "      <td>96.000000</td>\n",
       "      <td>830.0</td>\n",
       "    </tr>\n",
       "    <tr>\n",
       "      <th>45</th>\n",
       "      <td>2023-02-15</td>\n",
       "      <td>B</td>\n",
       "      <td>99.0</td>\n",
       "      <td>Product2</td>\n",
       "      <td>599.0</td>\n",
       "      <td>West</td>\n",
       "      <td>99.000000</td>\n",
       "      <td>599.0</td>\n",
       "    </tr>\n",
       "    <tr>\n",
       "      <th>46</th>\n",
       "      <td>2023-02-16</td>\n",
       "      <td>B</td>\n",
       "      <td>6.0</td>\n",
       "      <td>Product1</td>\n",
       "      <td>938.0</td>\n",
       "      <td>South</td>\n",
       "      <td>6.000000</td>\n",
       "      <td>938.0</td>\n",
       "    </tr>\n",
       "    <tr>\n",
       "      <th>47</th>\n",
       "      <td>2023-02-17</td>\n",
       "      <td>B</td>\n",
       "      <td>69.0</td>\n",
       "      <td>Product3</td>\n",
       "      <td>143.0</td>\n",
       "      <td>West</td>\n",
       "      <td>69.000000</td>\n",
       "      <td>143.0</td>\n",
       "    </tr>\n",
       "    <tr>\n",
       "      <th>48</th>\n",
       "      <td>2023-02-18</td>\n",
       "      <td>C</td>\n",
       "      <td>65.0</td>\n",
       "      <td>Product3</td>\n",
       "      <td>182.0</td>\n",
       "      <td>North</td>\n",
       "      <td>65.000000</td>\n",
       "      <td>182.0</td>\n",
       "    </tr>\n",
       "    <tr>\n",
       "      <th>49</th>\n",
       "      <td>2023-02-19</td>\n",
       "      <td>C</td>\n",
       "      <td>11.0</td>\n",
       "      <td>Product3</td>\n",
       "      <td>708.0</td>\n",
       "      <td>North</td>\n",
       "      <td>11.000000</td>\n",
       "      <td>708.0</td>\n",
       "    </tr>\n",
       "  </tbody>\n",
       "</table>\n",
       "</div>"
      ],
      "text/plain": [
       "          Date Category  Value   Product  Sales Region  Value_fillna  \\\n",
       "0   2023-01-01        A   28.0  Product1  754.0   East     28.000000   \n",
       "1   2023-01-02        B   39.0  Product3  110.0  North     39.000000   \n",
       "2   2023-01-03        C   32.0  Product2  398.0   East     32.000000   \n",
       "3   2023-01-04        B    8.0  Product1  522.0   East      8.000000   \n",
       "4   2023-01-05        B   26.0  Product3  869.0  North     26.000000   \n",
       "5   2023-01-06        B   54.0  Product3  192.0   West     54.000000   \n",
       "6   2023-01-07        A   16.0  Product1  936.0   East     16.000000   \n",
       "7   2023-01-08        C   89.0  Product1  488.0   West     89.000000   \n",
       "8   2023-01-09        C   37.0  Product3  772.0   West     37.000000   \n",
       "9   2023-01-10        A   22.0  Product2  834.0   West     22.000000   \n",
       "10  2023-01-11        B    7.0  Product1  842.0  North      7.000000   \n",
       "11  2023-01-12        B   60.0  Product2    NaN   West     60.000000   \n",
       "12  2023-01-13        A   70.0  Product3  628.0  South     70.000000   \n",
       "13  2023-01-14        A   69.0  Product1  423.0   East     69.000000   \n",
       "14  2023-01-15        A   47.0  Product2  893.0   West     47.000000   \n",
       "15  2023-01-16        C    NaN  Product1  895.0  North     51.744681   \n",
       "16  2023-01-17        C   93.0  Product2  511.0  South     93.000000   \n",
       "17  2023-01-18        C    NaN  Product1  108.0   West     51.744681   \n",
       "18  2023-01-19        A   31.0  Product2  578.0   West     31.000000   \n",
       "19  2023-01-20        A   59.0  Product1  736.0   East     59.000000   \n",
       "20  2023-01-21        C   82.0  Product3  606.0  South     82.000000   \n",
       "21  2023-01-22        C   37.0  Product2  992.0  South     37.000000   \n",
       "22  2023-01-23        B   62.0  Product3  942.0  North     62.000000   \n",
       "23  2023-01-24        C   92.0  Product2  342.0   West     92.000000   \n",
       "24  2023-01-25        A   24.0  Product2  458.0   East     24.000000   \n",
       "25  2023-01-26        C   95.0  Product1  584.0   West     95.000000   \n",
       "26  2023-01-27        C   71.0  Product2  619.0  North     71.000000   \n",
       "27  2023-01-28        C   56.0  Product2  224.0  North     56.000000   \n",
       "28  2023-01-29        B    NaN  Product3  617.0  North     51.744681   \n",
       "29  2023-01-30        C   51.0  Product2  737.0  South     51.000000   \n",
       "30  2023-01-31        B   50.0  Product3  735.0   West     50.000000   \n",
       "31  2023-02-01        A   17.0  Product2  189.0   West     17.000000   \n",
       "32  2023-02-02        B   63.0  Product3  338.0  South     63.000000   \n",
       "33  2023-02-03        C   27.0  Product3    NaN   East     27.000000   \n",
       "34  2023-02-04        C   70.0  Product3  669.0   West     70.000000   \n",
       "35  2023-02-05        B   60.0  Product2    NaN   West     60.000000   \n",
       "36  2023-02-06        C   36.0  Product3  177.0   East     36.000000   \n",
       "37  2023-02-07        C    2.0  Product1    NaN  North      2.000000   \n",
       "38  2023-02-08        C   94.0  Product1  408.0  South     94.000000   \n",
       "39  2023-02-09        A   62.0  Product1  155.0   West     62.000000   \n",
       "40  2023-02-10        B   15.0  Product1  578.0   East     15.000000   \n",
       "41  2023-02-11        C   97.0  Product1  256.0   East     97.000000   \n",
       "42  2023-02-12        A   93.0  Product3  164.0   West     93.000000   \n",
       "43  2023-02-13        A   43.0  Product3  949.0   East     43.000000   \n",
       "44  2023-02-14        A   96.0  Product3  830.0   East     96.000000   \n",
       "45  2023-02-15        B   99.0  Product2  599.0   West     99.000000   \n",
       "46  2023-02-16        B    6.0  Product1  938.0  South      6.000000   \n",
       "47  2023-02-17        B   69.0  Product3  143.0   West     69.000000   \n",
       "48  2023-02-18        C   65.0  Product3  182.0  North     65.000000   \n",
       "49  2023-02-19        C   11.0  Product3  708.0  North     11.000000   \n",
       "\n",
       "    Sales_fillna  \n",
       "0          754.0  \n",
       "1          110.0  \n",
       "2          398.0  \n",
       "3          522.0  \n",
       "4          869.0  \n",
       "5          192.0  \n",
       "6          936.0  \n",
       "7          488.0  \n",
       "8          772.0  \n",
       "9          834.0  \n",
       "10         842.0  \n",
       "11         591.5  \n",
       "12         628.0  \n",
       "13         423.0  \n",
       "14         893.0  \n",
       "15         895.0  \n",
       "16         511.0  \n",
       "17         108.0  \n",
       "18         578.0  \n",
       "19         736.0  \n",
       "20         606.0  \n",
       "21         992.0  \n",
       "22         942.0  \n",
       "23         342.0  \n",
       "24         458.0  \n",
       "25         584.0  \n",
       "26         619.0  \n",
       "27         224.0  \n",
       "28         617.0  \n",
       "29         737.0  \n",
       "30         735.0  \n",
       "31         189.0  \n",
       "32         338.0  \n",
       "33         591.5  \n",
       "34         669.0  \n",
       "35         591.5  \n",
       "36         177.0  \n",
       "37         591.5  \n",
       "38         408.0  \n",
       "39         155.0  \n",
       "40         578.0  \n",
       "41         256.0  \n",
       "42         164.0  \n",
       "43         949.0  \n",
       "44         830.0  \n",
       "45         599.0  \n",
       "46         938.0  \n",
       "47         143.0  \n",
       "48         182.0  \n",
       "49         708.0  "
      ]
     },
     "execution_count": 54,
     "metadata": {},
     "output_type": "execute_result"
    }
   ],
   "source": [
    "## Filling the missing values with median\n",
    "\n",
    "df[\"Sales_fillna\"] = df[\"Sales\"].fillna(df[\"Sales\"].median())\n",
    "df"
   ]
  },
  {
   "cell_type": "code",
   "execution_count": 55,
   "metadata": {},
   "outputs": [
    {
     "data": {
      "text/plain": [
       "Date            0\n",
       "Category        0\n",
       "Value           3\n",
       "Product         0\n",
       "Sales           4\n",
       "Region          0\n",
       "Value_fillna    0\n",
       "Sales_fillna    0\n",
       "dtype: int64"
      ]
     },
     "execution_count": 55,
     "metadata": {},
     "output_type": "execute_result"
    }
   ],
   "source": [
    "df.isna().sum()"
   ]
  },
  {
   "cell_type": "code",
   "execution_count": 56,
   "metadata": {},
   "outputs": [
    {
     "name": "stdout",
     "output_type": "stream",
     "text": [
      "    Sales_date Category  Value   Product  Sales Region  Value_fillna  \\\n",
      "0   2023-01-01        A   28.0  Product1  754.0   East     28.000000   \n",
      "1   2023-01-02        B   39.0  Product3  110.0  North     39.000000   \n",
      "2   2023-01-03        C   32.0  Product2  398.0   East     32.000000   \n",
      "3   2023-01-04        B    8.0  Product1  522.0   East      8.000000   \n",
      "4   2023-01-05        B   26.0  Product3  869.0  North     26.000000   \n",
      "5   2023-01-06        B   54.0  Product3  192.0   West     54.000000   \n",
      "6   2023-01-07        A   16.0  Product1  936.0   East     16.000000   \n",
      "7   2023-01-08        C   89.0  Product1  488.0   West     89.000000   \n",
      "8   2023-01-09        C   37.0  Product3  772.0   West     37.000000   \n",
      "9   2023-01-10        A   22.0  Product2  834.0   West     22.000000   \n",
      "10  2023-01-11        B    7.0  Product1  842.0  North      7.000000   \n",
      "11  2023-01-12        B   60.0  Product2    NaN   West     60.000000   \n",
      "12  2023-01-13        A   70.0  Product3  628.0  South     70.000000   \n",
      "13  2023-01-14        A   69.0  Product1  423.0   East     69.000000   \n",
      "14  2023-01-15        A   47.0  Product2  893.0   West     47.000000   \n",
      "15  2023-01-16        C    NaN  Product1  895.0  North     51.744681   \n",
      "16  2023-01-17        C   93.0  Product2  511.0  South     93.000000   \n",
      "17  2023-01-18        C    NaN  Product1  108.0   West     51.744681   \n",
      "18  2023-01-19        A   31.0  Product2  578.0   West     31.000000   \n",
      "19  2023-01-20        A   59.0  Product1  736.0   East     59.000000   \n",
      "20  2023-01-21        C   82.0  Product3  606.0  South     82.000000   \n",
      "21  2023-01-22        C   37.0  Product2  992.0  South     37.000000   \n",
      "22  2023-01-23        B   62.0  Product3  942.0  North     62.000000   \n",
      "23  2023-01-24        C   92.0  Product2  342.0   West     92.000000   \n",
      "24  2023-01-25        A   24.0  Product2  458.0   East     24.000000   \n",
      "25  2023-01-26        C   95.0  Product1  584.0   West     95.000000   \n",
      "26  2023-01-27        C   71.0  Product2  619.0  North     71.000000   \n",
      "27  2023-01-28        C   56.0  Product2  224.0  North     56.000000   \n",
      "28  2023-01-29        B    NaN  Product3  617.0  North     51.744681   \n",
      "29  2023-01-30        C   51.0  Product2  737.0  South     51.000000   \n",
      "30  2023-01-31        B   50.0  Product3  735.0   West     50.000000   \n",
      "31  2023-02-01        A   17.0  Product2  189.0   West     17.000000   \n",
      "32  2023-02-02        B   63.0  Product3  338.0  South     63.000000   \n",
      "33  2023-02-03        C   27.0  Product3    NaN   East     27.000000   \n",
      "34  2023-02-04        C   70.0  Product3  669.0   West     70.000000   \n",
      "35  2023-02-05        B   60.0  Product2    NaN   West     60.000000   \n",
      "36  2023-02-06        C   36.0  Product3  177.0   East     36.000000   \n",
      "37  2023-02-07        C    2.0  Product1    NaN  North      2.000000   \n",
      "38  2023-02-08        C   94.0  Product1  408.0  South     94.000000   \n",
      "39  2023-02-09        A   62.0  Product1  155.0   West     62.000000   \n",
      "40  2023-02-10        B   15.0  Product1  578.0   East     15.000000   \n",
      "41  2023-02-11        C   97.0  Product1  256.0   East     97.000000   \n",
      "42  2023-02-12        A   93.0  Product3  164.0   West     93.000000   \n",
      "43  2023-02-13        A   43.0  Product3  949.0   East     43.000000   \n",
      "44  2023-02-14        A   96.0  Product3  830.0   East     96.000000   \n",
      "45  2023-02-15        B   99.0  Product2  599.0   West     99.000000   \n",
      "46  2023-02-16        B    6.0  Product1  938.0  South      6.000000   \n",
      "47  2023-02-17        B   69.0  Product3  143.0   West     69.000000   \n",
      "48  2023-02-18        C   65.0  Product3  182.0  North     65.000000   \n",
      "49  2023-02-19        C   11.0  Product3  708.0  North     11.000000   \n",
      "\n",
      "    Sales_fillna  \n",
      "0          754.0  \n",
      "1          110.0  \n",
      "2          398.0  \n",
      "3          522.0  \n",
      "4          869.0  \n",
      "5          192.0  \n",
      "6          936.0  \n",
      "7          488.0  \n",
      "8          772.0  \n",
      "9          834.0  \n",
      "10         842.0  \n",
      "11         591.5  \n",
      "12         628.0  \n",
      "13         423.0  \n",
      "14         893.0  \n",
      "15         895.0  \n",
      "16         511.0  \n",
      "17         108.0  \n",
      "18         578.0  \n",
      "19         736.0  \n",
      "20         606.0  \n",
      "21         992.0  \n",
      "22         942.0  \n",
      "23         342.0  \n",
      "24         458.0  \n",
      "25         584.0  \n",
      "26         619.0  \n",
      "27         224.0  \n",
      "28         617.0  \n",
      "29         737.0  \n",
      "30         735.0  \n",
      "31         189.0  \n",
      "32         338.0  \n",
      "33         591.5  \n",
      "34         669.0  \n",
      "35         591.5  \n",
      "36         177.0  \n",
      "37         591.5  \n",
      "38         408.0  \n",
      "39         155.0  \n",
      "40         578.0  \n",
      "41         256.0  \n",
      "42         164.0  \n",
      "43         949.0  \n",
      "44         830.0  \n",
      "45         599.0  \n",
      "46         938.0  \n",
      "47         143.0  \n",
      "48         182.0  \n",
      "49         708.0  \n"
     ]
    }
   ],
   "source": [
    "##Rename the columns\n",
    "\n",
    "df = df.rename(columns={\"Date\": \"Sales_date\"})\n",
    "print(df)"
   ]
  },
  {
   "cell_type": "code",
   "execution_count": 57,
   "metadata": {},
   "outputs": [
    {
     "data": {
      "text/html": [
       "<div>\n",
       "<style scoped>\n",
       "    .dataframe tbody tr th:only-of-type {\n",
       "        vertical-align: middle;\n",
       "    }\n",
       "\n",
       "    .dataframe tbody tr th {\n",
       "        vertical-align: top;\n",
       "    }\n",
       "\n",
       "    .dataframe thead th {\n",
       "        text-align: right;\n",
       "    }\n",
       "</style>\n",
       "<table border=\"1\" class=\"dataframe\">\n",
       "  <thead>\n",
       "    <tr style=\"text-align: right;\">\n",
       "      <th></th>\n",
       "      <th>Sales_date</th>\n",
       "      <th>Category</th>\n",
       "      <th>Value</th>\n",
       "      <th>Product</th>\n",
       "      <th>Sales</th>\n",
       "      <th>Region</th>\n",
       "      <th>Value_fillna</th>\n",
       "      <th>Sales_fillna</th>\n",
       "    </tr>\n",
       "  </thead>\n",
       "  <tbody>\n",
       "    <tr>\n",
       "      <th>0</th>\n",
       "      <td>2023-01-01</td>\n",
       "      <td>A</td>\n",
       "      <td>28.0</td>\n",
       "      <td>Product1</td>\n",
       "      <td>754.0</td>\n",
       "      <td>East</td>\n",
       "      <td>28</td>\n",
       "      <td>754.0</td>\n",
       "    </tr>\n",
       "    <tr>\n",
       "      <th>1</th>\n",
       "      <td>2023-01-02</td>\n",
       "      <td>B</td>\n",
       "      <td>39.0</td>\n",
       "      <td>Product3</td>\n",
       "      <td>110.0</td>\n",
       "      <td>North</td>\n",
       "      <td>39</td>\n",
       "      <td>110.0</td>\n",
       "    </tr>\n",
       "    <tr>\n",
       "      <th>2</th>\n",
       "      <td>2023-01-03</td>\n",
       "      <td>C</td>\n",
       "      <td>32.0</td>\n",
       "      <td>Product2</td>\n",
       "      <td>398.0</td>\n",
       "      <td>East</td>\n",
       "      <td>32</td>\n",
       "      <td>398.0</td>\n",
       "    </tr>\n",
       "    <tr>\n",
       "      <th>3</th>\n",
       "      <td>2023-01-04</td>\n",
       "      <td>B</td>\n",
       "      <td>8.0</td>\n",
       "      <td>Product1</td>\n",
       "      <td>522.0</td>\n",
       "      <td>East</td>\n",
       "      <td>8</td>\n",
       "      <td>522.0</td>\n",
       "    </tr>\n",
       "    <tr>\n",
       "      <th>4</th>\n",
       "      <td>2023-01-05</td>\n",
       "      <td>B</td>\n",
       "      <td>26.0</td>\n",
       "      <td>Product3</td>\n",
       "      <td>869.0</td>\n",
       "      <td>North</td>\n",
       "      <td>26</td>\n",
       "      <td>869.0</td>\n",
       "    </tr>\n",
       "  </tbody>\n",
       "</table>\n",
       "</div>"
      ],
      "text/plain": [
       "   Sales_date Category  Value   Product  Sales Region  Value_fillna  \\\n",
       "0  2023-01-01        A   28.0  Product1  754.0   East            28   \n",
       "1  2023-01-02        B   39.0  Product3  110.0  North            39   \n",
       "2  2023-01-03        C   32.0  Product2  398.0   East            32   \n",
       "3  2023-01-04        B    8.0  Product1  522.0   East             8   \n",
       "4  2023-01-05        B   26.0  Product3  869.0  North            26   \n",
       "\n",
       "   Sales_fillna  \n",
       "0         754.0  \n",
       "1         110.0  \n",
       "2         398.0  \n",
       "3         522.0  \n",
       "4         869.0  "
      ]
     },
     "execution_count": 57,
     "metadata": {},
     "output_type": "execute_result"
    }
   ],
   "source": [
    "##Change datatype\n",
    "\n",
    "df[\"Value_fillna\"] = df[\"Value_fillna\"].astype(int)\n",
    "df.head()"
   ]
  },
  {
   "cell_type": "code",
   "execution_count": 58,
   "metadata": {},
   "outputs": [
    {
     "data": {
      "text/html": [
       "<div>\n",
       "<style scoped>\n",
       "    .dataframe tbody tr th:only-of-type {\n",
       "        vertical-align: middle;\n",
       "    }\n",
       "\n",
       "    .dataframe tbody tr th {\n",
       "        vertical-align: top;\n",
       "    }\n",
       "\n",
       "    .dataframe thead th {\n",
       "        text-align: right;\n",
       "    }\n",
       "</style>\n",
       "<table border=\"1\" class=\"dataframe\">\n",
       "  <thead>\n",
       "    <tr style=\"text-align: right;\">\n",
       "      <th></th>\n",
       "      <th>Sales_date</th>\n",
       "      <th>Category</th>\n",
       "      <th>Value</th>\n",
       "      <th>Product</th>\n",
       "      <th>Sales</th>\n",
       "      <th>Region</th>\n",
       "      <th>Value_fillna</th>\n",
       "      <th>Sales_fillna</th>\n",
       "    </tr>\n",
       "  </thead>\n",
       "  <tbody>\n",
       "    <tr>\n",
       "      <th>0</th>\n",
       "      <td>2023-01-01</td>\n",
       "      <td>A</td>\n",
       "      <td>28.0</td>\n",
       "      <td>Product1</td>\n",
       "      <td>754.0</td>\n",
       "      <td>East</td>\n",
       "      <td>28</td>\n",
       "      <td>754</td>\n",
       "    </tr>\n",
       "    <tr>\n",
       "      <th>1</th>\n",
       "      <td>2023-01-02</td>\n",
       "      <td>B</td>\n",
       "      <td>39.0</td>\n",
       "      <td>Product3</td>\n",
       "      <td>110.0</td>\n",
       "      <td>North</td>\n",
       "      <td>39</td>\n",
       "      <td>110</td>\n",
       "    </tr>\n",
       "    <tr>\n",
       "      <th>2</th>\n",
       "      <td>2023-01-03</td>\n",
       "      <td>C</td>\n",
       "      <td>32.0</td>\n",
       "      <td>Product2</td>\n",
       "      <td>398.0</td>\n",
       "      <td>East</td>\n",
       "      <td>32</td>\n",
       "      <td>398</td>\n",
       "    </tr>\n",
       "    <tr>\n",
       "      <th>3</th>\n",
       "      <td>2023-01-04</td>\n",
       "      <td>B</td>\n",
       "      <td>8.0</td>\n",
       "      <td>Product1</td>\n",
       "      <td>522.0</td>\n",
       "      <td>East</td>\n",
       "      <td>8</td>\n",
       "      <td>522</td>\n",
       "    </tr>\n",
       "    <tr>\n",
       "      <th>4</th>\n",
       "      <td>2023-01-05</td>\n",
       "      <td>B</td>\n",
       "      <td>26.0</td>\n",
       "      <td>Product3</td>\n",
       "      <td>869.0</td>\n",
       "      <td>North</td>\n",
       "      <td>26</td>\n",
       "      <td>869</td>\n",
       "    </tr>\n",
       "  </tbody>\n",
       "</table>\n",
       "</div>"
      ],
      "text/plain": [
       "   Sales_date Category  Value   Product  Sales Region  Value_fillna  \\\n",
       "0  2023-01-01        A   28.0  Product1  754.0   East            28   \n",
       "1  2023-01-02        B   39.0  Product3  110.0  North            39   \n",
       "2  2023-01-03        C   32.0  Product2  398.0   East            32   \n",
       "3  2023-01-04        B    8.0  Product1  522.0   East             8   \n",
       "4  2023-01-05        B   26.0  Product3  869.0  North            26   \n",
       "\n",
       "   Sales_fillna  \n",
       "0           754  \n",
       "1           110  \n",
       "2           398  \n",
       "3           522  \n",
       "4           869  "
      ]
     },
     "execution_count": 58,
     "metadata": {},
     "output_type": "execute_result"
    }
   ],
   "source": [
    "df[\"Sales_fillna\"] = df[\"Sales_fillna\"].astype(int)\n",
    "df.head()"
   ]
  },
  {
   "cell_type": "code",
   "execution_count": 59,
   "metadata": {},
   "outputs": [],
   "source": [
    "df.drop(columns=\"Sales\", axis=1, inplace=True)"
   ]
  },
  {
   "cell_type": "code",
   "execution_count": 61,
   "metadata": {},
   "outputs": [],
   "source": [
    "df.drop(columns=\"Value\", axis=1, inplace=True)"
   ]
  },
  {
   "cell_type": "code",
   "execution_count": 62,
   "metadata": {},
   "outputs": [
    {
     "data": {
      "text/html": [
       "<div>\n",
       "<style scoped>\n",
       "    .dataframe tbody tr th:only-of-type {\n",
       "        vertical-align: middle;\n",
       "    }\n",
       "\n",
       "    .dataframe tbody tr th {\n",
       "        vertical-align: top;\n",
       "    }\n",
       "\n",
       "    .dataframe thead th {\n",
       "        text-align: right;\n",
       "    }\n",
       "</style>\n",
       "<table border=\"1\" class=\"dataframe\">\n",
       "  <thead>\n",
       "    <tr style=\"text-align: right;\">\n",
       "      <th></th>\n",
       "      <th>Sales_date</th>\n",
       "      <th>Category</th>\n",
       "      <th>Product</th>\n",
       "      <th>Region</th>\n",
       "      <th>Value_fillna</th>\n",
       "      <th>Sales_fillna</th>\n",
       "    </tr>\n",
       "  </thead>\n",
       "  <tbody>\n",
       "    <tr>\n",
       "      <th>0</th>\n",
       "      <td>2023-01-01</td>\n",
       "      <td>A</td>\n",
       "      <td>Product1</td>\n",
       "      <td>East</td>\n",
       "      <td>28</td>\n",
       "      <td>754</td>\n",
       "    </tr>\n",
       "    <tr>\n",
       "      <th>1</th>\n",
       "      <td>2023-01-02</td>\n",
       "      <td>B</td>\n",
       "      <td>Product3</td>\n",
       "      <td>North</td>\n",
       "      <td>39</td>\n",
       "      <td>110</td>\n",
       "    </tr>\n",
       "    <tr>\n",
       "      <th>2</th>\n",
       "      <td>2023-01-03</td>\n",
       "      <td>C</td>\n",
       "      <td>Product2</td>\n",
       "      <td>East</td>\n",
       "      <td>32</td>\n",
       "      <td>398</td>\n",
       "    </tr>\n",
       "    <tr>\n",
       "      <th>3</th>\n",
       "      <td>2023-01-04</td>\n",
       "      <td>B</td>\n",
       "      <td>Product1</td>\n",
       "      <td>East</td>\n",
       "      <td>8</td>\n",
       "      <td>522</td>\n",
       "    </tr>\n",
       "    <tr>\n",
       "      <th>4</th>\n",
       "      <td>2023-01-05</td>\n",
       "      <td>B</td>\n",
       "      <td>Product3</td>\n",
       "      <td>North</td>\n",
       "      <td>26</td>\n",
       "      <td>869</td>\n",
       "    </tr>\n",
       "  </tbody>\n",
       "</table>\n",
       "</div>"
      ],
      "text/plain": [
       "   Sales_date Category   Product Region  Value_fillna  Sales_fillna\n",
       "0  2023-01-01        A  Product1   East            28           754\n",
       "1  2023-01-02        B  Product3  North            39           110\n",
       "2  2023-01-03        C  Product2   East            32           398\n",
       "3  2023-01-04        B  Product1   East             8           522\n",
       "4  2023-01-05        B  Product3  North            26           869"
      ]
     },
     "execution_count": 62,
     "metadata": {},
     "output_type": "execute_result"
    }
   ],
   "source": [
    "df.head()"
   ]
  },
  {
   "cell_type": "code",
   "execution_count": null,
   "metadata": {},
   "outputs": [],
   "source": []
  },
  {
   "cell_type": "code",
   "execution_count": null,
   "metadata": {},
   "outputs": [],
   "source": []
  },
  {
   "cell_type": "code",
   "execution_count": null,
   "metadata": {},
   "outputs": [],
   "source": []
  },
  {
   "cell_type": "code",
   "execution_count": null,
   "metadata": {},
   "outputs": [],
   "source": []
  },
  {
   "cell_type": "code",
   "execution_count": null,
   "metadata": {},
   "outputs": [],
   "source": []
  },
  {
   "cell_type": "code",
   "execution_count": null,
   "metadata": {},
   "outputs": [],
   "source": []
  },
  {
   "cell_type": "code",
   "execution_count": null,
   "metadata": {},
   "outputs": [],
   "source": []
  },
  {
   "cell_type": "code",
   "execution_count": null,
   "metadata": {},
   "outputs": [],
   "source": []
  }
 ],
 "metadata": {
  "kernelspec": {
   "display_name": "Python 3",
   "language": "python",
   "name": "python3"
  },
  "language_info": {
   "codemirror_mode": {
    "name": "ipython",
    "version": 3
   },
   "file_extension": ".py",
   "mimetype": "text/x-python",
   "name": "python",
   "nbconvert_exporter": "python",
   "pygments_lexer": "ipython3",
   "version": "3.13.0"
  }
 },
 "nbformat": 4,
 "nbformat_minor": 2
}
