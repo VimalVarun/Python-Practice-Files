{
 "cells": [
  {
   "cell_type": "markdown",
   "metadata": {},
   "source": [
    "# Lesson 1.2: Python Basics\n",
    "## Topics Covered:\n",
    "- Syntax and Semantics\n",
    "- Variables and Data Types\n",
    "- Basic Operators (Arithmetic, Comparison, Logical)\n"
   ]
  },
  {
   "cell_type": "markdown",
   "metadata": {},
   "source": [
    "## 1. Syntax and Semantics\n",
    "\n",
    "**Question 1:** Write a Python program to print \"Hello, World!\"."
   ]
  },
  {
   "cell_type": "code",
   "execution_count": 1,
   "metadata": {},
   "outputs": [
    {
     "name": "stdout",
     "output_type": "stream",
     "text": [
      "Hello worlds!\n"
     ]
    }
   ],
   "source": [
    "# Your code here\n",
    "print(\"Hello worlds!\")"
   ]
  },
  {
   "cell_type": "markdown",
   "metadata": {},
   "source": [
    "**Question 2:** Write a Python program that takes a user input and prints it."
   ]
  },
  {
   "cell_type": "code",
   "execution_count": 2,
   "metadata": {},
   "outputs": [
    {
     "data": {
      "text/plain": [
       "'N.Vimal'"
      ]
     },
     "execution_count": 2,
     "metadata": {},
     "output_type": "execute_result"
    }
   ],
   "source": [
    "# Your code here\n",
    "Enter_a_Name = input(\"Enter a Name\")\n",
    "\n",
    "Enter_a_Name"
   ]
  },
  {
   "cell_type": "markdown",
   "metadata": {},
   "source": [
    "**Question 3:** Write a Python program to check if a number is positive, negative, or zero."
   ]
  },
  {
   "cell_type": "code",
   "execution_count": 5,
   "metadata": {},
   "outputs": [
    {
     "name": "stdout",
     "output_type": "stream",
     "text": [
      "This is the no values so its must be: 0\n"
     ]
    }
   ],
   "source": [
    "# Your code here\n",
    "\n",
    "Numbers = int(input(\"Enter a any number\"))\n",
    "\n",
    "if Numbers >0:\n",
    "    print(f\"This is the postive number: {Numbers}\")\n",
    "elif Numbers<0:\n",
    "    print(f\"This is the Negative number: {Numbers}\")\n",
    "else:\n",
    "    print(f\"This is the no values so its must be: {Numbers}\")"
   ]
  },
  {
   "cell_type": "markdown",
   "metadata": {},
   "source": [
    "**Question 4:** Write a Python program to find the largest of three numbers."
   ]
  },
  {
   "cell_type": "code",
   "execution_count": 6,
   "metadata": {},
   "outputs": [
    {
     "name": "stdout",
     "output_type": "stream",
     "text": [
      "This is the largest of the three numbers is: 65\n"
     ]
    }
   ],
   "source": [
    "# Your code here\n",
    "Num1 = int(input(\"Enter a any number\"))\n",
    "Num2 = int(input(\"Enter a any number\"))\n",
    "Num3 = int(input(\"Enter a any number\"))\n",
    "\n",
    "if Num1>Num2 and Num1>Num3:\n",
    "    print(f\"This is the largest of the three numbers is: {Num1}\")\n",
    "elif Num2>Num1 and Num2>Num3:\n",
    "    print(f\"This is the largest of the three numbers is: {Num2}\")\n",
    "elif Num3>Num1 and Num3>Num2:\n",
    "    print(f\"This is the largest of the three numbers is: {Num3}\")\n"
   ]
  },
  {
   "cell_type": "markdown",
   "metadata": {},
   "source": [
    "**Question 5:** Write a Python program to calculate the factorial of a number."
   ]
  },
  {
   "cell_type": "code",
   "execution_count": null,
   "metadata": {},
   "outputs": [],
   "source": [
    "# Your code here"
   ]
  },
  {
   "cell_type": "markdown",
   "metadata": {},
   "source": [
    "## 2. Variables and Data Types\n",
    "\n",
    "**Question 6:** Create variables of different data types: integer, float, string, and boolean. Print their values and types."
   ]
  },
  {
   "cell_type": "code",
   "execution_count": 7,
   "metadata": {},
   "outputs": [
    {
     "name": "stdout",
     "output_type": "stream",
     "text": [
      "18\n",
      "Vimal\n",
      "6.2\n",
      "True\n"
     ]
    }
   ],
   "source": [
    "# Your code here\n",
    "\n",
    "Num = 18\n",
    "Name = \"Vimal\"\n",
    "Height = 6.2\n",
    "Is_He_data_Scientist = True\n",
    "\n",
    "print(Num)\n",
    "print(Name)\n",
    "print(Height)\n",
    "print(Is_He_data_Scientist)"
   ]
  },
  {
   "cell_type": "markdown",
   "metadata": {},
   "source": [
    "**Question 7:** Write a Python program to swap the values of two variables."
   ]
  },
  {
   "cell_type": "code",
   "execution_count": 9,
   "metadata": {},
   "outputs": [
    {
     "name": "stdout",
     "output_type": "stream",
     "text": [
      "Before swap a: 7, b: 18\n",
      "After swaping the values a: 18, b: 7\n"
     ]
    }
   ],
   "source": [
    "# Your code here\n",
    "a = 7\n",
    "b = 18\n",
    "\n",
    "print(f\"Before swap a: {a}, b: {b}\")\n",
    "\n",
    "a, b = b, a\n",
    "\n",
    "print(f\"After swaping the values a: {a}, b: {b}\")"
   ]
  },
  {
   "cell_type": "markdown",
   "metadata": {},
   "source": [
    "**Question 8:** Write a Python program to convert Celsius to Fahrenheit."
   ]
  },
  {
   "cell_type": "code",
   "execution_count": 13,
   "metadata": {},
   "outputs": [
    {
     "data": {
      "text/plain": [
       "77.0"
      ]
     },
     "execution_count": 13,
     "metadata": {},
     "output_type": "execute_result"
    }
   ],
   "source": [
    "# Your code here\n",
    "\n",
    "def convert (temp, unit):\n",
    "    if unit == \"C\":\n",
    "        return temp *9/5 + 32\n",
    "    if unit == \"F\":\n",
    "        return (temp-32)*5/9\n",
    "    \n",
    "convert(25,\"C\")\n"
   ]
  },
  {
   "cell_type": "markdown",
   "metadata": {},
   "source": [
    "**Question 9:** Write a Python program to concatenate two strings."
   ]
  },
  {
   "cell_type": "code",
   "execution_count": 16,
   "metadata": {},
   "outputs": [
    {
     "name": "stdout",
     "output_type": "stream",
     "text": [
      "He is the best Vimal Data Scientist in the world\n"
     ]
    }
   ],
   "source": [
    "# Your code here\n",
    "\n",
    "Name = \"Vimal\"\n",
    "\n",
    "Job = \"Data Scientist\"\n",
    "\n",
    "Goal = Name+\" \"+Job\n",
    "\n",
    "print(f\"He is the best {Goal} in the world\")"
   ]
  },
  {
   "cell_type": "markdown",
   "metadata": {},
   "source": [
    "**Question 10:** Write a Python program to check if a variable is of a specific data type."
   ]
  },
  {
   "cell_type": "code",
   "execution_count": 19,
   "metadata": {},
   "outputs": [
    {
     "name": "stdout",
     "output_type": "stream",
     "text": [
      "This is the Interfer data types: 18\n"
     ]
    }
   ],
   "source": [
    "# Your code here\n",
    "\n",
    "var = 18\n",
    "\n",
    "if isinstance(var, int):\n",
    "    print(f\"This is the Interfer data types: {var}\")\n",
    "else:\n",
    "    print(\"This is not the integer data types\")"
   ]
  },
  {
   "cell_type": "markdown",
   "metadata": {},
   "source": [
    "## 3. Basic Operators (Arithmetic, Comparison, Logical)\n",
    "\n",
    "**Question 11:** Write a Python program to perform arithmetic operations: addition, subtraction, multiplication, and division."
   ]
  },
  {
   "cell_type": "code",
   "execution_count": 21,
   "metadata": {},
   "outputs": [
    {
     "name": "stdout",
     "output_type": "stream",
     "text": [
      "This the addition: 830.1\n",
      "This is subtraction: -718.9\n",
      "This is the multiplication: 43062.200000000004\n",
      "This is the division: 0.07178825048418334\n"
     ]
    }
   ],
   "source": [
    "# Your code here\n",
    "\n",
    "user1 = float(input(\"Enter a any number \"))\n",
    "user2 = float(input(\"Enter a any number\"))\n",
    "\n",
    "sum = user1 + user2\n",
    "sub = user1 - user2\n",
    "mult = user1 * user2\n",
    "divison = user1 /user2\n",
    "\n",
    "print(f\"This the addition: {sum}\")\n",
    "print(f\"This is subtraction: {sub}\")\n",
    "print(f\"This is the multiplication: {mult}\")\n",
    "print(f\"This is the division: {divison}\")\n",
    "\n"
   ]
  },
  {
   "cell_type": "markdown",
   "metadata": {},
   "source": [
    "**Question 12:** Write a Python program to demonstrate comparison operators: equal to, not equal to, greater than, less than."
   ]
  },
  {
   "cell_type": "code",
   "execution_count": 26,
   "metadata": {},
   "outputs": [
    {
     "name": "stdout",
     "output_type": "stream",
     "text": [
      "These two numbers are not equal numbers and the numbers one is greater than the number2: 45.0 65.0\n"
     ]
    }
   ],
   "source": [
    "# Your code here\n",
    "\n",
    "num1 = float(input(\"enter a any number\"))\n",
    "num2 = float(input(\"enter a any number\"))\n",
    "\n",
    "if num1==num2:\n",
    "    print(f\"This is the equal numbers: {num1} {num2}\")\n",
    "elif num1!=num2 or num1>num2:\n",
    "    print(f\"These two numbers are not equal numbers and the numbers one is greater than the number2: {num1} {num2}\")\n",
    "elif num1<num2:\n",
    "    print(f\"The num2 is greater than the number1: {num1} {num2}\")"
   ]
  },
  {
   "cell_type": "markdown",
   "metadata": {},
   "source": [
    "**Question 13:** Write a Python program to demonstrate logical operators: and, or, not."
   ]
  },
  {
   "cell_type": "code",
   "execution_count": 33,
   "metadata": {},
   "outputs": [
    {
     "name": "stdout",
     "output_type": "stream",
     "text": [
      "True and False: False\n",
      "True or False: True\n",
      "not True: False\n"
     ]
    }
   ],
   "source": [
    "# Your code here\n",
    "\n",
    "a = True\n",
    "b = False\n",
    "\n",
    "print(f\"{a} and {b}:\", a and b)\n",
    "print(f\"{a} or {b}:\", a or b)\n",
    "print(f\"not True: {not a}\")\n"
   ]
  },
  {
   "cell_type": "markdown",
   "metadata": {},
   "source": [
    "**Question 14:** Write a Python program to calculate the square of a number."
   ]
  },
  {
   "cell_type": "code",
   "execution_count": 35,
   "metadata": {},
   "outputs": [
    {
     "name": "stdout",
     "output_type": "stream",
     "text": [
      "[1, 4, 9, 16, 25, 36, 49, 64, 81, 100]\n"
     ]
    }
   ],
   "source": [
    "# Your code here\n",
    "\n",
    "square = [i**2 for i in range(1, 11)]\n",
    "\n",
    "print(square)"
   ]
  },
  {
   "cell_type": "markdown",
   "metadata": {},
   "source": [
    "**Question 15:** Write a Python program to check if a number is even or odd."
   ]
  },
  {
   "cell_type": "code",
   "execution_count": 39,
   "metadata": {},
   "outputs": [
    {
     "name": "stdout",
     "output_type": "stream",
     "text": [
      "This is the even number: 12\n",
      "None\n"
     ]
    }
   ],
   "source": [
    "# Your code here\n",
    "def evenorodd (num):\n",
    "    if num%2==0:\n",
    "        print(f\"This is the even number: {num}\")\n",
    "    else:\n",
    "        print(f\"This is the odd number: {num}\")\n",
    "print(evenorodd(12))"
   ]
  },
  {
   "cell_type": "markdown",
   "metadata": {},
   "source": [
    "**Question 16:** Write a Python program to find the sum of the first n natural numbers."
   ]
  },
  {
   "cell_type": "code",
   "execution_count": 43,
   "metadata": {},
   "outputs": [
    {
     "name": "stdout",
     "output_type": "stream",
     "text": [
      "The sum of the first 10 number is: 55\n"
     ]
    }
   ],
   "source": [
    "# Your code here\n",
    "\n",
    "total_number = 0\n",
    "\n",
    "for i in range(1,11):\n",
    "    total_number += i\n",
    "print(f\"The sum of the first 10 number is: {total_number}\")"
   ]
  },
  {
   "cell_type": "markdown",
   "metadata": {},
   "source": [
    "**Question 17:** Write a Python program to check if a year is a leap year."
   ]
  },
  {
   "cell_type": "code",
   "execution_count": 49,
   "metadata": {},
   "outputs": [
    {
     "name": "stdout",
     "output_type": "stream",
     "text": [
      "This is not the leap year: 2011\n"
     ]
    }
   ],
   "source": [
    "# Your code here\n",
    "\n",
    "year = int(input(\"enter a any year\"))\n",
    "\n",
    "if year%4==0:\n",
    "    print(f\"This is the leap year: {year}\")\n",
    "else:\n",
    "    print(f\"This is not the leap year: {year}\")"
   ]
  },
  {
   "cell_type": "markdown",
   "metadata": {},
   "source": [
    "**Question 18:** Write a Python program to reverse a string."
   ]
  },
  {
   "cell_type": "code",
   "execution_count": 53,
   "metadata": {},
   "outputs": [
    {
     "name": "stdout",
     "output_type": "stream",
     "text": [
      "This string is reversed: acirema fo setats detinu eht evol I\n"
     ]
    }
   ],
   "source": [
    "# Your code here\n",
    "name = input(\"enter a name\")\n",
    "reverse = name[::-1]\n",
    "print(f\"This string is reversed: {reverse}\")"
   ]
  },
  {
   "cell_type": "markdown",
   "metadata": {},
   "source": [
    "**Question 19:** Write a Python program to check if a string is a palindrome."
   ]
  },
  {
   "cell_type": "code",
   "execution_count": 63,
   "metadata": {},
   "outputs": [
    {
     "name": "stdout",
     "output_type": "stream",
     "text": [
      "This is no the palindrome: vimal\n"
     ]
    }
   ],
   "source": [
    "# Your code here\n",
    "\n",
    "string = input(\"Enter a any name\")\n",
    "\n",
    "if string == string[::-1]:\n",
    "    print(f\"This is the palindrome: {string}\")\n",
    "else:\n",
    "    print(f\"This is no the palindrome: {string}\")"
   ]
  },
  {
   "cell_type": "markdown",
   "metadata": {},
   "source": [
    "**Question 20:** Write a Python program to sort a list of numbers in ascending order."
   ]
  },
  {
   "cell_type": "code",
   "execution_count": 56,
   "metadata": {},
   "outputs": [],
   "source": [
    "# Your code here\n",
    "\n",
    "def sort_numbers(numbers):\n",
    "    return sorted (numbers)"
   ]
  },
  {
   "cell_type": "code",
   "execution_count": 58,
   "metadata": {},
   "outputs": [
    {
     "name": "stdout",
     "output_type": "stream",
     "text": [
      "Orginal number list is: [1, 5, 7, 8, 5, 7, 4, 89, 53, 236, 4, 2, 3, 4, 5, 7, 2, 11, 56, 525, 4]\n",
      "Number sorted in ascending order: [1, 2, 2, 3, 4, 4, 4, 4, 5, 5, 5, 7, 7, 7, 8, 11, 53, 56, 89, 236, 525]\n"
     ]
    }
   ],
   "source": [
    "numbers = [1,5,7,8,5,7,4,89,53,236,4,2,3,4,5,7,2,11,56,525,4]\n",
    "\n",
    "sorted_numbers = sort_numbers(numbers)\n",
    "\n",
    "print(f\"Orginal number list is: {numbers}\")\n",
    "print(f\"Number sorted in ascending order: {sorted_numbers}\")"
   ]
  },
  {
   "cell_type": "code",
   "execution_count": null,
   "metadata": {},
   "outputs": [],
   "source": []
  }
 ],
 "metadata": {
  "kernelspec": {
   "display_name": "Python 3",
   "language": "python",
   "name": "python3"
  },
  "language_info": {
   "codemirror_mode": {
    "name": "ipython",
    "version": 3
   },
   "file_extension": ".py",
   "mimetype": "text/x-python",
   "name": "python",
   "nbconvert_exporter": "python",
   "pygments_lexer": "ipython3",
   "version": "3.13.0"
  }
 },
 "nbformat": 4,
 "nbformat_minor": 4
}
