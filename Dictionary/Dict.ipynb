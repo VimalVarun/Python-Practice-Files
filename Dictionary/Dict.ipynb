{
 "cells": [
  {
   "cell_type": "code",
   "execution_count": 3,
   "metadata": {},
   "outputs": [
    {
     "name": "stdout",
     "output_type": "stream",
     "text": [
      "<class 'dict'>\n"
     ]
    }
   ],
   "source": [
    "empty_dict = {}\n",
    "\n",
    "print(type(empty_dict))"
   ]
  },
  {
   "cell_type": "code",
   "execution_count": 4,
   "metadata": {},
   "outputs": [
    {
     "name": "stdout",
     "output_type": "stream",
     "text": [
      "{}\n"
     ]
    }
   ],
   "source": [
    "dict = dict()\n",
    "\n",
    "print(dict)"
   ]
  },
  {
   "cell_type": "code",
   "execution_count": 5,
   "metadata": {},
   "outputs": [
    {
     "name": "stdout",
     "output_type": "stream",
     "text": [
      "{'Name': 'Vimal', 'Age': 27, 'Location': 'Chennai'}\n",
      "<class 'dict'>\n"
     ]
    }
   ],
   "source": [
    "student = {\"Name\": \"Vimal\", \"Age\": 27, \"Location\": \"Chennai\"}\n",
    "print(student)\n",
    "print(type(student))"
   ]
  },
  {
   "cell_type": "code",
   "execution_count": 6,
   "metadata": {},
   "outputs": [],
   "source": [
    "student[\"Name\"] = \"Varun\""
   ]
  },
  {
   "cell_type": "code",
   "execution_count": 7,
   "metadata": {},
   "outputs": [
    {
     "data": {
      "text/plain": [
       "{'Name': 'Varun', 'Age': 27, 'Location': 'Chennai'}"
      ]
     },
     "execution_count": 7,
     "metadata": {},
     "output_type": "execute_result"
    }
   ],
   "source": [
    "student"
   ]
  },
  {
   "cell_type": "code",
   "execution_count": 9,
   "metadata": {},
   "outputs": [
    {
     "name": "stdout",
     "output_type": "stream",
     "text": [
      "{'Age': 27, 'Location': 'Chennai'}\n"
     ]
    }
   ],
   "source": [
    "student.pop(\"Name\")\n",
    "print(student)"
   ]
  },
  {
   "cell_type": "code",
   "execution_count": 10,
   "metadata": {},
   "outputs": [
    {
     "name": "stdout",
     "output_type": "stream",
     "text": [
      "27\n"
     ]
    }
   ],
   "source": [
    "print(student[\"Age\"])"
   ]
  },
  {
   "cell_type": "code",
   "execution_count": 13,
   "metadata": {},
   "outputs": [
    {
     "name": "stdout",
     "output_type": "stream",
     "text": [
      "27\n",
      "None\n",
      "Not avaliable\n"
     ]
    }
   ],
   "source": [
    "print(student.get(\"Age\"))\n",
    "print(student.get(\"Name\"))\n",
    "print(student.get(\"Name\", \"Not avaliable\"))"
   ]
  },
  {
   "cell_type": "code",
   "execution_count": 14,
   "metadata": {},
   "outputs": [
    {
     "name": "stdout",
     "output_type": "stream",
     "text": [
      "{'Age': 26, 'Location': 'Chennai'}\n",
      "{'Age': 26, 'Location': 'Chennai', 'Name': 'Vimal'}\n"
     ]
    }
   ],
   "source": [
    "#Modifying Dictionary Elements\n",
    "##Dictionary are mutable, so you can add, delete and update\n",
    "student[\"Age\"] = 26 ## Updated the values\n",
    "print(student)\n",
    "student[\"Name\"] = \"Vimal\" ## added the new key values\n",
    "print(student)"
   ]
  },
  {
   "cell_type": "code",
   "execution_count": 15,
   "metadata": {},
   "outputs": [
    {
     "name": "stdout",
     "output_type": "stream",
     "text": [
      "dict_keys(['Age', 'Location', 'Name'])\n",
      "dict_values([26, 'Chennai', 'Vimal'])\n",
      "dict_items([('Age', 26), ('Location', 'Chennai'), ('Name', 'Vimal')])\n"
     ]
    }
   ],
   "source": [
    "## Dictionary Methods\n",
    "\n",
    "keys = student.keys()\n",
    "print(keys)\n",
    "\n",
    "values = student.values()\n",
    "print(values)\n",
    "\n",
    "Key_vlaues = student.items()\n",
    "print(Key_vlaues)"
   ]
  },
  {
   "cell_type": "code",
   "execution_count": 17,
   "metadata": {},
   "outputs": [
    {
     "name": "stdout",
     "output_type": "stream",
     "text": [
      "{'Age': 26, 'Location': 'Chennai', 'Name': 'Vimal'}\n",
      "{'Age': 26, 'Location': 'Chennai', 'Name': 'Vimal'}\n"
     ]
    }
   ],
   "source": [
    "##Shallow copy\n",
    "student_copy = student\n",
    "print(student_copy)\n",
    "print(student)"
   ]
  },
  {
   "cell_type": "code",
   "execution_count": 18,
   "metadata": {},
   "outputs": [
    {
     "name": "stdout",
     "output_type": "stream",
     "text": [
      "{'Age': 26, 'Location': 'Chennai', 'Name': 'Vimal', 'Job position': 'Data Scientist'}\n",
      "{'Age': 26, 'Location': 'Chennai', 'Name': 'Vimal', 'Job position': 'Data Scientist'}\n"
     ]
    }
   ],
   "source": [
    "student[\"Job position\"] = \"Data Scientist\"\n",
    "print(student)\n",
    "print(student_copy)"
   ]
  },
  {
   "cell_type": "code",
   "execution_count": 19,
   "metadata": {},
   "outputs": [
    {
     "name": "stdout",
     "output_type": "stream",
     "text": [
      "{'Age': 26, 'Location': 'Chennai', 'Name': 'Vimal', 'Job position': 'Data Scientist'}\n",
      "{'Age': 26, 'Location': 'Chennai', 'Name': 'Vimal', 'Job position': 'Data Scientist'}\n"
     ]
    }
   ],
   "source": [
    "student_copy1 = student.copy()\n",
    "print(student)\n",
    "print(student_copy1)"
   ]
  },
  {
   "cell_type": "code",
   "execution_count": 20,
   "metadata": {},
   "outputs": [
    {
     "name": "stdout",
     "output_type": "stream",
     "text": [
      "{'Age': 26, 'Location': 'Chennai', 'Name': 'Vimal', 'Job position': 'Data Scientist', 'Salary': (10, 0, 0.0)}\n",
      "{'Age': 26, 'Location': 'Chennai', 'Name': 'Vimal', 'Job position': 'Data Scientist'}\n"
     ]
    }
   ],
   "source": [
    "student[\"Salary\"] = 10,000,000.00\n",
    "print(student)\n",
    "print(student_copy1)"
   ]
  },
  {
   "cell_type": "code",
   "execution_count": 23,
   "metadata": {},
   "outputs": [
    {
     "name": "stdout",
     "output_type": "stream",
     "text": [
      "Age\n",
      "Location\n",
      "Name\n",
      "Job position\n",
      "Salary\n"
     ]
    }
   ],
   "source": [
    "## Itearting the over dictionary\n",
    "\n",
    "for i in student.keys():\n",
    "    print(i)"
   ]
  },
  {
   "cell_type": "code",
   "execution_count": 24,
   "metadata": {},
   "outputs": [
    {
     "name": "stdout",
     "output_type": "stream",
     "text": [
      "26\n",
      "Chennai\n",
      "Vimal\n",
      "Data Scientist\n",
      "(10, 0, 0.0)\n"
     ]
    }
   ],
   "source": [
    "for i in student.values():\n",
    "    print(i)"
   ]
  },
  {
   "cell_type": "code",
   "execution_count": 25,
   "metadata": {},
   "outputs": [
    {
     "name": "stdout",
     "output_type": "stream",
     "text": [
      "('Age', 26)\n",
      "('Location', 'Chennai')\n",
      "('Name', 'Vimal')\n",
      "('Job position', 'Data Scientist')\n",
      "('Salary', (10, 0, 0.0))\n"
     ]
    }
   ],
   "source": [
    "for i in student.items():\n",
    "    print(i)"
   ]
  },
  {
   "cell_type": "code",
   "execution_count": 26,
   "metadata": {},
   "outputs": [
    {
     "name": "stdout",
     "output_type": "stream",
     "text": [
      "Age:26\n",
      "Location:Chennai\n",
      "Name:Vimal\n",
      "Job position:Data Scientist\n",
      "Salary:(10, 0, 0.0)\n"
     ]
    }
   ],
   "source": [
    "for keys, values in student.items():\n",
    "    print(f\"{keys}:{values}\")"
   ]
  },
  {
   "cell_type": "code",
   "execution_count": 1,
   "metadata": {},
   "outputs": [
    {
     "name": "stdout",
     "output_type": "stream",
     "text": [
      "{'Student1': {'name': 'Vimal', 'Age': 27, 'Job': 'Data Scientist'}, 'Student2': {'name': 'Varun', 'Age': 26, 'Job': 'Data Analaysit'}, 'Student3': {'name': 'Surya', 'Age': 26, 'Job': 'Data Engineer'}}\n"
     ]
    }
   ],
   "source": [
    "##Nested dictionary\n",
    "\n",
    "student = {\n",
    "    \"Student1\":{\"name\": \"Vimal\", \"Age\": 27, \"Job\": \"Data Scientist\"},\n",
    "    \"Student2\":{\"name\": \"Varun\", \"Age\":26, \"Job\": \"Data Analaysit\"},\n",
    "    \"Student3\":{\"name\": \"Surya\", \"Age\":26, \"Job\": \"Data Engineer\"}\n",
    "}\n",
    "\n",
    "print(student)"
   ]
  },
  {
   "cell_type": "code",
   "execution_count": 2,
   "metadata": {},
   "outputs": [
    {
     "name": "stdout",
     "output_type": "stream",
     "text": [
      "Vimal\n",
      "26\n",
      "Data Engineer\n"
     ]
    }
   ],
   "source": [
    "## Accessing the elements in the nested dictionary\n",
    "print(student[\"Student1\"][\"name\"])\n",
    "print(student[\"Student2\"][\"Age\"])\n",
    "print(student[\"Student3\"][\"Job\"])"
   ]
  },
  {
   "cell_type": "code",
   "execution_count": 4,
   "metadata": {},
   "outputs": [
    {
     "name": "stdout",
     "output_type": "stream",
     "text": [
      "Student1:{'name': 'Vimal', 'Age': 27, 'Job': 'Data Scientist'}\n",
      "name:Vimal\n",
      "Age:27\n",
      "Job:Data Scientist\n",
      "Student2:{'name': 'Varun', 'Age': 26, 'Job': 'Data Analaysit'}\n",
      "name:Varun\n",
      "Age:26\n",
      "Job:Data Analaysit\n",
      "Student3:{'name': 'Surya', 'Age': 26, 'Job': 'Data Engineer'}\n",
      "name:Surya\n",
      "Age:26\n",
      "Job:Data Engineer\n"
     ]
    }
   ],
   "source": [
    "##Iterating over nested dictionaries\n",
    "\n",
    "for student_id, student_info in student.items():\n",
    "    print(f\"{student_id}:{student_info}\")\n",
    "    for keys,values in student_info.items():\n",
    "        print(f'{keys}:{values}')"
   ]
  },
  {
   "cell_type": "code",
   "execution_count": 6,
   "metadata": {},
   "outputs": [
    {
     "name": "stdout",
     "output_type": "stream",
     "text": [
      "{0: 0, 1: 1, 2: 4, 3: 9, 4: 16, 5: 25, 6: 36, 7: 49, 8: 64, 9: 81}\n"
     ]
    }
   ],
   "source": [
    "## Dictionary comphrenshension\n",
    "\n",
    "square = {i:i**2 for i in range(10)}\n",
    "print(square)"
   ]
  },
  {
   "cell_type": "code",
   "execution_count": 7,
   "metadata": {},
   "outputs": [
    {
     "name": "stdout",
     "output_type": "stream",
     "text": [
      "{0: 0, 2: 4, 4: 16, 6: 36, 8: 64}\n"
     ]
    }
   ],
   "source": [
    "even_numbers = {i:i**2 for i in range(10) if i%2==0}\n",
    "print(even_numbers)"
   ]
  },
  {
   "cell_type": "code",
   "execution_count": 8,
   "metadata": {},
   "outputs": [
    {
     "name": "stdout",
     "output_type": "stream",
     "text": [
      "{1: 1, 3: 9, 5: 25, 7: 49, 9: 81}\n"
     ]
    }
   ],
   "source": [
    "odd_numbers = {x:x**2 for x in range(10) if x%2!=0}\n",
    "print(odd_numbers)"
   ]
  },
  {
   "cell_type": "code",
   "execution_count": 12,
   "metadata": {},
   "outputs": [
    {
     "name": "stdout",
     "output_type": "stream",
     "text": [
      "{1: 5, 2: 3, 3: 4, 4: 9, 7: 2, 8: 2, 66: 1, 47: 1, 85: 2, 78: 1, 12: 1, 51: 1}\n"
     ]
    }
   ],
   "source": [
    "## use a dictionary to count the frequency of elements in list\n",
    "\n",
    "numbers = [1,1,1,2,2,2,3,3,3,3,4,4,4,7,7,8,66,47,85,4,\n",
    "4,78,85,4,4,1,12,4,\n",
    "4,51,1,8]\n",
    "\n",
    "frequency = {}\n",
    "\n",
    "for number in numbers:\n",
    "    if number in frequency:\n",
    "        frequency[number]+=1\n",
    "    else:\n",
    "        frequency[number]=1\n",
    "print(frequency)"
   ]
  },
  {
   "cell_type": "code",
   "execution_count": 14,
   "metadata": {},
   "outputs": [
    {
     "name": "stdout",
     "output_type": "stream",
     "text": [
      "{1: 6, 2: 4, 3: 5, 4: 10, 7: 4, 8: 4, 66: 1, 47: 1, 85: 2, 78: 1, 12: 1, 51: 1, 100: 1, 101: 1, 111: 1, 5: 2, 9: 1, 36.0: 1, 4.9: 1, 98: 1, 57: 1}\n"
     ]
    }
   ],
   "source": [
    "numbers = [1,1,1,2,2,2,3,3,3,3,4,4,4,7,7,8,66,47,85,4,\n",
    "4,78,85,4,4,1,12,4,\n",
    "4,51,1,8, 100,101,111,1,2,4,5,8,9,36.,3,5,4.9,7,8,98,57,7]\n",
    "\n",
    "count = {}\n",
    "\n",
    "for i in numbers:\n",
    "    if i in count:\n",
    "        count[i]+=1\n",
    "    else:\n",
    "        count[i]=1\n",
    "print(count)"
   ]
  },
  {
   "cell_type": "code",
   "execution_count": null,
   "metadata": {},
   "outputs": [],
   "source": []
  },
  {
   "cell_type": "code",
   "execution_count": null,
   "metadata": {},
   "outputs": [],
   "source": []
  },
  {
   "cell_type": "code",
   "execution_count": null,
   "metadata": {},
   "outputs": [],
   "source": []
  },
  {
   "cell_type": "code",
   "execution_count": null,
   "metadata": {},
   "outputs": [],
   "source": []
  }
 ],
 "metadata": {
  "kernelspec": {
   "display_name": "Python 3",
   "language": "python",
   "name": "python3"
  },
  "language_info": {
   "codemirror_mode": {
    "name": "ipython",
    "version": 3
   },
   "file_extension": ".py",
   "mimetype": "text/x-python",
   "name": "python",
   "nbconvert_exporter": "python",
   "pygments_lexer": "ipython3",
   "version": "3.13.0"
  }
 },
 "nbformat": 4,
 "nbformat_minor": 2
}
