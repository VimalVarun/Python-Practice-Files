{
 "cells": [
  {
   "cell_type": "code",
   "execution_count": 3,
   "metadata": {},
   "outputs": [
    {
     "name": "stdout",
     "output_type": "stream",
     "text": [
      "<class 'dict'>\n"
     ]
    }
   ],
   "source": [
    "empty_dict = {}\n",
    "\n",
    "print(type(empty_dict))"
   ]
  },
  {
   "cell_type": "code",
   "execution_count": 4,
   "metadata": {},
   "outputs": [
    {
     "name": "stdout",
     "output_type": "stream",
     "text": [
      "{}\n"
     ]
    }
   ],
   "source": [
    "dict = dict()\n",
    "\n",
    "print(dict)"
   ]
  },
  {
   "cell_type": "code",
   "execution_count": 5,
   "metadata": {},
   "outputs": [
    {
     "name": "stdout",
     "output_type": "stream",
     "text": [
      "{'Name': 'Vimal', 'Age': 27, 'Location': 'Chennai'}\n",
      "<class 'dict'>\n"
     ]
    }
   ],
   "source": [
    "student = {\"Name\": \"Vimal\", \"Age\": 27, \"Location\": \"Chennai\"}\n",
    "print(student)\n",
    "print(type(student))"
   ]
  },
  {
   "cell_type": "code",
   "execution_count": 6,
   "metadata": {},
   "outputs": [],
   "source": [
    "student[\"Name\"] = \"Varun\""
   ]
  },
  {
   "cell_type": "code",
   "execution_count": 7,
   "metadata": {},
   "outputs": [
    {
     "data": {
      "text/plain": [
       "{'Name': 'Varun', 'Age': 27, 'Location': 'Chennai'}"
      ]
     },
     "execution_count": 7,
     "metadata": {},
     "output_type": "execute_result"
    }
   ],
   "source": [
    "student"
   ]
  },
  {
   "cell_type": "code",
   "execution_count": 9,
   "metadata": {},
   "outputs": [
    {
     "name": "stdout",
     "output_type": "stream",
     "text": [
      "{'Age': 27, 'Location': 'Chennai'}\n"
     ]
    }
   ],
   "source": [
    "student.pop(\"Name\")\n",
    "print(student)"
   ]
  },
  {
   "cell_type": "code",
   "execution_count": 10,
   "metadata": {},
   "outputs": [
    {
     "name": "stdout",
     "output_type": "stream",
     "text": [
      "27\n"
     ]
    }
   ],
   "source": [
    "print(student[\"Age\"])"
   ]
  },
  {
   "cell_type": "code",
   "execution_count": 13,
   "metadata": {},
   "outputs": [
    {
     "name": "stdout",
     "output_type": "stream",
     "text": [
      "27\n",
      "None\n",
      "Not avaliable\n"
     ]
    }
   ],
   "source": [
    "print(student.get(\"Age\"))\n",
    "print(student.get(\"Name\"))\n",
    "print(student.get(\"Name\", \"Not avaliable\"))"
   ]
  },
  {
   "cell_type": "code",
   "execution_count": 14,
   "metadata": {},
   "outputs": [
    {
     "name": "stdout",
     "output_type": "stream",
     "text": [
      "{'Age': 26, 'Location': 'Chennai'}\n",
      "{'Age': 26, 'Location': 'Chennai', 'Name': 'Vimal'}\n"
     ]
    }
   ],
   "source": [
    "#Modifying Dictionary Elements\n",
    "##Dictionary are mutable, so you can add, delete and update\n",
    "student[\"Age\"] = 26 ## Updated the values\n",
    "print(student)\n",
    "student[\"Name\"] = \"Vimal\" ## added the new key values\n",
    "print(student)"
   ]
  },
  {
   "cell_type": "code",
   "execution_count": 15,
   "metadata": {},
   "outputs": [
    {
     "name": "stdout",
     "output_type": "stream",
     "text": [
      "dict_keys(['Age', 'Location', 'Name'])\n",
      "dict_values([26, 'Chennai', 'Vimal'])\n",
      "dict_items([('Age', 26), ('Location', 'Chennai'), ('Name', 'Vimal')])\n"
     ]
    }
   ],
   "source": [
    "## Dictionary Methods\n",
    "\n",
    "keys = student.keys()\n",
    "print(keys)\n",
    "\n",
    "values = student.values()\n",
    "print(values)\n",
    "\n",
    "Key_vlaues = student.items()\n",
    "print(Key_vlaues)"
   ]
  },
  {
   "cell_type": "code",
   "execution_count": 17,
   "metadata": {},
   "outputs": [
    {
     "name": "stdout",
     "output_type": "stream",
     "text": [
      "{'Age': 26, 'Location': 'Chennai', 'Name': 'Vimal'}\n",
      "{'Age': 26, 'Location': 'Chennai', 'Name': 'Vimal'}\n"
     ]
    }
   ],
   "source": [
    "##Shallow copy\n",
    "student_copy = student\n",
    "print(student_copy)\n",
    "print(student)"
   ]
  },
  {
   "cell_type": "code",
   "execution_count": 18,
   "metadata": {},
   "outputs": [
    {
     "name": "stdout",
     "output_type": "stream",
     "text": [
      "{'Age': 26, 'Location': 'Chennai', 'Name': 'Vimal', 'Job position': 'Data Scientist'}\n",
      "{'Age': 26, 'Location': 'Chennai', 'Name': 'Vimal', 'Job position': 'Data Scientist'}\n"
     ]
    }
   ],
   "source": [
    "student[\"Job position\"] = \"Data Scientist\"\n",
    "print(student)\n",
    "print(student_copy)"
   ]
  },
  {
   "cell_type": "code",
   "execution_count": 19,
   "metadata": {},
   "outputs": [
    {
     "name": "stdout",
     "output_type": "stream",
     "text": [
      "{'Age': 26, 'Location': 'Chennai', 'Name': 'Vimal', 'Job position': 'Data Scientist'}\n",
      "{'Age': 26, 'Location': 'Chennai', 'Name': 'Vimal', 'Job position': 'Data Scientist'}\n"
     ]
    }
   ],
   "source": [
    "student_copy1 = student.copy()\n",
    "print(student)\n",
    "print(student_copy1)"
   ]
  },
  {
   "cell_type": "code",
   "execution_count": 20,
   "metadata": {},
   "outputs": [
    {
     "name": "stdout",
     "output_type": "stream",
     "text": [
      "{'Age': 26, 'Location': 'Chennai', 'Name': 'Vimal', 'Job position': 'Data Scientist', 'Salary': (10, 0, 0.0)}\n",
      "{'Age': 26, 'Location': 'Chennai', 'Name': 'Vimal', 'Job position': 'Data Scientist'}\n"
     ]
    }
   ],
   "source": [
    "student[\"Salary\"] = 10,000,000.00\n",
    "print(student)\n",
    "print(student_copy1)"
   ]
  },
  {
   "cell_type": "code",
   "execution_count": 23,
   "metadata": {},
   "outputs": [
    {
     "name": "stdout",
     "output_type": "stream",
     "text": [
      "Age\n",
      "Location\n",
      "Name\n",
      "Job position\n",
      "Salary\n"
     ]
    }
   ],
   "source": [
    "## Itearting the over dictionary\n",
    "\n",
    "for i in student.keys():\n",
    "    print(i)"
   ]
  },
  {
   "cell_type": "code",
   "execution_count": 24,
   "metadata": {},
   "outputs": [
    {
     "name": "stdout",
     "output_type": "stream",
     "text": [
      "26\n",
      "Chennai\n",
      "Vimal\n",
      "Data Scientist\n",
      "(10, 0, 0.0)\n"
     ]
    }
   ],
   "source": [
    "for i in student.values():\n",
    "    print(i)"
   ]
  },
  {
   "cell_type": "code",
   "execution_count": 25,
   "metadata": {},
   "outputs": [
    {
     "name": "stdout",
     "output_type": "stream",
     "text": [
      "('Age', 26)\n",
      "('Location', 'Chennai')\n",
      "('Name', 'Vimal')\n",
      "('Job position', 'Data Scientist')\n",
      "('Salary', (10, 0, 0.0))\n"
     ]
    }
   ],
   "source": [
    "for i in student.items():\n",
    "    print(i)"
   ]
  },
  {
   "cell_type": "code",
   "execution_count": 26,
   "metadata": {},
   "outputs": [
    {
     "name": "stdout",
     "output_type": "stream",
     "text": [
      "Age:26\n",
      "Location:Chennai\n",
      "Name:Vimal\n",
      "Job position:Data Scientist\n",
      "Salary:(10, 0, 0.0)\n"
     ]
    }
   ],
   "source": [
    "for keys, values in student.items():\n",
    "    print(f\"{keys}:{values}\")"
   ]
  },
  {
   "cell_type": "code",
   "execution_count": null,
   "metadata": {},
   "outputs": [],
   "source": []
  },
  {
   "cell_type": "code",
   "execution_count": null,
   "metadata": {},
   "outputs": [],
   "source": []
  },
  {
   "cell_type": "code",
   "execution_count": null,
   "metadata": {},
   "outputs": [],
   "source": []
  },
  {
   "cell_type": "code",
   "execution_count": null,
   "metadata": {},
   "outputs": [],
   "source": []
  }
 ],
 "metadata": {
  "kernelspec": {
   "display_name": "Python 3",
   "language": "python",
   "name": "python3"
  },
  "language_info": {
   "codemirror_mode": {
    "name": "ipython",
    "version": 3
   },
   "file_extension": ".py",
   "mimetype": "text/x-python",
   "name": "python",
   "nbconvert_exporter": "python",
   "pygments_lexer": "ipython3",
   "version": "3.13.0"
  }
 },
 "nbformat": 4,
 "nbformat_minor": 2
}
