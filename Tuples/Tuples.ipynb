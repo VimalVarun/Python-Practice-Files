{
 "cells": [
  {
   "cell_type": "code",
   "execution_count": 1,
   "metadata": {},
   "outputs": [
    {
     "name": "stdout",
     "output_type": "stream",
     "text": [
      "(12, 3, 4, 5)\n"
     ]
    }
   ],
   "source": [
    "numbers = (12,3,4,5,)\n",
    "print(numbers)"
   ]
  },
  {
   "cell_type": "code",
   "execution_count": 2,
   "metadata": {},
   "outputs": [
    {
     "name": "stdout",
     "output_type": "stream",
     "text": [
      "(1, 2, 3, 5, 5, 'Hello', 5, 5.0, True)\n"
     ]
    }
   ],
   "source": [
    "numbers = (1 , 2 , 3 , 5 , 5)\n",
    "mixed_tuples = (\"Hello\", 5, 5.0, True)\n",
    "\n",
    "final_tuples = numbers + mixed_tuples\n",
    "\n",
    "print(final_tuples)"
   ]
  },
  {
   "cell_type": "code",
   "execution_count": 4,
   "metadata": {},
   "outputs": [
    {
     "name": "stdout",
     "output_type": "stream",
     "text": [
      "[1, 2, 3, 4, 1, 2, 3, 4, 1, 2, 3, 4]\n"
     ]
    }
   ],
   "source": [
    "list = [1, 2, 3, 4]\n",
    "list * 3\n",
    "print(list*3)"
   ]
  },
  {
   "cell_type": "code",
   "execution_count": 7,
   "metadata": {},
   "outputs": [
    {
     "name": "stdout",
     "output_type": "stream",
     "text": [
      "('Hello world', 3.1, 5)\n"
     ]
    }
   ],
   "source": [
    "#packing the tuples\n",
    "\n",
    "packing_tuples = \"Hello world\", 3.10, 5\n",
    "\n",
    "print(packing_tuples)"
   ]
  },
  {
   "cell_type": "code",
   "execution_count": 8,
   "metadata": {},
   "outputs": [
    {
     "name": "stdout",
     "output_type": "stream",
     "text": [
      "Hello world\n",
      "3.1\n",
      "5\n"
     ]
    }
   ],
   "source": [
    "#unpacking the tuples\n",
    "\n",
    "a,b,c = packing_tuples\n",
    "print(a)\n",
    "print(b)\n",
    "print(c)"
   ]
  },
  {
   "cell_type": "code",
   "execution_count": 9,
   "metadata": {},
   "outputs": [
    {
     "name": "stdout",
     "output_type": "stream",
     "text": [
      "1\n",
      "[2, 3, 4, 5, 6, 7, 8, 9, 10, 12]\n",
      "454\n"
     ]
    }
   ],
   "source": [
    "#unpacking with *\n",
    "numbers = (1,2,3,4,5,6,7,8,9,10,12,454)\n",
    "first,*middle,last = numbers\n",
    "print(first)\n",
    "print(middle)\n",
    "print(last)"
   ]
  },
  {
   "cell_type": "code",
   "execution_count": 10,
   "metadata": {},
   "outputs": [
    {
     "name": "stdout",
     "output_type": "stream",
     "text": [
      "[[1, 2, 3], ['Vimal', 'luna', 'Haseena'], [0.5, 0.7, 0.8]]\n"
     ]
    }
   ],
   "source": [
    "##Nested list\n",
    "\n",
    "Nested_list = [[1,2,3], [\"Vimal\", 'luna', \"Haseena\"], [0.5,0.7,0.8]]\n",
    "print(Nested_list)"
   ]
  },
  {
   "cell_type": "code",
   "execution_count": 12,
   "metadata": {},
   "outputs": [
    {
     "name": "stdout",
     "output_type": "stream",
     "text": [
      "[1, 2, 3]\n",
      "2\n"
     ]
    }
   ],
   "source": [
    "print(Nested_list[0])\n",
    "print(Nested_list[0][1])"
   ]
  },
  {
   "cell_type": "code",
   "execution_count": 13,
   "metadata": {},
   "outputs": [
    {
     "name": "stdout",
     "output_type": "stream",
     "text": [
      "Haseena\n"
     ]
    }
   ],
   "source": [
    "print(Nested_list[1][2])"
   ]
  },
  {
   "cell_type": "code",
   "execution_count": 14,
   "metadata": {},
   "outputs": [
    {
     "name": "stdout",
     "output_type": "stream",
     "text": [
      "0.7\n"
     ]
    }
   ],
   "source": [
    "print(Nested_list[2][1])"
   ]
  },
  {
   "cell_type": "code",
   "execution_count": 15,
   "metadata": {},
   "outputs": [
    {
     "name": "stdout",
     "output_type": "stream",
     "text": [
      "[(1, 2, 3), ('Vimal', 'Kamali', 'Nandhni'), (0.4, 0.8, 0.7)]\n",
      "2\n",
      "Nandhni\n",
      "0.4\n"
     ]
    }
   ],
   "source": [
    "##Nested tuples\n",
    "\n",
    "Nested_tuples = [(1,2,3), (\"Vimal\", \"Kamali\", \"Nandhni\"), (0.4,0.8,0.7)]\n",
    "print(Nested_tuples)\n",
    "print(Nested_tuples[0][1])\n",
    "print(Nested_tuples[1][2])\n",
    "print(Nested_tuples[2][0])"
   ]
  },
  {
   "cell_type": "code",
   "execution_count": 16,
   "metadata": {},
   "outputs": [
    {
     "name": "stdout",
     "output_type": "stream",
     "text": [
      "[(1, 2, 3), ('Vimal', 'Kamali', 'Nandhni'), (0.4, 0.8, 0.7)]\n"
     ]
    }
   ],
   "source": [
    "Nested_tuples1 = [(1,2,3), [\"Vimal\", \"Kamali\", \"Nandhni\"], (0.4,0.8,0.7)]\n",
    "print(Nested_tuples)"
   ]
  },
  {
   "cell_type": "code",
   "execution_count": 17,
   "metadata": {},
   "outputs": [
    {
     "name": "stdout",
     "output_type": "stream",
     "text": [
      "1 2 3 Vimal Kamali Nandhni 0.4 0.8 0.7 "
     ]
    }
   ],
   "source": [
    "##Iteration of nested tuples\n",
    "\n",
    "for i in Nested_tuples:\n",
    "    for item in i:\n",
    "        print(item, end= \" \")"
   ]
  },
  {
   "cell_type": "code",
   "execution_count": null,
   "metadata": {},
   "outputs": [],
   "source": []
  },
  {
   "cell_type": "code",
   "execution_count": null,
   "metadata": {},
   "outputs": [],
   "source": []
  },
  {
   "cell_type": "code",
   "execution_count": null,
   "metadata": {},
   "outputs": [],
   "source": []
  },
  {
   "cell_type": "code",
   "execution_count": null,
   "metadata": {},
   "outputs": [],
   "source": []
  },
  {
   "cell_type": "code",
   "execution_count": null,
   "metadata": {},
   "outputs": [],
   "source": []
  },
  {
   "cell_type": "code",
   "execution_count": null,
   "metadata": {},
   "outputs": [],
   "source": []
  },
  {
   "cell_type": "code",
   "execution_count": null,
   "metadata": {},
   "outputs": [],
   "source": []
  },
  {
   "cell_type": "code",
   "execution_count": null,
   "metadata": {},
   "outputs": [],
   "source": []
  },
  {
   "cell_type": "code",
   "execution_count": null,
   "metadata": {},
   "outputs": [],
   "source": []
  },
  {
   "cell_type": "code",
   "execution_count": null,
   "metadata": {},
   "outputs": [],
   "source": []
  },
  {
   "cell_type": "code",
   "execution_count": null,
   "metadata": {},
   "outputs": [],
   "source": []
  },
  {
   "cell_type": "code",
   "execution_count": null,
   "metadata": {},
   "outputs": [],
   "source": []
  },
  {
   "cell_type": "code",
   "execution_count": null,
   "metadata": {},
   "outputs": [],
   "source": []
  },
  {
   "cell_type": "code",
   "execution_count": null,
   "metadata": {},
   "outputs": [],
   "source": []
  },
  {
   "cell_type": "code",
   "execution_count": null,
   "metadata": {},
   "outputs": [],
   "source": []
  },
  {
   "cell_type": "code",
   "execution_count": null,
   "metadata": {},
   "outputs": [],
   "source": []
  }
 ],
 "metadata": {
  "kernelspec": {
   "display_name": "Python 3",
   "language": "python",
   "name": "python3"
  },
  "language_info": {
   "codemirror_mode": {
    "name": "ipython",
    "version": 3
   },
   "file_extension": ".py",
   "mimetype": "text/x-python",
   "name": "python",
   "nbconvert_exporter": "python",
   "pygments_lexer": "ipython3",
   "version": "3.13.0"
  }
 },
 "nbformat": 4,
 "nbformat_minor": 2
}
