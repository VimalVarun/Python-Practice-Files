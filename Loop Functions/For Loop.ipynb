{
 "cells": [
  {
   "cell_type": "code",
   "execution_count": 1,
   "metadata": {},
   "outputs": [
    {
     "name": "stdout",
     "output_type": "stream",
     "text": [
      "Vimal Love Luna\n",
      "Vimal Love Luna\n",
      "Vimal Love Luna\n",
      "Vimal Love Luna\n",
      "Vimal Love Luna\n",
      "Vimal Love Luna\n",
      "Vimal Love Luna\n",
      "Vimal Love Luna\n",
      "Vimal Love Luna\n",
      "Vimal Love Luna\n"
     ]
    }
   ],
   "source": [
    "for i in range (10):\n",
    "    print(\"Vimal Love Luna\")\n"
   ]
  },
  {
   "cell_type": "code",
   "execution_count": 2,
   "metadata": {},
   "outputs": [
    {
     "name": "stdout",
     "output_type": "stream",
     "text": [
      "0 I love Luna\n",
      "1 I love Luna\n",
      "2 I love Luna\n",
      "3 I love Luna\n",
      "4 I love Luna\n",
      "5 I love Luna\n",
      "6 I love Luna\n",
      "7 I love Luna\n",
      "8 I love Luna\n",
      "9 I love Luna\n"
     ]
    }
   ],
   "source": [
    "for i in range (10):\n",
    "    print(i, \"I love Luna\")"
   ]
  },
  {
   "cell_type": "code",
   "execution_count": 3,
   "metadata": {},
   "outputs": [
    {
     "name": "stdout",
     "output_type": "stream",
     "text": [
      "2 I love luna\n",
      "3 I love luna\n",
      "4 I love luna\n",
      "5 I love luna\n",
      "6 I love luna\n",
      "7 I love luna\n",
      "8 I love luna\n",
      "9 I love luna\n"
     ]
    }
   ],
   "source": [
    "for i in range (2,10):\n",
    "    print(i,\"I love luna\")"
   ]
  },
  {
   "cell_type": "code",
   "execution_count": 4,
   "metadata": {},
   "outputs": [
    {
     "name": "stdout",
     "output_type": "stream",
     "text": [
      "1 I love luna\n",
      "3 I love luna\n",
      "5 I love luna\n",
      "7 I love luna\n",
      "9 I love luna\n"
     ]
    }
   ],
   "source": [
    "for i in range (1,10,2): # start, stop, step\n",
    "    print(i,\"I love luna\")"
   ]
  },
  {
   "cell_type": "code",
   "execution_count": 5,
   "metadata": {},
   "outputs": [
    {
     "name": "stdout",
     "output_type": "stream",
     "text": [
      "U\n",
      "n\n",
      "i\n",
      "t\n",
      "e\n",
      "d\n",
      " \n",
      "s\n",
      "t\n",
      "a\n",
      "t\n",
      "e\n",
      "s\n",
      " \n",
      "o\n",
      "f\n",
      " \n",
      "A\n",
      "m\n",
      "e\n",
      "r\n",
      "i\n",
      "c\n",
      "a\n"
     ]
    }
   ],
   "source": [
    "a = \"United states of America\"\n",
    "\n",
    "for k in a:\n",
    "    print(k)"
   ]
  },
  {
   "cell_type": "code",
   "execution_count": 6,
   "metadata": {},
   "outputs": [
    {
     "name": "stdout",
     "output_type": "stream",
     "text": [
      "U\n",
      "n\n",
      "i\n",
      "t\n",
      "e\n",
      "d\n",
      " \n",
      "s\n",
      "t\n",
      "a\n",
      "t\n",
      "e\n",
      "s\n",
      " \n",
      "o\n",
      "f\n",
      " \n",
      "A\n",
      "m\n",
      "e\n",
      "r\n",
      "i\n",
      "c\n",
      "a\n"
     ]
    }
   ],
   "source": [
    "a = \"United states of America\"\n",
    "\n",
    "for k in range(len(a)):\n",
    "    print(a[k])"
   ]
  },
  {
   "cell_type": "code",
   "execution_count": 7,
   "metadata": {},
   "outputs": [
    {
     "name": "stdout",
     "output_type": "stream",
     "text": [
      "0\n",
      "1\n",
      "2\n",
      "3\n",
      "4\n",
      "5\n",
      "6\n",
      "7\n",
      "8\n",
      "9\n",
      "10\n",
      "11\n",
      "12\n",
      "13\n",
      "14\n",
      "15\n",
      "16\n",
      "17\n",
      "18\n",
      "19\n",
      "20\n",
      "21\n",
      "22\n",
      "23\n"
     ]
    }
   ],
   "source": [
    "a = \"United states of America\"\n",
    "\n",
    "for k in range(len(a)):\n",
    "    print(k)"
   ]
  },
  {
   "cell_type": "code",
   "execution_count": 8,
   "metadata": {},
   "outputs": [
    {
     "name": "stdout",
     "output_type": "stream",
     "text": [
      "I\n",
      "n\n",
      "d\n",
      "i\n",
      "a\n"
     ]
    }
   ],
   "source": [
    "a = \"India\"\n",
    "\n",
    "for k in range(len(a)):\n",
    "    print(a[k])"
   ]
  },
  {
   "cell_type": "code",
   "execution_count": 9,
   "metadata": {},
   "outputs": [
    {
     "name": "stdout",
     "output_type": "stream",
     "text": [
      "Apple\n",
      "Bannana\n",
      "Cherry\n"
     ]
    }
   ],
   "source": [
    "fruits = [\"Apple\", \"Bannana\", \"Cherry\"]\n",
    "\n",
    "for i in fruits:\n",
    "    print(i)"
   ]
  },
  {
   "cell_type": "code",
   "execution_count": 10,
   "metadata": {},
   "outputs": [
    {
     "name": "stdout",
     "output_type": "stream",
     "text": [
      "0\n",
      "1\n",
      "2\n"
     ]
    }
   ],
   "source": [
    "for i in range(len(fruits)):\n",
    "    print(i)"
   ]
  },
  {
   "cell_type": "code",
   "execution_count": 11,
   "metadata": {},
   "outputs": [
    {
     "name": "stdout",
     "output_type": "stream",
     "text": [
      "['Apple', 'Bannana', 'Cherry']\n",
      "['Apple', 'Bannana', 'Cherry']\n",
      "['Apple', 'Bannana', 'Cherry']\n"
     ]
    }
   ],
   "source": [
    "for i in range(len(fruits)):\n",
    "    print (fruits)"
   ]
  },
  {
   "cell_type": "code",
   "execution_count": 12,
   "metadata": {},
   "outputs": [
    {
     "name": "stdout",
     "output_type": "stream",
     "text": [
      "0\n",
      "1\n",
      "2\n",
      "3\n",
      "4\n",
      "5\n",
      "6\n",
      "7\n",
      "8\n",
      "9\n"
     ]
    }
   ],
   "source": [
    "for i in range(20):\n",
    "    if i ==10:\n",
    "        break\n",
    "    print(i)\n"
   ]
  },
  {
   "cell_type": "code",
   "execution_count": 13,
   "metadata": {},
   "outputs": [
    {
     "name": "stdout",
     "output_type": "stream",
     "text": [
      "\n",
      "\n",
      "\n",
      "\n",
      "\n",
      "\n",
      "\n",
      "\n",
      "\n",
      "\n",
      "\n",
      "\n",
      "\n",
      "\n",
      "\n",
      "\n",
      "\n",
      "\n",
      "\n"
     ]
    }
   ],
   "source": [
    "for i in range (20):\n",
    "    if i==10:\n",
    "        continue\n",
    "    print()"
   ]
  },
  {
   "cell_type": "code",
   "execution_count": 14,
   "metadata": {},
   "outputs": [
    {
     "name": "stdout",
     "output_type": "stream",
     "text": [
      "\n",
      "\n",
      "\n",
      "\n",
      "\n",
      "\n",
      "\n",
      "\n",
      "\n",
      "\n",
      "\n",
      "\n",
      "\n",
      "\n",
      "\n",
      "\n",
      "\n",
      "\n",
      "\n"
     ]
    }
   ],
   "source": [
    "for i in range (20):\n",
    "    if i==10:\n",
    "        continue\n",
    "    print()"
   ]
  },
  {
   "cell_type": "code",
   "execution_count": 15,
   "metadata": {},
   "outputs": [
    {
     "name": "stdout",
     "output_type": "stream",
     "text": [
      "0\n",
      "2\n",
      "4\n",
      "6\n",
      "8\n"
     ]
    }
   ],
   "source": [
    "for i in range(10):\n",
    "    if i%2==0:\n",
    "        print(i)"
   ]
  },
  {
   "cell_type": "code",
   "execution_count": 16,
   "metadata": {},
   "outputs": [],
   "source": [
    "for i in range(10):\n",
    "    if i%2==0:\n",
    "         break\n",
    "    print(i)"
   ]
  },
  {
   "cell_type": "code",
   "execution_count": 17,
   "metadata": {},
   "outputs": [
    {
     "name": "stdout",
     "output_type": "stream",
     "text": [
      "b is greater than a\n"
     ]
    }
   ],
   "source": [
    "a = 33\n",
    "b = 220\n",
    "\n",
    "if b > a:\n",
    "    print(\"b is greater than a\")\n",
    "else:\n",
    "    print(\"a is less than b\")"
   ]
  },
  {
   "cell_type": "code",
   "execution_count": 18,
   "metadata": {},
   "outputs": [
    {
     "name": "stdout",
     "output_type": "stream",
     "text": [
      "a\n",
      "p\n",
      "p\n"
     ]
    }
   ],
   "source": [
    "for i in (\"apple\"):\n",
    "    if i==\"l\":\n",
    "        break\n",
    "    print(i)"
   ]
  },
  {
   "cell_type": "code",
   "execution_count": 19,
   "metadata": {},
   "outputs": [
    {
     "name": "stdout",
     "output_type": "stream",
     "text": [
      "0\n",
      "3\n"
     ]
    }
   ],
   "source": [
    "for i in range (0, 10, 3):\n",
    "    if i==6:\n",
    "        break\n",
    "    print(i)"
   ]
  },
  {
   "cell_type": "code",
   "execution_count": 20,
   "metadata": {},
   "outputs": [
    {
     "name": "stdout",
     "output_type": "stream",
     "text": [
      "['a']\n",
      "['p']\n",
      "['p']\n",
      "['l']\n",
      "['e']\n"
     ]
    }
   ],
   "source": [
    "a = \"apple\"\n",
    "\n",
    "for i in (a):\n",
    "    print([i])"
   ]
  },
  {
   "cell_type": "code",
   "execution_count": 21,
   "metadata": {},
   "outputs": [
    {
     "name": "stdout",
     "output_type": "stream",
     "text": [
      "5050\n"
     ]
    }
   ],
   "source": [
    "total_sum = 0\n",
    "\n",
    "for num in range (1, 101):\n",
    "    total_sum += num\n",
    "\n",
    "print(total_sum)\n",
    "\n"
   ]
  },
  {
   "cell_type": "code",
   "execution_count": 22,
   "metadata": {},
   "outputs": [
    {
     "name": "stdout",
     "output_type": "stream",
     "text": [
      "The sum of total numbers from 1 to 1000 is 499500\n"
     ]
    }
   ],
   "source": [
    "total_sum = 0\n",
    "\n",
    "for num in range (1, 1000):\n",
    "    total_sum += num\n",
    "\n",
    "\n",
    "print(\"The sum of total numbers from 1 to 1000 is\", total_sum)\n"
   ]
  },
  {
   "cell_type": "code",
   "execution_count": 23,
   "metadata": {},
   "outputs": [
    {
     "name": "stdout",
     "output_type": "stream",
     "text": [
      "12\n",
      "24\n",
      "18\n",
      "44\n"
     ]
    }
   ],
   "source": [
    "numbers = [12,17,24,9,31,18,44,59]\n",
    "\n",
    "for i in (numbers):\n",
    "    if i%2==0:\n",
    "        print(i)"
   ]
  },
  {
   "cell_type": "code",
   "execution_count": 24,
   "metadata": {},
   "outputs": [
    {
     "name": "stdout",
     "output_type": "stream",
     "text": [
      "Even Number is 2\n",
      "Even Number is 4\n",
      "Even Number is 6\n",
      "Even Number is 8\n",
      "Even Number is 10\n",
      "Even Number is 12\n",
      "Even Number is 14\n",
      "Even Number is 16\n",
      "Even Number is 18\n",
      "Even Number is 20\n",
      "Even Number is 22\n",
      "Even Number is 24\n",
      "Even Number is 26\n",
      "Even Number is 28\n",
      "Even Number is 30\n",
      "Even Number is 32\n",
      "Even Number is 34\n",
      "Even Number is 36\n",
      "Even Number is 38\n",
      "Even Number is 40\n",
      "Even Number is 42\n",
      "Even Number is 44\n",
      "Even Number is 46\n",
      "Even Number is 48\n",
      "Even Number is 50\n",
      "Even Number is 52\n",
      "Even Number is 54\n",
      "Even Number is 56\n",
      "Even Number is 58\n",
      "Even Number is 60\n",
      "Even Number is 62\n",
      "Even Number is 64\n",
      "Even Number is 66\n",
      "Even Number is 68\n",
      "Even Number is 70\n",
      "Even Number is 72\n",
      "Even Number is 74\n",
      "Even Number is 76\n",
      "Even Number is 78\n",
      "Even Number is 80\n",
      "Even Number is 82\n",
      "Even Number is 84\n",
      "Even Number is 86\n",
      "Even Number is 88\n",
      "Even Number is 90\n",
      "Even Number is 92\n",
      "Even Number is 94\n",
      "Even Number is 96\n",
      "Even Number is 98\n",
      "Even Number is 100\n"
     ]
    }
   ],
   "source": [
    "for i in range(1, 101):\n",
    "    if i%2==0:\n",
    "        print(\"Even Number is\", i)"
   ]
  },
  {
   "cell_type": "code",
   "execution_count": 25,
   "metadata": {},
   "outputs": [],
   "source": [
    "a = 10"
   ]
  },
  {
   "cell_type": "code",
   "execution_count": 26,
   "metadata": {},
   "outputs": [
    {
     "name": "stdout",
     "output_type": "stream",
     "text": [
      "10\n"
     ]
    }
   ],
   "source": [
    "print(a)"
   ]
  },
  {
   "cell_type": "code",
   "execution_count": 27,
   "metadata": {},
   "outputs": [
    {
     "name": "stdout",
     "output_type": "stream",
     "text": [
      "The sum of total numbers from 1 to 10 is 45\n"
     ]
    }
   ],
   "source": [
    "total_sum = 0\n",
    "\n",
    "for p in range (1, 10):\n",
    "    total_sum += p\n",
    "\n",
    "print(\"The sum of total numbers from 1 to 10 is\", total_sum)"
   ]
  },
  {
   "cell_type": "code",
   "execution_count": 28,
   "metadata": {},
   "outputs": [
    {
     "name": "stdout",
     "output_type": "stream",
     "text": [
      "a\n",
      "p\n",
      "p\n",
      "l\n",
      "e\n"
     ]
    }
   ],
   "source": [
    "for i in \"apple\":\n",
    "    print (i)"
   ]
  },
  {
   "cell_type": "code",
   "execution_count": 29,
   "metadata": {},
   "outputs": [
    {
     "name": "stdout",
     "output_type": "stream",
     "text": [
      "Total number of the sum is 45\n"
     ]
    }
   ],
   "source": [
    "total_score = 0\n",
    "\n",
    "for i in range (10):\n",
    "    total_score += i\n",
    "\n",
    "print (\"Total number of the sum is\", total_score)"
   ]
  },
  {
   "cell_type": "code",
   "execution_count": 30,
   "metadata": {},
   "outputs": [
    {
     "name": "stdout",
     "output_type": "stream",
     "text": [
      "I love data science\n",
      "I love data science\n",
      "I love data science\n",
      "I love data science\n",
      "I love data science\n",
      "I love data science\n",
      "I love data science\n",
      "I love data science\n",
      "I love data science\n",
      "I love data science\n"
     ]
    }
   ],
   "source": [
    "for i in range (10):\n",
    "    print(\"I love data science\")"
   ]
  },
  {
   "cell_type": "code",
   "execution_count": 31,
   "metadata": {},
   "outputs": [
    {
     "name": "stdout",
     "output_type": "stream",
     "text": [
      "Even Number 0\n",
      "Even Number 2\n",
      "Even Number 4\n",
      "Even Number 6\n",
      "Even Number 8\n",
      "Even Number 10\n",
      "Even Number 12\n",
      "Even Number 14\n",
      "Even Number 16\n",
      "Even Number 18\n",
      "Even Number 20\n",
      "Even Number 22\n",
      "Even Number 24\n",
      "Even Number 26\n",
      "Even Number 28\n",
      "Even Number 30\n",
      "Even Number 32\n",
      "Even Number 34\n",
      "Even Number 36\n",
      "Even Number 38\n",
      "Even Number 40\n",
      "Even Number 42\n",
      "Even Number 44\n",
      "Even Number 46\n",
      "Even Number 48\n",
      "Even Number 50\n",
      "Even Number 52\n",
      "Even Number 54\n",
      "Even Number 56\n",
      "Even Number 58\n",
      "Even Number 60\n",
      "Even Number 62\n",
      "Even Number 64\n",
      "Even Number 66\n",
      "Even Number 68\n",
      "Even Number 70\n",
      "Even Number 72\n",
      "Even Number 74\n",
      "Even Number 76\n",
      "Even Number 78\n",
      "Even Number 80\n",
      "Even Number 82\n",
      "Even Number 84\n",
      "Even Number 86\n",
      "Even Number 88\n",
      "Even Number 90\n",
      "Even Number 92\n",
      "Even Number 94\n",
      "Even Number 96\n",
      "Even Number 98\n"
     ]
    }
   ],
   "source": [
    "for i in range(100):\n",
    "    if i%2==0:\n",
    "        print(\"Even Number\", i)\n",
    "\n",
    "\n"
   ]
  },
  {
   "cell_type": "code",
   "execution_count": 32,
   "metadata": {},
   "outputs": [
    {
     "name": "stdout",
     "output_type": "stream",
     "text": [
      "Odd Number 1\n",
      "Odd Number 3\n",
      "Odd Number 5\n",
      "Odd Number 7\n",
      "Odd Number 9\n",
      "Odd Number 11\n",
      "Odd Number 13\n",
      "Odd Number 15\n",
      "Odd Number 17\n",
      "Odd Number 19\n",
      "Odd Number 21\n",
      "Odd Number 23\n",
      "Odd Number 25\n",
      "Odd Number 27\n",
      "Odd Number 29\n",
      "Odd Number 31\n",
      "Odd Number 33\n",
      "Odd Number 35\n",
      "Odd Number 37\n",
      "Odd Number 39\n",
      "Odd Number 41\n",
      "Odd Number 43\n",
      "Odd Number 45\n",
      "Odd Number 47\n",
      "Odd Number 49\n",
      "Odd Number 51\n",
      "Odd Number 53\n",
      "Odd Number 55\n",
      "Odd Number 57\n",
      "Odd Number 59\n",
      "Odd Number 61\n",
      "Odd Number 63\n",
      "Odd Number 65\n",
      "Odd Number 67\n",
      "Odd Number 69\n",
      "Odd Number 71\n",
      "Odd Number 73\n",
      "Odd Number 75\n",
      "Odd Number 77\n",
      "Odd Number 79\n",
      "Odd Number 81\n",
      "Odd Number 83\n",
      "Odd Number 85\n",
      "Odd Number 87\n",
      "Odd Number 89\n",
      "Odd Number 91\n",
      "Odd Number 93\n",
      "Odd Number 95\n",
      "Odd Number 97\n",
      "Odd Number 99\n"
     ]
    }
   ],
   "source": [
    "for i in range (1, 100, 2):\n",
    "    print(\"Odd Number\", i)"
   ]
  },
  {
   "cell_type": "code",
   "execution_count": 33,
   "metadata": {},
   "outputs": [
    {
     "name": "stdout",
     "output_type": "stream",
     "text": [
      "Odd Numbers 0\n",
      "Odd Numbers 3\n",
      "Odd Numbers 6\n",
      "Odd Numbers 9\n",
      "Odd Numbers 12\n",
      "Odd Numbers 15\n",
      "Odd Numbers 18\n",
      "Odd Numbers 21\n",
      "Odd Numbers 24\n",
      "Odd Numbers 27\n",
      "Odd Numbers 30\n",
      "Odd Numbers 33\n",
      "Odd Numbers 36\n",
      "Odd Numbers 39\n",
      "Odd Numbers 42\n",
      "Odd Numbers 45\n",
      "Odd Numbers 48\n",
      "Odd Numbers 51\n",
      "Odd Numbers 54\n",
      "Odd Numbers 57\n",
      "Odd Numbers 60\n",
      "Odd Numbers 63\n",
      "Odd Numbers 66\n",
      "Odd Numbers 69\n",
      "Odd Numbers 72\n",
      "Odd Numbers 75\n",
      "Odd Numbers 78\n",
      "Odd Numbers 81\n",
      "Odd Numbers 84\n",
      "Odd Numbers 87\n",
      "Odd Numbers 90\n",
      "Odd Numbers 93\n",
      "Odd Numbers 96\n",
      "Odd Numbers 99\n"
     ]
    }
   ],
   "source": [
    "for i in range (100):\n",
    "    if i%3==0:\n",
    "        print(\"Odd Numbers\", i)"
   ]
  },
  {
   "cell_type": "code",
   "execution_count": 34,
   "metadata": {},
   "outputs": [
    {
     "name": "stdout",
     "output_type": "stream",
     "text": [
      "Total Sum of the Numbers is 4950\n"
     ]
    }
   ],
   "source": [
    "Sum_num = 0\n",
    "\n",
    "for i in range (100):\n",
    "    Sum_num += i\n",
    "print(\"Total Sum of the Numbers is\", Sum_num)\n",
    "    "
   ]
  },
  {
   "cell_type": "code",
   "execution_count": 35,
   "metadata": {},
   "outputs": [
    {
     "name": "stdout",
     "output_type": "stream",
     "text": [
      "False\n"
     ]
    }
   ],
   "source": [
    "list = [\"Apple\", \"banana\", \"Cherry\"]\n",
    "print([\"banana\"] in list)"
   ]
  },
  {
   "cell_type": "code",
   "execution_count": 36,
   "metadata": {},
   "outputs": [
    {
     "name": "stdout",
     "output_type": "stream",
     "text": [
      "Yes apple in the list\n"
     ]
    }
   ],
   "source": [
    "if \"Apple\" in list:\n",
    "    print(\"Yes apple in the list\")\n",
    "else:\n",
    "    print(\"No the apple not in the list\")"
   ]
  },
  {
   "cell_type": "code",
   "execution_count": 1,
   "metadata": {},
   "outputs": [
    {
     "name": "stdout",
     "output_type": "stream",
     "text": [
      "Greatest number is 35\n"
     ]
    }
   ],
   "source": [
    "Number_1 = int(input(\"Enter a number\"))\n",
    "Number_2 = int (input(\"Enter a number\"))\n",
    "Number_3 = int(input(\"Enter a number\"))\n",
    "\n",
    "if Number_1>Number_2 and Number_1>Number_2:\n",
    "    print(\"Greatest Number is \", Number_1)\n",
    "elif Number_2>Number_1 and Number_2>Number_3:\n",
    "    print(\"Greatest number is\", Number_2)\n",
    "else:\n",
    "    print(\"Gratest number is\", Number_3)"
   ]
  },
  {
   "cell_type": "code",
   "execution_count": 5,
   "metadata": {},
   "outputs": [
    {
     "name": "stdout",
     "output_type": "stream",
     "text": [
      "2\n",
      "4\n",
      "6\n",
      "8\n",
      "10\n",
      "12\n",
      "14\n",
      "16\n",
      "18\n",
      "20\n",
      "22\n",
      "24\n",
      "26\n",
      "28\n",
      "30\n",
      "32\n",
      "34\n",
      "36\n",
      "38\n",
      "40\n",
      "42\n",
      "44\n",
      "46\n",
      "48\n",
      "50\n",
      "52\n",
      "54\n",
      "56\n",
      "58\n",
      "60\n",
      "62\n",
      "64\n",
      "66\n",
      "68\n",
      "70\n",
      "72\n",
      "74\n",
      "76\n",
      "78\n",
      "80\n",
      "82\n",
      "84\n",
      "86\n",
      "88\n",
      "90\n",
      "92\n",
      "94\n",
      "96\n",
      "98\n"
     ]
    }
   ],
   "source": [
    "for i in range (1, 100):\n",
    "    if i%2==0:\n",
    "        print(i)"
   ]
  },
  {
   "cell_type": "code",
   "execution_count": 6,
   "metadata": {},
   "outputs": [
    {
     "name": "stdout",
     "output_type": "stream",
     "text": [
      "0\n",
      "1\n",
      "2\n",
      "3\n",
      "4\n",
      "5\n",
      "6\n",
      "7\n",
      "8\n",
      "9\n"
     ]
    }
   ],
   "source": [
    "for i in range (10):\n",
    "    print(i)"
   ]
  },
  {
   "cell_type": "code",
   "execution_count": 7,
   "metadata": {},
   "outputs": [
    {
     "name": "stdout",
     "output_type": "stream",
     "text": [
      "I\n",
      " \n",
      "l\n",
      "o\n",
      "v\n",
      "e\n",
      " \n",
      "m\n",
      "y\n",
      "s\n",
      "e\n",
      "l\n",
      "f\n"
     ]
    }
   ],
   "source": [
    "Name = \"I love myself\"\n",
    "\n",
    "for i in Name:\n",
    "    print(i)"
   ]
  },
  {
   "cell_type": "code",
   "execution_count": 8,
   "metadata": {},
   "outputs": [
    {
     "name": "stdout",
     "output_type": "stream",
     "text": [
      "2\n",
      "4\n",
      "6\n",
      "8\n",
      "10\n",
      "12\n",
      "14\n",
      "16\n",
      "18\n",
      "20\n",
      "22\n",
      "24\n",
      "26\n",
      "28\n",
      "30\n",
      "32\n",
      "34\n",
      "36\n",
      "38\n",
      "40\n",
      "42\n",
      "44\n",
      "46\n",
      "48\n",
      "50\n",
      "52\n",
      "54\n",
      "56\n",
      "58\n",
      "60\n",
      "62\n",
      "64\n",
      "66\n",
      "68\n",
      "70\n",
      "72\n",
      "74\n",
      "76\n",
      "78\n",
      "80\n",
      "82\n",
      "84\n",
      "86\n",
      "88\n",
      "90\n",
      "92\n",
      "94\n",
      "96\n",
      "98\n",
      "100\n"
     ]
    }
   ],
   "source": [
    "for i in range(1, 101):\n",
    "    if i%2==0:\n",
    "        print(i)"
   ]
  },
  {
   "cell_type": "code",
   "execution_count": 9,
   "metadata": {},
   "outputs": [
    {
     "name": "stdout",
     "output_type": "stream",
     "text": [
      "1\n",
      "3\n",
      "5\n",
      "7\n",
      "9\n",
      "11\n",
      "13\n",
      "15\n",
      "17\n",
      "19\n",
      "21\n",
      "23\n",
      "25\n",
      "27\n",
      "29\n",
      "31\n",
      "33\n",
      "35\n",
      "37\n",
      "39\n",
      "41\n",
      "43\n",
      "45\n",
      "47\n",
      "49\n",
      "51\n",
      "53\n",
      "55\n",
      "57\n",
      "59\n",
      "61\n",
      "63\n",
      "65\n",
      "67\n",
      "69\n",
      "71\n",
      "73\n",
      "75\n",
      "77\n",
      "79\n",
      "81\n",
      "83\n",
      "85\n",
      "87\n",
      "89\n",
      "91\n",
      "93\n",
      "95\n",
      "97\n",
      "99\n"
     ]
    }
   ],
   "source": [
    "for i in range(1,101,2):\n",
    "    print(i)"
   ]
  },
  {
   "cell_type": "code",
   "execution_count": 10,
   "metadata": {},
   "outputs": [
    {
     "name": "stdout",
     "output_type": "stream",
     "text": [
      "3\n",
      "6\n",
      "9\n",
      "12\n",
      "15\n",
      "18\n",
      "21\n",
      "24\n",
      "27\n",
      "30\n",
      "33\n",
      "36\n",
      "39\n",
      "42\n",
      "45\n",
      "48\n",
      "51\n",
      "54\n",
      "57\n",
      "60\n",
      "63\n",
      "66\n",
      "69\n",
      "72\n",
      "75\n",
      "78\n",
      "81\n",
      "84\n",
      "87\n",
      "90\n",
      "93\n",
      "96\n",
      "99\n"
     ]
    }
   ],
   "source": [
    "for i in range (1, 101):\n",
    "    if i%3==0:\n",
    "        print(i)"
   ]
  },
  {
   "cell_type": "code",
   "execution_count": 11,
   "metadata": {},
   "outputs": [
    {
     "name": "stdout",
     "output_type": "stream",
     "text": [
      "1\n",
      "3\n",
      "5\n",
      "7\n",
      "9\n",
      "11\n",
      "13\n",
      "15\n",
      "17\n",
      "19\n",
      "21\n",
      "23\n",
      "25\n",
      "27\n",
      "29\n",
      "31\n",
      "33\n",
      "35\n",
      "37\n",
      "39\n",
      "41\n",
      "43\n",
      "45\n",
      "47\n",
      "49\n",
      "51\n",
      "53\n",
      "55\n",
      "57\n",
      "59\n",
      "61\n",
      "63\n",
      "65\n",
      "67\n",
      "69\n",
      "71\n",
      "73\n",
      "75\n",
      "77\n",
      "79\n",
      "81\n",
      "83\n",
      "85\n",
      "87\n",
      "89\n",
      "91\n",
      "93\n",
      "95\n",
      "97\n",
      "99\n"
     ]
    }
   ],
   "source": [
    "for i in range(1, 101):\n",
    "    if i%2==0:\n",
    "        continue\n",
    "    print(i)\n",
    "        "
   ]
  },
  {
   "cell_type": "code",
   "execution_count": 13,
   "metadata": {},
   "outputs": [
    {
     "name": "stdout",
     "output_type": "stream",
     "text": [
      "1\n",
      "3\n",
      "6\n",
      "10\n",
      "15\n",
      "21\n",
      "28\n",
      "36\n",
      "45\n",
      "55\n",
      "66\n",
      "78\n",
      "91\n",
      "105\n",
      "120\n",
      "136\n",
      "153\n",
      "171\n",
      "190\n",
      "210\n",
      "231\n",
      "253\n",
      "276\n",
      "300\n",
      "325\n",
      "351\n",
      "378\n",
      "406\n",
      "435\n",
      "465\n",
      "496\n",
      "528\n",
      "561\n",
      "595\n",
      "630\n",
      "666\n",
      "703\n",
      "741\n",
      "780\n",
      "820\n",
      "861\n",
      "903\n",
      "946\n",
      "990\n",
      "1035\n",
      "1081\n",
      "1128\n",
      "1176\n",
      "1225\n",
      "1275\n",
      "1326\n",
      "1378\n",
      "1431\n",
      "1485\n",
      "1540\n",
      "1596\n",
      "1653\n",
      "1711\n",
      "1770\n",
      "1830\n",
      "1891\n",
      "1953\n",
      "2016\n",
      "2080\n",
      "2145\n",
      "2211\n",
      "2278\n",
      "2346\n",
      "2415\n",
      "2485\n",
      "2556\n",
      "2628\n",
      "2701\n",
      "2775\n",
      "2850\n",
      "2926\n",
      "3003\n",
      "3081\n",
      "3160\n",
      "3240\n",
      "3321\n",
      "3403\n",
      "3486\n",
      "3570\n",
      "3655\n",
      "3741\n",
      "3828\n",
      "3916\n",
      "4005\n",
      "4095\n",
      "4186\n",
      "4278\n",
      "4371\n",
      "4465\n",
      "4560\n",
      "4656\n",
      "4753\n",
      "4851\n",
      "4950\n",
      "5050\n",
      "5151\n",
      "5253\n",
      "5356\n",
      "5460\n",
      "5565\n",
      "5671\n",
      "5778\n",
      "5886\n",
      "5995\n",
      "6105\n",
      "6216\n",
      "6328\n",
      "6441\n",
      "6555\n",
      "6670\n",
      "6786\n",
      "6903\n",
      "7021\n",
      "7140\n",
      "7260\n",
      "7381\n",
      "7503\n",
      "7626\n",
      "7750\n",
      "7875\n",
      "8001\n",
      "8128\n",
      "8256\n",
      "8385\n",
      "8515\n",
      "8646\n",
      "8778\n",
      "8911\n",
      "9045\n",
      "9180\n",
      "9316\n",
      "9453\n",
      "9591\n",
      "9730\n",
      "9870\n",
      "10011\n",
      "10153\n",
      "10296\n",
      "10440\n",
      "10585\n",
      "10731\n",
      "10878\n",
      "11026\n",
      "11175\n",
      "11325\n",
      "11476\n",
      "11628\n",
      "11781\n",
      "11935\n",
      "12090\n",
      "12246\n",
      "12403\n",
      "12561\n",
      "12720\n",
      "12880\n",
      "13041\n",
      "13203\n",
      "13366\n",
      "13530\n",
      "13695\n",
      "13861\n",
      "14028\n",
      "14196\n",
      "14365\n",
      "14535\n",
      "14706\n",
      "14878\n",
      "15051\n",
      "15225\n",
      "15400\n",
      "15576\n",
      "15753\n",
      "15931\n",
      "16110\n",
      "16290\n",
      "16471\n",
      "16653\n",
      "16836\n",
      "17020\n",
      "17205\n",
      "17391\n",
      "17578\n",
      "17766\n",
      "17955\n",
      "18145\n",
      "18336\n",
      "18528\n",
      "18721\n",
      "18915\n",
      "19110\n",
      "19306\n",
      "19503\n",
      "19701\n",
      "19900\n",
      "20100\n",
      "20301\n",
      "20503\n",
      "20706\n",
      "20910\n",
      "21115\n",
      "21321\n",
      "21528\n",
      "21736\n",
      "21945\n",
      "22155\n",
      "22366\n",
      "22578\n",
      "22791\n",
      "23005\n",
      "23220\n",
      "23436\n",
      "23653\n",
      "23871\n",
      "24090\n",
      "24310\n",
      "24531\n",
      "24753\n",
      "24976\n",
      "25200\n",
      "25425\n",
      "25651\n",
      "25878\n",
      "26106\n",
      "26335\n",
      "26565\n",
      "26796\n",
      "27028\n",
      "27261\n",
      "27495\n",
      "27730\n",
      "27966\n",
      "28203\n",
      "28441\n",
      "28680\n",
      "28920\n",
      "29161\n",
      "29403\n",
      "29646\n",
      "29890\n",
      "30135\n",
      "30381\n",
      "30628\n",
      "30876\n",
      "31125\n",
      "31375\n",
      "31626\n",
      "31878\n",
      "32131\n",
      "32385\n",
      "32640\n",
      "32896\n",
      "33153\n",
      "33411\n",
      "33670\n",
      "33930\n",
      "34191\n",
      "34453\n",
      "34716\n",
      "34980\n",
      "35245\n",
      "35511\n",
      "35778\n",
      "36046\n",
      "36315\n",
      "36585\n",
      "36856\n",
      "37128\n",
      "37401\n",
      "37675\n",
      "37950\n",
      "38226\n",
      "38503\n",
      "38781\n",
      "39060\n",
      "39340\n",
      "39621\n",
      "39903\n",
      "40186\n",
      "40470\n",
      "40755\n",
      "41041\n",
      "41328\n",
      "41616\n",
      "41905\n",
      "42195\n",
      "42486\n",
      "42778\n",
      "43071\n",
      "43365\n",
      "43660\n",
      "43956\n",
      "44253\n",
      "44551\n",
      "44850\n",
      "45150\n",
      "45451\n",
      "45753\n",
      "46056\n",
      "46360\n",
      "46665\n",
      "46971\n",
      "47278\n",
      "47586\n",
      "47895\n",
      "48205\n",
      "48516\n",
      "48828\n",
      "49141\n",
      "49455\n",
      "49770\n",
      "50086\n",
      "50403\n",
      "50721\n",
      "51040\n",
      "51360\n",
      "51681\n",
      "52003\n",
      "52326\n",
      "52650\n",
      "52975\n",
      "53301\n",
      "53628\n",
      "53956\n",
      "54285\n",
      "54615\n",
      "54946\n",
      "55278\n",
      "55611\n",
      "55945\n",
      "56280\n",
      "56616\n",
      "56953\n",
      "57291\n",
      "57630\n",
      "57970\n",
      "58311\n",
      "58653\n",
      "58996\n",
      "59340\n",
      "59685\n",
      "60031\n",
      "60378\n",
      "60726\n",
      "61075\n",
      "61425\n",
      "61776\n",
      "62128\n",
      "62481\n",
      "62835\n",
      "63190\n",
      "63546\n",
      "63903\n",
      "64261\n",
      "64620\n",
      "64980\n",
      "65341\n",
      "65703\n",
      "66066\n",
      "66430\n",
      "66795\n",
      "67161\n",
      "67528\n",
      "67896\n",
      "68265\n",
      "68635\n",
      "69006\n",
      "69378\n",
      "69751\n",
      "70125\n",
      "70500\n",
      "70876\n",
      "71253\n",
      "71631\n",
      "72010\n",
      "72390\n",
      "72771\n",
      "73153\n",
      "73536\n",
      "73920\n",
      "74305\n",
      "74691\n",
      "75078\n",
      "75466\n",
      "75855\n",
      "76245\n",
      "76636\n",
      "77028\n",
      "77421\n",
      "77815\n",
      "78210\n",
      "78606\n",
      "79003\n",
      "79401\n",
      "79800\n",
      "80200\n",
      "80601\n",
      "81003\n",
      "81406\n",
      "81810\n",
      "82215\n",
      "82621\n",
      "83028\n",
      "83436\n",
      "83845\n",
      "84255\n",
      "84666\n",
      "85078\n",
      "85491\n",
      "85905\n",
      "86320\n",
      "86736\n",
      "87153\n",
      "87571\n",
      "87990\n",
      "88410\n",
      "88831\n",
      "89253\n",
      "89676\n",
      "90100\n",
      "90525\n",
      "90951\n",
      "91378\n",
      "91806\n",
      "92235\n",
      "92665\n",
      "93096\n",
      "93528\n",
      "93961\n",
      "94395\n",
      "94830\n",
      "95266\n",
      "95703\n",
      "96141\n",
      "96580\n",
      "97020\n",
      "97461\n",
      "97903\n",
      "98346\n",
      "98790\n",
      "99235\n",
      "99681\n",
      "100128\n",
      "100576\n",
      "101025\n",
      "101475\n",
      "101926\n",
      "102378\n",
      "102831\n",
      "103285\n",
      "103740\n",
      "104196\n",
      "104653\n",
      "105111\n",
      "105570\n",
      "106030\n",
      "106491\n",
      "106953\n",
      "107416\n",
      "107880\n",
      "108345\n",
      "108811\n",
      "109278\n",
      "109746\n",
      "110215\n",
      "110685\n",
      "111156\n",
      "111628\n",
      "112101\n",
      "112575\n",
      "113050\n",
      "113526\n",
      "114003\n",
      "114481\n",
      "114960\n",
      "115440\n",
      "115921\n",
      "116403\n",
      "116886\n",
      "117370\n",
      "117855\n",
      "118341\n",
      "118828\n",
      "119316\n",
      "119805\n",
      "120295\n",
      "120786\n",
      "121278\n",
      "121771\n",
      "122265\n",
      "122760\n",
      "123256\n",
      "123753\n",
      "124251\n",
      "124750\n",
      "125250\n",
      "125751\n",
      "126253\n",
      "126756\n",
      "127260\n",
      "127765\n",
      "128271\n",
      "128778\n",
      "129286\n",
      "129795\n",
      "130305\n",
      "130816\n",
      "131328\n",
      "131841\n",
      "132355\n",
      "132870\n",
      "133386\n",
      "133903\n",
      "134421\n",
      "134940\n",
      "135460\n",
      "135981\n",
      "136503\n",
      "137026\n",
      "137550\n",
      "138075\n",
      "138601\n",
      "139128\n",
      "139656\n",
      "140185\n",
      "140715\n",
      "141246\n",
      "141778\n",
      "142311\n",
      "142845\n",
      "143380\n",
      "143916\n",
      "144453\n",
      "144991\n",
      "145530\n",
      "146070\n",
      "146611\n",
      "147153\n",
      "147696\n",
      "148240\n",
      "148785\n",
      "149331\n",
      "149878\n",
      "150426\n",
      "150975\n",
      "151525\n",
      "152076\n",
      "152628\n",
      "153181\n",
      "153735\n",
      "154290\n",
      "154846\n",
      "155403\n",
      "155961\n",
      "156520\n",
      "157080\n",
      "157641\n",
      "158203\n",
      "158766\n",
      "159330\n",
      "159895\n",
      "160461\n",
      "161028\n",
      "161596\n",
      "162165\n",
      "162735\n",
      "163306\n",
      "163878\n",
      "164451\n",
      "165025\n",
      "165600\n",
      "166176\n",
      "166753\n",
      "167331\n",
      "167910\n",
      "168490\n",
      "169071\n",
      "169653\n",
      "170236\n",
      "170820\n",
      "171405\n",
      "171991\n",
      "172578\n",
      "173166\n",
      "173755\n",
      "174345\n",
      "174936\n",
      "175528\n",
      "176121\n",
      "176715\n",
      "177310\n",
      "177906\n",
      "178503\n",
      "179101\n",
      "179700\n",
      "180300\n",
      "180901\n",
      "181503\n",
      "182106\n",
      "182710\n",
      "183315\n",
      "183921\n",
      "184528\n",
      "185136\n",
      "185745\n",
      "186355\n",
      "186966\n",
      "187578\n",
      "188191\n",
      "188805\n",
      "189420\n",
      "190036\n",
      "190653\n",
      "191271\n",
      "191890\n",
      "192510\n",
      "193131\n",
      "193753\n",
      "194376\n",
      "195000\n",
      "195625\n",
      "196251\n",
      "196878\n",
      "197506\n",
      "198135\n",
      "198765\n",
      "199396\n",
      "200028\n",
      "200661\n",
      "201295\n",
      "201930\n",
      "202566\n",
      "203203\n",
      "203841\n",
      "204480\n",
      "205120\n",
      "205761\n",
      "206403\n",
      "207046\n",
      "207690\n",
      "208335\n",
      "208981\n",
      "209628\n",
      "210276\n",
      "210925\n",
      "211575\n",
      "212226\n",
      "212878\n",
      "213531\n",
      "214185\n",
      "214840\n",
      "215496\n",
      "216153\n",
      "216811\n",
      "217470\n",
      "218130\n",
      "218791\n",
      "219453\n",
      "220116\n",
      "220780\n",
      "221445\n",
      "222111\n",
      "222778\n",
      "223446\n",
      "224115\n",
      "224785\n",
      "225456\n",
      "226128\n",
      "226801\n",
      "227475\n",
      "228150\n",
      "228826\n",
      "229503\n",
      "230181\n",
      "230860\n",
      "231540\n",
      "232221\n",
      "232903\n",
      "233586\n",
      "234270\n",
      "234955\n",
      "235641\n",
      "236328\n",
      "237016\n",
      "237705\n",
      "238395\n",
      "239086\n",
      "239778\n",
      "240471\n",
      "241165\n",
      "241860\n",
      "242556\n",
      "243253\n",
      "243951\n",
      "244650\n",
      "245350\n",
      "246051\n",
      "246753\n",
      "247456\n",
      "248160\n",
      "248865\n",
      "249571\n",
      "250278\n",
      "250986\n",
      "251695\n",
      "252405\n",
      "253116\n",
      "253828\n",
      "254541\n",
      "255255\n",
      "255970\n",
      "256686\n",
      "257403\n",
      "258121\n",
      "258840\n",
      "259560\n",
      "260281\n",
      "261003\n",
      "261726\n",
      "262450\n",
      "263175\n",
      "263901\n",
      "264628\n",
      "265356\n",
      "266085\n",
      "266815\n",
      "267546\n",
      "268278\n",
      "269011\n",
      "269745\n",
      "270480\n",
      "271216\n",
      "271953\n",
      "272691\n",
      "273430\n",
      "274170\n",
      "274911\n",
      "275653\n",
      "276396\n",
      "277140\n",
      "277885\n",
      "278631\n",
      "279378\n",
      "280126\n",
      "280875\n",
      "281625\n",
      "282376\n",
      "283128\n",
      "283881\n",
      "284635\n",
      "285390\n",
      "286146\n",
      "286903\n",
      "287661\n",
      "288420\n",
      "289180\n",
      "289941\n",
      "290703\n",
      "291466\n",
      "292230\n",
      "292995\n",
      "293761\n",
      "294528\n",
      "295296\n",
      "296065\n",
      "296835\n",
      "297606\n",
      "298378\n",
      "299151\n",
      "299925\n",
      "300700\n",
      "301476\n",
      "302253\n",
      "303031\n",
      "303810\n",
      "304590\n",
      "305371\n",
      "306153\n",
      "306936\n",
      "307720\n",
      "308505\n",
      "309291\n",
      "310078\n",
      "310866\n",
      "311655\n",
      "312445\n",
      "313236\n",
      "314028\n",
      "314821\n",
      "315615\n",
      "316410\n",
      "317206\n",
      "318003\n",
      "318801\n",
      "319600\n",
      "320400\n",
      "321201\n",
      "322003\n",
      "322806\n",
      "323610\n",
      "324415\n",
      "325221\n",
      "326028\n",
      "326836\n",
      "327645\n",
      "328455\n",
      "329266\n",
      "330078\n",
      "330891\n",
      "331705\n",
      "332520\n",
      "333336\n",
      "334153\n",
      "334971\n",
      "335790\n",
      "336610\n",
      "337431\n",
      "338253\n",
      "339076\n",
      "339900\n",
      "340725\n",
      "341551\n",
      "342378\n",
      "343206\n",
      "344035\n",
      "344865\n",
      "345696\n",
      "346528\n",
      "347361\n",
      "348195\n",
      "349030\n",
      "349866\n",
      "350703\n",
      "351541\n",
      "352380\n",
      "353220\n",
      "354061\n",
      "354903\n",
      "355746\n",
      "356590\n",
      "357435\n",
      "358281\n",
      "359128\n",
      "359976\n",
      "360825\n",
      "361675\n",
      "362526\n",
      "363378\n",
      "364231\n",
      "365085\n",
      "365940\n",
      "366796\n",
      "367653\n",
      "368511\n",
      "369370\n",
      "370230\n",
      "371091\n",
      "371953\n",
      "372816\n",
      "373680\n",
      "374545\n",
      "375411\n",
      "376278\n",
      "377146\n",
      "378015\n",
      "378885\n",
      "379756\n",
      "380628\n",
      "381501\n",
      "382375\n",
      "383250\n",
      "384126\n",
      "385003\n",
      "385881\n",
      "386760\n",
      "387640\n",
      "388521\n",
      "389403\n",
      "390286\n",
      "391170\n",
      "392055\n",
      "392941\n",
      "393828\n",
      "394716\n",
      "395605\n",
      "396495\n",
      "397386\n",
      "398278\n",
      "399171\n",
      "400065\n",
      "400960\n",
      "401856\n",
      "402753\n",
      "403651\n",
      "404550\n",
      "405450\n",
      "406351\n",
      "407253\n",
      "408156\n",
      "409060\n",
      "409965\n",
      "410871\n",
      "411778\n",
      "412686\n",
      "413595\n",
      "414505\n",
      "415416\n",
      "416328\n",
      "417241\n",
      "418155\n",
      "419070\n",
      "419986\n",
      "420903\n",
      "421821\n",
      "422740\n",
      "423660\n",
      "424581\n",
      "425503\n",
      "426426\n",
      "427350\n",
      "428275\n",
      "429201\n",
      "430128\n",
      "431056\n",
      "431985\n",
      "432915\n",
      "433846\n",
      "434778\n",
      "435711\n",
      "436645\n",
      "437580\n",
      "438516\n",
      "439453\n",
      "440391\n",
      "441330\n",
      "442270\n",
      "443211\n",
      "444153\n",
      "445096\n",
      "446040\n",
      "446985\n",
      "447931\n",
      "448878\n",
      "449826\n",
      "450775\n",
      "451725\n",
      "452676\n",
      "453628\n",
      "454581\n",
      "455535\n",
      "456490\n",
      "457446\n",
      "458403\n",
      "459361\n",
      "460320\n",
      "461280\n",
      "462241\n",
      "463203\n",
      "464166\n",
      "465130\n",
      "466095\n",
      "467061\n",
      "468028\n",
      "468996\n",
      "469965\n",
      "470935\n",
      "471906\n",
      "472878\n",
      "473851\n",
      "474825\n",
      "475800\n",
      "476776\n",
      "477753\n",
      "478731\n",
      "479710\n",
      "480690\n",
      "481671\n",
      "482653\n",
      "483636\n",
      "484620\n",
      "485605\n",
      "486591\n",
      "487578\n",
      "488566\n",
      "489555\n",
      "490545\n",
      "491536\n",
      "492528\n",
      "493521\n",
      "494515\n",
      "495510\n",
      "496506\n",
      "497503\n",
      "498501\n",
      "499500\n",
      "500500\n",
      "Sum of total number is 500500\n"
     ]
    }
   ],
   "source": [
    "Sum_num = 0\n",
    "\n",
    "for i in range (1, 1001):\n",
    "    Sum_num += i\n",
    "    print(Sum_num)\n",
    "\n",
    "print(f\"Sum of total number is {Sum_num}\")"
   ]
  },
  {
   "cell_type": "code",
   "execution_count": 14,
   "metadata": {},
   "outputs": [
    {
     "name": "stdout",
     "output_type": "stream",
     "text": [
      "1\n",
      "3\n",
      "5\n",
      "7\n",
      "9\n",
      "11\n",
      "13\n",
      "15\n",
      "17\n",
      "19\n",
      "21\n",
      "23\n",
      "25\n",
      "27\n",
      "29\n",
      "31\n",
      "33\n",
      "35\n",
      "37\n",
      "39\n",
      "41\n",
      "43\n",
      "45\n",
      "47\n",
      "49\n",
      "51\n",
      "53\n",
      "55\n",
      "57\n",
      "59\n",
      "61\n",
      "63\n",
      "65\n",
      "67\n",
      "69\n",
      "71\n",
      "73\n",
      "75\n",
      "77\n",
      "79\n",
      "81\n",
      "83\n",
      "85\n",
      "87\n",
      "89\n",
      "91\n",
      "93\n",
      "95\n",
      "97\n",
      "99\n"
     ]
    }
   ],
   "source": [
    "for i in range (1, 101):\n",
    "    if i%2==0:\n",
    "        continue\n",
    "    print(i)"
   ]
  },
  {
   "cell_type": "code",
   "execution_count": 16,
   "metadata": {},
   "outputs": [
    {
     "name": "stdout",
     "output_type": "stream",
     "text": [
      "1\n",
      "2\n"
     ]
    }
   ],
   "source": [
    "for i in range(1, 101):\n",
    "    if i%3==0:\n",
    "        break\n",
    "    print(i)"
   ]
  },
  {
   "cell_type": "code",
   "execution_count": 20,
   "metadata": {},
   "outputs": [
    {
     "name": "stdout",
     "output_type": "stream",
     "text": [
      "1\n",
      "2\n",
      "3\n",
      "4\n",
      "5\n",
      "6\n",
      "7\n",
      "8\n",
      "9\n",
      "10\n",
      "11\n"
     ]
    }
   ],
   "source": [
    "count = 0 \n",
    "\n",
    "while count <=10:\n",
    "    count = count + 1\n",
    "    print(count)"
   ]
  },
  {
   "cell_type": "code",
   "execution_count": 21,
   "metadata": {},
   "outputs": [
    {
     "name": "stdout",
     "output_type": "stream",
     "text": [
      "1\n",
      "2\n",
      "3\n",
      "4\n",
      "5\n",
      "6\n",
      "7\n",
      "8\n",
      "9\n",
      "10\n"
     ]
    }
   ],
   "source": [
    "#Counting with a Loop:\n",
    "\n",
    "for i in range (1, 11):\n",
    "    print(i)"
   ]
  },
  {
   "cell_type": "code",
   "execution_count": 25,
   "metadata": {},
   "outputs": [
    {
     "name": "stdout",
     "output_type": "stream",
     "text": [
      "The sum of all the even number within the 1 to 20:  2\n",
      "The sum of all the even number within the 1 to 20:  6\n",
      "The sum of all the even number within the 1 to 20:  12\n",
      "The sum of all the even number within the 1 to 20:  20\n",
      "The sum of all the even number within the 1 to 20:  30\n",
      "The sum of all the even number within the 1 to 20:  42\n",
      "The sum of all the even number within the 1 to 20:  56\n",
      "The sum of all the even number within the 1 to 20:  72\n",
      "The sum of all the even number within the 1 to 20:  90\n",
      "The sum of all the even number within the 1 to 20:  110\n",
      "The sum of all the even number within the 1 to 20:  110\n"
     ]
    }
   ],
   "source": [
    "Sum_even = 0\n",
    "\n",
    "for i in range(1, 21):\n",
    "    if i%2==0:\n",
    "        Sum_even += i\n",
    "        print(f\"The sum of all the even number within the 1 to 20: \", Sum_even)\n",
    "\n",
    "print(f\"The sum of all the even number within the 1 to 20: \", Sum_even)"
   ]
  },
  {
   "cell_type": "code",
   "execution_count": 30,
   "metadata": {},
   "outputs": [
    {
     "name": "stdout",
     "output_type": "stream",
     "text": [
      "10\n",
      "9\n",
      "8\n",
      "7\n",
      "6\n",
      "5\n",
      "4\n",
      "3\n",
      "2\n",
      "1\n"
     ]
    }
   ],
   "source": [
    "for i in range(10, 0, -1):\n",
    "    print(i)"
   ]
  },
  {
   "cell_type": "code",
   "execution_count": 33,
   "metadata": {},
   "outputs": [
    {
     "name": "stdout",
     "output_type": "stream",
     "text": [
      "H\n",
      "e\n",
      "l\n",
      "l\n",
      "o\n"
     ]
    }
   ],
   "source": [
    "Name = \"Hello\"\n",
    "\n",
    "for i in (Name):\n",
    "    print(i)"
   ]
  },
  {
   "cell_type": "code",
   "execution_count": 37,
   "metadata": {},
   "outputs": [
    {
     "name": "stdout",
     "output_type": "stream",
     "text": [
      "1\n",
      "2\n",
      "3\n",
      "4\n"
     ]
    }
   ],
   "source": [
    "for i in range (1, 11):\n",
    "    if i==5:\n",
    "        break\n",
    "    print(i)\n",
    "else:\n",
    "    (\"Print all the number\")"
   ]
  },
  {
   "cell_type": "code",
   "execution_count": 40,
   "metadata": {},
   "outputs": [
    {
     "name": "stdout",
     "output_type": "stream",
     "text": [
      "The Multiplication of 1 * 1\n",
      "The Multiplication of 2 * 2\n",
      "The Multiplication of 3 * 6\n",
      "The Multiplication of 4 * 24\n",
      "The Multiplication of 5 * 120\n",
      "The Multiplication of 6 * 720\n",
      "The Multiplication of 7 * 5040\n",
      "The Multiplication of 8 * 40320\n",
      "The Multiplication of 9 * 362880\n",
      "The Multiplication of 10 * 3628800\n"
     ]
    }
   ],
   "source": [
    "Multiplication = 1\n",
    "\n",
    "for i in range(1, 11):\n",
    "    Multiplication *= i\n",
    "    print(f\"The Multiplication of {i} * {Multiplication}\")"
   ]
  },
  {
   "cell_type": "code",
   "execution_count": 41,
   "metadata": {},
   "outputs": [
    {
     "name": "stdout",
     "output_type": "stream",
     "text": [
      "5 x 1 = 5\n",
      "5 x 2 = 10\n",
      "5 x 3 = 15\n",
      "5 x 4 = 20\n",
      "5 x 5 = 25\n",
      "5 x 6 = 30\n",
      "5 x 7 = 35\n",
      "5 x 8 = 40\n",
      "5 x 9 = 45\n",
      "5 x 10 = 50\n"
     ]
    }
   ],
   "source": [
    "for i in range(1, 11):\n",
    "    print(f\"5 x {i} = {5 * i}\")"
   ]
  },
  {
   "cell_type": "code",
   "execution_count": 43,
   "metadata": {},
   "outputs": [
    {
     "name": "stdout",
     "output_type": "stream",
     "text": [
      "2 x 1 = 2 \n",
      "2 x 2 = 4 \n",
      "2 x 3 = 6 \n",
      "2 x 4 = 8 \n",
      "2 x 5 = 10 \n",
      "2 x 6 = 12 \n",
      "2 x 7 = 14 \n",
      "2 x 8 = 16 \n",
      "2 x 9 = 18 \n",
      "2 x 10 = 20 \n",
      "2 x 11 = 22 \n",
      "2 x 12 = 24 \n",
      "2 x 13 = 26 \n",
      "2 x 14 = 28 \n",
      "2 x 15 = 30 \n",
      "2 x 16 = 32 \n",
      "2 x 17 = 34 \n",
      "2 x 18 = 36 \n",
      "2 x 19 = 38 \n"
     ]
    }
   ],
   "source": [
    "for i in range(1,20):\n",
    "    print(f\"2 x {i} = {2*i} \")"
   ]
  },
  {
   "cell_type": "code",
   "execution_count": 44,
   "metadata": {},
   "outputs": [
    {
     "name": "stdout",
     "output_type": "stream",
     "text": [
      "apple\n",
      "banana\n",
      "cherry\n",
      "date\n"
     ]
    }
   ],
   "source": [
    "fruits = ['apple', 'banana', 'cherry', 'date']\n",
    "\n",
    "for i in fruits:\n",
    "    print(i)"
   ]
  },
  {
   "cell_type": "code",
   "execution_count": 47,
   "metadata": {},
   "outputs": [
    {
     "name": "stdout",
     "output_type": "stream",
     "text": [
      "apple 4\n",
      "banana 4\n",
      "cherry 4\n",
      "date 4\n"
     ]
    }
   ],
   "source": [
    "for i in (fruits):\n",
    "    print(i, (len(fruits)))"
   ]
  },
  {
   "cell_type": "code",
   "execution_count": 51,
   "metadata": {},
   "outputs": [
    {
     "name": "stdout",
     "output_type": "stream",
     "text": [
      "The largest number is 89\n"
     ]
    }
   ],
   "source": [
    "list = [12, 45, 23, 67, 34, 89, 2]\n",
    "max_number = list[0]\n",
    "\n",
    "for num in list:\n",
    "    if num > max_number:\n",
    "        max_number = num\n",
    "print(f\"The largest number is {max_number}\")"
   ]
  },
  {
   "cell_type": "code",
   "execution_count": 52,
   "metadata": {},
   "outputs": [
    {
     "name": "stdout",
     "output_type": "stream",
     "text": [
      "*\n",
      "**\n",
      "***\n",
      "****\n",
      "*****\n"
     ]
    }
   ],
   "source": [
    "row = 5\n",
    "\n",
    "for i in range (1, row + 1):\n",
    "    for j in range (i):\n",
    "        print(\"*\", end=\"\")\n",
    "    print()"
   ]
  },
  {
   "cell_type": "code",
   "execution_count": 53,
   "metadata": {},
   "outputs": [
    {
     "name": "stdout",
     "output_type": "stream",
     "text": [
      "    *\n",
      "   ***\n",
      "  *****\n",
      " *******\n",
      "*********\n",
      " *******\n",
      "  *****\n",
      "   ***\n",
      "    *\n"
     ]
    }
   ],
   "source": [
    "rows = 5  # Number of rows for the top half\n",
    "\n",
    "# Upper triangle (including the middle row)\n",
    "for i in range(1, rows + 1):\n",
    "    print(\" \" * (rows - i) + \"*\" * (2 * i - 1))\n",
    "\n",
    "# Lower inverted triangle\n",
    "for i in range(rows - 1, 0, -1):\n",
    "    print(\" \" * (rows - i) + \"*\" * (2 * i - 1))"
   ]
  },
  {
   "cell_type": "code",
   "execution_count": 57,
   "metadata": {},
   "outputs": [
    {
     "name": "stdout",
     "output_type": "stream",
     "text": [
      "    *\n",
      "   ***\n",
      "  *****\n",
      " *******\n",
      "*********\n",
      " *******\n",
      "  *****\n",
      "   ***\n",
      "    *\n"
     ]
    }
   ],
   "source": [
    "stars = 5\n",
    "\n",
    "for i in range(1, stars + 1):\n",
    "    print(\" \"*(stars - i) + \"*\" * (2*i-1))\n",
    "\n",
    "for i in range(stars - 1, 0, -1):\n",
    "    print(\" \" * (stars - i) + \"*\" * (2*i-1))"
   ]
  },
  {
   "cell_type": "code",
   "execution_count": 62,
   "metadata": {},
   "outputs": [
    {
     "name": "stdout",
     "output_type": "stream",
     "text": [
      "[2, 4, 6, 8, 10, 12, 14, 16, 18, 20, 22, 24, 26, 28, 30, 32, 34, 36, 38, 40, 42, 44, 46, 48, 50, 52, 54, 56, 58, 60, 62, 64, 66, 68, 70, 72, 74, 76, 78, 80, 82, 84, 86, 88, 90, 92, 94, 96, 98, 100]\n"
     ]
    }
   ],
   "source": [
    "list =  []\n",
    "\n",
    "for i in range (1, 101):\n",
    "    if i%2==0:\n",
    "        list.append(i)\n",
    "print(list)"
   ]
  },
  {
   "cell_type": "code",
   "execution_count": 63,
   "metadata": {},
   "outputs": [
    {
     "name": "stdout",
     "output_type": "stream",
     "text": [
      "[1, 3, 5, 7, 9, 11, 13, 15, 17, 19, 21, 23, 25, 27, 29, 31, 33, 35, 37, 39, 41, 43, 45, 47, 49, 51, 53, 55, 57, 59, 61, 63, 65, 67, 69, 71, 73, 75, 77, 79, 81, 83, 85, 87, 89, 91, 93, 95, 97, 99]\n"
     ]
    }
   ],
   "source": [
    "odd = []\n",
    "\n",
    "for i in range(1, 101):\n",
    "    if i%2!=0:\n",
    "        odd.append(i)\n",
    "print(odd)"
   ]
  },
  {
   "cell_type": "code",
   "execution_count": null,
   "metadata": {},
   "outputs": [],
   "source": []
  },
  {
   "cell_type": "code",
   "execution_count": null,
   "metadata": {},
   "outputs": [],
   "source": []
  },
  {
   "cell_type": "code",
   "execution_count": null,
   "metadata": {},
   "outputs": [],
   "source": []
  }
 ],
 "metadata": {
  "kernelspec": {
   "display_name": "Python 3",
   "language": "python",
   "name": "python3"
  },
  "language_info": {
   "codemirror_mode": {
    "name": "ipython",
    "version": 3
   },
   "file_extension": ".py",
   "mimetype": "text/x-python",
   "name": "python",
   "nbconvert_exporter": "python",
   "pygments_lexer": "ipython3",
   "version": "3.13.0"
  }
 },
 "nbformat": 4,
 "nbformat_minor": 2
}
