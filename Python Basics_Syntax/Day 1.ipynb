{
 "cells": [
  {
   "cell_type": "code",
   "execution_count": 2,
   "metadata": {},
   "outputs": [
    {
     "name": "stdout",
     "output_type": "stream",
     "text": [
      "Your Old\n"
     ]
    }
   ],
   "source": [
    "age = 32\n",
    "\n",
    "if age>30:\n",
    "    print(\"Your Old\")\n",
    "else:\n",
    "    print(\"Your young\")"
   ]
  },
  {
   "cell_type": "code",
   "execution_count": 5,
   "metadata": {},
   "outputs": [
    {
     "name": "stdout",
     "output_type": "stream",
     "text": [
      "134\n"
     ]
    }
   ],
   "source": [
    "# Line Continuation\n",
    "# Use a backslash (\\) to continue a statements to the next line\n",
    "\n",
    "total=1+2+3+4+5+6+7+\\\n",
    "8+9+7+8+74\n",
    "\n",
    "print(total)"
   ]
  },
  {
   "cell_type": "code",
   "execution_count": 8,
   "metadata": {},
   "outputs": [
    {
     "name": "stdout",
     "output_type": "stream",
     "text": [
      "13\n"
     ]
    }
   ],
   "source": [
    "### Multiple Statements on a single line\n",
    "x=5;y=8;z=x+y\n",
    "print(z)"
   ]
  },
  {
   "cell_type": "code",
   "execution_count": 9,
   "metadata": {},
   "outputs": [
    {
     "name": "stdout",
     "output_type": "stream",
     "text": [
      "Vimal\n"
     ]
    }
   ],
   "source": [
    "##Type Inference\n",
    "\n",
    "Variables = \"Vimal\"\n",
    "\n",
    "print(Variables)"
   ]
  },
  {
   "cell_type": "code",
   "execution_count": 10,
   "metadata": {},
   "outputs": [
    {
     "name": "stdout",
     "output_type": "stream",
     "text": [
      "<class 'str'>\n"
     ]
    }
   ],
   "source": [
    "print(type(Variables))"
   ]
  },
  {
   "cell_type": "code",
   "execution_count": 12,
   "metadata": {},
   "outputs": [
    {
     "name": "stdout",
     "output_type": "stream",
     "text": [
      "27\n"
     ]
    }
   ],
   "source": [
    "Variables = 27\n",
    "\n",
    "print(Variables)"
   ]
  },
  {
   "cell_type": "code",
   "execution_count": 13,
   "metadata": {},
   "outputs": [
    {
     "name": "stdout",
     "output_type": "stream",
     "text": [
      "<class 'int'>\n"
     ]
    }
   ],
   "source": [
    "print(type(Variables))"
   ]
  },
  {
   "cell_type": "code",
   "execution_count": 15,
   "metadata": {},
   "outputs": [
    {
     "name": "stdout",
     "output_type": "stream",
     "text": [
      "This statements is True\n",
      "This is the outside of the if clause\n"
     ]
    }
   ],
   "source": [
    "#Code Examples of Indentation\n",
    "\n",
    "if True:\n",
    "    print(\"This statements is True\")\n",
    "if False:\n",
    "    print(\"This is False indentataion\")\n",
    "print(\"This is the outside of the if clause\")"
   ]
  },
  {
   "cell_type": "code",
   "execution_count": 17,
   "metadata": {},
   "outputs": [
    {
     "name": "stdout",
     "output_type": "stream",
     "text": [
      "This statements is True\n",
      "This want to print because it will under the if clause\n",
      "This is the outside of the if clause\n"
     ]
    }
   ],
   "source": [
    "\n",
    "if True:\n",
    "    print(\"This statements is True\")\n",
    "    if False:\n",
    "       print(\"This is False indentataion\")\n",
    "    print(\"This want to print because it will under the if clause\")\n",
    "print(\"This is the outside of the if clause\")"
   ]
  },
  {
   "cell_type": "code",
   "execution_count": 21,
   "metadata": {},
   "outputs": [
    {
     "name": "stdout",
     "output_type": "stream",
     "text": [
      "Name:  Vimal\n",
      "Age: 27\n",
      "Height: 6.1\n",
      "Is_student: True\n"
     ]
    }
   ],
   "source": [
    "# Variables in Python\n",
    "\n",
    "Name = \"Vimal\"\n",
    "Age = 27\n",
    "Height = \"6.1\"\n",
    "Is_Student = True\n",
    "\n",
    "print(\"Name: \", Name)\n",
    "print(\"Age:\", Age)\n",
    "print(\"Height:\", Height)\n",
    "print(\"Is_student:\", Is_Student)"
   ]
  },
  {
   "cell_type": "code",
   "execution_count": 1,
   "metadata": {},
   "outputs": [
    {
     "name": "stdout",
     "output_type": "stream",
     "text": [
      "<class 'int'>\n"
     ]
    }
   ],
   "source": [
    "## Type checking and Conversion\n",
    "\n",
    "age = 26\n",
    "\n",
    "print(type(age))"
   ]
  },
  {
   "cell_type": "code",
   "execution_count": 2,
   "metadata": {},
   "outputs": [
    {
     "name": "stdout",
     "output_type": "stream",
     "text": [
      "26\n"
     ]
    }
   ],
   "source": [
    "## Type conversion\n",
    "\n",
    "age_str = str(age)\n",
    "\n",
    "print(age_str)"
   ]
  },
  {
   "cell_type": "code",
   "execution_count": 3,
   "metadata": {},
   "outputs": [
    {
     "name": "stdout",
     "output_type": "stream",
     "text": [
      "<class 'str'>\n"
     ]
    }
   ],
   "source": [
    "print(type(age_str))"
   ]
  },
  {
   "cell_type": "code",
   "execution_count": 4,
   "metadata": {},
   "outputs": [
    {
     "name": "stdout",
     "output_type": "stream",
     "text": [
      "<class 'float'>\n"
     ]
    }
   ],
   "source": [
    "Height = 6.7\n",
    "\n",
    "print(type(Height))"
   ]
  },
  {
   "cell_type": "code",
   "execution_count": 5,
   "metadata": {},
   "outputs": [
    {
     "name": "stdout",
     "output_type": "stream",
     "text": [
      "6\n"
     ]
    }
   ],
   "source": [
    "Int_Height = int(Height)\n",
    "\n",
    "print(Int_Height)"
   ]
  },
  {
   "cell_type": "code",
   "execution_count": 6,
   "metadata": {},
   "outputs": [
    {
     "name": "stdout",
     "output_type": "stream",
     "text": [
      "<class 'int'>\n"
     ]
    }
   ],
   "source": [
    "print(type(Int_Height))"
   ]
  },
  {
   "cell_type": "code",
   "execution_count": 7,
   "metadata": {},
   "outputs": [
    {
     "name": "stdout",
     "output_type": "stream",
     "text": [
      "25 <class 'int'>\n",
      "Hello <class 'str'>\n",
      "7.5 <class 'float'>\n"
     ]
    }
   ],
   "source": [
    "## Dynamic Typing\n",
    "\n",
    "var = 25\n",
    "print(var, type(var))\n",
    "\n",
    "var = \"Hello\"\n",
    "print(var, type(var))\n",
    "\n",
    "var = 7.5\n",
    "print(var, type(var))"
   ]
  },
  {
   "cell_type": "code",
   "execution_count": 9,
   "metadata": {},
   "outputs": [
    {
     "name": "stdout",
     "output_type": "stream",
     "text": [
      "26 <class 'int'>\n"
     ]
    }
   ],
   "source": [
    "## User Input\n",
    "\n",
    "age = int(input(\"What is the age\"))\n",
    "print(age, type(age))"
   ]
  },
  {
   "cell_type": "code",
   "execution_count": 12,
   "metadata": {},
   "outputs": [
    {
     "name": "stdout",
     "output_type": "stream",
     "text": [
      "Sum of the two number is: 65.0\n",
      "Defferent of the two number is:  45.0\n",
      "Multiplied of the two number is:  550.0\n",
      "Divison of the two number is:  5.5\n"
     ]
    }
   ],
   "source": [
    "# Create a simple calculator\n",
    "\n",
    "num1 = float(input(\"Enter a any number1\"))\n",
    "num2 = float(input(\"Enter a any number2\"))\n",
    "\n",
    "Sum = num1 + num2\n",
    "Different = num1 - num2\n",
    "Multiplied = num1 * num2\n",
    "Division = num1/num2\n",
    "\n",
    "print(\"Sum of the two number is:\",  Sum)\n",
    "print(\"Defferent of the two number is: \", Different)\n",
    "print(\"Multiplied of the two number is: \", Multiplied)\n",
    "print(\"Divison of the two number is: \", Division)"
   ]
  },
  {
   "cell_type": "code",
   "execution_count": null,
   "metadata": {},
   "outputs": [],
   "source": []
  },
  {
   "cell_type": "code",
   "execution_count": null,
   "metadata": {},
   "outputs": [],
   "source": []
  },
  {
   "cell_type": "code",
   "execution_count": null,
   "metadata": {},
   "outputs": [],
   "source": []
  },
  {
   "cell_type": "code",
   "execution_count": null,
   "metadata": {},
   "outputs": [],
   "source": []
  },
  {
   "cell_type": "code",
   "execution_count": null,
   "metadata": {},
   "outputs": [],
   "source": []
  }
 ],
 "metadata": {
  "kernelspec": {
   "display_name": "Python 3",
   "language": "python",
   "name": "python3"
  },
  "language_info": {
   "codemirror_mode": {
    "name": "ipython",
    "version": 3
   },
   "file_extension": ".py",
   "mimetype": "text/x-python",
   "name": "python",
   "nbconvert_exporter": "python",
   "pygments_lexer": "ipython3",
   "version": "3.13.0"
  }
 },
 "nbformat": 4,
 "nbformat_minor": 2
}
