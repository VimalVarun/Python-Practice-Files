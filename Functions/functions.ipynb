{
 "cells": [
  {
   "cell_type": "code",
   "execution_count": null,
   "metadata": {},
   "outputs": [],
   "source": [
    "## Syntax\n",
    "\n",
    "def function_name(parameters):\n",
    "    \"\"\"Docstring\"\"\"\n",
    "    #function body\n",
    "    return experssion\n",
    "    "
   ]
  },
  {
   "cell_type": "code",
   "execution_count": 2,
   "metadata": {},
   "outputs": [
    {
     "name": "stdout",
     "output_type": "stream",
     "text": [
      "This is the 24 even number\n"
     ]
    }
   ],
   "source": [
    "num = 24\n",
    "\n",
    "if num%2==0:\n",
    "    print(f\"This is the {num} even number\")\n",
    "else:\n",
    "    print(f\"This is not the {num} even numbers\")"
   ]
  },
  {
   "cell_type": "code",
   "execution_count": 6,
   "metadata": {},
   "outputs": [],
   "source": [
    "def even_or_Odd_numbers(num):\n",
    "    if num%2==0:\n",
    "        print(f\"This is the {num} even number\")\n",
    "    else:\n",
    "        print(f\"This is the {num} odd numbers\")"
   ]
  },
  {
   "cell_type": "code",
   "execution_count": 8,
   "metadata": {},
   "outputs": [
    {
     "name": "stdout",
     "output_type": "stream",
     "text": [
      "This is the 12 even number\n"
     ]
    }
   ],
   "source": [
    "even_or_Odd_numbers(12)"
   ]
  },
  {
   "cell_type": "code",
   "execution_count": 9,
   "metadata": {},
   "outputs": [],
   "source": [
    "def add(a,b):\n",
    "    return a+b\n"
   ]
  },
  {
   "cell_type": "code",
   "execution_count": 15,
   "metadata": {},
   "outputs": [
    {
     "name": "stdout",
     "output_type": "stream",
     "text": [
      "12\n"
     ]
    }
   ],
   "source": [
    "result = add(4,8)\n",
    "print(result)"
   ]
  },
  {
   "cell_type": "code",
   "execution_count": 16,
   "metadata": {},
   "outputs": [],
   "source": [
    "def greeting(name):\n",
    "    print(f\"Hellow {name} Welcome to the data scientist course\")"
   ]
  },
  {
   "cell_type": "code",
   "execution_count": 18,
   "metadata": {},
   "outputs": [
    {
     "name": "stdout",
     "output_type": "stream",
     "text": [
      "Hellow vimal Welcome to the data scientist course\n"
     ]
    }
   ],
   "source": [
    "greeting(\"vimal\")"
   ]
  },
  {
   "cell_type": "code",
   "execution_count": 20,
   "metadata": {},
   "outputs": [
    {
     "ename": "TypeError",
     "evalue": "greeting() missing 1 required positional argument: 'name'",
     "output_type": "error",
     "traceback": [
      "\u001b[1;31m---------------------------------------------------------------------------\u001b[0m",
      "\u001b[1;31mTypeError\u001b[0m                                 Traceback (most recent call last)",
      "Cell \u001b[1;32mIn[20], line 1\u001b[0m\n\u001b[1;32m----> 1\u001b[0m \u001b[43mgreeting\u001b[49m\u001b[43m(\u001b[49m\u001b[43m)\u001b[49m\n",
      "\u001b[1;31mTypeError\u001b[0m: greeting() missing 1 required positional argument: 'name'"
     ]
    }
   ],
   "source": [
    "greeting()"
   ]
  },
  {
   "cell_type": "code",
   "execution_count": 21,
   "metadata": {},
   "outputs": [],
   "source": [
    "def greeting(name=\"Gust\"):\n",
    "    print(f\"Hellow {name} Welcome to the data scientist course\")"
   ]
  },
  {
   "cell_type": "code",
   "execution_count": 22,
   "metadata": {},
   "outputs": [
    {
     "name": "stdout",
     "output_type": "stream",
     "text": [
      "Hellow Gust Welcome to the data scientist course\n"
     ]
    }
   ],
   "source": [
    "greeting()"
   ]
  },
  {
   "cell_type": "code",
   "execution_count": 25,
   "metadata": {},
   "outputs": [],
   "source": [
    "## Postional aggruments\n",
    "\n",
    "def numbers (*args):\n",
    "    for i in args:\n",
    "        print(f\"Postional arguments: {i}\")"
   ]
  },
  {
   "cell_type": "code",
   "execution_count": 26,
   "metadata": {},
   "outputs": [
    {
     "name": "stdout",
     "output_type": "stream",
     "text": [
      "Postional arguments: 1\n",
      "Postional arguments: 2\n",
      "Postional arguments: 3\n",
      "Postional arguments: 4\n",
      "Postional arguments: 5\n",
      "Postional arguments: 6\n",
      "Postional arguments: 7\n",
      "Postional arguments: 8\n",
      "Postional arguments: 9\n",
      "Postional arguments: 10\n",
      "Postional arguments: Vimal\n",
      "Postional arguments: Haseena\n",
      "Postional arguments: Luna\n"
     ]
    }
   ],
   "source": [
    "numbers(1,2,3,4,5,6,7,8,9,10,\"Vimal\",\"Haseena\",\"Luna\")"
   ]
  },
  {
   "cell_type": "code",
   "execution_count": 29,
   "metadata": {},
   "outputs": [],
   "source": [
    "##Keys values arguments\n",
    "\n",
    "def keys (**kyargs):\n",
    "    for i in kyargs:\n",
    "        print(f\"{i}{kyargs}\")"
   ]
  },
  {
   "cell_type": "code",
   "execution_count": 30,
   "metadata": {},
   "outputs": [
    {
     "name": "stdout",
     "output_type": "stream",
     "text": [
      "name{'name': 'vimal', 'age': 27, 'Job': 'Data Scientist'}\n",
      "age{'name': 'vimal', 'age': 27, 'Job': 'Data Scientist'}\n",
      "Job{'name': 'vimal', 'age': 27, 'Job': 'Data Scientist'}\n"
     ]
    }
   ],
   "source": [
    "keys(name=\"vimal\", age=27, Job = \"Data Scientist\")"
   ]
  },
  {
   "cell_type": "code",
   "execution_count": 33,
   "metadata": {},
   "outputs": [],
   "source": [
    "def print_details (**kwargs):\n",
    "    for keys,values in kwargs.items():\n",
    "        print(f\"{keys}: {values}\")"
   ]
  },
  {
   "cell_type": "code",
   "execution_count": 34,
   "metadata": {},
   "outputs": [
    {
     "name": "stdout",
     "output_type": "stream",
     "text": [
      "name: vimal\n",
      "age: 27\n",
      "Job: Data Scientist\n"
     ]
    }
   ],
   "source": [
    "print_details(name=\"vimal\", age=27, Job = \"Data Scientist\")"
   ]
  },
  {
   "cell_type": "code",
   "execution_count": 35,
   "metadata": {},
   "outputs": [],
   "source": [
    "# Temperature conversation\n",
    "\n",
    "def conversation(temp,unit):\n",
    "    if unit==\"C\":\n",
    "        return temp*9/5 + 32 ## Celsius to Fahrenheit\n",
    "    elif unit == \"F\":\n",
    "        return (temp-32)*5/9 ## Fahrenheit to Celsius\n",
    "    else:\n",
    "        return None"
   ]
  },
  {
   "cell_type": "code",
   "execution_count": 38,
   "metadata": {},
   "outputs": [
    {
     "name": "stdout",
     "output_type": "stream",
     "text": [
      "77.0\n",
      "25.0\n"
     ]
    }
   ],
   "source": [
    "print(conversation(25,\"C\"))\n",
    "print(conversation(77, \"F\"))"
   ]
  },
  {
   "cell_type": "code",
   "execution_count": 39,
   "metadata": {},
   "outputs": [],
   "source": [
    "# Password strength cheker\n",
    "\n",
    "def is_strong_password(password):\n",
    "    if len(password)<8:\n",
    "        return False\n",
    "    if not any (i.isdigit() for i in password):\n",
    "        return False\n",
    "    if not any (i.islower() for i in password):\n",
    "        return False\n",
    "    if not any (i.isupper() for i in password):\n",
    "        return False\n",
    "    if not any (i in \"!@#$%$^&*\" for i in password):\n",
    "        return False\n",
    "    else:\n",
    "        return \"You have the strong password\""
   ]
  },
  {
   "cell_type": "code",
   "execution_count": 42,
   "metadata": {},
   "outputs": [
    {
     "name": "stdout",
     "output_type": "stream",
     "text": [
      "You have the strong password\n",
      "False\n"
     ]
    }
   ],
   "source": [
    "print(is_strong_password(\"$BPM!2020Cvn\"))\n",
    "print(is_strong_password(\"vimal12345\"))"
   ]
  },
  {
   "cell_type": "code",
   "execution_count": 43,
   "metadata": {},
   "outputs": [
    {
     "name": "stdout",
     "output_type": "stream",
     "text": [
      "280000\n"
     ]
    }
   ],
   "source": [
    "## ToTal cost of the shopping cart\n",
    "\n",
    "def total_cost_of_Shopping (cart):\n",
    "    total_cost = 0\n",
    "    for i in cart:\n",
    "        total_cost+=i[\"Price\"]*i[\"Quantity\"]\n",
    "    return total_cost\n",
    "\n",
    "\n",
    "\n",
    "cart = [\n",
    "    {\"Name\": \"PS3\", \"Price\": 13000, \"Quantity\": 5},\n",
    "    {\"Name\": \"PS4\", \"Price\": 25000, \"Quantity\":2},\n",
    "    {\"Name\": \"PS5\", \"Price\": 55000, \"Quantity\": 3}\n",
    "]\n",
    "\n",
    "print(total_cost_of_Shopping(cart))"
   ]
  },
  {
   "cell_type": "code",
   "execution_count": null,
   "metadata": {},
   "outputs": [],
   "source": []
  },
  {
   "cell_type": "code",
   "execution_count": null,
   "metadata": {},
   "outputs": [],
   "source": []
  }
 ],
 "metadata": {
  "kernelspec": {
   "display_name": "Python 3",
   "language": "python",
   "name": "python3"
  },
  "language_info": {
   "codemirror_mode": {
    "name": "ipython",
    "version": 3
   },
   "file_extension": ".py",
   "mimetype": "text/x-python",
   "name": "python",
   "nbconvert_exporter": "python",
   "pygments_lexer": "ipython3",
   "version": "3.13.0"
  }
 },
 "nbformat": 4,
 "nbformat_minor": 2
}
