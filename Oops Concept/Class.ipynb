{
 "cells": [
  {
   "cell_type": "code",
   "execution_count": 14,
   "metadata": {},
   "outputs": [
    {
     "name": "stdout",
     "output_type": "stream",
     "text": [
      "Product Name: Oneplus\n",
      "Product describtions: 256GB and 16RAM\n",
      "Product price: 25000\n",
      "Products name: Oneplus, Product_describtions: 256GB and 16RAM, price of the products: 25000\n",
      "Electronic\n",
      "Product_name: Apple\n",
      "Produt_describtions: Pure kashmir apple\n",
      "Product_price: 250\n",
      "Products name: Apple, Product_describtions: Pure kashmir apple, price of the products: 250\n",
      "General\n"
     ]
    }
   ],
   "source": [
    "class product():\n",
    "    categories = \"General\"\n",
    "    def __init__(self, name, describtions, price):\n",
    "        self.name = name\n",
    "        self.describtions = describtions\n",
    "        self.price = price\n",
    "\n",
    "    def display_info(self):\n",
    "        return f\"Products name: {self.name}, Product_describtions: {self.describtions}, price of the products: {self.price}\"\n",
    "\n",
    "\n",
    "product1 = product(name=\"Oneplus\", describtions=\"256GB and 16RAM\", price=25000)\n",
    "print(\"Product Name:\", product1.name)\n",
    "print(\"Product describtions:\", product1.describtions)\n",
    "print(\"Product price:\", product1.price)\n",
    "print(product1.display_info())\n",
    "product1.categories = \"Electronic\"\n",
    "print(product1.categories)\n",
    "product2 = product(name= \"Apple\", describtions=\"Pure kashmir apple\", price=250)\n",
    "print(\"Product_name:\", product2.name)\n",
    "print(\"Produt_describtions:\", product2.describtions)\n",
    "print(\"Product_price:\", product2.price)\n",
    "print(product2.display_info())\n",
    "print(product2.categories)"
   ]
  },
  {
   "cell_type": "code",
   "execution_count": 15,
   "metadata": {},
   "outputs": [],
   "source": [
    "class product():\n",
    "    def __init__(self, name, describtions, price):\n",
    "        self.name = name\n",
    "        self.describtions = describtions\n",
    "        self.price = price\n",
    "\n",
    "    def display_info(self):\n",
    "        return f\"Products name: {self.name}, Product_describtions: {self.describtions}, price of the products: {self.price}\""
   ]
  },
  {
   "cell_type": "code",
   "execution_count": 16,
   "metadata": {},
   "outputs": [
    {
     "name": "stdout",
     "output_type": "stream",
     "text": [
      "Products name: Playstation, Product_describtions: Gaming Console, price of the products: 45000 weight:11KG\n"
     ]
    }
   ],
   "source": [
    "class physicalproducts(product):\n",
    "    def __init__(self, name, describtions, price, weight):\n",
    "        super().__init__(name, describtions, price)\n",
    "        self.weight = weight\n",
    "    \n",
    "    def display_info(self):\n",
    "        basis_info = super().display_info()\n",
    "        return f\"{basis_info} weight:{self.weight}KG\"\n",
    "    \n",
    "\n",
    "product_Class = physicalproducts(name=\"Playstation\", describtions=\"Gaming Console\", price=45000, weight=11)\n",
    "print(physicalproducts.display_info(product_Class))"
   ]
  },
  {
   "cell_type": "code",
   "execution_count": null,
   "metadata": {},
   "outputs": [],
   "source": []
  },
  {
   "cell_type": "code",
   "execution_count": null,
   "metadata": {},
   "outputs": [],
   "source": []
  },
  {
   "cell_type": "code",
   "execution_count": null,
   "metadata": {},
   "outputs": [],
   "source": []
  },
  {
   "cell_type": "code",
   "execution_count": null,
   "metadata": {},
   "outputs": [],
   "source": []
  },
  {
   "cell_type": "code",
   "execution_count": null,
   "metadata": {},
   "outputs": [],
   "source": []
  },
  {
   "cell_type": "code",
   "execution_count": null,
   "metadata": {},
   "outputs": [],
   "source": []
  },
  {
   "cell_type": "code",
   "execution_count": null,
   "metadata": {},
   "outputs": [],
   "source": []
  },
  {
   "cell_type": "code",
   "execution_count": null,
   "metadata": {},
   "outputs": [],
   "source": []
  },
  {
   "cell_type": "code",
   "execution_count": null,
   "metadata": {},
   "outputs": [],
   "source": []
  },
  {
   "cell_type": "code",
   "execution_count": null,
   "metadata": {},
   "outputs": [],
   "source": []
  },
  {
   "cell_type": "code",
   "execution_count": null,
   "metadata": {},
   "outputs": [],
   "source": []
  },
  {
   "cell_type": "code",
   "execution_count": null,
   "metadata": {},
   "outputs": [],
   "source": []
  },
  {
   "cell_type": "code",
   "execution_count": null,
   "metadata": {},
   "outputs": [],
   "source": []
  },
  {
   "cell_type": "code",
   "execution_count": null,
   "metadata": {},
   "outputs": [],
   "source": []
  }
 ],
 "metadata": {
  "kernelspec": {
   "display_name": "Python 3",
   "language": "python",
   "name": "python3"
  },
  "language_info": {
   "codemirror_mode": {
    "name": "ipython",
    "version": 3
   },
   "file_extension": ".py",
   "mimetype": "text/x-python",
   "name": "python",
   "nbconvert_exporter": "python",
   "pygments_lexer": "ipython3",
   "version": "3.13.0"
  }
 },
 "nbformat": 4,
 "nbformat_minor": 2
}
