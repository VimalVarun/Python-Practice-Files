{
 "cells": [
  {
   "cell_type": "code",
   "execution_count": 12,
   "id": "fab89af4",
   "metadata": {},
   "outputs": [
    {
     "name": "stdout",
     "output_type": "stream",
     "text": [
      "{1, 2, 3, 4, 5, 6, 7, 8, 9, 10}\n"
     ]
    }
   ],
   "source": [
    "s = set(range(1, 11))\n",
    "\n",
    "print(s)"
   ]
  },
  {
   "cell_type": "code",
   "execution_count": 14,
   "id": "7256a1f5",
   "metadata": {},
   "outputs": [
    {
     "ename": "KeyError",
     "evalue": "1",
     "output_type": "error",
     "traceback": [
      "\u001b[1;31m---------------------------------------------------------------------------\u001b[0m",
      "\u001b[1;31mKeyError\u001b[0m                                  Traceback (most recent call last)",
      "Cell \u001b[1;32mIn[14], line 2\u001b[0m\n\u001b[0;32m      1\u001b[0m s\u001b[38;5;241m.\u001b[39madd(\u001b[38;5;241m11\u001b[39m)\n\u001b[1;32m----> 2\u001b[0m \u001b[43ms\u001b[49m\u001b[38;5;241;43m.\u001b[39;49m\u001b[43mremove\u001b[49m\u001b[43m(\u001b[49m\u001b[38;5;241;43m1\u001b[39;49m\u001b[43m)\u001b[49m\n\u001b[0;32m      3\u001b[0m \u001b[38;5;28mprint\u001b[39m(s)\n",
      "\u001b[1;31mKeyError\u001b[0m: 1"
     ]
    }
   ],
   "source": [
    "s.add(11)\n",
    "s.remove(1)\n"
   ]
  },
  {
   "cell_type": "code",
   "execution_count": 15,
   "id": "b9e74864",
   "metadata": {},
   "outputs": [
    {
     "name": "stdout",
     "output_type": "stream",
     "text": [
      "{2, 3, 4, 5, 6, 7, 8, 9, 10, 11}\n"
     ]
    }
   ],
   "source": [
    "print(s)"
   ]
  },
  {
   "cell_type": "code",
   "execution_count": null,
   "id": "54537e0f",
   "metadata": {},
   "outputs": [],
   "source": [
    "### Assignment 3: Set Operations\n",
    "\n",
    "#Create two sets: one with the first 5 positive integers and another with the first 5 even integers. \n",
    "# Perform and print the results of union, intersection, difference, and symmetric difference operations on these sets."
   ]
  },
  {
   "cell_type": "code",
   "execution_count": 17,
   "id": "bf0212b1",
   "metadata": {},
   "outputs": [
    {
     "name": "stdout",
     "output_type": "stream",
     "text": [
      "Union: {1, 2, 3, 4, 5} | {2, 4, 6, 8, 10}: {1, 2, 3, 4, 5, 6, 8, 10}\n",
      "Intersection: {2, 4}\n",
      " Differential: {1, 3, 5}\n",
      "symmetric: {1, 3, 5, 6, 8, 10}\n"
     ]
    }
   ],
   "source": [
    "set_1 = set(range(1, 6))\n",
    "set_2 = set(range(2, 11, 2))\n",
    "\n",
    "print(f\"Union: {set_1 | set_2}\")\n",
    "print(f\"Intersection: {set_1 & set_2}\")\n",
    "print(f\" Differential: {set_1 - set_2}\")\n",
    "print(f\"symmetric: {set_1 ^ set_2}\")\n"
   ]
  },
  {
   "cell_type": "code",
   "execution_count": 21,
   "id": "25832215",
   "metadata": {},
   "outputs": [
    {
     "name": "stdout",
     "output_type": "stream",
     "text": [
      "{2, 3, 4, 5, 6, 7, 8, 9, 10, 11, 12, 13, 14, 15, 16, 17, 18, 19}\n"
     ]
    }
   ],
   "source": [
    "### Assignment 4: Set Comprehensions\n",
    "\n",
    "#Create a new set containing the squares of the first 10 positive integers using a set comprehension. Print the new set.\n",
    "\n",
    "set1 = set(range(2, 20))\n",
    "\n",
    "square_set = {i for i in set1 if i**2}\n",
    "\n",
    "print(square_set)"
   ]
  },
  {
   "cell_type": "code",
   "execution_count": 22,
   "id": "bfca70a7",
   "metadata": {},
   "outputs": [
    {
     "name": "stdout",
     "output_type": "stream",
     "text": [
      "{2, 4, 6, 8, 10}\n"
     ]
    }
   ],
   "source": [
    "### Assignment 5: Filtering Sets\n",
    "\n",
    "#Create a new set containing only the even numbers from the set created in Assignment 1 using a set comprehension. Print the new set.\n",
    "\n",
    "even_numbers = {i for i in s if i%2==0}\n",
    "\n",
    "print(even_numbers)"
   ]
  },
  {
   "cell_type": "code",
   "execution_count": 23,
   "id": "0e12e9d4",
   "metadata": {},
   "outputs": [
    {
     "name": "stdout",
     "output_type": "stream",
     "text": [
      "{3, 4, 5, 6, 7, 8, 9, 12, 45, 236, 21, 574}\n"
     ]
    }
   ],
   "source": [
    "### Assignment 6: Set Methods\n",
    "\n",
    "#Create a set with duplicate elements and remove the duplicates using set methods. Print the modified set.\n",
    "\n",
    "duplicates_numbers = {12,3,45,6,574,8,4,21,236,5,4,7,8,9,8,7,6,4,7,5,6,7}\n",
    "\n",
    "No_duplicates_numbers = set(duplicates_numbers)\n",
    "\n",
    "print(No_duplicates_numbers)"
   ]
  },
  {
   "cell_type": "code",
   "execution_count": null,
   "id": "3797fd33",
   "metadata": {},
   "outputs": [],
   "source": [
    "### Assignment 7: Subsets and Supersets\n",
    "\n",
    "#Create two sets: one with the first 5 positive integers and another with the first 3 positive integers. \n",
    "# Check if the second set is a subset of the first set and if the first set is a superset of the second set. Print the results."
   ]
  },
  {
   "cell_type": "code",
   "execution_count": 25,
   "id": "c9acb92c",
   "metadata": {},
   "outputs": [],
   "source": [
    "firs_set = set(range(2, 6))\n",
    "second_set = set(range(2, 5))"
   ]
  },
  {
   "cell_type": "code",
   "execution_count": 27,
   "id": "2fd9aac5",
   "metadata": {},
   "outputs": [
    {
     "name": "stdout",
     "output_type": "stream",
     "text": [
      "fist_set: False\n",
      "second_set: False\n"
     ]
    }
   ],
   "source": [
    "print(f\"fist_set: {firs_set.issubset(second_set)}\")\n",
    "print(f\"second_set: {second_set.issuperset(firs_set)}\")"
   ]
  },
  {
   "cell_type": "code",
   "execution_count": 28,
   "id": "9c4ea45a",
   "metadata": {},
   "outputs": [
    {
     "name": "stdout",
     "output_type": "stream",
     "text": [
      "{2, 3, 4, 5}\n"
     ]
    }
   ],
   "source": [
    "print(firs_set)"
   ]
  },
  {
   "cell_type": "code",
   "execution_count": 29,
   "id": "2759d09b",
   "metadata": {},
   "outputs": [
    {
     "name": "stdout",
     "output_type": "stream",
     "text": [
      "{2, 3, 4}\n"
     ]
    }
   ],
   "source": [
    "print(second_set)"
   ]
  },
  {
   "cell_type": "code",
   "execution_count": 30,
   "id": "9529117e",
   "metadata": {},
   "outputs": [
    {
     "name": "stdout",
     "output_type": "stream",
     "text": [
      "second_set: True\n"
     ]
    }
   ],
   "source": [
    "print(f\"second_set: {second_set.issubset(firs_set)}\")"
   ]
  },
  {
   "cell_type": "code",
   "execution_count": 31,
   "id": "b1e60cb4",
   "metadata": {},
   "outputs": [
    {
     "name": "stdout",
     "output_type": "stream",
     "text": [
      "frozenset({2, 3, 4, 5, 6, 7, 8, 9, 10})\n"
     ]
    }
   ],
   "source": [
    "### Assignment 8: Frozenset\n",
    "\n",
    "#Create a frozenset with the first 5 positive integers. Print the frozenset.\n",
    "\n",
    "fs = frozenset(range(2, 11))\n",
    "\n",
    "print(fs)"
   ]
  },
  {
   "cell_type": "code",
   "execution_count": 33,
   "id": "cd62bf48",
   "metadata": {},
   "outputs": [
    {
     "name": "stdout",
     "output_type": "stream",
     "text": [
      "{5, 6, 7, 8, 9}\n"
     ]
    }
   ],
   "source": [
    "### Assignment 9: Set and List Conversion\n",
    "\n",
    "#Create a set with the first 5 positive integers. Convert it to a list, append the number 6, and convert it back to a set. \n",
    "# Print the resulting set.\n",
    "\n",
    "set5 = set(range(5, 10))\n",
    "print(set5)"
   ]
  },
  {
   "cell_type": "code",
   "execution_count": 34,
   "id": "5d4c37ba",
   "metadata": {},
   "outputs": [
    {
     "name": "stdout",
     "output_type": "stream",
     "text": [
      "[5, 6, 7, 8, 9]\n"
     ]
    }
   ],
   "source": [
    "list1 = list(set5)\n",
    "print(list1)"
   ]
  },
  {
   "cell_type": "code",
   "execution_count": 35,
   "id": "3d6a35e5",
   "metadata": {},
   "outputs": [],
   "source": [
    "list1.append(6)"
   ]
  },
  {
   "cell_type": "code",
   "execution_count": 36,
   "id": "2fb9bc8c",
   "metadata": {},
   "outputs": [
    {
     "name": "stdout",
     "output_type": "stream",
     "text": [
      "[5, 6, 7, 8, 9, 6]\n"
     ]
    }
   ],
   "source": [
    "print(list1)"
   ]
  },
  {
   "cell_type": "code",
   "execution_count": 37,
   "id": "8f4b7106",
   "metadata": {},
   "outputs": [
    {
     "name": "stdout",
     "output_type": "stream",
     "text": [
      "{5, 6, 7, 8, 9}\n"
     ]
    }
   ],
   "source": [
    "set6 = set(list1)\n",
    "print(set6)"
   ]
  },
  {
   "cell_type": "code",
   "execution_count": 40,
   "id": "ffbf0585",
   "metadata": {},
   "outputs": [
    {
     "name": "stdout",
     "output_type": "stream",
     "text": [
      "{frozenset({1, 2}): 3, frozenset({4, 5}): 6, frozenset({9, 11}): 10}\n"
     ]
    }
   ],
   "source": [
    "### Assignment 10: Set and Dictionary\n",
    "\n",
    "#Create a dictionary with set keys and integer values. Print the dictionary.\n",
    "\n",
    "dictionary = {\n",
    "   frozenset({1, 2}):3,\n",
    "   frozenset({4, 5}):6,\n",
    "   frozenset({9, 11}):10\n",
    "}\n",
    "\n",
    "print(dictionary)"
   ]
  },
  {
   "cell_type": "code",
   "execution_count": null,
   "id": "e2703471",
   "metadata": {},
   "outputs": [],
   "source": [
    "d = {\n",
    "    frozenset({1, 2}): 3,\n",
    "    frozenset({3, 4}): 7,\n",
    "    frozenset({5, 6}): 11\n",
    "}\n",
    "print(d)"
   ]
  },
  {
   "cell_type": "code",
   "execution_count": 41,
   "id": "cf83c1a4",
   "metadata": {},
   "outputs": [],
   "source": [
    "### Assignment 11: Iterating Over Sets\n",
    "\n",
    "#Create a set and iterate over the elements, printing each element."
   ]
  },
  {
   "cell_type": "code",
   "execution_count": 44,
   "id": "e48cf54b",
   "metadata": {},
   "outputs": [
    {
     "name": "stdout",
     "output_type": "stream",
     "text": [
      "{1, 2, 3, 4, 5, 6, 7, 8, 9}\n"
     ]
    }
   ],
   "source": [
    "luna = set(range(1, 10))\n",
    "print(luna)"
   ]
  },
  {
   "cell_type": "code",
   "execution_count": 45,
   "id": "7f362147",
   "metadata": {},
   "outputs": [
    {
     "name": "stdout",
     "output_type": "stream",
     "text": [
      "1\n",
      "2\n",
      "3\n",
      "4\n",
      "5\n",
      "6\n",
      "7\n",
      "8\n",
      "9\n"
     ]
    }
   ],
   "source": [
    "for i in luna:\n",
    "    print(i)"
   ]
  },
  {
   "cell_type": "code",
   "execution_count": 47,
   "id": "60c54705",
   "metadata": {},
   "outputs": [
    {
     "name": "stdout",
     "output_type": "stream",
     "text": [
      "{2, 3, 4, 5, 6, 7, 8, 9}\n",
      "{3, 4, 5, 6, 7, 8, 9}\n",
      "{4, 5, 6, 7, 8, 9}\n",
      "{5, 6, 7, 8, 9}\n",
      "{6, 7, 8, 9}\n",
      "{7, 8, 9}\n",
      "{8, 9}\n",
      "{9}\n",
      "set()\n"
     ]
    }
   ],
   "source": [
    "### Assignment 12: Removing Elements from Sets\n",
    "\n",
    "#Create a set and remove elements from it until it is empty. Print the set after each removal.\n",
    "\n",
    "while luna:\n",
    "    luna.pop()\n",
    "    print(luna)"
   ]
  },
  {
   "cell_type": "code",
   "execution_count": 48,
   "id": "f3d81d4c",
   "metadata": {},
   "outputs": [
    {
     "name": "stdout",
     "output_type": "stream",
     "text": [
      "Set1 ^ Set6: {2, 3, 4, 10, 11, 12, 13, 14, 15, 16, 17, 18, 19}\n"
     ]
    }
   ],
   "source": [
    "### Assignment 13: Set Symmetric Difference Update\n",
    "\n",
    "#Create two sets and update the first set with the symmetric difference of the two sets. Print the modified first set.\n",
    "\n",
    "print(f\"Set1 ^ Set6: {set1 ^ set6}\")"
   ]
  },
  {
   "cell_type": "code",
   "execution_count": 49,
   "id": "ea245b3a",
   "metadata": {},
   "outputs": [
    {
     "name": "stdout",
     "output_type": "stream",
     "text": [
      "False\n",
      "True\n"
     ]
    }
   ],
   "source": [
    "\n",
    "### Assignment 14: Set Membership Testing\n",
    "\n",
    "#Create a set and test if certain elements are present in the set. Print the results.\n",
    "\n",
    "membership = set(range(1, 11))\n",
    "\n",
    "print(12 in membership)\n",
    "print(5 in membership)"
   ]
  },
  {
   "cell_type": "code",
   "execution_count": 50,
   "id": "f98bd714",
   "metadata": {},
   "outputs": [
    {
     "name": "stdout",
     "output_type": "stream",
     "text": [
      "{(2, 4), (5, 6), (7, 8)}\n"
     ]
    }
   ],
   "source": [
    "\n",
    "### Assignment 15: Set of Tuples\n",
    "\n",
    "##Create a set containing tuples, where each tuple contains two elements. Print the set.\n",
    "\n",
    "var = {(2,4), (5,6), (7,8)}\n",
    "print(var)"
   ]
  },
  {
   "cell_type": "code",
   "execution_count": null,
   "id": "8504d557",
   "metadata": {},
   "outputs": [],
   "source": []
  }
 ],
 "metadata": {
  "kernelspec": {
   "display_name": "Python 3",
   "language": "python",
   "name": "python3"
  },
  "language_info": {
   "codemirror_mode": {
    "name": "ipython",
    "version": 3
   },
   "file_extension": ".py",
   "mimetype": "text/x-python",
   "name": "python",
   "nbconvert_exporter": "python",
   "pygments_lexer": "ipython3",
   "version": "3.13.0"
  }
 },
 "nbformat": 4,
 "nbformat_minor": 5
}
