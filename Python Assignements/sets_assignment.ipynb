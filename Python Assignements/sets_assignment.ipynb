{
 "cells": [
  {
   "cell_type": "markdown",
   "metadata": {},
   "source": [
    "# Module 3: Data Structures Assignments\n"
   ]
  },
  {
   "cell_type": "code",
   "execution_count": 5,
   "metadata": {},
   "outputs": [
    {
     "name": "stdout",
     "output_type": "stream",
     "text": [
      "{1, 2, 3, 4, 5, 6, 7, 8, 9, 10}\n",
      "<class 'set'>\n"
     ]
    }
   ],
   "source": [
    "### Assignment 1: Creating and Accessing Sets\n",
    "\n",
    "#Create a set with the first 10 positive integers. Print the set.\n",
    "\n",
    "se1 = set(range(1, 11))\n",
    "print(se1)\n",
    "print(type(se1))"
   ]
  },
  {
   "cell_type": "code",
   "execution_count": 6,
   "id": "31433fde",
   "metadata": {},
   "outputs": [
    {
     "name": "stdout",
     "output_type": "stream",
     "text": [
      "Removed the elements 1 from the set\n",
      "{2, 3, 4, 5, 6, 7, 8, 9, 10}\n",
      "Added the 11 elements in the set\n",
      "{2, 3, 4, 5, 6, 7, 8, 9, 10, 11}\n"
     ]
    }
   ],
   "source": [
    "### Assignment 2: Adding and Removing Elements\n",
    "\n",
    "#Add the number 11 to the set created in Assignment 1. Then remove the number 1 from the set. Print the modified set.\n",
    "\n",
    "se1.remove(1)\n",
    "print(\"Removed the elements 1 from the set\")\n",
    "print(se1)\n",
    "se1.add(11)\n",
    "print(\"Added the 11 elements in the set\")\n",
    "print(se1)\n"
   ]
  },
  {
   "cell_type": "code",
   "execution_count": null,
   "id": "7ad8a1d0",
   "metadata": {},
   "outputs": [],
   "source": [
    "\n",
    "### Assignment 3: Set Operations\n",
    "\n",
    "#Create two sets: one with the first 5 positive integers and another with the first 5 even integers. \n",
    "# Perform and print the results of union, intersection, difference, and symmetric difference operations on these sets."
   ]
  },
  {
   "cell_type": "code",
   "execution_count": 12,
   "id": "6e547616",
   "metadata": {},
   "outputs": [
    {
     "name": "stdout",
     "output_type": "stream",
     "text": [
      "First 5 Positive Integers: {1, 2, 3, 4, 5}\n",
      "First 5 Even Integers: {2, 4, 6, 8, 10}\n"
     ]
    }
   ],
   "source": [
    "positive_integers = {1, 2, 3, 4, 5}\n",
    "even_integers = {2, 4, 6, 8, 10}\n",
    "\n",
    "# Print the sets\n",
    "print(\"First 5 Positive Integers:\", positive_integers)\n",
    "print(\"First 5 Even Integers:\", even_integers)"
   ]
  },
  {
   "cell_type": "code",
   "execution_count": 18,
   "id": "013eabd0",
   "metadata": {},
   "outputs": [
    {
     "name": "stdout",
     "output_type": "stream",
     "text": [
      "only the union numbers in the both sets: {1, 2, 3, 4, 5, 6, 8, 10}\n",
      "Intersection for both set: {2, 4}\n",
      "difference of both sets: {1, 3, 5}\n",
      "only the symmetrice values: {1, 3, 5, 6, 8, 10}\n"
     ]
    }
   ],
   "source": [
    "union = positive_integers|even_integers\n",
    "print(\"only the union numbers in the both sets:\", union)\n",
    "intersection = positive_integers & even_integers\n",
    "print(\"Intersection for both set:\", intersection)\n",
    "difference = positive_integers - even_integers\n",
    "print(\"difference of both sets:\", difference)\n",
    "symmetric = positive_integers ^ even_integers\n",
    "print(\"only the symmetrice values:\", symmetric)"
   ]
  },
  {
   "cell_type": "code",
   "execution_count": 19,
   "id": "bf05ec12",
   "metadata": {},
   "outputs": [
    {
     "name": "stdout",
     "output_type": "stream",
     "text": [
      "{2, 4, 6, 8, 10, 12, 14, 16, 18, 20}\n"
     ]
    }
   ],
   "source": [
    "### Assignment 4: Set Comprehensions\n",
    "\n",
    "#Create a new set containing the squares of the first 10 positive integers using a set comprehension. Print the new set.\n",
    "\n",
    "square_num = {i for i in range(1, 21) if i%2==0}\n",
    "print(square_num)"
   ]
  },
  {
   "cell_type": "code",
   "execution_count": null,
   "id": "7b5da6aa",
   "metadata": {},
   "outputs": [],
   "source": [
    "### Assignment 5: Filtering Sets\n",
    "\n",
    "#Create a new set containing only the even numbers from the set created in Assignment 1 using a set comprehension. Print the new set."
   ]
  },
  {
   "cell_type": "code",
   "execution_count": 20,
   "id": "294cecca",
   "metadata": {},
   "outputs": [
    {
     "name": "stdout",
     "output_type": "stream",
     "text": [
      "{2, 4, 6, 8, 10}\n"
     ]
    }
   ],
   "source": [
    "only_even_numbers = {i for i in se1 if i%2==0}\n",
    "print(only_even_numbers)"
   ]
  },
  {
   "cell_type": "code",
   "execution_count": 23,
   "id": "b7068f58",
   "metadata": {},
   "outputs": [
    {
     "name": "stdout",
     "output_type": "stream",
     "text": [
      "[1, 2, 2, 3, 3, 4, 5, 6, 7, 8, 9, 1, 0, 2, 3, 4, 5, 6, 4]\n",
      "{0, 1, 2, 3, 4, 5, 6, 7, 8, 9}\n"
     ]
    }
   ],
   "source": [
    "### Assignment 6: Set Methods\n",
    "\n",
    "#Create a set with duplicate elements and remove the duplicates using set methods. Print the modified set.\n",
    "\n",
    "se1 = [1,2,2,3,3,4,5,6,7,8,9,1,0,2,3,4,5,6,4]\n",
    "print(se1)\n",
    "\n",
    "remove_duplicates = set(se1)\n",
    "print(remove_duplicates)"
   ]
  },
  {
   "cell_type": "code",
   "execution_count": 25,
   "id": "907a6197",
   "metadata": {},
   "outputs": [
    {
     "name": "stdout",
     "output_type": "stream",
     "text": [
      "{1, 2, 3, 4, 5}\n",
      "{1, 2, 3}\n"
     ]
    }
   ],
   "source": [
    "### Assignment 7: Subsets and Supersets\n",
    "\n",
    "#Create two sets: one with the first 5 positive integers and another with the first 3 positive integers. \n",
    "#Check if the second set is a subset of the first set and if the first set is a superset of the second set. Print the results.\n",
    "\n",
    "se1 = set(range(1, 6))\n",
    "se2 = set(range(1,4))\n",
    "print(se1)\n",
    "print(se2)"
   ]
  },
  {
   "cell_type": "code",
   "execution_count": 26,
   "id": "ddcf7cd5",
   "metadata": {},
   "outputs": [
    {
     "name": "stdout",
     "output_type": "stream",
     "text": [
      "Frozenset: frozenset({1, 2, 3, 4, 5})\n"
     ]
    }
   ],
   "source": [
    "### Assignment 8: Frozenset\n",
    "\n",
    "#Create a frozenset with the first 5 positive integers. Print the frozenset.\n",
    "\n",
    "postive = frozenset({1,2,3,4,5})\n",
    "print(\"Frozenset:\", postive)"
   ]
  },
  {
   "cell_type": "code",
   "execution_count": 30,
   "id": "91dff327",
   "metadata": {},
   "outputs": [
    {
     "name": "stdout",
     "output_type": "stream",
     "text": [
      "{1, 2, 3, 4, 5}\n",
      "<class 'set'>\n",
      "[1, 2, 3, 4, 5]\n",
      "<class 'list'>\n",
      "[1, 2, 3, 4, 5, 6]\n",
      "{1, 2, 3, 4, 5, 6}\n",
      "<class 'set'>\n"
     ]
    }
   ],
   "source": [
    "### Assignment 9: Set and List Conversion\n",
    "\n",
    "#Create a set with the first 5 positive integers. Convert it to a list, append the number 6, and convert it back to a set. \n",
    "# Print the resulting set.\n",
    "\n",
    "se1 = set(range(1, 6))\n",
    "print(se1)\n",
    "print(type(se1))\n",
    "\n",
    "se2 = list(se1)\n",
    "print(se2)\n",
    "print(type(se2))\n",
    "\n",
    "se2.append(6)\n",
    "print(se2)\n",
    "\n",
    "se3 = set(se2)\n",
    "print(se3)\n",
    "print(type(se3))"
   ]
  },
  {
   "cell_type": "code",
   "execution_count": 37,
   "id": "b69d289b",
   "metadata": {},
   "outputs": [
    {
     "name": "stdout",
     "output_type": "stream",
     "text": [
      "Dictionary with frozenset keys: {frozenset({1, 2}): 10, frozenset({3, 4}): 20, frozenset({5, 6}): 30}\n"
     ]
    }
   ],
   "source": [
    "### Assignment 10: Set and Dictionary\n",
    "\n",
    "#Create a dictionary with set keys and integer values. Print the dictionary.\n",
    "\n",
    "dict_with_frozenset_keys = {\n",
    "    frozenset({1, 2}): 10,\n",
    "    frozenset({3, 4}): 20,\n",
    "    frozenset({5, 6}): 30\n",
    "}\n",
    "\n",
    "print(\"Dictionary with frozenset keys:\", dict_with_frozenset_keys)"
   ]
  },
  {
   "cell_type": "code",
   "execution_count": 38,
   "id": "9ce90e78",
   "metadata": {},
   "outputs": [
    {
     "name": "stdout",
     "output_type": "stream",
     "text": [
      "{1, 2, 3, 4, 5, 6, 7, 8, 9, 10, 11, 12, 13, 14, 15, 16, 17, 18, 19, 20}\n",
      "<class 'set'>\n",
      "1\n",
      "2\n",
      "3\n",
      "4\n",
      "5\n",
      "6\n",
      "7\n",
      "8\n",
      "9\n",
      "10\n",
      "11\n",
      "12\n",
      "13\n",
      "14\n",
      "15\n",
      "16\n",
      "17\n",
      "18\n",
      "19\n",
      "20\n"
     ]
    }
   ],
   "source": [
    "### Assignment 11: Iterating Over Sets\n",
    "\n",
    "#Create a set and iterate over the elements, printing each element.\n",
    "\n",
    "num = set(range(1, 21))\n",
    "print(num)\n",
    "print(type(num))\n",
    "\n",
    "for i in num:\n",
    "    print(i)"
   ]
  },
  {
   "cell_type": "code",
   "execution_count": 40,
   "id": "f84d13b1",
   "metadata": {},
   "outputs": [
    {
     "name": "stdout",
     "output_type": "stream",
     "text": [
      "<class 'set'>\n",
      "{1, 2, 3, 4, 5, 6, 7, 8, 9, 10, 11, 12, 13, 14, 15, 16, 17, 18, 19, 20}\n",
      "Removed elements: 1, remaining elements:{2, 3, 4, 5, 6, 7, 8, 9, 10, 11, 12, 13, 14, 15, 16, 17, 18, 19, 20}\n",
      "Removed elements: 2, remaining elements:{3, 4, 5, 6, 7, 8, 9, 10, 11, 12, 13, 14, 15, 16, 17, 18, 19, 20}\n",
      "Removed elements: 3, remaining elements:{4, 5, 6, 7, 8, 9, 10, 11, 12, 13, 14, 15, 16, 17, 18, 19, 20}\n",
      "Removed elements: 4, remaining elements:{5, 6, 7, 8, 9, 10, 11, 12, 13, 14, 15, 16, 17, 18, 19, 20}\n",
      "Removed elements: 5, remaining elements:{6, 7, 8, 9, 10, 11, 12, 13, 14, 15, 16, 17, 18, 19, 20}\n",
      "Removed elements: 6, remaining elements:{7, 8, 9, 10, 11, 12, 13, 14, 15, 16, 17, 18, 19, 20}\n",
      "Removed elements: 7, remaining elements:{8, 9, 10, 11, 12, 13, 14, 15, 16, 17, 18, 19, 20}\n",
      "Removed elements: 8, remaining elements:{9, 10, 11, 12, 13, 14, 15, 16, 17, 18, 19, 20}\n",
      "Removed elements: 9, remaining elements:{10, 11, 12, 13, 14, 15, 16, 17, 18, 19, 20}\n",
      "Removed elements: 10, remaining elements:{11, 12, 13, 14, 15, 16, 17, 18, 19, 20}\n",
      "Removed elements: 11, remaining elements:{12, 13, 14, 15, 16, 17, 18, 19, 20}\n",
      "Removed elements: 12, remaining elements:{13, 14, 15, 16, 17, 18, 19, 20}\n",
      "Removed elements: 13, remaining elements:{14, 15, 16, 17, 18, 19, 20}\n",
      "Removed elements: 14, remaining elements:{15, 16, 17, 18, 19, 20}\n",
      "Removed elements: 15, remaining elements:{16, 17, 18, 19, 20}\n",
      "Removed elements: 16, remaining elements:{17, 18, 19, 20}\n",
      "Removed elements: 17, remaining elements:{18, 19, 20}\n",
      "Removed elements: 18, remaining elements:{19, 20}\n",
      "Removed elements: 19, remaining elements:{20}\n",
      "Removed elements: 20, remaining elements:set()\n",
      "final elements:set()\n"
     ]
    }
   ],
   "source": [
    "### Assignment 12: Removing Elements from Sets\n",
    "\n",
    "#Create a set and remove elements from it until it is empty. Print the set after each removal.\n",
    "\n",
    "num1 = set(range(1, 21))\n",
    "print(type(num1))\n",
    "print(num1)\n",
    "\n",
    "while num1:\n",
    "    removed_elements = num1.pop()\n",
    "    print(f\"Removed elements: {removed_elements}, remaining elements:{num1}\")\n",
    "\n",
    "print(f\"final elements:{num1}\")"
   ]
  },
  {
   "cell_type": "code",
   "execution_count": null,
   "id": "84ffd2f9",
   "metadata": {},
   "outputs": [],
   "source": [
    "### Assignment 13: Set Symmetric Difference Update\n",
    "\n",
    "#Create two sets and update the first set with the symmetric difference of the two sets. Print the modified first set."
   ]
  },
  {
   "cell_type": "code",
   "execution_count": 41,
   "id": "92da9f75",
   "metadata": {},
   "outputs": [
    {
     "name": "stdout",
     "output_type": "stream",
     "text": [
      "Final result after applied symmetric difference updated: {1, 3, 5, 7, 8, 9}\n"
     ]
    }
   ],
   "source": [
    "set1 = {1,2,3,4,5}\n",
    "set2 = {2,7,8,4,9}\n",
    "\n",
    "set1.symmetric_difference_update(set2)\n",
    "\n",
    "print(f\"Final result after applied symmetric difference updated: {set1}\")"
   ]
  },
  {
   "cell_type": "code",
   "execution_count": 42,
   "id": "9952b4f4",
   "metadata": {},
   "outputs": [
    {
     "name": "stdout",
     "output_type": "stream",
     "text": [
      "Yes this elements in set in: 5\n"
     ]
    }
   ],
   "source": [
    "### Assignment 14: Set Membership Testing\n",
    "\n",
    "#Create a set and test if certain elements are present in the set. Print the results.\n",
    "\n",
    "if 5 in set1:\n",
    "    print(f\"Yes this elements in set in: {5}\")\n",
    "else:\n",
    "    print(f\"No this elements not in set1 {5}\")"
   ]
  },
  {
   "cell_type": "code",
   "execution_count": 44,
   "id": "e6748233",
   "metadata": {},
   "outputs": [
    {
     "name": "stdout",
     "output_type": "stream",
     "text": [
      "{(4, 5), (1, 2), (2, 4)}\n",
      "<class 'set'>\n"
     ]
    }
   ],
   "source": [
    "### Assignment 15: Set of Tuples\n",
    "\n",
    "#Create a set containing tuples, where each tuple contains two elements. Print the set.\n",
    "\n",
    "set3 = {(1,2),(2,4),(4,5)}\n",
    "print(set3)\n",
    "print(type(set3))"
   ]
  },
  {
   "cell_type": "code",
   "execution_count": null,
   "id": "dfdca6a0",
   "metadata": {},
   "outputs": [],
   "source": []
  },
  {
   "cell_type": "code",
   "execution_count": null,
   "id": "3a34848c",
   "metadata": {},
   "outputs": [],
   "source": []
  },
  {
   "cell_type": "code",
   "execution_count": null,
   "id": "7d8adb22",
   "metadata": {},
   "outputs": [],
   "source": []
  },
  {
   "cell_type": "code",
   "execution_count": null,
   "id": "47390302",
   "metadata": {},
   "outputs": [],
   "source": []
  },
  {
   "cell_type": "code",
   "execution_count": null,
   "id": "d7bcd73f",
   "metadata": {},
   "outputs": [],
   "source": []
  },
  {
   "cell_type": "code",
   "execution_count": null,
   "id": "7d2c8f20",
   "metadata": {},
   "outputs": [],
   "source": []
  }
 ],
 "metadata": {
  "kernelspec": {
   "display_name": "Python 3",
   "language": "python",
   "name": "python3"
  },
  "language_info": {
   "codemirror_mode": {
    "name": "ipython",
    "version": 3
   },
   "file_extension": ".py",
   "mimetype": "text/x-python",
   "name": "python",
   "nbconvert_exporter": "python",
   "pygments_lexer": "ipython3",
   "version": "3.13.0"
  }
 },
 "nbformat": 4,
 "nbformat_minor": 5
}
