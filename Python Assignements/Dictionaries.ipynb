{
 "cells": [
  {
   "cell_type": "code",
   "execution_count": 1,
   "metadata": {},
   "outputs": [],
   "source": [
    "# Module 3: Data Structures Assignments\n",
    "## Lesson 3.4: Dictionaries\n",
    "### Assignment 1: Creating and Accessing Dictionaries\n",
    "\n",
    "#Create a dictionary with the first 10 positive integers as keys and their squares as values. Print the dictionary."
   ]
  },
  {
   "cell_type": "code",
   "execution_count": 12,
   "metadata": {},
   "outputs": [
    {
     "name": "stdout",
     "output_type": "stream",
     "text": [
      "{1: 1, 2: 4, 3: 9, 4: 16, 5: 25, 6: 36, 7: 49, 8: 64, 9: 81, 10: 100}\n"
     ]
    }
   ],
   "source": [
    "d = {i: i**2 for i in range(1,11)}\n",
    "\n",
    "print(d)"
   ]
  },
  {
   "cell_type": "code",
   "execution_count": 13,
   "metadata": {},
   "outputs": [
    {
     "name": "stdout",
     "output_type": "stream",
     "text": [
      "The keys of the 5 values: {25}\n",
      "The Keys of the values: [1, 2, 3, 4, 5, 6, 7, 8, 9, 10]\n",
      "The values: [1, 4, 9, 16, 25, 36, 49, 64, 81, 100]\n"
     ]
    }
   ],
   "source": [
    "### Assignment 2: Accessing Dictionary Elements\n",
    "\n",
    "#Print the value of the key 5 and the keys of the dictionary created in Assignment 1.\n",
    "\n",
    "print(\"The keys of the 5 values:\", {d[5]})\n",
    "print(\"The Keys of the values:\", list(d.keys()))\n",
    "print(\"The values:\", list(d.values()))"
   ]
  },
  {
   "cell_type": "code",
   "execution_count": 18,
   "metadata": {},
   "outputs": [
    {
     "name": "stdout",
     "output_type": "stream",
     "text": [
      "{1: 1, 2: 4, 3: 9, 4: 16, 5: 25, 6: 36, 7: 49, 8: 64, 9: 81, 10: 100, 11: 121}\n",
      "{2: 4, 3: 9, 4: 16, 5: 25, 6: 36, 7: 49, 8: 64, 9: 81, 10: 100, 11: 121}\n"
     ]
    }
   ],
   "source": [
    "### Assignment 3: Dictionary Methods\n",
    "\n",
    "#Add a new key-value pair (11, 121) to the dictionary created in Assignment 1 and then remove the key-value pair with key 1. Print the modified dictionary.\n",
    "d[11]=121\n",
    "print(d)\n",
    "d.pop(1)\n",
    "print(d)"
   ]
  },
  {
   "cell_type": "code",
   "execution_count": 25,
   "metadata": {},
   "outputs": [
    {
     "name": "stdout",
     "output_type": "stream",
     "text": [
      "Key: 2, values:4\n",
      "Key: 3, values:9\n",
      "Key: 4, values:16\n",
      "Key: 5, values:25\n",
      "Key: 6, values:36\n",
      "Key: 7, values:49\n",
      "Key: 8, values:64\n",
      "Key: 9, values:81\n",
      "Key: 10, values:100\n",
      "Key: 11, values:121\n"
     ]
    }
   ],
   "source": [
    "### Assignment 4: Iterating Over Dictionaries\n",
    "\n",
    "#Iterate over the dictionary created in Assignment 1 and print each key-value pair.\n",
    "\n",
    "for keys,values in d.items():\n",
    "    print(f\"Key: {keys}, values:{values}\")\n"
   ]
  },
  {
   "cell_type": "code",
   "execution_count": 26,
   "metadata": {},
   "outputs": [],
   "source": [
    "### Assignment 5: Dictionary Comprehensions\n",
    "\n",
    "#Create a new dictionary containing the cubes of the first 10 positive integers using a dictionary comprehension. \n",
    "# Print the new dictionary."
   ]
  },
  {
   "cell_type": "code",
   "execution_count": 27,
   "metadata": {},
   "outputs": [
    {
     "name": "stdout",
     "output_type": "stream",
     "text": [
      "{1: 1, 2: 8, 3: 27, 4: 64, 5: 125, 6: 216, 7: 343, 8: 512, 9: 729, 10: 1000}\n"
     ]
    }
   ],
   "source": [
    "d1 = {i: i**3 for i in range(1,11)}\n",
    "print(d1)"
   ]
  },
  {
   "cell_type": "code",
   "execution_count": null,
   "metadata": {},
   "outputs": [],
   "source": [
    "### Assignment 6: Merging Dictionaries\n",
    "\n",
    "#Create two dictionaries: one with keys as the first 5 positive integers and values as their squares, \n",
    "# and another with keys as the next 5 positive integers and values as their squares. \n",
    "# Merge these dictionaries into a single dictionary and print it."
   ]
  },
  {
   "cell_type": "code",
   "execution_count": 28,
   "metadata": {},
   "outputs": [
    {
     "name": "stdout",
     "output_type": "stream",
     "text": [
      "{1: 1, 2: 4, 3: 9, 4: 16, 5: 25}\n",
      "{7: 49, 8: 64, 9: 81, 10: 100}\n",
      "{1: 1, 2: 4, 3: 9, 4: 16, 5: 25, 7: 49, 8: 64, 9: 81, 10: 100}\n"
     ]
    }
   ],
   "source": [
    "d1 = {i: i**2 for i in range(1,6)}\n",
    "d2 = {i:i**2 for i in range(7, 11)}\n",
    "print(d1)\n",
    "print(d2)\n",
    "d1.update(d2)\n",
    "print(d1)"
   ]
  },
  {
   "cell_type": "code",
   "execution_count": 29,
   "metadata": {},
   "outputs": [
    {
     "name": "stdout",
     "output_type": "stream",
     "text": [
      "{'Name': 'Vimal', 'Age': 27, 'Grades': {'math': 95, 'science': 98, 'English': 100}}\n"
     ]
    }
   ],
   "source": [
    "### Assignment 7: Nested Dictionaries\n",
    "\n",
    "#Create a nested dictionary representing a student with keys 'name', 'age', 'grades', where 'grades' is another dictionary with keys 'math', \n",
    "# 'science', and 'english'. Print the nested dictionary.\n",
    "\n",
    "student = {\n",
    "    \"Name\": \"Vimal\",\n",
    "    \"Age\":27,\n",
    "    \"Grades\":{\n",
    "        \"math\":95,\n",
    "        \"science\":98,\n",
    "        \"English\":100\n",
    "    }\n",
    "}\n",
    "\n",
    "print(student)"
   ]
  },
  {
   "cell_type": "code",
   "execution_count": 30,
   "metadata": {},
   "outputs": [
    {
     "name": "stdout",
     "output_type": "stream",
     "text": [
      "{1: [1, 2, 3, 4, 5], 2: [2, 4, 6, 8, 10], 3: [3, 6, 9, 12, 15], 4: [4, 8, 12, 16, 20], 5: [5, 10, 15, 20, 25]}\n"
     ]
    }
   ],
   "source": [
    "### Assignment 8: Dictionary of Lists\n",
    "\n",
    "#Create a dictionary where the keys are the first 5 positive integers and the values are lists containing the first 5 multiples of the key. \n",
    "# Print the dictionary.\n",
    "\n",
    "multipler = {i:[i*j for j in range(1, 6)] for i in range(1, 6)}\n",
    "print(multipler)"
   ]
  },
  {
   "cell_type": "code",
   "execution_count": 31,
   "metadata": {},
   "outputs": [
    {
     "name": "stdout",
     "output_type": "stream",
     "text": [
      "{1: (1, 1), 2: (2, 4), 3: (3, 9), 4: (4, 16), 5: (5, 25)}\n"
     ]
    }
   ],
   "source": [
    "### Assignment 9: Dictionary of Tuples\n",
    "\n",
    "#Create a dictionary where the keys are the first 5 positive integers and the values are tuples containing the key and its square. \n",
    "# Print the dictionary.\n",
    "\n",
    "tuple_dict = {i: (i, i**2) for i in range(1, 6)}\n",
    "print(tuple_dict)"
   ]
  },
  {
   "cell_type": "code",
   "execution_count": 32,
   "metadata": {},
   "outputs": [
    {
     "name": "stdout",
     "output_type": "stream",
     "text": [
      "{1: 1, 2: 4, 3: 9, 4: 16, 5: 25}\n"
     ]
    }
   ],
   "source": [
    "### Assignment 10: Dictionary and List Conversion\n",
    "\n",
    "#Create a dictionary with the first 5 positive integers as keys and their squares as vales.\n",
    "#Convert the dictionary to a list of tuples and print it.\n",
    "\n",
    "d = {i:i**2 for i in range(1,6)}\n",
    "print(d)"
   ]
  },
  {
   "cell_type": "code",
   "execution_count": 34,
   "metadata": {},
   "outputs": [
    {
     "name": "stdout",
     "output_type": "stream",
     "text": [
      "[(1, 1), (2, 4), (3, 9), (4, 16), (5, 25)]\n"
     ]
    }
   ],
   "source": [
    "list1 = list(d.items())\n",
    "print(list1)"
   ]
  },
  {
   "cell_type": "code",
   "execution_count": 44,
   "metadata": {},
   "outputs": [
    {
     "name": "stdout",
     "output_type": "stream",
     "text": [
      "The 10 values and keys: {1: 1, 2: 4, 3: 9, 4: 16, 5: 25, 6: 36, 7: 49, 8: 64, 9: 81, 10: 100}\n",
      "Only conitain even values: {4: 2, 16: 4, 36: 6, 64: 8, 100: 10}\n"
     ]
    }
   ],
   "source": [
    "### Assignment 11: Dictionary Filtering\n",
    "\n",
    "#Create a dictionary with the first 10 positive integers as keys and their squares as values. \n",
    "# Create a new dictionary containing only the key-value pairs where the key is even. Print the new dictionary.\n",
    "\n",
    "d = {i:i**2 for i in range(1 ,11)}\n",
    "print(\"The 10 values and keys:\", d)\n",
    "\n",
    "even = {j: i for i, j in d.items() if i % 2 == 0}\n",
    "print(\"Only conitain even values:\", even)"
   ]
  },
  {
   "cell_type": "code",
   "execution_count": 45,
   "metadata": {},
   "outputs": [
    {
     "name": "stdout",
     "output_type": "stream",
     "text": [
      "{1: 1, 2: 4, 3: 9, 4: 16, 5: 25}\n",
      "{1: 1, 4: 2, 9: 3, 16: 4, 25: 5}\n"
     ]
    }
   ],
   "source": [
    "### Assignment 12: Dictionary Key and Value Transformation\n",
    "\n",
    "#Create a dictionary with the first 5 positive integers as keys and their squares as values. \n",
    "# Create a new dictionary with keys and values swapped. Print the new dictionary.\n",
    "\n",
    "d = {i:i**2 for i in range (1, 6)}\n",
    "print(d)\n",
    "swapped = {v:k for k, v in d.items()}\n",
    "print(swapped)"
   ]
  },
  {
   "cell_type": "code",
   "execution_count": null,
   "metadata": {},
   "outputs": [],
   "source": []
  }
 ],
 "metadata": {
  "kernelspec": {
   "display_name": "Python 3",
   "language": "python",
   "name": "python3"
  },
  "language_info": {
   "codemirror_mode": {
    "name": "ipython",
    "version": 3
   },
   "file_extension": ".py",
   "mimetype": "text/x-python",
   "name": "python",
   "nbconvert_exporter": "python",
   "pygments_lexer": "ipython3",
   "version": "3.13.0"
  }
 },
 "nbformat": 4,
 "nbformat_minor": 2
}
