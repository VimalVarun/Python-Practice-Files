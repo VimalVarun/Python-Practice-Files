{
 "cells": [
  {
   "cell_type": "markdown",
   "metadata": {},
   "source": [
    "# Module 3: Data Structures Assignments\n",
    "## Lesson 3.1: Lists\n",
    "\n",
    "\n",
    "\n",
    "\n",
    "\n",
    "\n",
    "\n",
    "\n",
    "\n",
    "\n",
    "\n",
    "\n",
    "\n",
    "\n",
    "\n",
    "\n",
    "\n",
    "\n",
    "\n",
    "\n",
    "\n",
    "\n",
    "\n",
    "\n",
    "\n",
    "\n",
    "### Assignment 14: List Rotation\n",
    "\n",
    "Write a function that rotates a list by n positions. Print the original and rotated lists.\n",
    "\n"
   ]
  },
  {
   "cell_type": "code",
   "execution_count": 1,
   "metadata": {},
   "outputs": [
    {
     "name": "stdout",
     "output_type": "stream",
     "text": [
      "<class 'list'>\n",
      "[1, 2, 3, 4, 5, 6, 7, 8, 9, 10, 11, 12, 13, 14, 15, 16, 17, 18, 19, 20]\n"
     ]
    }
   ],
   "source": [
    "### Assignment 1: Creating and Accessing Lists\n",
    "\n",
    "#Create a list of the first 20 positive integers. Print the list.\n",
    "\n",
    "luna = list(range(1, 21))\n",
    "print(type(luna))\n",
    "print(luna)"
   ]
  },
  {
   "cell_type": "code",
   "execution_count": 2,
   "id": "2213b7fb",
   "metadata": {},
   "outputs": [
    {
     "name": "stdout",
     "output_type": "stream",
     "text": [
      "1\n",
      "11\n",
      "20\n"
     ]
    }
   ],
   "source": [
    "### Assignment 2: Accessing List Elements\n",
    "\n",
    "#Print the first, middle, and last elements of the list created in Assignment 1.\n",
    "\n",
    "print(luna[0])\n",
    "print(luna[10])\n",
    "print(luna[-1])\n"
   ]
  },
  {
   "cell_type": "code",
   "execution_count": 7,
   "id": "d0b432c3",
   "metadata": {},
   "outputs": [
    {
     "name": "stdout",
     "output_type": "stream",
     "text": [
      "[1, 2, 3, 4, 5]\n",
      "[16, 17, 18, 19, 20]\n",
      "[6, 7, 8, 9, 10, 11, 12, 13, 14, 15]\n"
     ]
    }
   ],
   "source": [
    "### Assignment 3: List Slicing\n",
    "\n",
    "#Print the first five elements, the last five elements, and the elements from index 5 to 15 of the list created in Assignment 1.\n",
    "\n",
    "print(luna[:5])\n",
    "print(luna[-5:])\n",
    "print(luna[5:15])"
   ]
  },
  {
   "cell_type": "code",
   "execution_count": 9,
   "id": "993a922f",
   "metadata": {},
   "outputs": [
    {
     "name": "stdout",
     "output_type": "stream",
     "text": [
      "[1, 4, 9, 16, 25, 36, 49, 64, 81]\n"
     ]
    }
   ],
   "source": [
    "### Assignment 4: List Comprehensions\n",
    "\n",
    "#Create a new list containing the squares of the first 10 positive integers using a list comprehension. Print the new list.\n",
    "\n",
    "square = [i**2 for i in range(1, 10)]\n",
    "\n",
    "print(square)"
   ]
  },
  {
   "cell_type": "code",
   "execution_count": 12,
   "id": "9012e3ac",
   "metadata": {},
   "outputs": [
    {
     "name": "stdout",
     "output_type": "stream",
     "text": [
      "[2, 4, 6, 8, 10, 12, 14, 16, 18, 20]\n"
     ]
    }
   ],
   "source": [
    "### Assignment 5: Filtering Lists\n",
    "\n",
    "#Create a new list containing only the even numbers from the list created in Assignment 1 using a list comprehension. Print the new list.\n",
    "\n",
    "even_numbers = [i for i in luna if i%2==0]\n",
    "print(even_numbers)"
   ]
  },
  {
   "cell_type": "code",
   "execution_count": 31,
   "id": "37e7d4ff",
   "metadata": {},
   "outputs": [
    {
     "name": "stdout",
     "output_type": "stream",
     "text": [
      "Original random numbers: [19, 17, 17, 19, 12, 2, 1, 7, 7, 11]\n",
      "Removed the duplicated numbers and soreted the values by ascending ordrer: [1, 2, 7, 11, 12, 17, 19]\n",
      "Descendning order: [19, 17, 12, 11, 7, 2, 1]\n"
     ]
    }
   ],
   "source": [
    "### Assignment 6: List Methods\n",
    "\n",
    "#Create a list of random numbers and sort it in ascending and descending order. Remove the duplicates from the list and print the modified list.\n",
    "\n",
    "import random\n",
    "\n",
    "random_numbers = random.choices(range(1, 21), k=10)\n",
    "print(\"Original random numbers:\", random_numbers)\n",
    "\n",
    "unique_values = sorted(set(random_numbers))\n",
    "print(\"Removed the duplicated numbers and soreted the values by ascending ordrer:\", unique_values )\n",
    "\n",
    "descending_order = sorted(unique_values, reverse=True)\n",
    "print(\"Descendning order:\", descending_order)\n"
   ]
  },
  {
   "cell_type": "code",
   "execution_count": 34,
   "id": "3c51c7ab",
   "metadata": {},
   "outputs": [
    {
     "name": "stdout",
     "output_type": "stream",
     "text": [
      "3*3 matrix\n",
      "[1, 2, 3]\n",
      "[4, 5, 6]\n",
      "[7, 8, 9]\n"
     ]
    }
   ],
   "source": [
    "### Assignment 7: Nested Lists\n",
    "\n",
    "#Create a nested list representing a 3x3 matrix and print the matrix. Access and print the element at the second row and third column.\n",
    "\n",
    "nested_list = [[1,2,3],\n",
    "               [4,5,6],\n",
    "               [7,8,9]]\n",
    "\n",
    "print(\"3*3 matrix\")\n",
    "\n",
    "for i in nested_list:\n",
    "    print(i)"
   ]
  },
  {
   "cell_type": "code",
   "execution_count": 39,
   "id": "7dd6a460",
   "metadata": {},
   "outputs": [
    {
     "name": "stdout",
     "output_type": "stream",
     "text": [
      "6\n"
     ]
    }
   ],
   "source": [
    "print(nested_list[1][2])"
   ]
  },
  {
   "cell_type": "code",
   "execution_count": 46,
   "id": "077e2c62",
   "metadata": {},
   "outputs": [
    {
     "name": "stdout",
     "output_type": "stream",
     "text": [
      "Sorted List of Students (Descending Order by Score):\n",
      "{'Name': 'Vimal', 'Score': 98}\n",
      "{'Name': 'Haseena', 'Score': 89}\n",
      "{'Name': 'Varun', 'Score': 86}\n",
      "{'Name': 'Luna', 'Score': 78}\n",
      "{'Name': 'Manikandan', 'Score': 74}\n",
      "{'Name': 'Abdulraham', 'Score': 73}\n",
      "{'Name': 'Kanann', 'Score': 72}\n"
     ]
    }
   ],
   "source": [
    "### Assignment 8: List of Dictionaries\n",
    "\n",
    "#Create a list of dictionaries where each dictionary represents a student with keys 'name' and 'score'. \n",
    "# Sort the list of dictionaries by the 'score' in descending order and print the sorted list.\n",
    "\n",
    "students = [\n",
    "    {\"Name\": \"Vimal\", \"Score\": 98},\n",
    "    {\"Name\": \"Varun\", \"Score\": 86},\n",
    "    {\"Name\": \"Haseena\", \"Score\": 89},\n",
    "    {\"Name\": \"Luna\", \"Score\": 78},\n",
    "    {\"Name\": \"Manikandan\", \"Score\": 74},\n",
    "    {\"Name\": \"Abdulraham\", \"Score\": 73},\n",
    "    {\"Name\": \"Kanann\", \"Score\": 72}\n",
    "]\n",
    "\n",
    "# Sorting the list in descending order based on 'Score'\n",
    "students.sort(key=lambda x: x[\"Score\"], reverse=True)\n",
    "\n",
    "# Printing the sorted list\n",
    "print(\"Sorted List of Students (Descending Order by Score):\")\n",
    "for student in students:\n",
    "    print(student)"
   ]
  },
  {
   "cell_type": "code",
   "execution_count": null,
   "id": "1835c4a6",
   "metadata": {},
   "outputs": [],
   "source": [
    "### Assignment 9: Matrix Transposition\n",
    "\n",
    "#Write a function that takes a 3x3 matrix (nested list) as input and returns its transpose. Print the original and transposed matrices."
   ]
  },
  {
   "cell_type": "code",
   "execution_count": 47,
   "id": "335e8153",
   "metadata": {},
   "outputs": [],
   "source": [
    "def transposition_matrix(matrix):\n",
    "     return [[matrix[j][i] for j in range(len(matrix))] for i in range(len(matrix[0]))]"
   ]
  },
  {
   "cell_type": "code",
   "execution_count": 48,
   "id": "81a2bf71",
   "metadata": {},
   "outputs": [
    {
     "name": "stdout",
     "output_type": "stream",
     "text": [
      "3*3 matrix\n",
      "[1, 2, 3]\n",
      "[4, 5, 6]\n",
      "[7, 8, 9]\n",
      "Transposition matrixed\n",
      "[1, 4, 7]\n",
      "[2, 5, 8]\n",
      "[3, 6, 9]\n"
     ]
    }
   ],
   "source": [
    "matrix = [\n",
    "    [1,2,3],\n",
    "    [4,5,6],\n",
    "    [7,8,9]\n",
    "\n",
    "]\n",
    "\n",
    "print(\"3*3 matrix\")\n",
    "\n",
    "for i in matrix:\n",
    "    print(i)\n",
    "\n",
    "transpositioned = transposition_matrix(matrix)\n",
    "\n",
    "print(\"Transposition matrixed\")\n",
    "\n",
    "for i in transpositioned:\n",
    "    print (i)"
   ]
  },
  {
   "cell_type": "code",
   "execution_count": 49,
   "id": "1aae5a7a",
   "metadata": {},
   "outputs": [],
   "source": [
    "### Assignment 10: Flattening a Nested List\n",
    "\n",
    "#Write a function that takes a nested list and flattens it into a single list. Print the original and flattened lists.\n",
    "\n",
    "def flattens(nested_list1):\n",
    "    return [item for sublist in nested_list for item in sublist]"
   ]
  },
  {
   "cell_type": "code",
   "execution_count": 50,
   "id": "c4150e5e",
   "metadata": {},
   "outputs": [
    {
     "name": "stdout",
     "output_type": "stream",
     "text": [
      "nested_list 3*3\n",
      "[1, 2, 3]\n",
      "[4, 5, 6]\n",
      "[7, 8, 9]\n",
      "Flattens\n",
      "[1, 2, 3, 4, 5, 6, 7, 8, 9]\n"
     ]
    }
   ],
   "source": [
    "matrix = [\n",
    "    [1,2,3],\n",
    "    [4,5,6],\n",
    "    [7,8,9]\n",
    "\n",
    "]\n",
    "\n",
    "print(\"nested_list 3*3\")\n",
    "for i in matrix:\n",
    "    print (i)\n",
    "\n",
    "flattensers = flattens(matrix)\n",
    "\n",
    "print(\"Flattens\")\n",
    "print(flattensers)"
   ]
  },
  {
   "cell_type": "code",
   "execution_count": null,
   "id": "b2df27e2",
   "metadata": {},
   "outputs": [],
   "source": [
    "### Assignment 11: List Manipulation\n",
    "\n",
    "#Create a list of the first 10 positive integers. Remove the elements at indices 2, 4, and 6, and insert the element '99' at index 5. \n",
    "# Print the modified list."
   ]
  },
  {
   "cell_type": "code",
   "execution_count": 59,
   "id": "f0a75aa7",
   "metadata": {},
   "outputs": [
    {
     "name": "stdout",
     "output_type": "stream",
     "text": [
      "Postive_numbers\n",
      "[1, 2, 3, 4, 5, 6, 7, 8, 9, 10, 11, 12, 13, 14, 15, 16, 17, 18, 19, 20]\n"
     ]
    }
   ],
   "source": [
    "postive_numbers = list(range(1, 21))\n",
    "print(\"Postive_numbers\")\n",
    "print(postive_numbers)"
   ]
  },
  {
   "cell_type": "code",
   "execution_count": null,
   "id": "c8a89938",
   "metadata": {},
   "outputs": [
    {
     "ename": "ValueError",
     "evalue": "list.remove(x): x not in list",
     "output_type": "error",
     "traceback": [
      "\u001b[1;31m---------------------------------------------------------------------------\u001b[0m",
      "\u001b[1;31mValueError\u001b[0m                                Traceback (most recent call last)",
      "Cell \u001b[1;32mIn[62], line 1\u001b[0m\n\u001b[1;32m----> 1\u001b[0m \u001b[38;5;28mprint\u001b[39m(\u001b[43mpostive_numbers\u001b[49m\u001b[38;5;241;43m.\u001b[39;49m\u001b[43mremove\u001b[49m\u001b[43m(\u001b[49m\u001b[38;5;241;43m2\u001b[39;49m\u001b[43m)\u001b[49m)\n\u001b[0;32m      2\u001b[0m \u001b[38;5;28mprint\u001b[39m(postive_numbers\u001b[38;5;241m.\u001b[39mremove(\u001b[38;5;241m4\u001b[39m))\n\u001b[0;32m      3\u001b[0m \u001b[38;5;28mprint\u001b[39m(postive_numbers\u001b[38;5;241m.\u001b[39mremove(\u001b[38;5;241m6\u001b[39m))\n",
      "\u001b[1;31mValueError\u001b[0m: list.remove(x): x not in list"
     ]
    }
   ],
   "source": [
    "print(postive_numbers.remove(2))\n",
    "\n"
   ]
  },
  {
   "cell_type": "code",
   "execution_count": 66,
   "id": "b1f2aee9",
   "metadata": {},
   "outputs": [
    {
     "name": "stdout",
     "output_type": "stream",
     "text": [
      "None\n"
     ]
    }
   ],
   "source": [
    "print(postive_numbers.remove(6))"
   ]
  },
  {
   "cell_type": "code",
   "execution_count": 64,
   "id": "d3576b8c",
   "metadata": {},
   "outputs": [
    {
     "name": "stdout",
     "output_type": "stream",
     "text": [
      "None\n"
     ]
    }
   ],
   "source": [
    "print(postive_numbers.remove(4))"
   ]
  },
  {
   "cell_type": "code",
   "execution_count": 67,
   "id": "b20f2922",
   "metadata": {},
   "outputs": [
    {
     "data": {
      "text/plain": [
       "[1, 3, 5, 7, 8, 9, 10, 11, 12, 13, 14, 15, 16, 17, 18, 19, 20]"
      ]
     },
     "execution_count": 67,
     "metadata": {},
     "output_type": "execute_result"
    }
   ],
   "source": [
    "postive_numbers"
   ]
  },
  {
   "cell_type": "code",
   "execution_count": 68,
   "id": "39b466aa",
   "metadata": {},
   "outputs": [
    {
     "name": "stdout",
     "output_type": "stream",
     "text": [
      "[1, 3, 5, 7, 8, 99, 10, 11, 12, 13, 14, 15, 16, 17, 18, 19, 20]\n"
     ]
    }
   ],
   "source": [
    "postive_numbers[5]= 99\n",
    "print(postive_numbers)"
   ]
  },
  {
   "cell_type": "code",
   "execution_count": 71,
   "id": "fbdaa27c",
   "metadata": {},
   "outputs": [
    {
     "name": "stdout",
     "output_type": "stream",
     "text": [
      "[1, 2, 3, 4, 5, 6]\n",
      "['a', 'b', 'c', 'd', 'e', 'f']\n",
      "[(1, 'a'), (2, 'b'), (3, 'c'), (4, 'd'), (5, 'e'), (6, 'f')]\n"
     ]
    }
   ],
   "source": [
    "### Assignment 12: List Zipping\n",
    "\n",
    "#Create two lists of the same length. Use the `zip` function to combine these lists into a list of tuples and print the result.\n",
    "\n",
    "ls1 = list(range(1,7))\n",
    "ls2 = [\"a\", \"b\", \"c\", \"d\", \"e\", \"f\"]\n",
    "print(ls1)\n",
    "print(ls2)\n",
    "\n",
    "zipfile = list(zip(ls1,ls2))\n",
    "print(zipfile)"
   ]
  },
  {
   "cell_type": "code",
   "execution_count": 75,
   "id": "090da35e",
   "metadata": {},
   "outputs": [],
   "source": [
    "### Assignment 13: List Reversal\n",
    "\n",
    "#Write a function that takes a list and returns a new list with the elements in reverse order. Print the original and reversed lists.\n",
    "\n",
    "def reverse_list (list):\n",
    "    return list[::-1]"
   ]
  },
  {
   "cell_type": "code",
   "execution_count": 76,
   "id": "c8205371",
   "metadata": {},
   "outputs": [
    {
     "data": {
      "text/plain": [
       "[1, 2, 3, 4, 5, 6]"
      ]
     },
     "execution_count": 76,
     "metadata": {},
     "output_type": "execute_result"
    }
   ],
   "source": [
    "ls1"
   ]
  },
  {
   "cell_type": "code",
   "execution_count": 79,
   "id": "13c3f45d",
   "metadata": {},
   "outputs": [
    {
     "name": "stdout",
     "output_type": "stream",
     "text": [
      "Orginal list: [1, 2, 3, 4, 5, 6]\n",
      "reversal list: [6, 5, 4, 3, 2, 1]\n"
     ]
    }
   ],
   "source": [
    "reversed_order = reverse_list(ls1)\n",
    "\n",
    "print(\"Orginal list:\", ls1)\n",
    "print(\"reversal list:\", reversed_order)"
   ]
  },
  {
   "cell_type": "code",
   "execution_count": null,
   "id": "1c90eb2d",
   "metadata": {},
   "outputs": [],
   "source": [
    "### Assignment 15: List Intersection\n",
    "\n",
    "#Write a function that takes two lists and returns a new list containing only the elements that are present in both lists. \n",
    "# Print the intersected list."
   ]
  },
  {
   "cell_type": "code",
   "execution_count": 90,
   "id": "910b6a11",
   "metadata": {},
   "outputs": [],
   "source": [
    "def bothlist(lst1,lst2):\n",
    "    return [i for i in lst1 if i in lst2]\n",
    "    "
   ]
  },
  {
   "cell_type": "code",
   "execution_count": 91,
   "id": "c48dc595",
   "metadata": {},
   "outputs": [
    {
     "name": "stdout",
     "output_type": "stream",
     "text": [
      "[1, 2, 3, 4, 5, 6, 7]\n",
      "[1, 2, 3, 4, 5, 6, 7, 8, 9]\n"
     ]
    }
   ],
   "source": [
    "ls1 = list(range(1,8))\n",
    "ls2 = list(range(1,10))\n",
    "\n",
    "print(ls1)\n",
    "print(ls2)"
   ]
  },
  {
   "cell_type": "code",
   "execution_count": 92,
   "id": "0b8bf8d4",
   "metadata": {},
   "outputs": [
    {
     "name": "stdout",
     "output_type": "stream",
     "text": [
      "[1, 2, 3, 4, 5, 6, 7]\n"
     ]
    }
   ],
   "source": [
    "both_containlist = bothlist(ls1,ls2)\n",
    "print(both_containlist)"
   ]
  },
  {
   "cell_type": "code",
   "execution_count": 93,
   "id": "6a59b572",
   "metadata": {},
   "outputs": [],
   "source": [
    "def common_list(lst1,lst2):\n",
    "    return list(set(lst1) & set(lst2))"
   ]
  },
  {
   "cell_type": "code",
   "execution_count": 95,
   "id": "b70bc9c5",
   "metadata": {},
   "outputs": [
    {
     "name": "stdout",
     "output_type": "stream",
     "text": [
      "[1, 2, 3, 4, 5, 6, 7]\n"
     ]
    }
   ],
   "source": [
    "commonlist = common_list(ls1,ls2)\n",
    "print(commonlist)"
   ]
  },
  {
   "cell_type": "code",
   "execution_count": null,
   "id": "962f8a7e",
   "metadata": {},
   "outputs": [],
   "source": []
  }
 ],
 "metadata": {
  "kernelspec": {
   "display_name": "Python 3",
   "language": "python",
   "name": "python3"
  },
  "language_info": {
   "codemirror_mode": {
    "name": "ipython",
    "version": 3
   },
   "file_extension": ".py",
   "mimetype": "text/x-python",
   "name": "python",
   "nbconvert_exporter": "python",
   "pygments_lexer": "ipython3",
   "version": "3.13.0"
  }
 },
 "nbformat": 4,
 "nbformat_minor": 5
}
