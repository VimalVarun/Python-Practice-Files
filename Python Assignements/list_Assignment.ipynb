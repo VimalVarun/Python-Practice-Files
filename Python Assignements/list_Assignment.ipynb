{
 "cells": [
  {
   "cell_type": "code",
   "execution_count": 17,
   "metadata": {},
   "outputs": [
    {
     "name": "stdout",
     "output_type": "stream",
     "text": [
      "[1, 2, 3, 4, 5, 6, 7, 8, 9, 10, 11, 12, 13, 14, 15, 16, 17, 18, 19, 20]\n"
     ]
    }
   ],
   "source": [
    "### Assignment 1: Creating and Accessing Lists\n",
    "\n",
    "#Create a list of the first 20 positive integers. Print the list.\n",
    "\n",
    "list1 = []\n",
    "\n",
    "for i in range(1, 21):\n",
    "    list1.append(i)\n",
    "\n",
    "print(list1)"
   ]
  },
  {
   "cell_type": "code",
   "execution_count": 18,
   "id": "66e6bb83",
   "metadata": {},
   "outputs": [
    {
     "name": "stdout",
     "output_type": "stream",
     "text": [
      "1\n",
      "10\n",
      "20\n"
     ]
    }
   ],
   "source": [
    "### Assignment 2: Accessing List Elements\n",
    "\n",
    "#Print the first, middle, and last elements of the list created in Assignment 1.\n",
    "\n",
    "print(list1[0])\n",
    "print(list1[9])\n",
    "print(list1[-1])"
   ]
  },
  {
   "cell_type": "code",
   "execution_count": 19,
   "id": "dea36034",
   "metadata": {},
   "outputs": [
    {
     "name": "stdout",
     "output_type": "stream",
     "text": [
      "[1, 2, 3, 4, 5]\n",
      "[16, 17, 18, 19, 20]\n",
      "[6, 7, 8, 9, 10, 11, 12, 13, 14, 15, 16]\n"
     ]
    }
   ],
   "source": [
    "### Assignment 3: List Slicing\n",
    "\n",
    "#Print the first five elements, the last five elements, and the elements from index 5 to 15 of the list created in Assignment 1.\n",
    "print(list1[0:5])\n",
    "print(list1[15:])\n",
    "print(list1[5:16])"
   ]
  },
  {
   "cell_type": "code",
   "execution_count": 20,
   "id": "a588b5bc",
   "metadata": {},
   "outputs": [
    {
     "name": "stdout",
     "output_type": "stream",
     "text": [
      "[4, 9, 16, 25, 36, 49, 64, 81, 100, 121]\n"
     ]
    }
   ],
   "source": [
    "### Assignment 4: List Comprehensions\n",
    "\n",
    "#Create a new list containing the squares of the first 10 positive integers using a list comprehension. Print the new list.\n",
    "\n",
    "square_list = [i**2 for i in range(2, 12)]\n",
    "\n",
    "print(square_list)"
   ]
  },
  {
   "cell_type": "code",
   "execution_count": 21,
   "id": "afe00d41",
   "metadata": {},
   "outputs": [
    {
     "name": "stdout",
     "output_type": "stream",
     "text": [
      "[2, 4, 6, 8, 10, 12, 14, 16, 18, 20]\n"
     ]
    }
   ],
   "source": [
    "### Assignment 5: Filtering Lists\n",
    "\n",
    "#Create a new list containing only the even numbers from the list created in Assignment 1 using a list comprehension. Print the new list.\n",
    "\n",
    "even_number = [i for i in list1 if i%2==0]\n",
    "print(even_number)"
   ]
  },
  {
   "cell_type": "code",
   "execution_count": 24,
   "id": "2cfa383e",
   "metadata": {},
   "outputs": [
    {
     "name": "stdout",
     "output_type": "stream",
     "text": [
      "Original Numbers: [33, 15, 18, 21, 22, 30, 7, 31, 13, 21, 35, 23, 2, 16, 31]\n",
      "Removed the duplicate number and ascending order: [2, 7, 13, 15, 16, 18, 21, 22, 23, 30, 31, 33, 35]\n",
      "Descending order the numbers: [35, 33, 31, 30, 23, 22, 21, 18, 16, 15, 13, 7, 2]\n"
     ]
    }
   ],
   "source": [
    "### Assignment 6: List Methods\n",
    "\n",
    "#Create a list of random numbers and sort it in ascending and descending order. Remove the duplicates from the list and print the modified list.\n",
    "\n",
    "import random\n",
    "\n",
    "random_number = [random.randint(1, 50) for _ in range(15)]\n",
    "print(f\"Original Numbers: {random_number}\")\n",
    "\n",
    "unique_number = sorted(set(random_number))\n",
    "print(f\"Removed the duplicate number and ascending order: {unique_number}\")\n",
    "\n",
    "descending = sorted(unique_number, reverse=True)\n",
    "print(f\"Descending order the numbers: {descending}\")"
   ]
  },
  {
   "cell_type": "code",
   "execution_count": 25,
   "id": "28c527e2",
   "metadata": {},
   "outputs": [
    {
     "name": "stdout",
     "output_type": "stream",
     "text": [
      "[1, 2, 3]\n",
      "[4, 5, 6]\n",
      "[7, 8, 9]\n"
     ]
    }
   ],
   "source": [
    "### Assignment 7: Nested Lists\n",
    "\n",
    "#Create a nested list representing a 3x3 matrix and print the matrix. Access and print the element at the second row and third column.\n",
    "\n",
    "matrix = [\n",
    "    [1,2,3],\n",
    "    [4,5,6],\n",
    "    [7,8,9]\n",
    "]\n",
    "\n",
    "for i in matrix:\n",
    "    print(i)\n",
    "    "
   ]
  },
  {
   "cell_type": "code",
   "execution_count": 26,
   "id": "fc3ffd55",
   "metadata": {},
   "outputs": [
    {
     "name": "stdout",
     "output_type": "stream",
     "text": [
      "6\n"
     ]
    }
   ],
   "source": [
    "print(matrix[1][2])"
   ]
  },
  {
   "cell_type": "code",
   "execution_count": null,
   "id": "b4160896",
   "metadata": {},
   "outputs": [],
   "source": [
    "### Assignment 8: List of Dictionaries\n",
    "\n",
    "#Create a list of dictionaries where each dictionary represents a student with keys 'name' and 'score'. \n",
    "# Sort the list of dictionaries by the 'score' in descending order and print the sorted list."
   ]
  },
  {
   "cell_type": "code",
   "execution_count": 36,
   "id": "63cfdd8b",
   "metadata": {},
   "outputs": [
    {
     "name": "stdout",
     "output_type": "stream",
     "text": [
      "Desecending order of the student maths score: [{'Name': 'Luna', 'Math_score': 100}, {'Name': 'Varun', 'Math_score': 99}, {'Name': 'Santhanam', 'Math_score': 88}, {'Name': 'Haseena', 'Math_score': 86}, {'Name': 'Vimal', 'Math_score': 80}, {'Name': 'Kavin', 'Math_score': 76}, {'Name': 'Surya', 'Math_score': 75}]\n",
      "[{'Name': 'Luna', 'Math_score': 100}, {'Name': 'Varun', 'Math_score': 99}, {'Name': 'Santhanam', 'Math_score': 88}, {'Name': 'Haseena', 'Math_score': 86}, {'Name': 'Vimal', 'Math_score': 80}, {'Name': 'Kavin', 'Math_score': 76}, {'Name': 'Surya', 'Math_score': 75}]\n"
     ]
    }
   ],
   "source": [
    "student_score = [\n",
    "    {\"Name\": \"Vimal\", \"Math_score\": 80},\n",
    "    {\"Name\": \"Varun\", \"Math_score\": 99},\n",
    "    {\"Name\": \"Surya\", \"Math_score\": 75},\n",
    "    {\"Name\": \"Kavin\", \"Math_score\": 76},\n",
    "   {\"Name\": \"Santhanam\", \"Math_score\": 88},\n",
    "    {\"Name\": \"Haseena\", \"Math_score\": 86},\n",
    "    {\"Name\": \"Luna\", \"Math_score\": 100}\n",
    "]\n",
    "\n",
    "sorted_student = sorted(student_score, key=lambda x: x [\"Math_score\"], reverse=True)\n",
    "print(f\"Desecending order of the student maths score: {sorted_student}\")\n",
    "print(sorted_student)"
   ]
  },
  {
   "cell_type": "code",
   "execution_count": 41,
   "id": "3874af0d",
   "metadata": {},
   "outputs": [
    {
     "name": "stdout",
     "output_type": "stream",
     "text": [
      "Original Matrix:\n",
      "[1, 2, 3]\n",
      "[4, 5, 6]\n",
      "[7, 8, 9]\n",
      "\n",
      "Transposed Matrix:\n",
      "[1, 4, 7]\n",
      "[2, 5, 8]\n",
      "[3, 6, 9]\n"
     ]
    }
   ],
   "source": [
    "### Assignment 9: Matrix Transposition\n",
    "\n",
    "#Write a function that takes a 3x3 matrix (nested list) as input and returns its transpose. Print the original and transposed matrices.\n",
    "\n",
    "def transpose_matrix(matrix):\n",
    "    \"Return the orginal matrix to transpose matrix\"\n",
    "    return [[matrix[j][i] for j in range(3)] for i in range(3)]\n",
    "\n",
    "transpose_matrix = transpose_matrix(matrix)\n",
    "\n",
    "print(\"Original Matrix:\")\n",
    "for row in matrix:\n",
    "    print(row)\n",
    "\n",
    "print(\"\\nTransposed Matrix:\")\n",
    "for row in transpose_matrix:\n",
    "    print(row)\n"
   ]
  },
  {
   "cell_type": "code",
   "execution_count": 42,
   "id": "fb7d9ae0",
   "metadata": {},
   "outputs": [
    {
     "name": "stdout",
     "output_type": "stream",
     "text": [
      "Original list: [[1, 2, 3], [4, 5, 6], [7, 8, 9]]\n",
      "Flatten list: [1, 2, 3, 4, 5, 6, 7, 8, 9]\n"
     ]
    }
   ],
   "source": [
    "### Assignment 10: Flattening a Nested List\n",
    "\n",
    "#Write a function that takes a nested list and flattens it into a single list. Print the original and flattened lists.\n",
    "\n",
    "def flatten_list(nested_list):\n",
    "    \"\"\"Flattens a nested list into a single list.\"\"\"\n",
    "    flattened = []\n",
    "    for sublist in nested_list:\n",
    "        for item in sublist:\n",
    "            flattened.append(item)\n",
    "    return flattened\n",
    "\n",
    "nested_list = [\n",
    "    [1,2,3],\n",
    "    [4,5,6],\n",
    "    [7,8,9]\n",
    "]\n",
    "\n",
    "flatten_list1 = flatten_list(nested_list)\n",
    "\n",
    "print(f\"Original list: {nested_list}\")\n",
    "\n",
    "print(f\"Flatten list: {flatten_list1}\")"
   ]
  },
  {
   "cell_type": "code",
   "execution_count": 59,
   "id": "b8d481ee",
   "metadata": {},
   "outputs": [
    {
     "name": "stdout",
     "output_type": "stream",
     "text": [
      "[1, 2, 3, 4, 5, 6, 7, 8, 9, 10]\n",
      "[1, 2, 4, 5, 7, 8, 10]\n",
      "[1, 2, 4, 5, 7, 99, 10]\n"
     ]
    }
   ],
   "source": [
    "### Assignment 11: List Manipulation\n",
    "\n",
    "#Create a list of the first 10 positive integers. Remove the elements at indices 2, 4, and 6, \n",
    "# and insert the element '99' at index 5. Print the modified list.\n",
    "\n",
    "lst1 = []\n",
    "\n",
    "for i in range(1, 11):\n",
    "    lst1.append(i)\n",
    "print(lst1)\n",
    "\n",
    "del lst1 [2]\n",
    "del lst1 [4]\n",
    "del lst1 [6]\n",
    "\n",
    "print(lst1)\n",
    "\n",
    "lst1[5] = 99\n",
    "\n",
    "print(lst1)\n"
   ]
  },
  {
   "cell_type": "code",
   "execution_count": 63,
   "id": "227a19dd",
   "metadata": {},
   "outputs": [
    {
     "ename": "TypeError",
     "evalue": "'list' object is not callable",
     "output_type": "error",
     "traceback": [
      "\u001b[1;31m---------------------------------------------------------------------------\u001b[0m",
      "\u001b[1;31mTypeError\u001b[0m                                 Traceback (most recent call last)",
      "Cell \u001b[1;32mIn[63], line 11\u001b[0m\n\u001b[0;32m      8\u001b[0m number3 \u001b[38;5;241m=\u001b[39m \u001b[38;5;28mzip\u001b[39m(number1, number2)\n\u001b[0;32m     10\u001b[0m \u001b[38;5;66;03m# Print the list of tuples\u001b[39;00m\n\u001b[1;32m---> 11\u001b[0m \u001b[38;5;28mprint\u001b[39m(\u001b[38;5;28;43mlist\u001b[39;49m\u001b[43m(\u001b[49m\u001b[43mnumber3\u001b[49m\u001b[43m)\u001b[49m)\n",
      "\u001b[1;31mTypeError\u001b[0m: 'list' object is not callable"
     ]
    }
   ],
   "source": [
    "### Assignment 12: List Zipping\n",
    "\n",
    "#Create two lists of the same length. Use the `zip` function to combine these lists into a list of tuples and print the result.\n",
    "\n",
    "number1 = [1, 2, 3, 4, 5]\n",
    "number2 = [6, 7, 8, 9, 10]\n",
    "\n",
    "number3 = zip(number1, number2)\n",
    "\n",
    "# Print the list of tuples\n",
    "print(list(number3))"
   ]
  },
  {
   "cell_type": "code",
   "execution_count": 67,
   "id": "097093e9",
   "metadata": {},
   "outputs": [
    {
     "name": "stdout",
     "output_type": "stream",
     "text": [
      "[1, 2, 3, 45, 6, 78, 89, 5, 6]\n",
      "None\n"
     ]
    }
   ],
   "source": [
    "### Assignment 13: List Reversal\n",
    "\n",
    "#Write a function that takes a list and returns a new list with the elements in reverse order. Print the original and reversed lists.\n",
    "\n",
    "vimal = [1,2,3,45,6,78,89,5,6]\n",
    "\n",
    "print(vimal)\n",
    "\n",
    "print(vimal.reverse())"
   ]
  },
  {
   "cell_type": "code",
   "execution_count": 3,
   "id": "cedfccc2",
   "metadata": {},
   "outputs": [],
   "source": [
    "\n",
    "### Assignment 15: List Intersection\n",
    "\n",
    "##Write a function that takes two lists and returns a new list containing only the elements that are present in both lists. \n",
    "# Print the intersected list.\n",
    "\n",
    "def new_list(a,b):\n",
    "    return (a for i in a if a in b)\n",
    "\n"
   ]
  },
  {
   "cell_type": "code",
   "execution_count": 7,
   "id": "19135475",
   "metadata": {},
   "outputs": [
    {
     "name": "stdout",
     "output_type": "stream",
     "text": [
      "<generator object new_list.<locals>.<genexpr> at 0x00000250B6805460>\n",
      "Original a: [1, 2, 3, 4, 5]\n",
      "Original b: [2, 3, 6, 7, 88, 9]\n",
      "Unique values: <generator object new_list.<locals>.<genexpr> at 0x00000250B6805460>\n"
     ]
    }
   ],
   "source": [
    "a = [1,2,3,4,5]\n",
    "b = [2,3,6,7,88,9]\n",
    "unique_number = new_list(a,b)\n",
    "print(unique_number)\n",
    "print(f\"Original a: {a}\")\n",
    "print(f\"Original b: {b}\")\n",
    "print(f\"Unique values: {unique_number}\")"
   ]
  },
  {
   "cell_type": "code",
   "execution_count": 8,
   "id": "02c39d47",
   "metadata": {},
   "outputs": [],
   "source": [
    "### Assignment 14: List Rotation\n",
    "\n",
    "##Write a function that rotates a list by n positions. Print the original and rotated lists."
   ]
  },
  {
   "cell_type": "code",
   "execution_count": 11,
   "id": "bb5fdcb2",
   "metadata": {},
   "outputs": [
    {
     "name": "stdout",
     "output_type": "stream",
     "text": [
      "Original List: [1, 2, 4, 54, 5]\n",
      "Roatates_list: [54, 5, 1, 2, 4]\n"
     ]
    }
   ],
   "source": [
    "def roatates(lst, n):\n",
    "    return lst[n:] + lst[:n]\n",
    "\n",
    "original_list = [1,2,4,54,5]\n",
    "roatates_list = roatates(original_list, 3)\n",
    "print(f\"Original List: {original_list}\")\n",
    "print(f\"Roatates_list: {roatates_list}\")"
   ]
  },
  {
   "cell_type": "code",
   "execution_count": null,
   "id": "c9d4b60a",
   "metadata": {},
   "outputs": [],
   "source": []
  }
 ],
 "metadata": {
  "kernelspec": {
   "display_name": "Python 3",
   "language": "python",
   "name": "python3"
  },
  "language_info": {
   "codemirror_mode": {
    "name": "ipython",
    "version": 3
   },
   "file_extension": ".py",
   "mimetype": "text/x-python",
   "name": "python",
   "nbconvert_exporter": "python",
   "pygments_lexer": "ipython3",
   "version": "3.13.0"
  }
 },
 "nbformat": 4,
 "nbformat_minor": 5
}
