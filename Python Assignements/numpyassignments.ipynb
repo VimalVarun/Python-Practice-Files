{
 "cells": [
  {
   "cell_type": "markdown",
   "metadata": {},
   "source": [
    "# Module: NumPy Assignments\n",
    "## Lesson: NumPy\n",
    "\n",
    "\n",
    "\n",
    "\n",
    "### Assignment 3: Array Operations\n",
    "\n",
    "1. Create two NumPy arrays of shape (3, 4) filled with random integers. Perform element-wise addition, subtraction, multiplication, and division.\n",
    "2. Create a NumPy array of shape (4, 4) with values from 1 to 16. Compute the row-wise and column-wise sum.\n",
    "\n",
    "### Assignment 4: Statistical Operations\n",
    "\n",
    "1. Create a NumPy array of shape (5, 5) filled with random integers. Compute the mean, median, standard deviation, and variance of the array.\n",
    "2. Create a NumPy array of shape (3, 3) with values from 1 to 9. Normalize the array (i.e., scale the values to have a mean of 0 and a standard deviation of 1).\n",
    "\n",
    "### Assignment 5: Broadcasting\n",
    "\n",
    "1. Create a NumPy array of shape (3, 3) filled with random integers. Add a 1D array of shape (3,) to each row of the 2D array using broadcasting.\n",
    "2. Create a NumPy array of shape (4, 4) filled with random integers. Subtract a 1D array of shape (4,) from each column of the 2D array using broadcasting.\n",
    "\n",
    "### Assignment 6: Linear Algebra\n",
    "\n",
    "1. Create a NumPy array of shape (3, 3) representing a matrix. Compute its determinant, inverse, and eigenvalues.\n",
    "2. Create two NumPy arrays of shape (2, 3) and (3, 2). Perform matrix multiplication on these arrays.\n",
    "\n",
    "### Assignment 7: Advanced Array Manipulation\n",
    "\n",
    "1. Create a NumPy array of shape (3, 3) with values from 1 to 9. Reshape the array to shape (1, 9) and then to shape (9, 1).\n",
    "2. Create a NumPy array of shape (5, 5) filled with random integers. Flatten the array and then reshape it back to (5, 5).\n",
    "\n",
    "### Assignment 8: Fancy Indexing and Boolean Indexing\n",
    "\n",
    "1. Create a NumPy array of shape (5, 5) filled with random integers. Use fancy indexing to extract the elements at the corners of the array.\n",
    "2. Create a NumPy array of shape (4, 4) filled with random integers. Use boolean indexing to set all elements greater than 10 to 10.\n",
    "\n",
    "### Assignment 9: Structured Arrays\n",
    "\n",
    "1. Create a structured array with fields 'name' (string), 'age' (integer), and 'weight' (float). Add some data and sort the array by age.\n",
    "2. Create a structured array with fields 'x' and 'y' (both integers). Add some data and compute the Euclidean distance between each pair of points.\n",
    "\n",
    "### Assignment 10: Masked Arrays\n",
    "\n",
    "1. Create a masked array of shape (4, 4) with random integers and mask the elements greater than 10. Compute the sum of the unmasked elements.\n",
    "2. Create a masked array of shape (3, 3) with random integers and mask the diagonal elements. Replace the masked elements with the mean of the unmasked elements."
   ]
  },
  {
   "cell_type": "code",
   "execution_count": 33,
   "metadata": {},
   "outputs": [],
   "source": [
    "### Assignment 1: Array Creation and Manipulation\n",
    "\n",
    "# Create a NumPy array of shape (5, 5) filled with random integers between 1 and 20. Replace all the elements in the third column with 1.\n",
    "# Create a NumPy array of shape (4, 4) with values from 1 to 16. Replace the diagonal elements with 0.\n",
    "\n",
    "import numpy as np"
   ]
  },
  {
   "cell_type": "code",
   "execution_count": 34,
   "id": "4cad83c1",
   "metadata": {},
   "outputs": [
    {
     "name": "stdout",
     "output_type": "stream",
     "text": [
      "[[ 1  2  3  4  5]\n",
      " [ 6  7  8  9 10]\n",
      " [11 12 13 14 15]\n",
      " [16 17 18 19 20]\n",
      " [21 22 23 24 25]]\n",
      "(5, 5)\n"
     ]
    }
   ],
   "source": [
    "arr1 = np.array([[1,2,3,4,5],[6,7,8,9,10],[11,12,13,14,15],[16,17,18,19,20],[21,22,23,24,25]])\n",
    "print(arr1)\n",
    "print(arr1.shape)"
   ]
  },
  {
   "cell_type": "code",
   "execution_count": 35,
   "id": "d8e10eae",
   "metadata": {},
   "outputs": [],
   "source": [
    "arr1[:,2] = 1"
   ]
  },
  {
   "cell_type": "code",
   "execution_count": 36,
   "id": "7b5fd74b",
   "metadata": {},
   "outputs": [
    {
     "name": "stdout",
     "output_type": "stream",
     "text": [
      "[[ 1  2  1  4  5]\n",
      " [ 6  7  1  9 10]\n",
      " [11 12  1 14 15]\n",
      " [16 17  1 19 20]\n",
      " [21 22  1 24 25]]\n"
     ]
    }
   ],
   "source": [
    "print(arr1)"
   ]
  },
  {
   "cell_type": "code",
   "execution_count": 37,
   "id": "d6ef18e5",
   "metadata": {},
   "outputs": [
    {
     "name": "stdout",
     "output_type": "stream",
     "text": [
      "(5, 5)\n",
      "Original arr:\n",
      " [[ 8  5  7 13 17]\n",
      " [ 9 13  9 13  1]\n",
      " [14  2  7  9  4]\n",
      " [18  6 19 17  2]\n",
      " [ 8 13  7  3 11]]\n",
      "(5, 5)\n",
      "Moddifed arr:\n",
      " [[ 8  5  1 13 17]\n",
      " [ 9 13  1 13  1]\n",
      " [14  2  1  9  4]\n",
      " [18  6  1 17  2]\n",
      " [ 8 13  1  3 11]]\n"
     ]
    }
   ],
   "source": [
    "arr = np.random.randint(1, 21, size=(5,5))\n",
    "print(arr.shape)\n",
    "print(\"Original arr:\\n\", arr)\n",
    "\n",
    "arr[:,2]=1\n",
    "print(arr.shape)\n",
    "print(\"Moddifed arr:\\n\", arr)"
   ]
  },
  {
   "cell_type": "code",
   "execution_count": 38,
   "id": "3412bcb5",
   "metadata": {},
   "outputs": [
    {
     "name": "stdout",
     "output_type": "stream",
     "text": [
      "(4, 4)\n",
      "Orginal_array:\n",
      " [[ 6  9  3  1]\n",
      " [10 11 12 12]\n",
      " [13  2  5 15]\n",
      " [ 8  3  5 15]]\n",
      "Modified_array:\n",
      " [[ 0  9  3  1]\n",
      " [10  0 12 12]\n",
      " [13  2  0 15]\n",
      " [ 8  3  5  0]]\n"
     ]
    }
   ],
   "source": [
    "# Create a NumPy array of shape (4, 4) with values from 1 to 16. Replace the diagonal elements with 0.\n",
    "\n",
    "arr2 = np.random.randint(1, 16, size=(4,4))\n",
    "print(arr2.shape)\n",
    "print(\"Orginal_array:\\n\", arr2)\n",
    "\n",
    "np.fill_diagonal(arr2, 0)\n",
    "print(\"Modified_array:\\n\", arr2)"
   ]
  },
  {
   "cell_type": "code",
   "execution_count": 39,
   "id": "baf420c0",
   "metadata": {},
   "outputs": [],
   "source": [
    "### Assignment 2: Array Indexing and Slicing\n",
    "\n",
    "#1. Create a NumPy array of shape (6, 6) with values from 1 to 36. Extract the sub-array consisting of the 3rd to 5th rows and 2nd to 4th columns.\n",
    "#2. Create a NumPy array of shape (5, 5) with random integers. Extract the elements on the border."
   ]
  },
  {
   "cell_type": "code",
   "execution_count": 40,
   "id": "e2cc4465",
   "metadata": {},
   "outputs": [
    {
     "name": "stdout",
     "output_type": "stream",
     "text": [
      "(5, 5)\n",
      "[[ 8  5  1 13 17]\n",
      " [ 9 13  1 13  1]\n",
      " [14  2  1  9  4]\n",
      " [18  6  1 17  2]\n",
      " [ 8 13  1  3 11]]\n"
     ]
    }
   ],
   "source": [
    "arr10 = np.random.randint(1, 36, size=(6,6))\n",
    "print(arr.shape)\n",
    "print(arr)"
   ]
  },
  {
   "cell_type": "code",
   "execution_count": 41,
   "id": "af7b3603",
   "metadata": {},
   "outputs": [
    {
     "data": {
      "text/plain": [
       "array([[12, 18, 16],\n",
       "       [ 9, 12, 10],\n",
       "       [ 9, 25,  7]], dtype=int32)"
      ]
     },
     "execution_count": 41,
     "metadata": {},
     "output_type": "execute_result"
    }
   ],
   "source": [
    "arr10[2:5,1:4]"
   ]
  },
  {
   "cell_type": "code",
   "execution_count": 42,
   "id": "6604b00e",
   "metadata": {},
   "outputs": [
    {
     "name": "stdout",
     "output_type": "stream",
     "text": [
      "(5, 5)\n",
      "[[ 1 10  8  2 10]\n",
      " [13  9 17 10  5]\n",
      " [13  6 18 18 12]\n",
      " [13 17 10 13 15]\n",
      " [12  5  3 13 10]]\n",
      "[ 1 10  8  2 10 12  5  3 13 10 13 13 13  5 12 15]\n"
     ]
    }
   ],
   "source": [
    "num = np.random.randint(1, 20, size = (5,5))\n",
    "print(num.shape)\n",
    "print(num)\n",
    "\n",
    "\n",
    "\n",
    "modified_num = np.concatenate((num[0, :], num[-1, :], num[1:-1, 0], num[1:-1, -1]))\n",
    "print(modified_num)"
   ]
  },
  {
   "cell_type": "code",
   "execution_count": 43,
   "id": "f465fd52",
   "metadata": {},
   "outputs": [
    {
     "name": "stdout",
     "output_type": "stream",
     "text": [
      "[[ 1  2  3  4  5]\n",
      " [ 6  7  8  9 10]\n",
      " [11 12 13 14 15]\n",
      " [16 17 18 19 20]\n",
      " [21 22 23 24 25]]\n",
      "(5, 5)\n"
     ]
    }
   ],
   "source": [
    "arr1 = np.array([[1,2,3,4,5],[6,7,8,9,10],[11,12,13,14,15],[16,17,18,19,20],[21,22,23,24,25]])\n",
    "print(arr1)\n",
    "print(arr1.shape)"
   ]
  },
  {
   "cell_type": "code",
   "execution_count": 44,
   "id": "6e3eaeb3",
   "metadata": {},
   "outputs": [
    {
     "name": "stdout",
     "output_type": "stream",
     "text": [
      "[ 1  2  3  4  5 21 22 23 24 25  9 14 18]\n"
     ]
    }
   ],
   "source": [
    "modified_arr1 = np.concatenate((arr1[0,:], arr1[-1,:], arr[1:-1,0],arr[-1:-1,1]))\n",
    "print(modified_arr1)"
   ]
  },
  {
   "cell_type": "code",
   "execution_count": null,
   "id": "eae78e94",
   "metadata": {},
   "outputs": [],
   "source": []
  },
  {
   "cell_type": "code",
   "execution_count": null,
   "id": "33cd4817",
   "metadata": {},
   "outputs": [],
   "source": []
  },
  {
   "cell_type": "code",
   "execution_count": null,
   "id": "f82d401f",
   "metadata": {},
   "outputs": [],
   "source": []
  }
 ],
 "metadata": {
  "kernelspec": {
   "display_name": "Python 3",
   "language": "python",
   "name": "python3"
  },
  "language_info": {
   "codemirror_mode": {
    "name": "ipython",
    "version": 3
   },
   "file_extension": ".py",
   "mimetype": "text/x-python",
   "name": "python",
   "nbconvert_exporter": "python",
   "pygments_lexer": "ipython3",
   "version": "3.13.0"
  }
 },
 "nbformat": 4,
 "nbformat_minor": 5
}
