{
 "cells": [
  {
   "cell_type": "markdown",
   "metadata": {},
   "source": [
    "# Module: NumPy Assignments\n",
    "## Lesson: NumPy\n",
    "\n",
    "\n",
    "\n",
    "\n",
    "\n",
    "\n",
    "\n",
    "\n",
    "\n",
    "\n",
    "\n",
    "\n",
    "\n",
    "### Assignment 9: Structured Arrays\n",
    "\n",
    "\n",
    "2. Create a structured array with fields 'x' and 'y' (both integers). Add some data and compute the Euclidean distance between each pair of points.\n",
    "\n",
    "### Assignment 10: Masked Arrays\n",
    "\n",
    "1. Create a masked array of shape (4, 4) with random integers and mask the elements greater than 10. Compute the sum of the unmasked elements.\n",
    "2. Create a masked array of shape (3, 3) with random integers and mask the diagonal elements. Replace the masked elements with the mean of the unmasked elements."
   ]
  },
  {
   "cell_type": "code",
   "execution_count": 2,
   "metadata": {},
   "outputs": [],
   "source": [
    "### Assignment 1: Array Creation and Manipulation\n",
    "\n",
    "# Create a NumPy array of shape (5, 5) filled with random integers between 1 and 20. Replace all the elements in the third column with 1.\n",
    "# Create a NumPy array of shape (4, 4) with values from 1 to 16. Replace the diagonal elements with 0.\n",
    "\n",
    "import numpy as np"
   ]
  },
  {
   "cell_type": "code",
   "execution_count": 3,
   "id": "4cad83c1",
   "metadata": {},
   "outputs": [
    {
     "name": "stdout",
     "output_type": "stream",
     "text": [
      "[[ 1  2  3  4  5]\n",
      " [ 6  7  8  9 10]\n",
      " [11 12 13 14 15]\n",
      " [16 17 18 19 20]\n",
      " [21 22 23 24 25]]\n",
      "(5, 5)\n"
     ]
    }
   ],
   "source": [
    "arr1 = np.array([[1,2,3,4,5],[6,7,8,9,10],[11,12,13,14,15],[16,17,18,19,20],[21,22,23,24,25]])\n",
    "print(arr1)\n",
    "print(arr1.shape)"
   ]
  },
  {
   "cell_type": "code",
   "execution_count": 4,
   "id": "d8e10eae",
   "metadata": {},
   "outputs": [],
   "source": [
    "arr1[:,2] = 1"
   ]
  },
  {
   "cell_type": "code",
   "execution_count": 5,
   "id": "7b5fd74b",
   "metadata": {},
   "outputs": [
    {
     "name": "stdout",
     "output_type": "stream",
     "text": [
      "[[ 1  2  1  4  5]\n",
      " [ 6  7  1  9 10]\n",
      " [11 12  1 14 15]\n",
      " [16 17  1 19 20]\n",
      " [21 22  1 24 25]]\n"
     ]
    }
   ],
   "source": [
    "print(arr1)"
   ]
  },
  {
   "cell_type": "code",
   "execution_count": 6,
   "id": "d6ef18e5",
   "metadata": {},
   "outputs": [
    {
     "name": "stdout",
     "output_type": "stream",
     "text": [
      "(5, 5)\n",
      "Original arr:\n",
      " [[11 16 15  9 10]\n",
      " [11  1  6  2  1]\n",
      " [ 2  2  4  8  7]\n",
      " [11  5 17 10 12]\n",
      " [ 1 17 17  2 10]]\n",
      "(5, 5)\n",
      "Moddifed arr:\n",
      " [[11 16  1  9 10]\n",
      " [11  1  1  2  1]\n",
      " [ 2  2  1  8  7]\n",
      " [11  5  1 10 12]\n",
      " [ 1 17  1  2 10]]\n"
     ]
    }
   ],
   "source": [
    "arr = np.random.randint(1, 21, size=(5,5))\n",
    "print(arr.shape)\n",
    "print(\"Original arr:\\n\", arr)\n",
    "\n",
    "arr[:,2]=1\n",
    "print(arr.shape)\n",
    "print(\"Moddifed arr:\\n\", arr)"
   ]
  },
  {
   "cell_type": "code",
   "execution_count": 7,
   "id": "3412bcb5",
   "metadata": {},
   "outputs": [
    {
     "name": "stdout",
     "output_type": "stream",
     "text": [
      "(4, 4)\n",
      "Orginal_array:\n",
      " [[ 8 11  3  9]\n",
      " [ 3  7 14  2]\n",
      " [ 9  2  6 13]\n",
      " [14 14  7 15]]\n",
      "Modified_array:\n",
      " [[ 0 11  3  9]\n",
      " [ 3  0 14  2]\n",
      " [ 9  2  0 13]\n",
      " [14 14  7  0]]\n"
     ]
    }
   ],
   "source": [
    "# Create a NumPy array of shape (4, 4) with values from 1 to 16. Replace the diagonal elements with 0.\n",
    "\n",
    "arr2 = np.random.randint(1, 16, size=(4,4))\n",
    "print(arr2.shape)\n",
    "print(\"Orginal_array:\\n\", arr2)\n",
    "\n",
    "np.fill_diagonal(arr2, 0)\n",
    "print(\"Modified_array:\\n\", arr2)"
   ]
  },
  {
   "cell_type": "code",
   "execution_count": 8,
   "id": "baf420c0",
   "metadata": {},
   "outputs": [],
   "source": [
    "### Assignment 2: Array Indexing and Slicing\n",
    "\n",
    "#1. Create a NumPy array of shape (6, 6) with values from 1 to 36. Extract the sub-array consisting of the 3rd to 5th rows and 2nd to 4th columns.\n",
    "#2. Create a NumPy array of shape (5, 5) with random integers. Extract the elements on the border."
   ]
  },
  {
   "cell_type": "code",
   "execution_count": 9,
   "id": "e2cc4465",
   "metadata": {},
   "outputs": [
    {
     "name": "stdout",
     "output_type": "stream",
     "text": [
      "(5, 5)\n",
      "[[11 16  1  9 10]\n",
      " [11  1  1  2  1]\n",
      " [ 2  2  1  8  7]\n",
      " [11  5  1 10 12]\n",
      " [ 1 17  1  2 10]]\n"
     ]
    }
   ],
   "source": [
    "arr10 = np.random.randint(1, 36, size=(6,6))\n",
    "print(arr.shape)\n",
    "print(arr)"
   ]
  },
  {
   "cell_type": "code",
   "execution_count": 10,
   "id": "af7b3603",
   "metadata": {},
   "outputs": [
    {
     "data": {
      "text/plain": [
       "array([[10,  2,  7],\n",
       "       [35, 15,  2],\n",
       "       [ 8, 33, 26]], dtype=int32)"
      ]
     },
     "execution_count": 10,
     "metadata": {},
     "output_type": "execute_result"
    }
   ],
   "source": [
    "arr10[2:5,1:4]"
   ]
  },
  {
   "cell_type": "code",
   "execution_count": 11,
   "id": "6604b00e",
   "metadata": {},
   "outputs": [
    {
     "name": "stdout",
     "output_type": "stream",
     "text": [
      "(5, 5)\n",
      "[[ 6 10 12 13 19]\n",
      " [ 2  4  5 17  2]\n",
      " [ 2  5  2 18  1]\n",
      " [18 19 16 10  5]\n",
      " [ 1 11  8 16 16]]\n",
      "[ 6 10 12 13 19  1 11  8 16 16  2  2 18  2  1  5]\n"
     ]
    }
   ],
   "source": [
    "num = np.random.randint(1, 20, size = (5,5))\n",
    "print(num.shape)\n",
    "print(num)\n",
    "\n",
    "\n",
    "\n",
    "modified_num = np.concatenate((num[0, :], num[-1, :], num[1:-1, 0], num[1:-1, -1]))\n",
    "print(modified_num)"
   ]
  },
  {
   "cell_type": "code",
   "execution_count": 12,
   "id": "f465fd52",
   "metadata": {},
   "outputs": [
    {
     "name": "stdout",
     "output_type": "stream",
     "text": [
      "[[ 1  2  3  4  5]\n",
      " [ 6  7  8  9 10]\n",
      " [11 12 13 14 15]\n",
      " [16 17 18 19 20]\n",
      " [21 22 23 24 25]]\n",
      "(5, 5)\n"
     ]
    }
   ],
   "source": [
    "arr1 = np.array([[1,2,3,4,5],[6,7,8,9,10],[11,12,13,14,15],[16,17,18,19,20],[21,22,23,24,25]])\n",
    "print(arr1)\n",
    "print(arr1.shape)"
   ]
  },
  {
   "cell_type": "code",
   "execution_count": 13,
   "id": "6e3eaeb3",
   "metadata": {},
   "outputs": [
    {
     "name": "stdout",
     "output_type": "stream",
     "text": [
      "[ 1  2  3  4  5 21 22 23 24 25 11  2 11]\n"
     ]
    }
   ],
   "source": [
    "modified_arr1 = np.concatenate((arr1[0,:], arr1[-1,:], arr[1:-1,0],arr[-1:-1,1]))\n",
    "print(modified_arr1)"
   ]
  },
  {
   "cell_type": "code",
   "execution_count": null,
   "id": "eae78e94",
   "metadata": {},
   "outputs": [],
   "source": [
    "### Assignment 3: Array Operations\n",
    "\n",
    "#1. Create two NumPy arrays of shape (3, 4) filled with random integers. Perform element-wise addition, subtraction, multiplication, and division.\n"
   ]
  },
  {
   "cell_type": "code",
   "execution_count": 17,
   "id": "33cd4817",
   "metadata": {},
   "outputs": [
    {
     "name": "stdout",
     "output_type": "stream",
     "text": [
      "Original num1 array:\n",
      " [[12  8  6  7]\n",
      " [ 7  8  2  3]\n",
      " [ 1  5 11  6]]\n",
      "Original num2 array:\n",
      " [[14  4 13  7]\n",
      " [13 14  1 13]\n",
      " [ 4 10 11 12]]\n",
      "Additions:\n",
      " [[26 12 19 14]\n",
      " [20 22  3 16]\n",
      " [ 5 15 22 18]]\n",
      "Subtraction:\n",
      " [[ -2   4  -7   0]\n",
      " [ -6  -6   1 -10]\n",
      " [ -3  -5   0  -6]]\n",
      "Multiplication:\n",
      " [[168  32  78  49]\n",
      " [ 91 112   2  39]\n",
      " [  4  50 121  72]]\n",
      "Division:\n",
      " [[0.85714286 2.         0.46153846 1.        ]\n",
      " [0.53846154 0.57142857 2.         0.23076923]\n",
      " [0.25       0.5        1.         0.5       ]]\n"
     ]
    }
   ],
   "source": [
    "num1 = np.random.randint(1, 15, size =(3, 4))\n",
    "num2 = np.random.randint(1, 15, size =(3, 4))\n",
    "\n",
    "print(\"Original num1 array:\\n\", num1)\n",
    "print(\"Original num2 array:\\n\", num2)\n",
    "\n",
    "\n",
    "#Addition:\n",
    "print(\"Additions:\\n\", num1+num2)\n",
    "\n",
    "#subtraction:\n",
    "print(\"Subtraction:\\n\", num1-num2)\n",
    "\n",
    "#Multiplication:\n",
    "print(\"Multiplication:\\n\", num1*num2)\n",
    "\n",
    "#Division:\n",
    "print(\"Division:\\n\", num1/num2)"
   ]
  },
  {
   "cell_type": "code",
   "execution_count": 18,
   "id": "f82d401f",
   "metadata": {},
   "outputs": [
    {
     "name": "stdout",
     "output_type": "stream",
     "text": [
      "[[12  2 15  8]\n",
      " [ 8  2 15  5]\n",
      " [11 14 12 11]\n",
      " [ 4  6 14  8]]\n",
      "(4, 4)\n"
     ]
    }
   ],
   "source": [
    "#2. Create a NumPy array of shape (4, 4) with values from 1 to 16. Compute the row-wise and column-wise sum.\n",
    "\n",
    "array1 = np.random.randint(1, 16, size = (4, 4))\n",
    "print(array1)\n",
    "print(array1.shape)"
   ]
  },
  {
   "cell_type": "code",
   "execution_count": 20,
   "id": "a8aef89f",
   "metadata": {},
   "outputs": [
    {
     "name": "stdout",
     "output_type": "stream",
     "text": [
      "First rwo_wise_sum:\n",
      " 37\n",
      "Second rwo wise sum:\n",
      " 30\n",
      "Third row wise sum:\n",
      " 48\n",
      "Fourth row wise sum:\n",
      " 32\n"
     ]
    }
   ],
   "source": [
    "rwo_wise_sum1 = array1[0].sum()\n",
    "rwo_wise_sum2 = array1[1].sum()\n",
    "rwo_wise_sum3 = array1[2].sum()\n",
    "rwo_wise_sum4 = array1[3].sum()\n",
    "\n",
    "print(\"First rwo_wise_sum:\\n\", rwo_wise_sum1)\n",
    "print(\"Second rwo wise sum:\\n\", rwo_wise_sum2)\n",
    "print(\"Third row wise sum:\\n\", rwo_wise_sum3)\n",
    "print(\"Fourth row wise sum:\\n\", rwo_wise_sum4)"
   ]
  },
  {
   "cell_type": "code",
   "execution_count": 29,
   "id": "85b9c259",
   "metadata": {},
   "outputs": [
    {
     "data": {
      "text/plain": [
       "array([[12,  2, 15,  8],\n",
       "       [ 8,  2, 15,  5],\n",
       "       [11, 14, 12, 11],\n",
       "       [ 4,  6, 14,  8]], dtype=int32)"
      ]
     },
     "execution_count": 29,
     "metadata": {},
     "output_type": "execute_result"
    }
   ],
   "source": [
    "array1"
   ]
  },
  {
   "cell_type": "code",
   "execution_count": 43,
   "id": "1952ef67",
   "metadata": {},
   "outputs": [
    {
     "name": "stdout",
     "output_type": "stream",
     "text": [
      "[[12  2 15  8]\n",
      " [ 8  2 15  5]\n",
      " [11 14 12 11]]\n"
     ]
    }
   ],
   "source": [
    "print(array1[:-1])"
   ]
  },
  {
   "cell_type": "code",
   "execution_count": 46,
   "id": "1e310d21",
   "metadata": {},
   "outputs": [
    {
     "name": "stdout",
     "output_type": "stream",
     "text": [
      "Orginal array:\n",
      " [[ 1  2  3  4]\n",
      " [ 5  6  7  8]\n",
      " [ 9 10 11 12]\n",
      " [13 14 15 16]]\n",
      "(4, 4)\n",
      "row_wise_sum: [10 26 42 58]\n",
      "columns_wise_sum: [28 32 36 40]\n"
     ]
    }
   ],
   "source": [
    "number = np.arange(1, 17).reshape(4, 4)\n",
    "print(\"Orginal array:\\n\", number)\n",
    "print(number.shape)\n",
    "\n",
    "#Compute the row-wise and column-wise sum.\n",
    "\n",
    "row_wise_sum = np.sum(number, axis=1)\n",
    "columns_wise_sum = np.sum(number, axis=0)\n",
    "\n",
    "print(f\"row_wise_sum: {row_wise_sum}\")\n",
    "print(f\"columns_wise_sum: {columns_wise_sum}\")"
   ]
  },
  {
   "cell_type": "code",
   "execution_count": null,
   "id": "8c0d2392",
   "metadata": {},
   "outputs": [],
   "source": [
    "\n",
    "### Assignment 4: Statistical Operations\n",
    "\n",
    "#1. Create a NumPy array of shape (5, 5) filled with random integers. Compute the mean, median, standard deviation, and variance of the array.\n"
   ]
  },
  {
   "cell_type": "code",
   "execution_count": 49,
   "id": "2b0fde64",
   "metadata": {},
   "outputs": [
    {
     "name": "stdout",
     "output_type": "stream",
     "text": [
      "Orginal numpy array: [[11 16  1 16  7]\n",
      " [ 5  3  3 10 18]\n",
      " [ 2 15 18 11 16]\n",
      " [15  6  9 17  7]\n",
      " [ 7  7 16 18 10]]\n",
      "Shape of the numpy array: (5, 5)\n",
      "Mean of the numpy array: 10.56\n",
      "Median of the numpy array: 10.0\n",
      "Standard deviation of the numpy array: 5.477809781290329\n",
      "variance of the numpy array:30.0064\n"
     ]
    }
   ],
   "source": [
    "numpy_array = np.random.randint(1, 20, size = (5,5))\n",
    "print(f\"Orginal numpy array: {numpy_array}\")\n",
    "print(f\"Shape of the numpy array: {numpy_array.shape}\")\n",
    "\n",
    "#mean:\n",
    "print(f\"Mean of the numpy array: {np.mean(numpy_array)}\")\n",
    "\n",
    "#median:\n",
    "print(f\"Median of the numpy array: {np.median(numpy_array)}\")\n",
    "\n",
    "#standard deviation:\n",
    "print(f\"Standard deviation of the numpy array: {np.std(numpy_array)}\")\n",
    "\n",
    "#variance:\n",
    "print(f\"variance of the numpy array:{np.var(numpy_array)}\")"
   ]
  },
  {
   "cell_type": "code",
   "execution_count": null,
   "id": "c3fa0254",
   "metadata": {},
   "outputs": [],
   "source": [
    "#2. Create a NumPy array of shape (3, 3) with values from 1 to 9. Normalize the array (i.e., scale the values to have a mean of 0 and a standard deviation of 1)."
   ]
  },
  {
   "cell_type": "code",
   "execution_count": 52,
   "id": "8731dfb7",
   "metadata": {},
   "outputs": [
    {
     "name": "stdout",
     "output_type": "stream",
     "text": [
      "[[1 2 3]\n",
      " [4 5 6]\n",
      " [7 8 9]]\n",
      "(3, 3)\n",
      "Orginal array of the mean is: 5.0\n",
      "Orginal std of the array is: 2.581988897471611\n",
      "Normalaization of the array: [[-1.54919334 -1.161895   -0.77459667]\n",
      " [-0.38729833  0.          0.38729833]\n",
      " [ 0.77459667  1.161895    1.54919334]]\n",
      "Mean of the normalaization of the array is: 0.0\n",
      "Std of the normalization of the array is:1.0\n"
     ]
    }
   ],
   "source": [
    "numpy = np.arange(1,10).reshape(3,3)\n",
    "print(numpy)\n",
    "print(numpy.shape)\n",
    "\n",
    "mean_array = np.mean(numpy)\n",
    "std_array = np.std(numpy)\n",
    "\n",
    "print(f\"Orginal array of the mean is: {mean_array}\")\n",
    "print(f\"Orginal std of the array is: {std_array}\")\n",
    "\n",
    "normalization = (numpy - mean_array)/std_array\n",
    "\n",
    "print(f\"Normalaization of the array: {normalization}\")\n",
    "\n",
    "print(f\"Mean of the normalaization of the array is: {np.mean(normalization)}\")\n",
    "print(f\"Std of the normalization of the array is:{np.std(normalization)}\")"
   ]
  },
  {
   "cell_type": "code",
   "execution_count": null,
   "id": "5a75b7ca",
   "metadata": {},
   "outputs": [],
   "source": [
    "\n",
    "### Assignment 5: Broadcasting\n"
   ]
  },
  {
   "cell_type": "code",
   "execution_count": null,
   "id": "b37f743b",
   "metadata": {},
   "outputs": [],
   "source": [
    "#1. Create a NumPy array of shape (3, 3) filled with random integers. Add a 1D array of shape (3,) to each row of the 2D array using broadcasting."
   ]
  },
  {
   "cell_type": "code",
   "execution_count": 57,
   "id": "e1d84116",
   "metadata": {},
   "outputs": [
    {
     "name": "stdout",
     "output_type": "stream",
     "text": [
      "Orginal array\n",
      "[[1 4 2]\n",
      " [4 8 3]\n",
      " [5 1 8]]\n",
      "Row_wise_array\n",
      "[3 1 6]\n",
      "Add a 1D array of shape(3,):\n",
      " [[ 4  5  8]\n",
      " [ 7  9  9]\n",
      " [ 8  2 14]]\n"
     ]
    }
   ],
   "source": [
    "numpy1 = np.random.randint(1, 10, size=(3,3))\n",
    "row_wise = np.random.randint(1, 10, size=(3,))\n",
    "print(\"Orginal array\")\n",
    "print(numpy1)\n",
    "print(\"Row_wise_array\")\n",
    "print(row_wise)\n",
    "\n",
    "#Add a 1D array\n",
    "\n",
    "add = numpy1 + row_wise\n",
    "print(\"Add a 1D array of shape(3,):\\n\", add)\n"
   ]
  },
  {
   "cell_type": "code",
   "execution_count": null,
   "id": "d95c9118",
   "metadata": {},
   "outputs": [],
   "source": [
    "#2. Create a NumPy array of shape (4, 4) filled with random integers. Subtract a 1D array of shape (4,) from each column of the 2D array using broadcasting."
   ]
  },
  {
   "cell_type": "code",
   "execution_count": null,
   "id": "d1a4bc05",
   "metadata": {},
   "outputs": [
    {
     "name": "stdout",
     "output_type": "stream",
     "text": [
      "Orginal array\n",
      "[[16 16  4  5]\n",
      " [12 11  4  2]\n",
      " [ 6  4  3  1]\n",
      " [16  4  2 10]]\n",
      "Columns_wise\n",
      "[ 6  5  6 13]\n",
      "Result of the array\n",
      "[[ 10  11  -2  -8]\n",
      " [  6   6  -2 -11]\n",
      " [  0  -1  -3 -12]\n",
      " [ 10  -1  -4  -3]]\n"
     ]
    }
   ],
   "source": [
    "array = np.random.randint(1, 20, size = (4,4))\n",
    "columns_wise = np.random.randint(1, 20, size=(4,))\n",
    "print(\"Orginal array\")\n",
    "print(array)\n",
    "print(\"Columns_wise\")\n",
    "print(columns_wise)\n",
    "\n",
    "#substract\n",
    "\n",
    "result = array - columns_wise[:]\n",
    "print(\"Result of the array\")\n",
    "print(result)"
   ]
  },
  {
   "cell_type": "code",
   "execution_count": 59,
   "id": "ddfb32e9",
   "metadata": {},
   "outputs": [
    {
     "name": "stdout",
     "output_type": "stream",
     "text": [
      "Orginal array\n",
      "[[11 13  7 10]\n",
      " [ 8 14 16  9]\n",
      " [17 13  4 10]\n",
      " [ 9  8 16  3]]\n",
      "Columns_wise\n",
      "[ 6 14  4 19]\n",
      "Result of the array\n",
      "[[  5   7   1   4]\n",
      " [ -6   0   2  -5]\n",
      " [ 13   9   0   6]\n",
      " [-10 -11  -3 -16]]\n"
     ]
    }
   ],
   "source": [
    "array = np.random.randint(1, 20, size = (4,4))\n",
    "columns_wise = np.random.randint(1, 20, size=(4,))\n",
    "print(\"Orginal array\")\n",
    "print(array)\n",
    "print(\"Columns_wise\")\n",
    "print(columns_wise)\n",
    "\n",
    "#substract\n",
    "\n",
    "result = array - columns_wise[:, np.newaxis]\n",
    "print(\"Result of the array\")\n",
    "print(result)"
   ]
  },
  {
   "cell_type": "code",
   "execution_count": null,
   "id": "976a3f2f",
   "metadata": {},
   "outputs": [],
   "source": [
    "### Assignment 6: Linear Algebra\n",
    "\n",
    "#1. Create a NumPy array of shape (3, 3) representing a matrix. Compute its determinant, inverse, and eigenvalues.\n"
   ]
  },
  {
   "cell_type": "code",
   "execution_count": 60,
   "id": "05385ed6",
   "metadata": {},
   "outputs": [
    {
     "name": "stdout",
     "output_type": "stream",
     "text": [
      "Matrix\n",
      "[[6 8 1]\n",
      " [4 6 3]\n",
      " [5 4 1]]\n",
      "Determiant: 37.99999999999998\n",
      "Inverser:[[-0.15789474 -0.10526316  0.47368421]\n",
      " [ 0.28947368  0.02631579 -0.36842105]\n",
      " [-0.36842105  0.42105263  0.10526316]]\n",
      "Eigenvalues: EigResult(eigenvalues=array([13.2903764+0.j        , -0.1451882+1.68467567j,\n",
      "       -0.1451882-1.68467567j]), eigenvectors=array([[ 0.68351082+0.j        , -0.02632824-0.56856212j,\n",
      "        -0.02632824+0.56856212j],\n",
      "       [ 0.56513212+0.j        ,  0.22291002+0.43119584j,\n",
      "         0.22291002-0.43119584j],\n",
      "       [ 0.4619942 +0.j        , -0.6636454 +0.j        ,\n",
      "        -0.6636454 -0.j        ]]))\n"
     ]
    }
   ],
   "source": [
    "matrix = np.random.randint(1, 10, size = (3,3))\n",
    "print(\"Matrix\")\n",
    "print(matrix)\n",
    "\n",
    "determiant = np.linalg.det(matrix)\n",
    "print(f\"Determiant: {determiant}\")\n",
    "\n",
    "inverse = np.linalg.inv(matrix)\n",
    "print(f\"Inverser:{inverse}\")\n",
    "\n",
    "eigenvalues = np.linalg.eig(matrix)\n",
    "print(f\"Eigenvalues: {eigenvalues}\")"
   ]
  },
  {
   "cell_type": "code",
   "execution_count": 64,
   "id": "2e11d878",
   "metadata": {},
   "outputs": [
    {
     "name": "stdout",
     "output_type": "stream",
     "text": [
      "array1\n",
      "[[7 4 9]\n",
      " [3 7 9]]\n",
      "array2\n",
      "[[5 7]\n",
      " [9 9]\n",
      " [8 6]]\n",
      "Matrix multiplication:\n",
      " [[143 139]\n",
      " [150 138]]\n"
     ]
    }
   ],
   "source": [
    "#2. Create two NumPy arrays of shape (2, 3) and (3, 2). Perform matrix multiplication on these arrays.\n",
    "\n",
    "numpy1 = np.random.randint(1, 10, size=(2,3))\n",
    "numpy2 = np.random.randint(1, 10, size =(3, 2))\n",
    "print(\"array1\")\n",
    "print(numpy1)\n",
    "print(\"array2\")\n",
    "print(numpy2)\n",
    "\n",
    "matrix = np.dot(numpy1,numpy2)\n",
    "print(\"Matrix multiplication:\\n\", matrix)"
   ]
  },
  {
   "cell_type": "code",
   "execution_count": null,
   "id": "af801178",
   "metadata": {},
   "outputs": [],
   "source": [
    "### Assignment 7: Advanced Array Manipulation\n",
    "\n",
    "#1. Create a NumPy array of shape (3, 3) with values from 1 to 9. Reshape the array to shape (1, 9) and then to shape (9, 1).\n"
   ]
  },
  {
   "cell_type": "code",
   "execution_count": 65,
   "id": "bbe269bf",
   "metadata": {},
   "outputs": [
    {
     "name": "stdout",
     "output_type": "stream",
     "text": [
      "Orginal shape of array\n",
      "[[1 2 3]\n",
      " [4 5 6]\n",
      " [7 8 9]]\n",
      "Reshape of the array to (1, 9)\n",
      "[[1 2 3 4 5 6 7 8 9]]\n",
      "Again the reshape of the array to back is (9, 1)\n",
      "[[1]\n",
      " [2]\n",
      " [3]\n",
      " [4]\n",
      " [5]\n",
      " [6]\n",
      " [7]\n",
      " [8]\n",
      " [9]]\n"
     ]
    }
   ],
   "source": [
    "numpy_array = np.arange(1, 10).reshape(3, 3)\n",
    "print(\"Orginal shape of array\")\n",
    "print(numpy_array)\n",
    "\n",
    "reshape_array1 = numpy_array.reshape(1, 9)\n",
    "print(\"Reshape of the array to (1, 9)\")\n",
    "print(reshape_array1)\n",
    "\n",
    "reshape_array2 = reshape_array1.reshape(9, 1)\n",
    "print(\"Again the reshape of the array to back is (9, 1)\")\n",
    "print(reshape_array2)"
   ]
  },
  {
   "cell_type": "code",
   "execution_count": 67,
   "id": "67117277",
   "metadata": {},
   "outputs": [
    {
     "name": "stdout",
     "output_type": "stream",
     "text": [
      "Shape\n",
      "(5, 5)\n",
      "Orginal array\n",
      "[[ 6 17  6 12 18]\n",
      " [ 5 14  1 10  9]\n",
      " [10 19 14 11  6]\n",
      " [ 9 14  1 12 18]\n",
      " [11 18  9 10 15]]\n",
      "Flattern numpy array\n",
      "[ 6 17  6 12 18  5 14  1 10  9 10 19 14 11  6  9 14  1 12 18 11 18  9 10\n",
      " 15]\n",
      "(25,)\n",
      "Reshape the flattern numpy array into (5, 5)\n",
      "[[ 6 17  6 12 18]\n",
      " [ 5 14  1 10  9]\n",
      " [10 19 14 11  6]\n",
      " [ 9 14  1 12 18]\n",
      " [11 18  9 10 15]]\n"
     ]
    }
   ],
   "source": [
    "#2. Create a NumPy array of shape (5, 5) filled with random integers. Flatten the array and then reshape it back to (5, 5).\n",
    "\n",
    "numpy = np.random.randint(1, 20, size=(5, 5))\n",
    "print(\"Shape\")\n",
    "print(numpy.shape)\n",
    "print(\"Orginal array\")\n",
    "print(numpy)\n",
    "\n",
    "flattern = numpy.flatten()\n",
    "print(\"Flattern numpy array\")\n",
    "print(flattern)\n",
    "print(flattern.shape)\n",
    "\n",
    "reshape = flattern.reshape(5 , 5)\n",
    "print(\"Reshape the flattern numpy array into (5, 5)\")\n",
    "print(reshape)"
   ]
  },
  {
   "cell_type": "code",
   "execution_count": null,
   "id": "902dec01",
   "metadata": {},
   "outputs": [],
   "source": [
    "### Assignment 8: Fancy Indexing and Boolean Indexing\n",
    "\n",
    "#1. Create a NumPy array of shape (5, 5) filled with random integers. Use fancy indexing to extract the elements at the corners of the array.\n"
   ]
  },
  {
   "cell_type": "code",
   "execution_count": 85,
   "id": "6699a6d5",
   "metadata": {},
   "outputs": [
    {
     "name": "stdout",
     "output_type": "stream",
     "text": [
      "[[11 10 10 15  7]\n",
      " [12  9 16  8  6]\n",
      " [ 4 16  5  5 12]\n",
      " [16 12  9  6 10]\n",
      " [12  6  9  2 18]]\n",
      "Corroner of the elements\n",
      "[11  7 12 18]\n"
     ]
    }
   ],
   "source": [
    "numpy = np.random.randint(1, 21, size = (5, 5))\n",
    "print(numpy)\n",
    "\n",
    "#Extract the elements at the corners of the array:\n",
    "\n",
    "corrner = numpy[[0, 0, -1, -1], [0, -1, 0, -1]]\n",
    "print(\"Corroner of the elements\")\n",
    "print(corrner)\n",
    "\n"
   ]
  },
  {
   "cell_type": "code",
   "execution_count": 86,
   "id": "4131aa05",
   "metadata": {},
   "outputs": [
    {
     "data": {
      "text/plain": [
       "np.int32(11)"
      ]
     },
     "execution_count": 86,
     "metadata": {},
     "output_type": "execute_result"
    }
   ],
   "source": [
    "numpy[0,0]"
   ]
  },
  {
   "cell_type": "code",
   "execution_count": 88,
   "id": "3705ed50",
   "metadata": {},
   "outputs": [
    {
     "data": {
      "text/plain": [
       "np.int32(18)"
      ]
     },
     "execution_count": 88,
     "metadata": {},
     "output_type": "execute_result"
    }
   ],
   "source": [
    "numpy[-1,-1]"
   ]
  },
  {
   "cell_type": "code",
   "execution_count": 81,
   "id": "e40ccefb",
   "metadata": {},
   "outputs": [
    {
     "data": {
      "text/plain": [
       "np.int32(4)"
      ]
     },
     "execution_count": 81,
     "metadata": {},
     "output_type": "execute_result"
    }
   ],
   "source": [
    "numpy[4,0]"
   ]
  },
  {
   "cell_type": "code",
   "execution_count": 82,
   "id": "24459800",
   "metadata": {},
   "outputs": [
    {
     "data": {
      "text/plain": [
       "np.int32(5)"
      ]
     },
     "execution_count": 82,
     "metadata": {},
     "output_type": "execute_result"
    }
   ],
   "source": [
    "numpy[4,4]"
   ]
  },
  {
   "cell_type": "code",
   "execution_count": 90,
   "id": "6a7da86c",
   "metadata": {},
   "outputs": [
    {
     "name": "stdout",
     "output_type": "stream",
     "text": [
      "(4, 4)\n",
      "[[ 4  9  1  7]\n",
      " [12  7 18 19]\n",
      " [ 1 19 10 14]\n",
      " [ 8 14  1 15]]\n",
      "modified array\n",
      "[[ 4  9  1  7]\n",
      " [10  7 10 10]\n",
      " [ 1 10 10 10]\n",
      " [ 8 10  1 10]]\n"
     ]
    }
   ],
   "source": [
    "#2. Create a NumPy array of shape (4, 4) filled with random integers. Use boolean indexing to set all elements greater than 10 to 10.\n",
    "\n",
    "numpy = np.random.randint(1, 20, size = (4, 4))\n",
    "print(numpy.shape)\n",
    "print(numpy)\n",
    "\n",
    "numpy[numpy>10]=10\n",
    "print(\"modified array\")\n",
    "print(numpy)"
   ]
  },
  {
   "cell_type": "code",
   "execution_count": null,
   "id": "944e3085",
   "metadata": {},
   "outputs": [],
   "source": [
    "#1. Create a structured array with fields 'name' (string), 'age' (integer), and 'weight' (float). Add some data and sort the array by age."
   ]
  },
  {
   "cell_type": "code",
   "execution_count": 93,
   "id": "08ee0fe1",
   "metadata": {},
   "outputs": [
    {
     "name": "stdout",
     "output_type": "stream",
     "text": [
      "Orginal data\n",
      "[('Vimal', 25, 65.8) ('Dhayalan', 26, 70.5) ('Manikandan', 28, 70.9)\n",
      " ('Haseena', 25, 65.2)]\n",
      "Sorted by age\n",
      "[('Haseena', 25, 65.2) ('Vimal', 25, 65.8) ('Dhayalan', 26, 70.5)\n",
      " ('Manikandan', 28, 70.9)]\n"
     ]
    }
   ],
   "source": [
    "data_type = [(\"name\", \"U10\"),(\"age\", \"i4\"),(\"weight\", \"f4\")]\n",
    "\n",
    "data = np.array([(\"Vimal\",25,65.8),(\"Dhayalan\",26,70.5),(\"Manikandan\",28,70.90), (\"Haseena\", 25, 65.20)], dtype= data_type)\n",
    "print(\"Orginal data\")\n",
    "print(data)\n",
    "\n",
    "sorted_by_age = np.sort(data,order=\"age\")\n",
    "print(\"Sorted by age\")\n",
    "print(sorted_by_age)\n"
   ]
  },
  {
   "cell_type": "code",
   "execution_count": null,
   "id": "69839ea6",
   "metadata": {},
   "outputs": [],
   "source": []
  },
  {
   "cell_type": "code",
   "execution_count": null,
   "id": "6829e785",
   "metadata": {},
   "outputs": [],
   "source": []
  },
  {
   "cell_type": "code",
   "execution_count": null,
   "id": "3cebc18c",
   "metadata": {},
   "outputs": [],
   "source": []
  },
  {
   "cell_type": "code",
   "execution_count": null,
   "id": "47ff81b6",
   "metadata": {},
   "outputs": [],
   "source": []
  },
  {
   "cell_type": "code",
   "execution_count": null,
   "id": "f94014a4",
   "metadata": {},
   "outputs": [],
   "source": []
  },
  {
   "cell_type": "code",
   "execution_count": null,
   "id": "f07539b8",
   "metadata": {},
   "outputs": [],
   "source": []
  },
  {
   "cell_type": "code",
   "execution_count": null,
   "id": "e6beac19",
   "metadata": {},
   "outputs": [],
   "source": []
  },
  {
   "cell_type": "code",
   "execution_count": null,
   "id": "7ce3d2b9",
   "metadata": {},
   "outputs": [],
   "source": []
  },
  {
   "cell_type": "code",
   "execution_count": null,
   "id": "db24ebd2",
   "metadata": {},
   "outputs": [],
   "source": []
  },
  {
   "cell_type": "code",
   "execution_count": null,
   "id": "a0b06d6f",
   "metadata": {},
   "outputs": [],
   "source": []
  },
  {
   "cell_type": "code",
   "execution_count": null,
   "id": "f1b855df",
   "metadata": {},
   "outputs": [],
   "source": []
  },
  {
   "cell_type": "code",
   "execution_count": null,
   "id": "bd0c3c91",
   "metadata": {},
   "outputs": [],
   "source": []
  }
 ],
 "metadata": {
  "kernelspec": {
   "display_name": "Python 3",
   "language": "python",
   "name": "python3"
  },
  "language_info": {
   "codemirror_mode": {
    "name": "ipython",
    "version": 3
   },
   "file_extension": ".py",
   "mimetype": "text/x-python",
   "name": "python",
   "nbconvert_exporter": "python",
   "pygments_lexer": "ipython3",
   "version": "3.13.0"
  }
 },
 "nbformat": 4,
 "nbformat_minor": 5
}
