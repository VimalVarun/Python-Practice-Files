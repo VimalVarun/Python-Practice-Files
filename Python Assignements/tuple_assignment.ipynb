{
 "cells": [
  {
   "cell_type": "code",
   "execution_count": 1,
   "metadata": {},
   "outputs": [
    {
     "name": "stdout",
     "output_type": "stream",
     "text": [
      "(1, 2, 3, 4, 5, 6, 7, 8, 9, 10)\n",
      "<class 'tuple'>\n"
     ]
    }
   ],
   "source": [
    "### Assignment 1: Creating and Accessing Tuples\n",
    "\n",
    "#Create a tuple with the first 10 positive integers. Print the tuple.\n",
    "\n",
    "var = tuple(range(1, 11))\n",
    "\n",
    "print(var)\n",
    "print(type(var))"
   ]
  },
  {
   "cell_type": "code",
   "execution_count": 3,
   "id": "b2ac7c64",
   "metadata": {},
   "outputs": [
    {
     "name": "stdout",
     "output_type": "stream",
     "text": [
      "First Elements: 1\n",
      "Middle Elements: 6\n",
      "Last Elements: 10\n"
     ]
    }
   ],
   "source": [
    "### Assignment 2: Accessing Tuple Elements\n",
    "\n",
    "#Print the first, middle, and last elements of the tuple created in Assignment 1.\n",
    "\n",
    "print(\"First Elements:\", var[0])\n",
    "print(\"Middle Elements:\", var[5])\n",
    "print(\"Last Elements:\", var[-1])"
   ]
  },
  {
   "cell_type": "code",
   "execution_count": 17,
   "id": "2b7055a0",
   "metadata": {},
   "outputs": [
    {
     "name": "stdout",
     "output_type": "stream",
     "text": [
      "First Three Elements: (1, 2, 3)\n",
      "Last Three Elements: (8, 9, 10)\n",
      "The Elements from index 2 to 5: (3, 4, 5)\n"
     ]
    }
   ],
   "source": [
    "### Assignment 3: Tuple Slicing\n",
    "\n",
    "#Print the first three elements, the last three elements, and the elements from index 2 to 5 of the tuple created in Assignment 1.\n",
    "\n",
    "print(\"First Three Elements:\", var[:3])\n",
    "print(\"Last Three Elements:\", var[7:])\n",
    "print(\"The Elements from index 2 to 5:\", var[2:5])"
   ]
  },
  {
   "cell_type": "code",
   "execution_count": 23,
   "id": "87a1a0f6",
   "metadata": {},
   "outputs": [
    {
     "name": "stdout",
     "output_type": "stream",
     "text": [
      "(1, 2, 3)\n",
      "(4, 5, 6)\n",
      "(7, 8, 9)\n",
      "Element at the second row and third colum: 6\n"
     ]
    }
   ],
   "source": [
    "### Assignment 4: Nested Tuples\n",
    "\n",
    "#Create a nested tuple representing a 3x3 matrix and print the matrix. Access and print the element at the second row and third column.\n",
    "\n",
    "matrix = (\n",
    "    (1,2,3),\n",
    "    (4,5,6),\n",
    "    (7,8,9)\n",
    ")\n",
    "\n",
    "for row in matrix:\n",
    "    print(row)\n",
    "\n",
    "print(\"Element at the second row and third colum:\", matrix[1][2])"
   ]
  },
  {
   "cell_type": "code",
   "execution_count": 24,
   "id": "1391a690",
   "metadata": {},
   "outputs": [
    {
     "name": "stdout",
     "output_type": "stream",
     "text": [
      "Tuple1: (1, 2, 3)\n",
      "Tuple2: (4, 5, 6)\n",
      "Concatenate Two tuples: (1, 2, 3, 4, 5, 6)\n"
     ]
    }
   ],
   "source": [
    "### Assignment 5: Tuple Concatenation\n",
    "\n",
    "#Concatenate two tuples: (1, 2, 3) and (4, 5, 6). Print the resulting tuple.\n",
    "\n",
    "tpl1 = (1,2,3)\n",
    "tpl2 = (4,5,6)\n",
    "\n",
    "tpl3 = tpl1 + tpl2\n",
    "\n",
    "print(\"Tuple1:\", tpl1)\n",
    "print(\"Tuple2:\", tpl2)\n",
    "print(\"Concatenate Two tuples:\", tpl3)"
   ]
  },
  {
   "cell_type": "code",
   "execution_count": 27,
   "id": "ba4526f5",
   "metadata": {},
   "outputs": [
    {
     "name": "stdout",
     "output_type": "stream",
     "text": [
      "<class 'tuple'>\n",
      "Count the occurrences of an element: {4}\n",
      "index of the first occurrence of an element: {1}\n"
     ]
    }
   ],
   "source": [
    "### Assignment 6: Tuple Methods\n",
    "\n",
    "# Create a tuple with duplicate elements and count the occurrences of an element. \n",
    "# Find the index of the first occurrence of an element in the tuple.\n",
    "\n",
    "varcar = (1,2,2,3,3,4,4,4,4,5,6)\n",
    "print(type(varcar))\n",
    "print(\"Count the occurrences of an element:\", {varcar.count(4)})\n",
    "print(\"index of the first occurrence of an element:\", {varcar.index(2)})"
   ]
  },
  {
   "cell_type": "code",
   "execution_count": 28,
   "id": "777340e5",
   "metadata": {},
   "outputs": [
    {
     "name": "stdout",
     "output_type": "stream",
     "text": [
      "1 2 3 4 5\n"
     ]
    }
   ],
   "source": [
    "### Assignment 7: Unpacking Tuples\n",
    "\n",
    "#Create a tuple with 5 elements and unpack it into 5 variables. Print the variables.\n",
    "\n",
    "tpl = (1,2,3,4,5)\n",
    "\n",
    "a, b, c, d, e = tpl\n",
    "\n",
    "print(a, b, c, d, e)"
   ]
  },
  {
   "cell_type": "code",
   "execution_count": 29,
   "id": "aea64486",
   "metadata": {},
   "outputs": [
    {
     "name": "stdout",
     "output_type": "stream",
     "text": [
      "[1, 2, 3, 4, 5]\n",
      "<class 'list'>\n",
      "(1, 2, 3, 4, 5)\n",
      "<class 'tuple'>\n"
     ]
    }
   ],
   "source": [
    "### Assignment 8: Tuple Conversion\n",
    "\n",
    "#Convert a list of the first 5 positive integers to a tuple. Print the tuple.\n",
    "\n",
    "tpl = list(range(1,6))\n",
    "print(tpl)\n",
    "print(type(tpl))\n",
    "\n",
    "tuple1 = tuple(tpl)\n",
    "print(tuple1)\n",
    "print(type(tuple1))"
   ]
  },
  {
   "cell_type": "code",
   "execution_count": 31,
   "id": "71a651ee",
   "metadata": {},
   "outputs": [
    {
     "name": "stdout",
     "output_type": "stream",
     "text": [
      "((1, 2, 3), (4, 5, 6), (7, 8, 9))\n",
      "(1, 2, 3)\n",
      "(4, 5, 6)\n",
      "(7, 8, 9)\n"
     ]
    }
   ],
   "source": [
    "### Assignment 9: Tuple of Tuples\n",
    "\n",
    "#Create a tuple containing 3 tuples, each with 3 elements. Print the tuple of tuples.\n",
    "\n",
    "tuple_contain = (\n",
    "    (1,2,3),\n",
    "    (4,5,6),\n",
    "    (7,8,9)\n",
    ")\n",
    "print(tuple_contain)\n",
    "\n",
    "for i in tuple_contain:\n",
    "    print (i)"
   ]
  },
  {
   "cell_type": "code",
   "execution_count": 32,
   "id": "42f26297",
   "metadata": {},
   "outputs": [
    {
     "name": "stdout",
     "output_type": "stream",
     "text": [
      "(1, 2, 3, 4, 5)\n",
      "<class 'tuple'>\n",
      "[1, 2, 3, 4, 5]\n",
      "<class 'list'>\n",
      "[1, 2, 3, 4, 5, 6]\n",
      "(1, 2, 3, 4, 5, 6)\n",
      "<class 'tuple'>\n"
     ]
    }
   ],
   "source": [
    "### Assignment 10: Tuple and List\n",
    "\n",
    "##Create a tuple with the first 5 positive integers. Convert it to a list, append the number 6, and convert it back to a tuple. \n",
    "# Print the resulting tuple.\n",
    "\n",
    "tpl = tuple(range(1, 6))\n",
    "print(tpl)\n",
    "print(type(tpl))\n",
    "\n",
    "lst = list(tpl)\n",
    "print(lst)\n",
    "print(type(lst))\n",
    "\n",
    "lst.append(6)\n",
    "print(lst)\n",
    "\n",
    "tpl1 = tuple(lst)\n",
    "print(tpl1)\n",
    "print(type(tpl1))"
   ]
  },
  {
   "cell_type": "code",
   "execution_count": 33,
   "id": "6fb5d3ea",
   "metadata": {},
   "outputs": [
    {
     "name": "stdout",
     "output_type": "stream",
     "text": [
      "Vimal\n",
      "<class 'str'>\n"
     ]
    }
   ],
   "source": [
    "### Assignment 11: Tuple and String\n",
    "\n",
    "#Create a tuple with the characters of a string. Join the tuple elements into a single string. Print the string.\n",
    "\n",
    "string = \"Vimal\"\n",
    "tpl = tuple(string)\n",
    "joined_string = \"\".join(tpl)\n",
    "print(joined_string)\n",
    "print(type(joined_string))"
   ]
  },
  {
   "cell_type": "code",
   "execution_count": 34,
   "id": "bf5e811a",
   "metadata": {},
   "outputs": [
    {
     "data": {
      "text/plain": [
       "'Vimal'"
      ]
     },
     "execution_count": 34,
     "metadata": {},
     "output_type": "execute_result"
    }
   ],
   "source": [
    "string"
   ]
  },
  {
   "cell_type": "code",
   "execution_count": 36,
   "id": "49a5a779",
   "metadata": {},
   "outputs": [
    {
     "name": "stdout",
     "output_type": "stream",
     "text": [
      "{(1, 2): 3, (4, 5): 6, (7, 8): 9}\n",
      "<class 'dict'>\n",
      "(1, 2)\n",
      "(4, 5)\n",
      "(7, 8)\n"
     ]
    }
   ],
   "source": [
    "### Assignment 12: Tuple and Dictionary\n",
    "\n",
    "#Create a dictionary with tuple keys and integer values. Print the dictionary.\n",
    "\n",
    "dictionary_tuples = {\n",
    "    (1, 2):3,\n",
    "    (4, 5):6,\n",
    "    (7, 8):9\n",
    "}\n",
    "\n",
    "print(dictionary_tuples)\n",
    "print(type(dictionary_tuples))\n",
    "\n",
    "for i in dictionary_tuples:\n",
    "    print(i)"
   ]
  },
  {
   "cell_type": "code",
   "execution_count": 52,
   "id": "f157400e",
   "metadata": {},
   "outputs": [
    {
     "name": "stdout",
     "output_type": "stream",
     "text": [
      "1\n",
      "2\n",
      "3\n",
      "4\n",
      "5\n",
      "6\n",
      "7\n",
      "8\n",
      "9\n"
     ]
    }
   ],
   "source": [
    "### Assignment 13: Nested Tuple Iteration\n",
    "\n",
    "#Create a nested tuple and iterate over the elements, printing each element.\n",
    "\n",
    "tpl = (\n",
    "    (1, 2, 3),\n",
    "    (4, 5, 6),\n",
    "    (7, 8, 9)\n",
    ")\n",
    "\n",
    "\n",
    "for i in tpl:\n",
    "    for elem in i:\n",
    "        print(elem)"
   ]
  },
  {
   "cell_type": "code",
   "execution_count": 55,
   "id": "217b9a88",
   "metadata": {},
   "outputs": [
    {
     "name": "stdout",
     "output_type": "stream",
     "text": [
      "(1, 2, 3, 4, 4, 5, 7, 7, 8, 9, 56, 4, 7, 78, 9, 6, 6, 9, 7, 5, 6, 4)\n",
      "<class 'tuple'>\n",
      "{1, 2, 3, 4, 5, 6, 7, 8, 9, 78, 56}\n",
      "<class 'set'>\n"
     ]
    }
   ],
   "source": [
    "### Assignment 14: Tuple and Set\n",
    "\n",
    "#Create a tuple with duplicate elements. Convert it to a set to remove duplicates and print the resulting set.\n",
    "\n",
    "tpl1 = (1,2,3,4,4,5,7,7,8,9,56,4,7,78,9,6,6,9,7,5,6,4)\n",
    "print(tpl1)\n",
    "print(type(tpl1))\n",
    "\n",
    "set1 = set(tpl1)\n",
    "print(set1)\n",
    "print(type(set1))"
   ]
  },
  {
   "cell_type": "code",
   "execution_count": 56,
   "id": "6d0da592",
   "metadata": {},
   "outputs": [],
   "source": [
    "### Assignment 15: Tuple Functions\n",
    "\n",
    "#Write functions that take a tuple and return the minimum, maximum, and sum of the elements. \n",
    "# Print the results for a sample tuple.\n",
    "\n",
    "def function_tuple(tpl):\n",
    "    return min(tpl)\n",
    "\n",
    "def function_tuple1(tpl):\n",
    "    return max(tpl) \n",
    "\n",
    "def function_tuple2(tpl):\n",
    "    return sum(tpl)   "
   ]
  },
  {
   "cell_type": "code",
   "execution_count": 57,
   "id": "14870738",
   "metadata": {},
   "outputs": [
    {
     "name": "stdout",
     "output_type": "stream",
     "text": [
      "(1, 2, 3, 4, 5, 6, 7, 8, 9, 10)\n",
      "<class 'tuple'>\n"
     ]
    }
   ],
   "source": [
    "tpl = tuple(range(1, 11))\n",
    "print(tpl)\n",
    "print(type(tpl))"
   ]
  },
  {
   "cell_type": "code",
   "execution_count": 58,
   "id": "e33f63cc",
   "metadata": {},
   "outputs": [
    {
     "name": "stdout",
     "output_type": "stream",
     "text": [
      "Minimum of tuple: {1}\n",
      "Maximium of tuple: {10}\n",
      "Sum of the elements: {55}\n"
     ]
    }
   ],
   "source": [
    "print(\"Minimum of tuple:\",{function_tuple(tpl)})\n",
    "print(\"Maximium of tuple:\", {function_tuple1(tpl)})\n",
    "print(\"Sum of the elements:\", {function_tuple2(tpl)})"
   ]
  },
  {
   "cell_type": "code",
   "execution_count": null,
   "id": "8dafe489",
   "metadata": {},
   "outputs": [],
   "source": []
  }
 ],
 "metadata": {
  "kernelspec": {
   "display_name": "Python 3",
   "language": "python",
   "name": "python3"
  },
  "language_info": {
   "codemirror_mode": {
    "name": "ipython",
    "version": 3
   },
   "file_extension": ".py",
   "mimetype": "text/x-python",
   "name": "python",
   "nbconvert_exporter": "python",
   "pygments_lexer": "ipython3",
   "version": "3.13.0"
  }
 },
 "nbformat": 4,
 "nbformat_minor": 5
}
