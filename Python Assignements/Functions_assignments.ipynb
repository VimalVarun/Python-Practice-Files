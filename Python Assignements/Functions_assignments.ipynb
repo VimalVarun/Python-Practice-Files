{
 "cells": [
  {
   "cell_type": "code",
   "execution_count": 18,
   "metadata": {},
   "outputs": [],
   "source": [
    "### Assignment 1: Simple Function\n",
    "\n",
    "#Define a function that takes a single integer as input and returns its square. Test the function with different inputs.\n",
    "\n",
    "def square(data):\n",
    "    return data**2\n",
    "    "
   ]
  },
  {
   "cell_type": "code",
   "execution_count": 19,
   "metadata": {},
   "outputs": [
    {
     "name": "stdout",
     "output_type": "stream",
     "text": [
      "5\n",
      "25\n"
     ]
    }
   ],
   "source": [
    "data = 5\n",
    "print(data)\n",
    "\n",
    "print(square(data))\n"
   ]
  },
  {
   "cell_type": "code",
   "execution_count": 20,
   "metadata": {},
   "outputs": [
    {
     "name": "stdout",
     "output_type": "stream",
     "text": [
      "10\n",
      "100\n"
     ]
    }
   ],
   "source": [
    "inte = 10\n",
    "print(inte)\n",
    "print(square(inte))"
   ]
  },
  {
   "cell_type": "code",
   "execution_count": 21,
   "metadata": {},
   "outputs": [],
   "source": [
    "### Assignment 2: Multiple Arguments\n",
    "\n",
    "#Define a function that takes two integers as input and returns their sum. Test the function with different inputs.\n",
    "\n",
    "def sum_of_the_values(x,y):\n",
    "    return x+y"
   ]
  },
  {
   "cell_type": "code",
   "execution_count": 22,
   "metadata": {},
   "outputs": [
    {
     "name": "stdout",
     "output_type": "stream",
     "text": [
      "13\n"
     ]
    }
   ],
   "source": [
    "x = 5\n",
    "y = 8\n",
    "\n",
    "print(sum_of_the_values(x,y))"
   ]
  },
  {
   "cell_type": "code",
   "execution_count": 23,
   "metadata": {},
   "outputs": [],
   "source": [
    "### Assignment 3: Default Arguments\n",
    "\n",
    "#Define a function that takes two integers as input and returns their sum. \n",
    "#The second integer should have a default value of 5. Test the function with different inputs.\n",
    "\n",
    "def add_numbers(a, b=5):\n",
    "    return a + b"
   ]
  },
  {
   "cell_type": "code",
   "execution_count": 24,
   "metadata": {},
   "outputs": [
    {
     "name": "stdout",
     "output_type": "stream",
     "text": [
      "15\n",
      "9\n",
      "20\n",
      "5\n"
     ]
    }
   ],
   "source": [
    "print(add_numbers(10)) \n",
    "print(add_numbers(7,2))\n",
    "print(add_numbers(15))\n",
    "print(add_numbers(0))"
   ]
  },
  {
   "cell_type": "code",
   "execution_count": 25,
   "metadata": {},
   "outputs": [],
   "source": [
    "### Assignment 4: Keyword Arguments\n",
    "\n",
    "#Define a function that takes three named arguments: first_name, last_name, and age, and returns a formatted string. \n",
    "# Test the function with different inputs.\n",
    "\n",
    "def keyword(first_name,last_name,age):\n",
    "    return (f\"firs_name is {first_name}, last name is {last_name} and his/her age is {age}\")"
   ]
  },
  {
   "cell_type": "code",
   "execution_count": 26,
   "metadata": {},
   "outputs": [
    {
     "name": "stdout",
     "output_type": "stream",
     "text": [
      "firs_name is Vimal, last name is varun and his/her age is 27\n"
     ]
    }
   ],
   "source": [
    "print(keyword(first_name=\"Vimal\", last_name=\"varun\", age=27))"
   ]
  },
  {
   "cell_type": "code",
   "execution_count": 27,
   "metadata": {},
   "outputs": [],
   "source": [
    "### Assignment 5: Variable-length Arguments\n",
    "\n",
    "#Define a function that takes a variable number of integer arguments and returns their product. Test the function with different inputs.\n",
    "\n",
    "def multiple(*args):\n",
    "    product = 1\n",
    "    for num in args:\n",
    "        product *= num\n",
    "    return product"
   ]
  },
  {
   "cell_type": "code",
   "execution_count": 28,
   "metadata": {},
   "outputs": [
    {
     "name": "stdout",
     "output_type": "stream",
     "text": [
      "6\n",
      "5040\n"
     ]
    }
   ],
   "source": [
    "print(multiple(1,2,3))\n",
    "print(multiple(5,7,8,9,2))"
   ]
  },
  {
   "cell_type": "code",
   "execution_count": 29,
   "metadata": {},
   "outputs": [],
   "source": [
    "### Assignment 6: Nested Functions\n",
    "\n",
    "#Define a function that contains another function inside it. \n",
    "# The outer function should take two integers as input and return the result of the inner function, which multiplies the two integers. \n",
    "# Test the function with different inputs."
   ]
  },
  {
   "cell_type": "code",
   "execution_count": 30,
   "metadata": {},
   "outputs": [],
   "source": [
    "def outerfunction(x, y):\n",
    "    def innerfunction(a, b):\n",
    "        return a*b\n",
    "    return innerfunction(x,y)"
   ]
  },
  {
   "cell_type": "code",
   "execution_count": 31,
   "metadata": {},
   "outputs": [
    {
     "name": "stdout",
     "output_type": "stream",
     "text": [
      "6\n",
      "40\n"
     ]
    }
   ],
   "source": [
    "print(outerfunction(2,3))\n",
    "print(outerfunction(2,20))"
   ]
  },
  {
   "cell_type": "code",
   "execution_count": 32,
   "metadata": {},
   "outputs": [],
   "source": [
    "### Assignment 7: Returning Multiple Values\n",
    "\n",
    "#Define a function that takes a single integer as input and returns the integer squared, cubed, and raised to the power of four. \n",
    "# Test the function with different inputs.\n",
    "\n",
    "def multiple_values(x):\n",
    "    return x**2, x**3, x**4"
   ]
  },
  {
   "cell_type": "code",
   "execution_count": 33,
   "metadata": {},
   "outputs": [
    {
     "name": "stdout",
     "output_type": "stream",
     "text": [
      "(25, 125, 625)\n",
      "(16, 64, 256)\n",
      "(81, 729, 6561)\n"
     ]
    }
   ],
   "source": [
    "print(multiple_values(5))\n",
    "print(multiple_values(4))\n",
    "print(multiple_values(9))"
   ]
  },
  {
   "cell_type": "code",
   "execution_count": 34,
   "metadata": {},
   "outputs": [],
   "source": [
    "### Assignment 8: Recursive Function\n",
    "\n",
    "#Define a recursive function that calculates the factorial of a given number. Test the function with different inputs.\\\n",
    "\n",
    "def factorial(n):\n",
    "    if n == 0:\n",
    "        return 1\n",
    "    else:\n",
    "        return n*factorial(n-1)"
   ]
  },
  {
   "cell_type": "code",
   "execution_count": 35,
   "metadata": {},
   "outputs": [
    {
     "name": "stdout",
     "output_type": "stream",
     "text": [
      "3628800\n",
      "479001600\n",
      "1\n",
      "120\n"
     ]
    }
   ],
   "source": [
    "print(factorial(10))\n",
    "print(factorial(12))\n",
    "print(factorial(0))\n",
    "print(factorial(5))"
   ]
  },
  {
   "cell_type": "code",
   "execution_count": 36,
   "metadata": {},
   "outputs": [
    {
     "name": "stdout",
     "output_type": "stream",
     "text": [
      "11\n"
     ]
    }
   ],
   "source": [
    "### Assignment 9: Lambda Function\n",
    "\n",
    "#Define a lambda function that takes two integers as input and returns their sum. Test the lambda function with different inputs.\n",
    "\n",
    "add = lambda x,y: x+y\n",
    "\n",
    "print(add(5,6))"
   ]
  },
  {
   "cell_type": "code",
   "execution_count": 37,
   "metadata": {},
   "outputs": [
    {
     "name": "stdout",
     "output_type": "stream",
     "text": [
      "[1, 4, 9, 16, 25]\n"
     ]
    }
   ],
   "source": [
    "### Assignment 10: Map Function\n",
    "\n",
    "#Use the map function to apply a lambda function that squares each number in a list of integers. Test with different lists\n",
    "\n",
    "numbers = [1,2,3,4,5]\n",
    "\n",
    "square_numbers = list(map(lambda x:x **2, numbers))\n",
    "\n",
    "print(square_numbers)"
   ]
  },
  {
   "cell_type": "code",
   "execution_count": 38,
   "metadata": {},
   "outputs": [
    {
     "name": "stdout",
     "output_type": "stream",
     "text": [
      "[1, 8, 27, 64, 125]\n"
     ]
    }
   ],
   "source": [
    "numbers = [1,2,3,4,5]\n",
    "\n",
    "cube_numbers = list(map(lambda x:x**3, numbers))\n",
    "\n",
    "print(cube_numbers)"
   ]
  },
  {
   "cell_type": "code",
   "execution_count": 39,
   "metadata": {},
   "outputs": [
    {
     "name": "stdout",
     "output_type": "stream",
     "text": [
      "[1, 3, 5, 7, 9]\n"
     ]
    }
   ],
   "source": [
    "### Assignment 11: Filter Function\n",
    "\n",
    "#Use the filter function to filter out all odd numbers from a list of integers. Test with different lists.\n",
    "\n",
    "num = [1,2,3,4,5,6,7,8,9,10]\n",
    "\n",
    "odd_numbers = list(filter(lambda x:x%2, num))\n",
    "\n",
    "print(odd_numbers)"
   ]
  },
  {
   "cell_type": "code",
   "execution_count": 40,
   "metadata": {},
   "outputs": [
    {
     "name": "stdout",
     "output_type": "stream",
     "text": [
      "[2, 4, 6, 8, 10]\n"
     ]
    }
   ],
   "source": [
    "num = [1,2,3,4,5,6,7,8,9,10]\n",
    "\n",
    "even_numbers = list(filter(lambda x:x%2==0, num))\n",
    "\n",
    "print(even_numbers)"
   ]
  },
  {
   "cell_type": "code",
   "execution_count": 41,
   "metadata": {},
   "outputs": [
    {
     "name": "stdout",
     "output_type": "stream",
     "text": [
      "args: ('args:', 'Hello', 'vimal')\n",
      "Kwargs: {'x': 10, 'y': 20}\n",
      "None\n",
      "args: ('ds', 'da')\n",
      "Kwargs: {'d': 'apple', 'g': 'cat'}\n",
      "None\n"
     ]
    }
   ],
   "source": [
    "### Assignment 13: Function with *args and **kwargs\n",
    "\n",
    "#Define a function that takes variable-length arguments and keyword arguments and prints them. Test the function with different inputs.\n",
    "\n",
    "def arguments_args_kwargs(*args,**kwargs):\n",
    "    print(\"args:\", args)\n",
    "    print(\"Kwargs:\", kwargs)\n",
    "\n",
    "print(arguments_args_kwargs(\"args:\", \"Hello\", \"vimal\", x=10,y=20))\n",
    "print(arguments_args_kwargs(\"ds\", \"da\", d =\"apple\", g=\"cat\"))"
   ]
  },
  {
   "cell_type": "code",
   "execution_count": 42,
   "metadata": {},
   "outputs": [
    {
     "name": "stdout",
     "output_type": "stream",
     "text": [
      "[1, 4, 9, 16, 25]\n",
      "[1, 0, 1, 0, 1, 0, 1, 0, 1, 0]\n",
      "[False, True, False, True, False, True, False, True, False, True]\n"
     ]
    }
   ],
   "source": [
    "### Assignment 14: Higher-Order Function\n",
    "\n",
    "#Define a higher-order function that takes a function and a list of integers as arguments, and applies the function to each integer in the list. \n",
    "# Test with different functions and lists.\n",
    "\n",
    "def apply_function(fun,lst):\n",
    "    return [fun(x) for x in lst]\n",
    "\n",
    "print(apply_function(lambda x:x**2, [1,2,3,4,5]))\n",
    "print(apply_function(lambda x:x%2, [1,2,3,4,5,6,7,8,9,10]))\n",
    "print(apply_function(lambda x:x%2==0, [1,2,3,4,5,6,7,8,9,10]))"
   ]
  },
  {
   "cell_type": "code",
   "execution_count": null,
   "metadata": {},
   "outputs": [],
   "source": []
  }
 ],
 "metadata": {
  "kernelspec": {
   "display_name": "Python 3",
   "language": "python",
   "name": "python3"
  },
  "language_info": {
   "codemirror_mode": {
    "name": "ipython",
    "version": 3
   },
   "file_extension": ".py",
   "mimetype": "text/x-python",
   "name": "python",
   "nbconvert_exporter": "python",
   "pygments_lexer": "ipython3",
   "version": "3.13.0"
  }
 },
 "nbformat": 4,
 "nbformat_minor": 2
}
