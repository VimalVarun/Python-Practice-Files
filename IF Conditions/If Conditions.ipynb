{
 "cells": [
  {
   "cell_type": "code",
   "execution_count": 1,
   "metadata": {},
   "outputs": [
    {
     "name": "stdout",
     "output_type": "stream",
     "text": [
      "True\n"
     ]
    }
   ],
   "source": [
    "furits = [\"Bannan\", \"Apple\"]\n",
    "\n",
    "print(\"Apple\" in furits)"
   ]
  },
  {
   "cell_type": "code",
   "execution_count": 2,
   "metadata": {},
   "outputs": [
    {
     "name": "stdout",
     "output_type": "stream",
     "text": [
      "True\n"
     ]
    }
   ],
   "source": [
    "print(\"apple\" not in furits)"
   ]
  },
  {
   "cell_type": "code",
   "execution_count": 3,
   "metadata": {},
   "outputs": [
    {
     "name": "stdout",
     "output_type": "stream",
     "text": [
      "False\n"
     ]
    }
   ],
   "source": [
    "print(\"Carrort\" in furits)"
   ]
  },
  {
   "cell_type": "code",
   "execution_count": 4,
   "metadata": {},
   "outputs": [
    {
     "name": "stdout",
     "output_type": "stream",
     "text": [
      "You are eligible for voting\n"
     ]
    }
   ],
   "source": [
    "age = int(input(\"Enter a any number\"))\n",
    "\n",
    "if age>=18:\n",
    "    print(\"You are eligible for voting\")\n",
    "else:\n",
    "    print(\"you are not eligible for voting \")"
   ]
  },
  {
   "cell_type": "code",
   "execution_count": 12,
   "metadata": {},
   "outputs": [
    {
     "name": "stdout",
     "output_type": "stream",
     "text": [
      "Please die why you want to live after 80 years\n"
     ]
    }
   ],
   "source": [
    "age = int(input(\"Enter a any number\"))\n",
    "\n",
    "if age<=13:\n",
    "    print(\"you are a child\")\n",
    "elif age<=18:\n",
    "    print(\"you are a teenager\")\n",
    "elif age<=30:\n",
    "    print(\"You are a young man\")\n",
    "elif age<=50:\n",
    "    print(\"You are a middle age man\")\n",
    "elif age<=80:\n",
    "    print(\"you are already lived good amount of year\")\n",
    "else:\n",
    "    print(\"Please die why you want to live after 80 years\")"
   ]
  },
  {
   "cell_type": "code",
   "execution_count": 14,
   "metadata": {},
   "outputs": [
    {
     "name": "stdout",
     "output_type": "stream",
     "text": [
      "The number is postive:  5\n",
      "The number is odd:  5\n"
     ]
    }
   ],
   "source": [
    "#Nested if conditions\n",
    "\n",
    "num = int(input(\"Enter a any number\"))\n",
    "\n",
    "if num>=0:\n",
    "    print(\"The number is postive: \", num)\n",
    "    if num%2==0:\n",
    "        print(\"The number is even: \", num)\n",
    "    else:\n",
    "        print(\"The number is odd: \", num)\n",
    "else:\n",
    "    print(\"The number is negative or Zero: , )"
   ]
  },
  {
   "cell_type": "code",
   "execution_count": 16,
   "metadata": {},
   "outputs": [
    {
     "name": "stdout",
     "output_type": "stream",
     "text": [
      "This is not leap year\n"
     ]
    }
   ],
   "source": [
    "Year = int(input(\"Enter a any year\"))\n",
    "\n",
    "if Year%4==0:\n",
    "    print(\"This is the Leap Year\")\n",
    "else:\n",
    "    print(\"This is not leap year\")"
   ]
  },
  {
   "cell_type": "code",
   "execution_count": 4,
   "metadata": {},
   "outputs": [
    {
     "name": "stdout",
     "output_type": "stream",
     "text": [
      "Cant divided by 0\n",
      "Result: 0.0\n"
     ]
    }
   ],
   "source": [
    "num1 = float(input(\"Enter a any number\"))\n",
    "num2 = float(input(\"Enter a any number\"))\n",
    "operation = input(\"Enter a operater (+, -, *, /)\")\n",
    "\n",
    "if operation == \"+\":\n",
    "    result = num1+num2\n",
    "elif operation == \"-\":\n",
    "    result = num1-num2\n",
    "elif operation == \"*\":\n",
    "    result = num1*num2\n",
    "elif operation == \"/\":\n",
    "    if num2!=0:\n",
    "        result = num1/num2\n",
    "    else:\n",
    "        print(\"Cant divided by 0\")\n",
    "else:\n",
    "    print(\"There is erroe in your operator or values\")\n",
    "\n",
    "print(\"Result:\", result)\n",
    "    \n"
   ]
  },
  {
   "cell_type": "code",
   "execution_count": 10,
   "metadata": {},
   "outputs": [
    {
     "name": "stdout",
     "output_type": "stream",
     "text": [
      "The price will be $20 at the age of:  16\n"
     ]
    }
   ],
   "source": [
    "age = int(input(\"Enter a any number\"))\n",
    "is_student = input(\"Are you student? (yes/no): \").lower()\n",
    "\n",
    "if age<5:\n",
    "    print(\"The ticket price will be free at the age of: \", age)\n",
    "elif age<13:\n",
    "    print(\"The Ticket price will be 5$ at the age of: \", age)\n",
    "elif age<17:\n",
    "    if is_student == \"yes\":\n",
    "        print(\"The price will $12 for the student only at the age of: \", age)\n",
    "    else:\n",
    "        print(\"The price will be $20 at the age of: \", age)\n",
    "elif age <25:\n",
    "    print(\"The price will be $25 at the age of: \", age)\n",
    "else:\n",
    "    print(\"For the senior citizen the price will be $15 at the age of: \", age)"
   ]
  },
  {
   "cell_type": "code",
   "execution_count": null,
   "metadata": {},
   "outputs": [],
   "source": []
  },
  {
   "cell_type": "code",
   "execution_count": null,
   "metadata": {},
   "outputs": [],
   "source": []
  },
  {
   "cell_type": "code",
   "execution_count": null,
   "metadata": {},
   "outputs": [],
   "source": []
  },
  {
   "cell_type": "code",
   "execution_count": null,
   "metadata": {},
   "outputs": [],
   "source": []
  },
  {
   "cell_type": "code",
   "execution_count": null,
   "metadata": {},
   "outputs": [],
   "source": []
  },
  {
   "cell_type": "code",
   "execution_count": null,
   "metadata": {},
   "outputs": [],
   "source": []
  },
  {
   "cell_type": "code",
   "execution_count": null,
   "metadata": {},
   "outputs": [],
   "source": []
  },
  {
   "cell_type": "code",
   "execution_count": null,
   "metadata": {},
   "outputs": [],
   "source": []
  },
  {
   "cell_type": "code",
   "execution_count": null,
   "metadata": {},
   "outputs": [],
   "source": []
  },
  {
   "cell_type": "code",
   "execution_count": null,
   "metadata": {},
   "outputs": [],
   "source": []
  },
  {
   "cell_type": "code",
   "execution_count": null,
   "metadata": {},
   "outputs": [],
   "source": []
  },
  {
   "cell_type": "code",
   "execution_count": null,
   "metadata": {},
   "outputs": [],
   "source": []
  },
  {
   "cell_type": "code",
   "execution_count": null,
   "metadata": {},
   "outputs": [],
   "source": []
  },
  {
   "cell_type": "code",
   "execution_count": null,
   "metadata": {},
   "outputs": [],
   "source": []
  },
  {
   "cell_type": "code",
   "execution_count": null,
   "metadata": {},
   "outputs": [],
   "source": []
  },
  {
   "cell_type": "code",
   "execution_count": null,
   "metadata": {},
   "outputs": [],
   "source": []
  },
  {
   "cell_type": "code",
   "execution_count": null,
   "metadata": {},
   "outputs": [],
   "source": []
  }
 ],
 "metadata": {
  "kernelspec": {
   "display_name": "Python 3",
   "language": "python",
   "name": "python3"
  },
  "language_info": {
   "codemirror_mode": {
    "name": "ipython",
    "version": 3
   },
   "file_extension": ".py",
   "mimetype": "text/x-python",
   "name": "python",
   "nbconvert_exporter": "python",
   "pygments_lexer": "ipython3",
   "version": "3.13.0"
  }
 },
 "nbformat": 4,
 "nbformat_minor": 2
}
